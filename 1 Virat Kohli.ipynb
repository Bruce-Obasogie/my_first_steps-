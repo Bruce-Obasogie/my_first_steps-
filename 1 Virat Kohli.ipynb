{
 "cells": [
  {
   "cell_type": "code",
   "execution_count": 1,
   "id": "75f381e0",
   "metadata": {},
   "outputs": [],
   "source": [
    "import pandas as pd\n",
    "import numpy as np\n",
    "import matplotlib.pyplot as plt\n",
    "import plotly.express as px\n",
    "import plotly.graph_objects as go\n",
    "#matches = ready_df.index"
   ]
  },
  {
   "cell_type": "code",
   "execution_count": 2,
   "id": "522e4044",
   "metadata": {},
   "outputs": [
    {
     "data": {
      "text/html": [
       "<div>\n",
       "<style scoped>\n",
       "    .dataframe tbody tr th:only-of-type {\n",
       "        vertical-align: middle;\n",
       "    }\n",
       "\n",
       "    .dataframe tbody tr th {\n",
       "        vertical-align: top;\n",
       "    }\n",
       "\n",
       "    .dataframe thead th {\n",
       "        text-align: right;\n",
       "    }\n",
       "</style>\n",
       "<table border=\"1\" class=\"dataframe\">\n",
       "  <thead>\n",
       "    <tr style=\"text-align: right;\">\n",
       "      <th></th>\n",
       "      <th>Runs</th>\n",
       "      <th>BF</th>\n",
       "      <th>4s</th>\n",
       "      <th>6s</th>\n",
       "      <th>SR</th>\n",
       "      <th>Pos</th>\n",
       "      <th>Dismissal</th>\n",
       "      <th>Inns</th>\n",
       "      <th>Opposition</th>\n",
       "      <th>Ground</th>\n",
       "      <th>Start Date</th>\n",
       "    </tr>\n",
       "  </thead>\n",
       "  <tbody>\n",
       "    <tr>\n",
       "      <th>0</th>\n",
       "      <td>12</td>\n",
       "      <td>22</td>\n",
       "      <td>1</td>\n",
       "      <td>0</td>\n",
       "      <td>54.54</td>\n",
       "      <td>2</td>\n",
       "      <td>lbw</td>\n",
       "      <td>1</td>\n",
       "      <td>v Sri Lanka</td>\n",
       "      <td>Dambulla</td>\n",
       "      <td>2008-08-18</td>\n",
       "    </tr>\n",
       "    <tr>\n",
       "      <th>1</th>\n",
       "      <td>37</td>\n",
       "      <td>67</td>\n",
       "      <td>6</td>\n",
       "      <td>0</td>\n",
       "      <td>55.22</td>\n",
       "      <td>2</td>\n",
       "      <td>caught</td>\n",
       "      <td>2</td>\n",
       "      <td>v Sri Lanka</td>\n",
       "      <td>Dambulla</td>\n",
       "      <td>2008-08-20</td>\n",
       "    </tr>\n",
       "    <tr>\n",
       "      <th>2</th>\n",
       "      <td>25</td>\n",
       "      <td>38</td>\n",
       "      <td>4</td>\n",
       "      <td>0</td>\n",
       "      <td>65.78</td>\n",
       "      <td>1</td>\n",
       "      <td>run out</td>\n",
       "      <td>1</td>\n",
       "      <td>v Sri Lanka</td>\n",
       "      <td>Colombo (RPS)</td>\n",
       "      <td>2008-08-24</td>\n",
       "    </tr>\n",
       "    <tr>\n",
       "      <th>3</th>\n",
       "      <td>54</td>\n",
       "      <td>66</td>\n",
       "      <td>7</td>\n",
       "      <td>0</td>\n",
       "      <td>81.81</td>\n",
       "      <td>1</td>\n",
       "      <td>bowled</td>\n",
       "      <td>1</td>\n",
       "      <td>v Sri Lanka</td>\n",
       "      <td>Colombo (RPS)</td>\n",
       "      <td>2008-08-27</td>\n",
       "    </tr>\n",
       "    <tr>\n",
       "      <th>4</th>\n",
       "      <td>31</td>\n",
       "      <td>46</td>\n",
       "      <td>3</td>\n",
       "      <td>1</td>\n",
       "      <td>67.39</td>\n",
       "      <td>1</td>\n",
       "      <td>lbw</td>\n",
       "      <td>2</td>\n",
       "      <td>v Sri Lanka</td>\n",
       "      <td>Colombo (RPS)</td>\n",
       "      <td>2008-08-29</td>\n",
       "    </tr>\n",
       "    <tr>\n",
       "      <th>...</th>\n",
       "      <td>...</td>\n",
       "      <td>...</td>\n",
       "      <td>...</td>\n",
       "      <td>...</td>\n",
       "      <td>...</td>\n",
       "      <td>...</td>\n",
       "      <td>...</td>\n",
       "      <td>...</td>\n",
       "      <td>...</td>\n",
       "      <td>...</td>\n",
       "      <td>...</td>\n",
       "    </tr>\n",
       "    <tr>\n",
       "      <th>127</th>\n",
       "      <td>45</td>\n",
       "      <td>51</td>\n",
       "      <td>2</td>\n",
       "      <td>1</td>\n",
       "      <td>88.23</td>\n",
       "      <td>3</td>\n",
       "      <td>caught</td>\n",
       "      <td>2</td>\n",
       "      <td>v New Zealand</td>\n",
       "      <td>Ranchi</td>\n",
       "      <td>2016-10-26</td>\n",
       "    </tr>\n",
       "    <tr>\n",
       "      <th>128</th>\n",
       "      <td>65</td>\n",
       "      <td>76</td>\n",
       "      <td>2</td>\n",
       "      <td>1</td>\n",
       "      <td>85.52</td>\n",
       "      <td>3</td>\n",
       "      <td>caught</td>\n",
       "      <td>1</td>\n",
       "      <td>v New Zealand</td>\n",
       "      <td>Visakhapatnam</td>\n",
       "      <td>2016-10-29</td>\n",
       "    </tr>\n",
       "    <tr>\n",
       "      <th>129</th>\n",
       "      <td>122</td>\n",
       "      <td>105</td>\n",
       "      <td>8</td>\n",
       "      <td>5</td>\n",
       "      <td>116.19</td>\n",
       "      <td>3</td>\n",
       "      <td>caught</td>\n",
       "      <td>2</td>\n",
       "      <td>v England</td>\n",
       "      <td>Pune</td>\n",
       "      <td>2017-01-15</td>\n",
       "    </tr>\n",
       "    <tr>\n",
       "      <th>130</th>\n",
       "      <td>8</td>\n",
       "      <td>5</td>\n",
       "      <td>2</td>\n",
       "      <td>0</td>\n",
       "      <td>160.00</td>\n",
       "      <td>3</td>\n",
       "      <td>caught</td>\n",
       "      <td>1</td>\n",
       "      <td>v England</td>\n",
       "      <td>Cuttack</td>\n",
       "      <td>2017-01-19</td>\n",
       "    </tr>\n",
       "    <tr>\n",
       "      <th>131</th>\n",
       "      <td>55</td>\n",
       "      <td>63</td>\n",
       "      <td>8</td>\n",
       "      <td>0</td>\n",
       "      <td>87.30</td>\n",
       "      <td>3</td>\n",
       "      <td>caught</td>\n",
       "      <td>2</td>\n",
       "      <td>v England</td>\n",
       "      <td>Kolkata</td>\n",
       "      <td>2017-01-22</td>\n",
       "    </tr>\n",
       "  </tbody>\n",
       "</table>\n",
       "<p>132 rows × 11 columns</p>\n",
       "</div>"
      ],
      "text/plain": [
       "     Runs   BF  4s  6s      SR  Pos Dismissal  Inns     Opposition  \\\n",
       "0      12   22   1   0   54.54    2       lbw     1    v Sri Lanka   \n",
       "1      37   67   6   0   55.22    2    caught     2    v Sri Lanka   \n",
       "2      25   38   4   0   65.78    1   run out     1    v Sri Lanka   \n",
       "3      54   66   7   0   81.81    1    bowled     1    v Sri Lanka   \n",
       "4      31   46   3   1   67.39    1       lbw     2    v Sri Lanka   \n",
       "..    ...  ...  ..  ..     ...  ...       ...   ...            ...   \n",
       "127    45   51   2   1   88.23    3    caught     2  v New Zealand   \n",
       "128    65   76   2   1   85.52    3    caught     1  v New Zealand   \n",
       "129   122  105   8   5  116.19    3    caught     2      v England   \n",
       "130     8    5   2   0  160.00    3    caught     1      v England   \n",
       "131    55   63   8   0   87.30    3    caught     2      v England   \n",
       "\n",
       "            Ground Start Date  \n",
       "0         Dambulla 2008-08-18  \n",
       "1         Dambulla 2008-08-20  \n",
       "2    Colombo (RPS) 2008-08-24  \n",
       "3    Colombo (RPS) 2008-08-27  \n",
       "4    Colombo (RPS) 2008-08-29  \n",
       "..             ...        ...  \n",
       "127         Ranchi 2016-10-26  \n",
       "128  Visakhapatnam 2016-10-29  \n",
       "129           Pune 2017-01-15  \n",
       "130        Cuttack 2017-01-19  \n",
       "131        Kolkata 2017-01-22  \n",
       "\n",
       "[132 rows x 11 columns]"
      ]
     },
     "execution_count": 2,
     "metadata": {},
     "output_type": "execute_result"
    }
   ],
   "source": [
    "#importing .xlsx into jupyter notebook\n",
    "\n",
    "pd.read_excel(r\"C:\\Users\\USER\\Documents\\Book1.xlsx\")"
   ]
  },
  {
   "cell_type": "code",
   "execution_count": null,
   "id": "cb27d3a0",
   "metadata": {},
   "outputs": [],
   "source": [
    "ready = pd.read_excel(r\"C:\\Users\\USER\\Documents\\Book1.xlsx\")"
   ]
  },
  {
   "cell_type": "code",
   "execution_count": null,
   "id": "866eeb69",
   "metadata": {},
   "outputs": [],
   "source": [
    "ready_df = pd.DataFrame(ready)\n",
    "matches = ready.index\n",
    "#note the spelling of DataFrame"
   ]
  },
  {
   "cell_type": "code",
   "execution_count": null,
   "id": "53297881",
   "metadata": {
    "scrolled": true
   },
   "outputs": [],
   "source": [
    "ready_df.head()"
   ]
  },
  {
   "cell_type": "code",
   "execution_count": null,
   "id": "d1c81186",
   "metadata": {
    "scrolled": true
   },
   "outputs": [],
   "source": [
    "ready_df.tail()"
   ]
  },
  {
   "cell_type": "code",
   "execution_count": null,
   "id": "bbb03948",
   "metadata": {},
   "outputs": [],
   "source": [
    "ready_df.describe()"
   ]
  },
  {
   "cell_type": "code",
   "execution_count": null,
   "id": "259ed620",
   "metadata": {},
   "outputs": [],
   "source": [
    "ready_df.shape"
   ]
  },
  {
   "cell_type": "code",
   "execution_count": null,
   "id": "f8aa3737",
   "metadata": {},
   "outputs": [],
   "source": [
    "ready_df.isnull()\n",
    "#sets all row/cell values to false"
   ]
  },
  {
   "cell_type": "code",
   "execution_count": null,
   "id": "62f34fef",
   "metadata": {
    "scrolled": true
   },
   "outputs": [],
   "source": [
    "ready_df.isnull().sum()\n",
    "#depicts null values"
   ]
  },
  {
   "cell_type": "code",
   "execution_count": null,
   "id": "4853d762",
   "metadata": {
    "scrolled": true
   },
   "outputs": [],
   "source": [
    "ready_df.groupby('Ground').size()\n",
    "#grouping according to grounds in numbers"
   ]
  },
  {
   "cell_type": "code",
   "execution_count": null,
   "id": "77901a19",
   "metadata": {
    "scrolled": false
   },
   "outputs": [],
   "source": [
    "ready_df.groupby('Dismissal').size()\n",
    "#grouping according grounds in numbers"
   ]
  },
  {
   "cell_type": "code",
   "execution_count": null,
   "id": "1e89e1b4",
   "metadata": {},
   "outputs": [],
   "source": [
    "ready_df.groupby('Pos').size()\n",
    "#grouping according to pos in numbers"
   ]
  },
  {
   "cell_type": "code",
   "execution_count": null,
   "id": "462570d3",
   "metadata": {
    "scrolled": true
   },
   "outputs": [],
   "source": [
    "ready_df.groupby('Opposition').size()\n",
    "#grouping according to opposition in numbers"
   ]
  },
  {
   "cell_type": "code",
   "execution_count": null,
   "id": "e3c10d43",
   "metadata": {
    "scrolled": true
   },
   "outputs": [],
   "source": [
    "ready_df.groupby('Runs').size()\n",
    "#grouping according grounds in numbers"
   ]
  },
  {
   "cell_type": "code",
   "execution_count": null,
   "id": "20c50d8e",
   "metadata": {
    "scrolled": true
   },
   "outputs": [],
   "source": [
    "ready_df.Runs.sum()\n",
    "#obtaining the total number of runs"
   ]
  },
  {
   "cell_type": "code",
   "execution_count": null,
   "id": "7d0d9e71",
   "metadata": {},
   "outputs": [],
   "source": [
    "ready_df.Runs.mean()\n",
    "#obtaining the mean of runs"
   ]
  },
  {
   "cell_type": "code",
   "execution_count": null,
   "id": "e1ed11c0",
   "metadata": {},
   "outputs": [],
   "source": [
    "x = matches\n",
    "y = 'Runs'"
   ]
  },
  {
   "cell_type": "code",
   "execution_count": null,
   "id": "d569452b",
   "metadata": {
    "scrolled": true
   },
   "outputs": [],
   "source": [
    "#for non-array data\n",
    "first=px.line(ready, x, y, title= 'Runs Scored by Virat Kohli Between 2008-08-18 and 2022-01-17')"
   ]
  },
  {
   "cell_type": "code",
   "execution_count": null,
   "id": "d39e2c10",
   "metadata": {
    "scrolled": true
   },
   "outputs": [],
   "source": [
    "first"
   ]
  },
  {
   "cell_type": "code",
   "execution_count": null,
   "id": "30719c89",
   "metadata": {},
   "outputs": [],
   "source": [
    "#B= 0\n",
    "#while B<8:\n",
    "    print(f'Batting position at {B}')\n",
    "    \n",
    "    #B+=1"
   ]
  },
  {
   "cell_type": "code",
   "execution_count": null,
   "id": "b581d910",
   "metadata": {},
   "outputs": [],
   "source": [
    "#B= 0\n",
    "\n",
    "#i= ready_df['Pos']\n",
    "#while B<8:\n",
    "    #print(f'{i} Batting position at {B}')\n",
    "    \n",
    "    #B+=1\n",
    "    #i+=1"
   ]
  },
  {
   "cell_type": "code",
   "execution_count": null,
   "id": "d362bc52",
   "metadata": {},
   "outputs": [],
   "source": [
    "#B= 0\n",
    "\n",
    "#i= 'Pos'\n",
    "#while B<8:\n",
    " #   print(f'{i} Batting position at {B}')\n",
    "    \n",
    "   # B+=1\n",
    "  #  i+=1"
   ]
  },
  {
   "cell_type": "code",
   "execution_count": null,
   "id": "8c5a951e",
   "metadata": {},
   "outputs": [],
   "source": [
    "#joining a list\n",
    "#mylist= ['Batting', 'at', '']"
   ]
  },
  {
   "cell_type": "code",
   "execution_count": null,
   "id": "cf86fb44",
   "metadata": {},
   "outputs": [],
   "source": [
    "#M= '_'.join(mylist)"
   ]
  },
  {
   "cell_type": "code",
   "execution_count": null,
   "id": "fd380691",
   "metadata": {
    "scrolled": false
   },
   "outputs": [],
   "source": [
    "#M"
   ]
  },
  {
   "cell_type": "code",
   "execution_count": null,
   "id": "dc1a9637",
   "metadata": {},
   "outputs": [],
   "source": [
    "#lambda _ : _+1 "
   ]
  },
  {
   "cell_type": "code",
   "execution_count": null,
   "id": "8a3256e7",
   "metadata": {},
   "outputs": [],
   "source": [
    "#list(map(lambda _ : _+1 , M))"
   ]
  },
  {
   "cell_type": "code",
   "execution_count": null,
   "id": "aa72e702",
   "metadata": {},
   "outputs": [],
   "source": [
    "P= {1.0 : 'Battling At 1', 2.0 : 'Battling At 2', 3.0 : 'Battling At 3', 4.0 : 'Battling At 4' , 5.0 : 'Battling At 5', 6.0 : 'Battling At 6', 7.0 : 'Battling At 7'}"
   ]
  },
  {
   "cell_type": "code",
   "execution_count": null,
   "id": "c55d20a0",
   "metadata": {},
   "outputs": [],
   "source": [
    "pod= ready_df['Pos'].map(P)\n",
    "#we simply related the Pos columns to the data in it. "
   ]
  },
  {
   "cell_type": "code",
   "execution_count": null,
   "id": "450b0ade",
   "metadata": {},
   "outputs": [],
   "source": [
    "pod"
   ]
  },
  {
   "cell_type": "code",
   "execution_count": null,
   "id": "d968ba6b",
   "metadata": {},
   "outputs": [],
   "source": [
    "Y= pod.value_counts()"
   ]
  },
  {
   "cell_type": "code",
   "execution_count": null,
   "id": "911427d7",
   "metadata": {
    "scrolled": true
   },
   "outputs": [],
   "source": [
    "Y"
   ]
  },
  {
   "cell_type": "code",
   "execution_count": null,
   "id": "f0536c4e",
   "metadata": {},
   "outputs": [],
   "source": [
    "label= ready_df['Pos'].index\n",
    "C= pod\n",
    "\n",
    "colors = ['gold','lightgreen', 'pink', 'blue', 'skyblue', 'cyan', 'orange']\n"
   ]
  },
  {
   "cell_type": "code",
   "execution_count": 3,
   "id": "831ffc75",
   "metadata": {
    "scrolled": false
   },
   "outputs": [
    {
     "ename": "NameError",
     "evalue": "name 'label' is not defined",
     "output_type": "error",
     "traceback": [
      "\u001b[1;31m---------------------------------------------------------------------------\u001b[0m",
      "\u001b[1;31mNameError\u001b[0m                                 Traceback (most recent call last)",
      "Input \u001b[1;32mIn [3]\u001b[0m, in \u001b[0;36m<cell line: 1>\u001b[1;34m()\u001b[0m\n\u001b[1;32m----> 1\u001b[0m second\u001b[38;5;241m=\u001b[39m go\u001b[38;5;241m.\u001b[39mFigure(data\u001b[38;5;241m=\u001b[39m [go\u001b[38;5;241m.\u001b[39mPie(labels\u001b[38;5;241m=\u001b[39m \u001b[43mlabel\u001b[49m,values\u001b[38;5;241m=\u001b[39m Y)])\n\u001b[0;32m      2\u001b[0m second\u001b[38;5;241m.\u001b[39mupdate_layout(title_text\u001b[38;5;241m=\u001b[39m \u001b[38;5;124m'\u001b[39m\u001b[38;5;124mNumber of Matches At Different Battling Positions\u001b[39m\u001b[38;5;124m'\u001b[39m)\n\u001b[0;32m      3\u001b[0m second\u001b[38;5;241m.\u001b[39mupdate_traces(hoverinfo \u001b[38;5;241m=\u001b[39m \u001b[38;5;124m'\u001b[39m\u001b[38;5;124mlabel + percent\u001b[39m\u001b[38;5;124m'\u001b[39m, textinfo\u001b[38;5;241m=\u001b[39m \u001b[38;5;124m'\u001b[39m\u001b[38;5;124mvalue\u001b[39m\u001b[38;5;124m'\u001b[39m, textfont_size\u001b[38;5;241m=\u001b[39m \u001b[38;5;241m30\u001b[39m, marker \u001b[38;5;241m=\u001b[39m \u001b[38;5;28mdict\u001b[39m(colors\u001b[38;5;241m=\u001b[39m colors, line\u001b[38;5;241m=\u001b[39m \u001b[38;5;28mdict\u001b[39m(color\u001b[38;5;241m=\u001b[39m \u001b[38;5;124m'\u001b[39m\u001b[38;5;124mblack\u001b[39m\u001b[38;5;124m'\u001b[39m, width\u001b[38;5;241m=\u001b[39m \u001b[38;5;241m3\u001b[39m)))\n",
      "\u001b[1;31mNameError\u001b[0m: name 'label' is not defined"
     ]
    }
   ],
   "source": [
    "second= go.Figure(data= [go.Pie(labels= label,values= Y)])\n",
    "second.update_layout(title_text= 'Number of Matches At Different Battling Positions')\n",
    "second.update_traces(hoverinfo = 'label + percent', textinfo= 'value', textfont_size= 30, marker = dict(colors= colors, line= dict(color= 'black', width= 3)))\n",
    "\n"
   ]
  },
  {
   "cell_type": "code",
   "execution_count": null,
   "id": "170dfbe5",
   "metadata": {},
   "outputs": [],
   "source": [
    "#obtaining specific rows within a range\n",
    "\n",
    "centuries = ready_df.query('Runs>=100')"
   ]
  },
  {
   "cell_type": "code",
   "execution_count": null,
   "id": "24416381",
   "metadata": {
    "scrolled": true
   },
   "outputs": [],
   "source": [
    "centuries"
   ]
  },
  {
   "cell_type": "code",
   "execution_count": null,
   "id": "4b8889eb",
   "metadata": {},
   "outputs": [],
   "source": [
    "third = px.bar(centuries, x= centuries['Inns'], y= centuries['Runs'], color= centuries['Runs'],title= 'Centuries by Virat Kohli in First Innings vs Second Innings')\n",
    "#ValueError: Value of 'color' is not the name of a column in 'data_frame'. Expected one of ['Runs', 'BF', '4s', '6s', 'SR', 'Pos', 'Dismissal', 'Inns', 'Opposition', 'Ground', 'Start Date'] but received: red\n",
    "#color must be a column-- kinda like the legend and key"
   ]
  },
  {
   "cell_type": "code",
   "execution_count": null,
   "id": "4bb8238b",
   "metadata": {
    "scrolled": true
   },
   "outputs": [],
   "source": [
    "third"
   ]
  },
  {
   "cell_type": "code",
   "execution_count": null,
   "id": "dd938058",
   "metadata": {},
   "outputs": [],
   "source": [
    "dismissal= ready_df['Dismissal'].value_counts()"
   ]
  },
  {
   "cell_type": "code",
   "execution_count": null,
   "id": "ccf65e0c",
   "metadata": {},
   "outputs": [],
   "source": [
    "dismissal"
   ]
  },
  {
   "cell_type": "code",
   "execution_count": null,
   "id": "8092aad4",
   "metadata": {},
   "outputs": [],
   "source": [
    "Q= dismissal.index\n",
    "R= dismissal.values"
   ]
  },
  {
   "cell_type": "code",
   "execution_count": null,
   "id": "e489cda3",
   "metadata": {},
   "outputs": [],
   "source": [
    "Q"
   ]
  },
  {
   "cell_type": "code",
   "execution_count": null,
   "id": "6861db4d",
   "metadata": {},
   "outputs": [],
   "source": [
    "R"
   ]
  },
  {
   "cell_type": "code",
   "execution_count": null,
   "id": "0a87e314",
   "metadata": {},
   "outputs": [],
   "source": [
    "labels = Q\n",
    "counts = R\n",
    "colors = ['gold','lightgreen', \"pink\", \"blue\", \"skyblue\", \"cyan\", \"orange\"]"
   ]
  },
  {
   "cell_type": "code",
   "execution_count": null,
   "id": "22bc8e1c",
   "metadata": {
    "scrolled": true
   },
   "outputs": [],
   "source": [
    "fourth= go.Figure(data = [go.Pie(labels= Q, values= R)])\n",
    "fourth.update_layout(title_text= 'Dismissals of Virat Kohli')\n",
    "fourth.update_traces(hoverinfo= 'label+percent', textinfo= 'value', textfont_size = 30, marker = dict(colors = colors, line = dict(color='black', width= 3)))"
   ]
  },
  {
   "cell_type": "code",
   "execution_count": null,
   "id": "bfd29fd3",
   "metadata": {},
   "outputs": [],
   "source": [
    "fifth= px.bar(ready_df, x= ready_df['Opposition'], y= ready_df['Runs'], color = ready_df['Runs'], title= 'Most Runs Against Teams' )\n",
    "\n",
    "#for bar chat color must be a column-- kinda like the legend and key"
   ]
  },
  {
   "cell_type": "code",
   "execution_count": null,
   "id": "854d459f",
   "metadata": {
    "scrolled": true
   },
   "outputs": [],
   "source": [
    "fifth"
   ]
  },
  {
   "cell_type": "code",
   "execution_count": null,
   "id": "2eb8a60e",
   "metadata": {},
   "outputs": [],
   "source": [
    "sixth= px.bar(centuries, x= centuries['Opposition'], y= centuries['Runs'], color = centuries['Runs'], title= 'Most Centuries Against Teams')"
   ]
  },
  {
   "cell_type": "code",
   "execution_count": null,
   "id": "923470c9",
   "metadata": {
    "scrolled": false
   },
   "outputs": [],
   "source": [
    "sixth"
   ]
  },
  {
   "cell_type": "code",
   "execution_count": null,
   "id": "db0755c9",
   "metadata": {},
   "outputs": [],
   "source": [
    "strike_rate = ready_df.query('SR>= 120')"
   ]
  },
  {
   "cell_type": "code",
   "execution_count": null,
   "id": "c6c77ca0",
   "metadata": {
    "scrolled": false
   },
   "outputs": [],
   "source": [
    "strike_rate"
   ]
  },
  {
   "cell_type": "code",
   "execution_count": null,
   "id": "141af937",
   "metadata": {},
   "outputs": [],
   "source": [
    "seventh= px.bar(strike_rate, x= strike_rate['Inns'], y= strike_rate['SR'], color = strike_rate['Runs'], title= \"Virat's High Strike Rate in First Innings vs Second Innings\")"
   ]
  },
  {
   "cell_type": "code",
   "execution_count": null,
   "id": "dc7f2e38",
   "metadata": {
    "scrolled": true
   },
   "outputs": [],
   "source": [
    "seventh"
   ]
  },
  {
   "cell_type": "code",
   "execution_count": null,
   "id": "a7dc724b",
   "metadata": {},
   "outputs": [],
   "source": [
    "eighth= px.scatter(ready_df, x= 'Runs', y= '4s', size= 'SR', trendline = 'ols', title= 'Relationship Between Runs Scored and Fours')"
   ]
  },
  {
   "cell_type": "code",
   "execution_count": null,
   "id": "9df31132",
   "metadata": {},
   "outputs": [],
   "source": [
    "eighth"
   ]
  },
  {
   "cell_type": "code",
   "execution_count": null,
   "id": "4cab2807",
   "metadata": {},
   "outputs": [],
   "source": [
    "ninth= px.scatter(ready_df, x= 'Runs', y= '6s', size= 'SR', trendline = 'ols', title= 'Relationship Between Runs Scored and Sixes')"
   ]
  },
  {
   "cell_type": "code",
   "execution_count": null,
   "id": "93915664",
   "metadata": {
    "scrolled": true
   },
   "outputs": [],
   "source": [
    "ninth"
   ]
  }
 ],
 "metadata": {
  "kernelspec": {
   "display_name": "Python 3 (ipykernel)",
   "language": "python",
   "name": "python3"
  },
  "language_info": {
   "codemirror_mode": {
    "name": "ipython",
    "version": 3
   },
   "file_extension": ".py",
   "mimetype": "text/x-python",
   "name": "python",
   "nbconvert_exporter": "python",
   "pygments_lexer": "ipython3",
   "version": "3.9.12"
  }
 },
 "nbformat": 4,
 "nbformat_minor": 5
}
