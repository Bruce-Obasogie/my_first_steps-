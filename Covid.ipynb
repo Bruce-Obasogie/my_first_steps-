{
 "cells": [
  {
   "cell_type": "code",
   "execution_count": 1,
   "id": "7626a48d",
   "metadata": {},
   "outputs": [],
   "source": [
    "import pandas as pd\n",
    "import plotly.express as px\n",
    "import plotly.graph_objects as go"
   ]
  },
  {
   "cell_type": "code",
   "execution_count": 2,
   "id": "293762b8",
   "metadata": {},
   "outputs": [],
   "source": [
    "data= pd.read_excel(r\"C:\\Users\\USER\\Documents\\covidtransformed_data.xlsx\")"
   ]
  },
  {
   "cell_type": "code",
   "execution_count": 3,
   "id": "f6bb2b0d",
   "metadata": {},
   "outputs": [],
   "source": [
    "data_df = pd.DataFrame(data)"
   ]
  },
  {
   "cell_type": "code",
   "execution_count": 4,
   "id": "ec38f9eb",
   "metadata": {},
   "outputs": [],
   "source": [
    "covit= data_df"
   ]
  },
  {
   "cell_type": "code",
   "execution_count": 5,
   "id": "33ba56aa",
   "metadata": {},
   "outputs": [
    {
     "data": {
      "text/html": [
       "<div>\n",
       "<style scoped>\n",
       "    .dataframe tbody tr th:only-of-type {\n",
       "        vertical-align: middle;\n",
       "    }\n",
       "\n",
       "    .dataframe tbody tr th {\n",
       "        vertical-align: top;\n",
       "    }\n",
       "\n",
       "    .dataframe thead th {\n",
       "        text-align: right;\n",
       "    }\n",
       "</style>\n",
       "<table border=\"1\" class=\"dataframe\">\n",
       "  <thead>\n",
       "    <tr style=\"text-align: right;\">\n",
       "      <th></th>\n",
       "      <th>CODE</th>\n",
       "      <th>COUNTRY</th>\n",
       "      <th>DATE</th>\n",
       "      <th>HDI</th>\n",
       "      <th>TC</th>\n",
       "      <th>TD</th>\n",
       "      <th>STI</th>\n",
       "      <th>POP</th>\n",
       "      <th>GDPCAP</th>\n",
       "    </tr>\n",
       "  </thead>\n",
       "  <tbody>\n",
       "    <tr>\n",
       "      <th>0</th>\n",
       "      <td>AFG</td>\n",
       "      <td>Afghanistan</td>\n",
       "      <td>2019-12-31</td>\n",
       "      <td>0.498</td>\n",
       "      <td>0.000000</td>\n",
       "      <td>0.000000</td>\n",
       "      <td>0.000000</td>\n",
       "      <td>17.477233</td>\n",
       "      <td>7.497754</td>\n",
       "    </tr>\n",
       "    <tr>\n",
       "      <th>1</th>\n",
       "      <td>AFG</td>\n",
       "      <td>Afghanistan</td>\n",
       "      <td>2020-01-01</td>\n",
       "      <td>0.498</td>\n",
       "      <td>0.000000</td>\n",
       "      <td>0.000000</td>\n",
       "      <td>0.000000</td>\n",
       "      <td>17.477233</td>\n",
       "      <td>7.497754</td>\n",
       "    </tr>\n",
       "    <tr>\n",
       "      <th>2</th>\n",
       "      <td>AFG</td>\n",
       "      <td>Afghanistan</td>\n",
       "      <td>2020-01-02</td>\n",
       "      <td>0.498</td>\n",
       "      <td>0.000000</td>\n",
       "      <td>0.000000</td>\n",
       "      <td>0.000000</td>\n",
       "      <td>17.477233</td>\n",
       "      <td>7.497754</td>\n",
       "    </tr>\n",
       "    <tr>\n",
       "      <th>3</th>\n",
       "      <td>AFG</td>\n",
       "      <td>Afghanistan</td>\n",
       "      <td>2020-01-03</td>\n",
       "      <td>0.498</td>\n",
       "      <td>0.000000</td>\n",
       "      <td>0.000000</td>\n",
       "      <td>0.000000</td>\n",
       "      <td>17.477233</td>\n",
       "      <td>7.497754</td>\n",
       "    </tr>\n",
       "    <tr>\n",
       "      <th>4</th>\n",
       "      <td>AFG</td>\n",
       "      <td>Afghanistan</td>\n",
       "      <td>2020-01-04</td>\n",
       "      <td>0.498</td>\n",
       "      <td>0.000000</td>\n",
       "      <td>0.000000</td>\n",
       "      <td>0.000000</td>\n",
       "      <td>17.477233</td>\n",
       "      <td>7.497754</td>\n",
       "    </tr>\n",
       "    <tr>\n",
       "      <th>...</th>\n",
       "      <td>...</td>\n",
       "      <td>...</td>\n",
       "      <td>...</td>\n",
       "      <td>...</td>\n",
       "      <td>...</td>\n",
       "      <td>...</td>\n",
       "      <td>...</td>\n",
       "      <td>...</td>\n",
       "      <td>...</td>\n",
       "    </tr>\n",
       "    <tr>\n",
       "      <th>50413</th>\n",
       "      <td>ZWE</td>\n",
       "      <td>Zimbabwe</td>\n",
       "      <td>2020-10-15</td>\n",
       "      <td>0.535</td>\n",
       "      <td>8.994048</td>\n",
       "      <td>5.442418</td>\n",
       "      <td>4.341855</td>\n",
       "      <td>16.514381</td>\n",
       "      <td>7.549491</td>\n",
       "    </tr>\n",
       "    <tr>\n",
       "      <th>50414</th>\n",
       "      <td>ZWE</td>\n",
       "      <td>Zimbabwe</td>\n",
       "      <td>2020-10-16</td>\n",
       "      <td>0.535</td>\n",
       "      <td>8.996528</td>\n",
       "      <td>5.442418</td>\n",
       "      <td>4.341855</td>\n",
       "      <td>16.514381</td>\n",
       "      <td>7.549491</td>\n",
       "    </tr>\n",
       "    <tr>\n",
       "      <th>50415</th>\n",
       "      <td>ZWE</td>\n",
       "      <td>Zimbabwe</td>\n",
       "      <td>2020-10-17</td>\n",
       "      <td>0.535</td>\n",
       "      <td>8.999496</td>\n",
       "      <td>5.442418</td>\n",
       "      <td>4.341855</td>\n",
       "      <td>16.514381</td>\n",
       "      <td>7.549491</td>\n",
       "    </tr>\n",
       "    <tr>\n",
       "      <th>50416</th>\n",
       "      <td>ZWE</td>\n",
       "      <td>Zimbabwe</td>\n",
       "      <td>2020-10-18</td>\n",
       "      <td>0.535</td>\n",
       "      <td>9.000853</td>\n",
       "      <td>5.442418</td>\n",
       "      <td>4.341855</td>\n",
       "      <td>16.514381</td>\n",
       "      <td>7.549491</td>\n",
       "    </tr>\n",
       "    <tr>\n",
       "      <th>50417</th>\n",
       "      <td>ZWE</td>\n",
       "      <td>Zimbabwe</td>\n",
       "      <td>2020-10-19</td>\n",
       "      <td>0.535</td>\n",
       "      <td>9.005405</td>\n",
       "      <td>5.442418</td>\n",
       "      <td>4.341855</td>\n",
       "      <td>16.514381</td>\n",
       "      <td>7.549491</td>\n",
       "    </tr>\n",
       "  </tbody>\n",
       "</table>\n",
       "<p>50418 rows × 9 columns</p>\n",
       "</div>"
      ],
      "text/plain": [
       "      CODE      COUNTRY       DATE    HDI        TC        TD       STI  \\\n",
       "0      AFG  Afghanistan 2019-12-31  0.498  0.000000  0.000000  0.000000   \n",
       "1      AFG  Afghanistan 2020-01-01  0.498  0.000000  0.000000  0.000000   \n",
       "2      AFG  Afghanistan 2020-01-02  0.498  0.000000  0.000000  0.000000   \n",
       "3      AFG  Afghanistan 2020-01-03  0.498  0.000000  0.000000  0.000000   \n",
       "4      AFG  Afghanistan 2020-01-04  0.498  0.000000  0.000000  0.000000   \n",
       "...    ...          ...        ...    ...       ...       ...       ...   \n",
       "50413  ZWE     Zimbabwe 2020-10-15  0.535  8.994048  5.442418  4.341855   \n",
       "50414  ZWE     Zimbabwe 2020-10-16  0.535  8.996528  5.442418  4.341855   \n",
       "50415  ZWE     Zimbabwe 2020-10-17  0.535  8.999496  5.442418  4.341855   \n",
       "50416  ZWE     Zimbabwe 2020-10-18  0.535  9.000853  5.442418  4.341855   \n",
       "50417  ZWE     Zimbabwe 2020-10-19  0.535  9.005405  5.442418  4.341855   \n",
       "\n",
       "             POP    GDPCAP  \n",
       "0      17.477233  7.497754  \n",
       "1      17.477233  7.497754  \n",
       "2      17.477233  7.497754  \n",
       "3      17.477233  7.497754  \n",
       "4      17.477233  7.497754  \n",
       "...          ...       ...  \n",
       "50413  16.514381  7.549491  \n",
       "50414  16.514381  7.549491  \n",
       "50415  16.514381  7.549491  \n",
       "50416  16.514381  7.549491  \n",
       "50417  16.514381  7.549491  \n",
       "\n",
       "[50418 rows x 9 columns]"
      ]
     },
     "execution_count": 5,
     "metadata": {},
     "output_type": "execute_result"
    }
   ],
   "source": [
    "covit"
   ]
  },
  {
   "cell_type": "code",
   "execution_count": 6,
   "id": "bdedfc49",
   "metadata": {},
   "outputs": [],
   "source": [
    "teta= pd.read_excel(r\"C:\\Users\\USER\\Documents\\covid_rawdata.xlsx\")"
   ]
  },
  {
   "cell_type": "code",
   "execution_count": 7,
   "id": "e6e23c1f",
   "metadata": {},
   "outputs": [],
   "source": [
    "teta_df= pd.DataFrame(teta)"
   ]
  },
  {
   "cell_type": "code",
   "execution_count": 8,
   "id": "492a72ea",
   "metadata": {},
   "outputs": [],
   "source": [
    "covir= teta_df"
   ]
  },
  {
   "cell_type": "code",
   "execution_count": 9,
   "id": "696af38f",
   "metadata": {
    "scrolled": true
   },
   "outputs": [
    {
     "data": {
      "text/html": [
       "<div>\n",
       "<style scoped>\n",
       "    .dataframe tbody tr th:only-of-type {\n",
       "        vertical-align: middle;\n",
       "    }\n",
       "\n",
       "    .dataframe tbody tr th {\n",
       "        vertical-align: top;\n",
       "    }\n",
       "\n",
       "    .dataframe thead th {\n",
       "        text-align: right;\n",
       "    }\n",
       "</style>\n",
       "<table border=\"1\" class=\"dataframe\">\n",
       "  <thead>\n",
       "    <tr style=\"text-align: right;\">\n",
       "      <th></th>\n",
       "      <th>iso_code</th>\n",
       "      <th>location</th>\n",
       "      <th>date</th>\n",
       "      <th>total_cases</th>\n",
       "      <th>total_deaths</th>\n",
       "      <th>stringency_index</th>\n",
       "      <th>population</th>\n",
       "      <th>gdp_per_capita</th>\n",
       "      <th>human_development_index</th>\n",
       "      <th>Unnamed: 9</th>\n",
       "      <th>Unnamed: 10</th>\n",
       "      <th>Unnamed: 11</th>\n",
       "      <th>Unnamed: 12</th>\n",
       "      <th>Unnamed: 13</th>\n",
       "    </tr>\n",
       "  </thead>\n",
       "  <tbody>\n",
       "    <tr>\n",
       "      <th>0</th>\n",
       "      <td>AFG</td>\n",
       "      <td>Afghanistan</td>\n",
       "      <td>2019-12-31</td>\n",
       "      <td>0.0</td>\n",
       "      <td>0.0</td>\n",
       "      <td>0.00</td>\n",
       "      <td>38928341</td>\n",
       "      <td>1803.987</td>\n",
       "      <td>0.498</td>\n",
       "      <td>NaN</td>\n",
       "      <td>NaN</td>\n",
       "      <td>NaN</td>\n",
       "      <td>17.477233</td>\n",
       "      <td>7.497754</td>\n",
       "    </tr>\n",
       "    <tr>\n",
       "      <th>1</th>\n",
       "      <td>AFG</td>\n",
       "      <td>Afghanistan</td>\n",
       "      <td>2020-01-01</td>\n",
       "      <td>0.0</td>\n",
       "      <td>0.0</td>\n",
       "      <td>0.00</td>\n",
       "      <td>38928341</td>\n",
       "      <td>1803.987</td>\n",
       "      <td>0.498</td>\n",
       "      <td>NaN</td>\n",
       "      <td>NaN</td>\n",
       "      <td>NaN</td>\n",
       "      <td>17.477233</td>\n",
       "      <td>7.497754</td>\n",
       "    </tr>\n",
       "    <tr>\n",
       "      <th>2</th>\n",
       "      <td>AFG</td>\n",
       "      <td>Afghanistan</td>\n",
       "      <td>2020-01-02</td>\n",
       "      <td>0.0</td>\n",
       "      <td>0.0</td>\n",
       "      <td>0.00</td>\n",
       "      <td>38928341</td>\n",
       "      <td>1803.987</td>\n",
       "      <td>0.498</td>\n",
       "      <td>NaN</td>\n",
       "      <td>NaN</td>\n",
       "      <td>NaN</td>\n",
       "      <td>17.477233</td>\n",
       "      <td>7.497754</td>\n",
       "    </tr>\n",
       "    <tr>\n",
       "      <th>3</th>\n",
       "      <td>AFG</td>\n",
       "      <td>Afghanistan</td>\n",
       "      <td>2020-01-03</td>\n",
       "      <td>0.0</td>\n",
       "      <td>0.0</td>\n",
       "      <td>0.00</td>\n",
       "      <td>38928341</td>\n",
       "      <td>1803.987</td>\n",
       "      <td>0.498</td>\n",
       "      <td>NaN</td>\n",
       "      <td>NaN</td>\n",
       "      <td>NaN</td>\n",
       "      <td>17.477233</td>\n",
       "      <td>7.497754</td>\n",
       "    </tr>\n",
       "    <tr>\n",
       "      <th>4</th>\n",
       "      <td>AFG</td>\n",
       "      <td>Afghanistan</td>\n",
       "      <td>2020-01-04</td>\n",
       "      <td>0.0</td>\n",
       "      <td>0.0</td>\n",
       "      <td>0.00</td>\n",
       "      <td>38928341</td>\n",
       "      <td>1803.987</td>\n",
       "      <td>0.498</td>\n",
       "      <td>NaN</td>\n",
       "      <td>NaN</td>\n",
       "      <td>NaN</td>\n",
       "      <td>17.477233</td>\n",
       "      <td>7.497754</td>\n",
       "    </tr>\n",
       "    <tr>\n",
       "      <th>...</th>\n",
       "      <td>...</td>\n",
       "      <td>...</td>\n",
       "      <td>...</td>\n",
       "      <td>...</td>\n",
       "      <td>...</td>\n",
       "      <td>...</td>\n",
       "      <td>...</td>\n",
       "      <td>...</td>\n",
       "      <td>...</td>\n",
       "      <td>...</td>\n",
       "      <td>...</td>\n",
       "      <td>...</td>\n",
       "      <td>...</td>\n",
       "      <td>...</td>\n",
       "    </tr>\n",
       "    <tr>\n",
       "      <th>50413</th>\n",
       "      <td>ZWE</td>\n",
       "      <td>Zimbabwe</td>\n",
       "      <td>2020-10-15</td>\n",
       "      <td>8055.0</td>\n",
       "      <td>231.0</td>\n",
       "      <td>76.85</td>\n",
       "      <td>14862927</td>\n",
       "      <td>1899.775</td>\n",
       "      <td>0.535</td>\n",
       "      <td>8.994048</td>\n",
       "      <td>5.442418</td>\n",
       "      <td>4.341855</td>\n",
       "      <td>16.514381</td>\n",
       "      <td>7.549491</td>\n",
       "    </tr>\n",
       "    <tr>\n",
       "      <th>50414</th>\n",
       "      <td>ZWE</td>\n",
       "      <td>Zimbabwe</td>\n",
       "      <td>2020-10-16</td>\n",
       "      <td>8075.0</td>\n",
       "      <td>231.0</td>\n",
       "      <td>76.85</td>\n",
       "      <td>14862927</td>\n",
       "      <td>1899.775</td>\n",
       "      <td>0.535</td>\n",
       "      <td>8.996528</td>\n",
       "      <td>5.442418</td>\n",
       "      <td>4.341855</td>\n",
       "      <td>16.514381</td>\n",
       "      <td>7.549491</td>\n",
       "    </tr>\n",
       "    <tr>\n",
       "      <th>50415</th>\n",
       "      <td>ZWE</td>\n",
       "      <td>Zimbabwe</td>\n",
       "      <td>2020-10-17</td>\n",
       "      <td>8099.0</td>\n",
       "      <td>231.0</td>\n",
       "      <td>76.85</td>\n",
       "      <td>14862927</td>\n",
       "      <td>1899.775</td>\n",
       "      <td>0.535</td>\n",
       "      <td>8.999496</td>\n",
       "      <td>5.442418</td>\n",
       "      <td>4.341855</td>\n",
       "      <td>16.514381</td>\n",
       "      <td>7.549491</td>\n",
       "    </tr>\n",
       "    <tr>\n",
       "      <th>50416</th>\n",
       "      <td>ZWE</td>\n",
       "      <td>Zimbabwe</td>\n",
       "      <td>2020-10-18</td>\n",
       "      <td>8110.0</td>\n",
       "      <td>231.0</td>\n",
       "      <td>76.85</td>\n",
       "      <td>14862927</td>\n",
       "      <td>1899.775</td>\n",
       "      <td>0.535</td>\n",
       "      <td>9.000853</td>\n",
       "      <td>5.442418</td>\n",
       "      <td>4.341855</td>\n",
       "      <td>16.514381</td>\n",
       "      <td>7.549491</td>\n",
       "    </tr>\n",
       "    <tr>\n",
       "      <th>50417</th>\n",
       "      <td>ZWE</td>\n",
       "      <td>Zimbabwe</td>\n",
       "      <td>2020-10-19</td>\n",
       "      <td>8147.0</td>\n",
       "      <td>231.0</td>\n",
       "      <td>76.85</td>\n",
       "      <td>14862927</td>\n",
       "      <td>1899.775</td>\n",
       "      <td>0.535</td>\n",
       "      <td>9.005405</td>\n",
       "      <td>5.442418</td>\n",
       "      <td>4.341855</td>\n",
       "      <td>16.514381</td>\n",
       "      <td>7.549491</td>\n",
       "    </tr>\n",
       "  </tbody>\n",
       "</table>\n",
       "<p>50418 rows × 14 columns</p>\n",
       "</div>"
      ],
      "text/plain": [
       "      iso_code     location       date  total_cases  total_deaths  \\\n",
       "0          AFG  Afghanistan 2019-12-31          0.0           0.0   \n",
       "1          AFG  Afghanistan 2020-01-01          0.0           0.0   \n",
       "2          AFG  Afghanistan 2020-01-02          0.0           0.0   \n",
       "3          AFG  Afghanistan 2020-01-03          0.0           0.0   \n",
       "4          AFG  Afghanistan 2020-01-04          0.0           0.0   \n",
       "...        ...          ...        ...          ...           ...   \n",
       "50413      ZWE     Zimbabwe 2020-10-15       8055.0         231.0   \n",
       "50414      ZWE     Zimbabwe 2020-10-16       8075.0         231.0   \n",
       "50415      ZWE     Zimbabwe 2020-10-17       8099.0         231.0   \n",
       "50416      ZWE     Zimbabwe 2020-10-18       8110.0         231.0   \n",
       "50417      ZWE     Zimbabwe 2020-10-19       8147.0         231.0   \n",
       "\n",
       "       stringency_index  population  gdp_per_capita  human_development_index  \\\n",
       "0                  0.00    38928341        1803.987                    0.498   \n",
       "1                  0.00    38928341        1803.987                    0.498   \n",
       "2                  0.00    38928341        1803.987                    0.498   \n",
       "3                  0.00    38928341        1803.987                    0.498   \n",
       "4                  0.00    38928341        1803.987                    0.498   \n",
       "...                 ...         ...             ...                      ...   \n",
       "50413             76.85    14862927        1899.775                    0.535   \n",
       "50414             76.85    14862927        1899.775                    0.535   \n",
       "50415             76.85    14862927        1899.775                    0.535   \n",
       "50416             76.85    14862927        1899.775                    0.535   \n",
       "50417             76.85    14862927        1899.775                    0.535   \n",
       "\n",
       "       Unnamed: 9  Unnamed: 10  Unnamed: 11  Unnamed: 12  Unnamed: 13  \n",
       "0             NaN          NaN          NaN    17.477233     7.497754  \n",
       "1             NaN          NaN          NaN    17.477233     7.497754  \n",
       "2             NaN          NaN          NaN    17.477233     7.497754  \n",
       "3             NaN          NaN          NaN    17.477233     7.497754  \n",
       "4             NaN          NaN          NaN    17.477233     7.497754  \n",
       "...           ...          ...          ...          ...          ...  \n",
       "50413    8.994048     5.442418     4.341855    16.514381     7.549491  \n",
       "50414    8.996528     5.442418     4.341855    16.514381     7.549491  \n",
       "50415    8.999496     5.442418     4.341855    16.514381     7.549491  \n",
       "50416    9.000853     5.442418     4.341855    16.514381     7.549491  \n",
       "50417    9.005405     5.442418     4.341855    16.514381     7.549491  \n",
       "\n",
       "[50418 rows x 14 columns]"
      ]
     },
     "execution_count": 9,
     "metadata": {},
     "output_type": "execute_result"
    }
   ],
   "source": [
    "covir"
   ]
  },
  {
   "cell_type": "code",
   "execution_count": 10,
   "id": "ee3bf310",
   "metadata": {
    "scrolled": true
   },
   "outputs": [
    {
     "data": {
      "text/plain": [
       "Afghanistan        294\n",
       "Indonesia          294\n",
       "Macedonia          294\n",
       "Luxembourg         294\n",
       "Lithuania          294\n",
       "                  ... \n",
       "Tajikistan         172\n",
       "Comoros            171\n",
       "Lesotho            158\n",
       "Hong Kong           51\n",
       "Solomon Islands      4\n",
       "Name: COUNTRY, Length: 210, dtype: int64"
      ]
     },
     "execution_count": 10,
     "metadata": {},
     "output_type": "execute_result"
    }
   ],
   "source": [
    "covit['COUNTRY'].value_counts()\n",
    "#knowing the total number of reoetitions of a single value in country column\n",
    "#the total number of repetitions are not same "
   ]
  },
  {
   "cell_type": "code",
   "execution_count": 11,
   "id": "65e6e684",
   "metadata": {},
   "outputs": [
    {
     "data": {
      "text/plain": [
       "0    294\n",
       "Name: COUNTRY, dtype: int64"
      ]
     },
     "execution_count": 11,
     "metadata": {},
     "output_type": "execute_result"
    }
   ],
   "source": [
    "covit['COUNTRY'].value_counts().mode()"
   ]
  },
  {
   "cell_type": "code",
   "execution_count": 12,
   "id": "9ca9687c",
   "metadata": {
    "scrolled": true
   },
   "outputs": [
    {
     "data": {
      "text/plain": [
       "array(['Afghanistan', 'Albania', 'Algeria', 'Andorra', 'Angola',\n",
       "       'Anguilla', 'Antigua and Barbuda', 'Argentina', 'Armenia', 'Aruba',\n",
       "       'Australia', 'Austria', 'Azerbaijan', 'Bahamas', 'Bahrain',\n",
       "       'Bangladesh', 'Barbados', 'Belarus', 'Belgium', 'Belize', 'Benin',\n",
       "       'Bermuda', 'Bhutan', 'Bolivia', 'Bonaire Sint Eustatius and Saba',\n",
       "       'Bosnia and Herzegovina', 'Botswana', 'Brazil',\n",
       "       'British Virgin Islands', 'Brunei', 'Bulgaria', 'Burkina Faso',\n",
       "       'Burundi', 'Cambodia', 'Cameroon', 'Canada', 'Cape Verde',\n",
       "       'Cayman Islands', 'Central African Republic', 'Chad', 'Chile',\n",
       "       'China', 'Colombia', 'Comoros', 'Congo', 'Costa Rica',\n",
       "       \"Cote d'Ivoire\", 'Croatia', 'Cuba', 'Curacao', 'Cyprus',\n",
       "       'Czech Republic', 'Democratic Republic of Congo', 'Denmark',\n",
       "       'Djibouti', 'Dominica', 'Dominican Republic', 'Ecuador', 'Egypt',\n",
       "       'El Salvador', 'Equatorial Guinea', 'Eritrea', 'Estonia',\n",
       "       'Ethiopia', 'Faeroe Islands', 'Falkland Islands', 'Fiji',\n",
       "       'Finland', 'France', 'French Polynesia', 'Gabon', 'Gambia',\n",
       "       'Georgia', 'Germany', 'Ghana', 'Gibraltar', 'Greece', 'Greenland',\n",
       "       'Grenada', 'Guam', 'Guatemala', 'Guernsey', 'Guinea',\n",
       "       'Guinea-Bissau', 'Guyana', 'Haiti', 'Honduras', 'Hong Kong',\n",
       "       'Hungary', 'Iceland', 'India', 'Indonesia', 'Iran', 'Iraq',\n",
       "       'Ireland', 'Isle of Man', 'Israel', 'Italy', 'Jamaica', 'Japan',\n",
       "       'Jersey', 'Jordan', 'Kazakhstan', 'Kenya', 'Kosovo', 'Kuwait',\n",
       "       'Kyrgyzstan', 'Laos', 'Latvia', 'Lebanon', 'Lesotho', 'Liberia',\n",
       "       'Libya', 'Liechtenstein', 'Lithuania', 'Luxembourg', 'Macedonia',\n",
       "       'Madagascar', 'Malawi', 'Malaysia', 'Maldives', 'Mali', 'Malta',\n",
       "       'Mauritania', 'Mauritius', 'Mexico', 'Moldova', 'Monaco',\n",
       "       'Mongolia', 'Montenegro', 'Montserrat', 'Morocco', 'Mozambique',\n",
       "       'Myanmar', 'Namibia', 'Nepal', 'Netherlands', 'New Caledonia',\n",
       "       'New Zealand', 'Nicaragua', 'Niger', 'Nigeria',\n",
       "       'Northern Mariana Islands', 'Norway', 'Oman', 'Pakistan',\n",
       "       'Palestine', 'Panama', 'Papua New Guinea', 'Paraguay', 'Peru',\n",
       "       'Philippines', 'Poland', 'Portugal', 'Puerto Rico', 'Qatar',\n",
       "       'Romania', 'Russia', 'Rwanda', 'Saint Kitts and Nevis',\n",
       "       'Saint Lucia', 'Saint Vincent and the Grenadines', 'San Marino',\n",
       "       'Sao Tome and Principe', 'Saudi Arabia', 'Senegal', 'Serbia',\n",
       "       'Seychelles', 'Sierra Leone', 'Singapore',\n",
       "       'Sint Maarten (Dutch part)', 'Slovakia', 'Slovenia',\n",
       "       'Solomon Islands', 'Somalia', 'South Africa', 'South Korea',\n",
       "       'South Sudan', 'Spain', 'Sri Lanka', 'Sudan', 'Suriname',\n",
       "       'Swaziland', 'Sweden', 'Switzerland', 'Syria', 'Taiwan',\n",
       "       'Tajikistan', 'Tanzania', 'Thailand', 'Timor', 'Togo',\n",
       "       'Trinidad and Tobago', 'Tunisia', 'Turkey',\n",
       "       'Turks and Caicos Islands', 'Uganda', 'Ukraine',\n",
       "       'United Arab Emirates', 'United Kingdom', 'United States',\n",
       "       'United States Virgin Islands', 'Uruguay', 'Uzbekistan', 'Vatican',\n",
       "       'Venezuela', 'Vietnam', 'Yemen', 'Zambia', 'Zimbabwe'],\n",
       "      dtype=object)"
      ]
     },
     "execution_count": 12,
     "metadata": {},
     "output_type": "execute_result"
    }
   ],
   "source": [
    "covit['COUNTRY'].unique()\n",
    "#this brings out one of each repetition per country column as a list"
   ]
  },
  {
   "cell_type": "code",
   "execution_count": 13,
   "id": "5f1c70de",
   "metadata": {},
   "outputs": [],
   "source": [
    "country=covit['COUNTRY'].unique().tolist()\n",
    "code= covit['CODE'].unique().tolist()\n",
    "population = covit['POP'].unique().tolist()"
   ]
  },
  {
   "cell_type": "code",
   "execution_count": 14,
   "id": "c99be591",
   "metadata": {},
   "outputs": [],
   "source": [
    "hdi = []\n",
    "tc = []\n",
    "td = []\n",
    "sti = []\n",
    "gdp = []\n",
    "population = []\n",
    "\n",
    "for _ in country:\n",
    "    hdi.append((covit.loc[covit['COUNTRY']== _, 'HDI']).sum()/294)\n",
    "    tc.append((covir.loc[covir['location']== _, 'total_cases']).sum())\n",
    "    td.append((covir.loc[covir['location']== _, 'total_deaths']).sum())\n",
    "    sti.append((covit.loc[covit['COUNTRY']== _, 'STI']).sum()/294)\n",
    "    population.append((covir.loc[covir['location']== _, 'population']).sum()/294)\n",
    "    \n",
    "new = pd.DataFrame(list(zip(code, country, hdi, tc, td, sti, population)), columns = ['Country Code', 'Country', 'HDI', 'Total Cases', 'Total Deaths', 'Stringency Index', 'Population'])\n",
    "    \n",
    "    \n",
    "    \n",
    "\n"
   ]
  },
  {
   "cell_type": "code",
   "execution_count": 15,
   "id": "7bb3cc3c",
   "metadata": {},
   "outputs": [
    {
     "data": {
      "text/html": [
       "<div>\n",
       "<style scoped>\n",
       "    .dataframe tbody tr th:only-of-type {\n",
       "        vertical-align: middle;\n",
       "    }\n",
       "\n",
       "    .dataframe tbody tr th {\n",
       "        vertical-align: top;\n",
       "    }\n",
       "\n",
       "    .dataframe thead th {\n",
       "        text-align: right;\n",
       "    }\n",
       "</style>\n",
       "<table border=\"1\" class=\"dataframe\">\n",
       "  <thead>\n",
       "    <tr style=\"text-align: right;\">\n",
       "      <th></th>\n",
       "      <th>Country Code</th>\n",
       "      <th>Country</th>\n",
       "      <th>HDI</th>\n",
       "      <th>Total Cases</th>\n",
       "      <th>Total Deaths</th>\n",
       "      <th>Stringency Index</th>\n",
       "      <th>Population</th>\n",
       "    </tr>\n",
       "  </thead>\n",
       "  <tbody>\n",
       "    <tr>\n",
       "      <th>0</th>\n",
       "      <td>AFG</td>\n",
       "      <td>Afghanistan</td>\n",
       "      <td>0.498000</td>\n",
       "      <td>5126433.0</td>\n",
       "      <td>165875.0</td>\n",
       "      <td>3.049673</td>\n",
       "      <td>3.892834e+07</td>\n",
       "    </tr>\n",
       "    <tr>\n",
       "      <th>1</th>\n",
       "      <td>ALB</td>\n",
       "      <td>Albania</td>\n",
       "      <td>0.600765</td>\n",
       "      <td>1071951.0</td>\n",
       "      <td>31056.0</td>\n",
       "      <td>3.005624</td>\n",
       "      <td>2.202398e+06</td>\n",
       "    </tr>\n",
       "    <tr>\n",
       "      <th>2</th>\n",
       "      <td>DZA</td>\n",
       "      <td>Algeria</td>\n",
       "      <td>0.754000</td>\n",
       "      <td>4893999.0</td>\n",
       "      <td>206429.0</td>\n",
       "      <td>3.195168</td>\n",
       "      <td>4.385104e+07</td>\n",
       "    </tr>\n",
       "    <tr>\n",
       "      <th>3</th>\n",
       "      <td>AND</td>\n",
       "      <td>Andorra</td>\n",
       "      <td>0.659551</td>\n",
       "      <td>223576.0</td>\n",
       "      <td>9850.0</td>\n",
       "      <td>2.677654</td>\n",
       "      <td>5.939418e+04</td>\n",
       "    </tr>\n",
       "    <tr>\n",
       "      <th>4</th>\n",
       "      <td>AGO</td>\n",
       "      <td>Angola</td>\n",
       "      <td>0.418952</td>\n",
       "      <td>304005.0</td>\n",
       "      <td>11820.0</td>\n",
       "      <td>2.965560</td>\n",
       "      <td>2.369949e+07</td>\n",
       "    </tr>\n",
       "    <tr>\n",
       "      <th>...</th>\n",
       "      <td>...</td>\n",
       "      <td>...</td>\n",
       "      <td>...</td>\n",
       "      <td>...</td>\n",
       "      <td>...</td>\n",
       "      <td>...</td>\n",
       "      <td>...</td>\n",
       "    </tr>\n",
       "    <tr>\n",
       "      <th>205</th>\n",
       "      <td>VEN</td>\n",
       "      <td>Venezuela</td>\n",
       "      <td>0.566867</td>\n",
       "      <td>4839834.0</td>\n",
       "      <td>40840.0</td>\n",
       "      <td>3.235752</td>\n",
       "      <td>2.118188e+07</td>\n",
       "    </tr>\n",
       "    <tr>\n",
       "      <th>206</th>\n",
       "      <td>VNM</td>\n",
       "      <td>Vietnam</td>\n",
       "      <td>0.694000</td>\n",
       "      <td>122618.0</td>\n",
       "      <td>2318.0</td>\n",
       "      <td>3.710868</td>\n",
       "      <td>9.733858e+07</td>\n",
       "    </tr>\n",
       "    <tr>\n",
       "      <th>207</th>\n",
       "      <td>YEM</td>\n",
       "      <td>Yemen</td>\n",
       "      <td>0.296721</td>\n",
       "      <td>228925.0</td>\n",
       "      <td>64304.0</td>\n",
       "      <td>2.369568</td>\n",
       "      <td>1.957963e+07</td>\n",
       "    </tr>\n",
       "    <tr>\n",
       "      <th>208</th>\n",
       "      <td>ZMB</td>\n",
       "      <td>Zambia</td>\n",
       "      <td>0.430000</td>\n",
       "      <td>1129913.0</td>\n",
       "      <td>26475.0</td>\n",
       "      <td>2.645104</td>\n",
       "      <td>1.344405e+07</td>\n",
       "    </tr>\n",
       "    <tr>\n",
       "      <th>209</th>\n",
       "      <td>ZWE</td>\n",
       "      <td>Zimbabwe</td>\n",
       "      <td>0.387602</td>\n",
       "      <td>593699.0</td>\n",
       "      <td>15984.0</td>\n",
       "      <td>3.161132</td>\n",
       "      <td>1.076804e+07</td>\n",
       "    </tr>\n",
       "  </tbody>\n",
       "</table>\n",
       "<p>210 rows × 7 columns</p>\n",
       "</div>"
      ],
      "text/plain": [
       "    Country Code      Country       HDI  Total Cases  Total Deaths  \\\n",
       "0            AFG  Afghanistan  0.498000    5126433.0      165875.0   \n",
       "1            ALB      Albania  0.600765    1071951.0       31056.0   \n",
       "2            DZA      Algeria  0.754000    4893999.0      206429.0   \n",
       "3            AND      Andorra  0.659551     223576.0        9850.0   \n",
       "4            AGO       Angola  0.418952     304005.0       11820.0   \n",
       "..           ...          ...       ...          ...           ...   \n",
       "205          VEN    Venezuela  0.566867    4839834.0       40840.0   \n",
       "206          VNM      Vietnam  0.694000     122618.0        2318.0   \n",
       "207          YEM        Yemen  0.296721     228925.0       64304.0   \n",
       "208          ZMB       Zambia  0.430000    1129913.0       26475.0   \n",
       "209          ZWE     Zimbabwe  0.387602     593699.0       15984.0   \n",
       "\n",
       "     Stringency Index    Population  \n",
       "0            3.049673  3.892834e+07  \n",
       "1            3.005624  2.202398e+06  \n",
       "2            3.195168  4.385104e+07  \n",
       "3            2.677654  5.939418e+04  \n",
       "4            2.965560  2.369949e+07  \n",
       "..                ...           ...  \n",
       "205          3.235752  2.118188e+07  \n",
       "206          3.710868  9.733858e+07  \n",
       "207          2.369568  1.957963e+07  \n",
       "208          2.645104  1.344405e+07  \n",
       "209          3.161132  1.076804e+07  \n",
       "\n",
       "[210 rows x 7 columns]"
      ]
     },
     "execution_count": 15,
     "metadata": {},
     "output_type": "execute_result"
    }
   ],
   "source": [
    "new\n",
    "#we've reduced the number of repetitions to zero, summed up all cases of each country into one. \n",
    "#note the for _ in country. that means; do for the first country, move to the next..."
   ]
  },
  {
   "cell_type": "code",
   "execution_count": 16,
   "id": "ca136b92",
   "metadata": {
    "scrolled": true
   },
   "outputs": [],
   "source": [
    "#sorting according to values in a column\n",
    "#notice the ascending thingy\n",
    "deta= new.sort_values(by= ['Total Cases'], ascending= False)\n"
   ]
  },
  {
   "cell_type": "code",
   "execution_count": 17,
   "id": "3668e743",
   "metadata": {},
   "outputs": [
    {
     "data": {
      "text/html": [
       "<div>\n",
       "<style scoped>\n",
       "    .dataframe tbody tr th:only-of-type {\n",
       "        vertical-align: middle;\n",
       "    }\n",
       "\n",
       "    .dataframe tbody tr th {\n",
       "        vertical-align: top;\n",
       "    }\n",
       "\n",
       "    .dataframe thead th {\n",
       "        text-align: right;\n",
       "    }\n",
       "</style>\n",
       "<table border=\"1\" class=\"dataframe\">\n",
       "  <thead>\n",
       "    <tr style=\"text-align: right;\">\n",
       "      <th></th>\n",
       "      <th>Country Code</th>\n",
       "      <th>Country</th>\n",
       "      <th>HDI</th>\n",
       "      <th>Total Cases</th>\n",
       "      <th>Total Deaths</th>\n",
       "      <th>Stringency Index</th>\n",
       "      <th>Population</th>\n",
       "    </tr>\n",
       "  </thead>\n",
       "  <tbody>\n",
       "    <tr>\n",
       "      <th>200</th>\n",
       "      <td>USA</td>\n",
       "      <td>United States</td>\n",
       "      <td>0.924000</td>\n",
       "      <td>746014098.0</td>\n",
       "      <td>26477574.0</td>\n",
       "      <td>3.350949</td>\n",
       "      <td>3.310026e+08</td>\n",
       "    </tr>\n",
       "    <tr>\n",
       "      <th>27</th>\n",
       "      <td>BRA</td>\n",
       "      <td>Brazil</td>\n",
       "      <td>0.759000</td>\n",
       "      <td>425704517.0</td>\n",
       "      <td>14340567.0</td>\n",
       "      <td>3.136028</td>\n",
       "      <td>2.125594e+08</td>\n",
       "    </tr>\n",
       "    <tr>\n",
       "      <th>90</th>\n",
       "      <td>IND</td>\n",
       "      <td>India</td>\n",
       "      <td>0.640000</td>\n",
       "      <td>407771615.0</td>\n",
       "      <td>7247327.0</td>\n",
       "      <td>3.610552</td>\n",
       "      <td>1.380004e+09</td>\n",
       "    </tr>\n",
       "    <tr>\n",
       "      <th>157</th>\n",
       "      <td>RUS</td>\n",
       "      <td>Russia</td>\n",
       "      <td>0.816000</td>\n",
       "      <td>132888951.0</td>\n",
       "      <td>2131571.0</td>\n",
       "      <td>3.380088</td>\n",
       "      <td>1.459345e+08</td>\n",
       "    </tr>\n",
       "    <tr>\n",
       "      <th>150</th>\n",
       "      <td>PER</td>\n",
       "      <td>Peru</td>\n",
       "      <td>0.599490</td>\n",
       "      <td>74882695.0</td>\n",
       "      <td>3020038.0</td>\n",
       "      <td>3.430126</td>\n",
       "      <td>2.635505e+07</td>\n",
       "    </tr>\n",
       "    <tr>\n",
       "      <th>125</th>\n",
       "      <td>MEX</td>\n",
       "      <td>Mexico</td>\n",
       "      <td>0.774000</td>\n",
       "      <td>74347548.0</td>\n",
       "      <td>7295850.0</td>\n",
       "      <td>3.019289</td>\n",
       "      <td>1.289328e+08</td>\n",
       "    </tr>\n",
       "    <tr>\n",
       "      <th>178</th>\n",
       "      <td>ESP</td>\n",
       "      <td>Spain</td>\n",
       "      <td>0.887969</td>\n",
       "      <td>73717676.0</td>\n",
       "      <td>5510624.0</td>\n",
       "      <td>3.393922</td>\n",
       "      <td>4.659575e+07</td>\n",
       "    </tr>\n",
       "    <tr>\n",
       "      <th>175</th>\n",
       "      <td>ZAF</td>\n",
       "      <td>South Africa</td>\n",
       "      <td>0.608653</td>\n",
       "      <td>63027659.0</td>\n",
       "      <td>1357682.0</td>\n",
       "      <td>3.364333</td>\n",
       "      <td>5.164294e+07</td>\n",
       "    </tr>\n",
       "    <tr>\n",
       "      <th>42</th>\n",
       "      <td>COL</td>\n",
       "      <td>Colombia</td>\n",
       "      <td>0.581847</td>\n",
       "      <td>60543682.0</td>\n",
       "      <td>1936134.0</td>\n",
       "      <td>3.357923</td>\n",
       "      <td>3.963327e+07</td>\n",
       "    </tr>\n",
       "    <tr>\n",
       "      <th>199</th>\n",
       "      <td>GBR</td>\n",
       "      <td>United Kingdom</td>\n",
       "      <td>0.922000</td>\n",
       "      <td>59475032.0</td>\n",
       "      <td>7249573.0</td>\n",
       "      <td>3.353883</td>\n",
       "      <td>6.788600e+07</td>\n",
       "    </tr>\n",
       "  </tbody>\n",
       "</table>\n",
       "</div>"
      ],
      "text/plain": [
       "    Country Code         Country       HDI  Total Cases  Total Deaths  \\\n",
       "200          USA   United States  0.924000  746014098.0    26477574.0   \n",
       "27           BRA          Brazil  0.759000  425704517.0    14340567.0   \n",
       "90           IND           India  0.640000  407771615.0     7247327.0   \n",
       "157          RUS          Russia  0.816000  132888951.0     2131571.0   \n",
       "150          PER            Peru  0.599490   74882695.0     3020038.0   \n",
       "125          MEX          Mexico  0.774000   74347548.0     7295850.0   \n",
       "178          ESP           Spain  0.887969   73717676.0     5510624.0   \n",
       "175          ZAF    South Africa  0.608653   63027659.0     1357682.0   \n",
       "42           COL        Colombia  0.581847   60543682.0     1936134.0   \n",
       "199          GBR  United Kingdom  0.922000   59475032.0     7249573.0   \n",
       "\n",
       "     Stringency Index    Population  \n",
       "200          3.350949  3.310026e+08  \n",
       "27           3.136028  2.125594e+08  \n",
       "90           3.610552  1.380004e+09  \n",
       "157          3.380088  1.459345e+08  \n",
       "150          3.430126  2.635505e+07  \n",
       "125          3.019289  1.289328e+08  \n",
       "178          3.393922  4.659575e+07  \n",
       "175          3.364333  5.164294e+07  \n",
       "42           3.357923  3.963327e+07  \n",
       "199          3.353883  6.788600e+07  "
      ]
     },
     "execution_count": 17,
     "metadata": {},
     "output_type": "execute_result"
    }
   ],
   "source": [
    "deta.head(10)"
   ]
  },
  {
   "cell_type": "code",
   "execution_count": 19,
   "id": "e3c78bb7",
   "metadata": {
    "scrolled": true
   },
   "outputs": [
    {
     "ename": "KeyError",
     "evalue": "'GDP Before Covid'",
     "output_type": "error",
     "traceback": [
      "\u001b[1;31m---------------------------------------------------------------------------\u001b[0m",
      "\u001b[1;31mKeyError\u001b[0m                                  Traceback (most recent call last)",
      "File \u001b[1;32m~\\anaconda3\\lib\\site-packages\\pandas\\core\\indexes\\base.py:3621\u001b[0m, in \u001b[0;36mIndex.get_loc\u001b[1;34m(self, key, method, tolerance)\u001b[0m\n\u001b[0;32m   3620\u001b[0m \u001b[38;5;28;01mtry\u001b[39;00m:\n\u001b[1;32m-> 3621\u001b[0m     \u001b[38;5;28;01mreturn\u001b[39;00m \u001b[38;5;28;43mself\u001b[39;49m\u001b[38;5;241;43m.\u001b[39;49m\u001b[43m_engine\u001b[49m\u001b[38;5;241;43m.\u001b[39;49m\u001b[43mget_loc\u001b[49m\u001b[43m(\u001b[49m\u001b[43mcasted_key\u001b[49m\u001b[43m)\u001b[49m\n\u001b[0;32m   3622\u001b[0m \u001b[38;5;28;01mexcept\u001b[39;00m \u001b[38;5;167;01mKeyError\u001b[39;00m \u001b[38;5;28;01mas\u001b[39;00m err:\n",
      "File \u001b[1;32m~\\anaconda3\\lib\\site-packages\\pandas\\_libs\\index.pyx:136\u001b[0m, in \u001b[0;36mpandas._libs.index.IndexEngine.get_loc\u001b[1;34m()\u001b[0m\n",
      "File \u001b[1;32m~\\anaconda3\\lib\\site-packages\\pandas\\_libs\\index.pyx:163\u001b[0m, in \u001b[0;36mpandas._libs.index.IndexEngine.get_loc\u001b[1;34m()\u001b[0m\n",
      "File \u001b[1;32mpandas\\_libs\\hashtable_class_helper.pxi:5198\u001b[0m, in \u001b[0;36mpandas._libs.hashtable.PyObjectHashTable.get_item\u001b[1;34m()\u001b[0m\n",
      "File \u001b[1;32mpandas\\_libs\\hashtable_class_helper.pxi:5206\u001b[0m, in \u001b[0;36mpandas._libs.hashtable.PyObjectHashTable.get_item\u001b[1;34m()\u001b[0m\n",
      "\u001b[1;31mKeyError\u001b[0m: 'GDP Before Covid'",
      "\nThe above exception was the direct cause of the following exception:\n",
      "\u001b[1;31mKeyError\u001b[0m                                  Traceback (most recent call last)",
      "Input \u001b[1;32mIn [19]\u001b[0m, in \u001b[0;36m<cell line: 3>\u001b[1;34m()\u001b[0m\n\u001b[0;32m      1\u001b[0m \u001b[38;5;66;03m#adding a new column\u001b[39;00m\n\u001b[0;32m      2\u001b[0m \u001b[38;5;66;03m#observe\u001b[39;00m\n\u001b[1;32m----> 3\u001b[0m \u001b[43mdeta\u001b[49m\u001b[43m[\u001b[49m\u001b[38;5;124;43m'\u001b[39;49m\u001b[38;5;124;43mGDP Before Covid\u001b[39;49m\u001b[38;5;124;43m'\u001b[39;49m\u001b[43m]\u001b[49m\n",
      "File \u001b[1;32m~\\anaconda3\\lib\\site-packages\\pandas\\core\\frame.py:3505\u001b[0m, in \u001b[0;36mDataFrame.__getitem__\u001b[1;34m(self, key)\u001b[0m\n\u001b[0;32m   3503\u001b[0m \u001b[38;5;28;01mif\u001b[39;00m \u001b[38;5;28mself\u001b[39m\u001b[38;5;241m.\u001b[39mcolumns\u001b[38;5;241m.\u001b[39mnlevels \u001b[38;5;241m>\u001b[39m \u001b[38;5;241m1\u001b[39m:\n\u001b[0;32m   3504\u001b[0m     \u001b[38;5;28;01mreturn\u001b[39;00m \u001b[38;5;28mself\u001b[39m\u001b[38;5;241m.\u001b[39m_getitem_multilevel(key)\n\u001b[1;32m-> 3505\u001b[0m indexer \u001b[38;5;241m=\u001b[39m \u001b[38;5;28;43mself\u001b[39;49m\u001b[38;5;241;43m.\u001b[39;49m\u001b[43mcolumns\u001b[49m\u001b[38;5;241;43m.\u001b[39;49m\u001b[43mget_loc\u001b[49m\u001b[43m(\u001b[49m\u001b[43mkey\u001b[49m\u001b[43m)\u001b[49m\n\u001b[0;32m   3506\u001b[0m \u001b[38;5;28;01mif\u001b[39;00m is_integer(indexer):\n\u001b[0;32m   3507\u001b[0m     indexer \u001b[38;5;241m=\u001b[39m [indexer]\n",
      "File \u001b[1;32m~\\anaconda3\\lib\\site-packages\\pandas\\core\\indexes\\base.py:3623\u001b[0m, in \u001b[0;36mIndex.get_loc\u001b[1;34m(self, key, method, tolerance)\u001b[0m\n\u001b[0;32m   3621\u001b[0m     \u001b[38;5;28;01mreturn\u001b[39;00m \u001b[38;5;28mself\u001b[39m\u001b[38;5;241m.\u001b[39m_engine\u001b[38;5;241m.\u001b[39mget_loc(casted_key)\n\u001b[0;32m   3622\u001b[0m \u001b[38;5;28;01mexcept\u001b[39;00m \u001b[38;5;167;01mKeyError\u001b[39;00m \u001b[38;5;28;01mas\u001b[39;00m err:\n\u001b[1;32m-> 3623\u001b[0m     \u001b[38;5;28;01mraise\u001b[39;00m \u001b[38;5;167;01mKeyError\u001b[39;00m(key) \u001b[38;5;28;01mfrom\u001b[39;00m \u001b[38;5;21;01merr\u001b[39;00m\n\u001b[0;32m   3624\u001b[0m \u001b[38;5;28;01mexcept\u001b[39;00m \u001b[38;5;167;01mTypeError\u001b[39;00m:\n\u001b[0;32m   3625\u001b[0m     \u001b[38;5;66;03m# If we have a listlike key, _check_indexing_error will raise\u001b[39;00m\n\u001b[0;32m   3626\u001b[0m     \u001b[38;5;66;03m#  InvalidIndexError. Otherwise we fall through and re-raise\u001b[39;00m\n\u001b[0;32m   3627\u001b[0m     \u001b[38;5;66;03m#  the TypeError.\u001b[39;00m\n\u001b[0;32m   3628\u001b[0m     \u001b[38;5;28mself\u001b[39m\u001b[38;5;241m.\u001b[39m_check_indexing_error(key)\n",
      "\u001b[1;31mKeyError\u001b[0m: 'GDP Before Covid'"
     ]
    }
   ],
   "source": [
    "#adding a new column\n",
    "#observe\n",
    "deta['GDP Before Covid']"
   ]
  },
  {
   "cell_type": "code",
   "execution_count": 20,
   "id": "c2c32ca3",
   "metadata": {},
   "outputs": [],
   "source": [
    "#adding a new column\n",
    "deta['GDP Before Covid']= [29564.74, 6001.40, 6424.98, 2100.75, 65279.53, 6424.98, 8897.49, 42354.41, 8897.49, 2100.75, 65279.53, 8897.49, 2100.75, 8897.49, 2100.75, 42354.41, 29564.74, 6001.40, 29564.74, 6001.40, 6424.98, 42354.41, 65279.53, 8897.49, 2100.75, 29564.74, 6001.40, 6424.98, 42354.41, 65279.53, 8897.49, 2100.75, 29564.74, 6001.40, 6424.98, 42354.41, 65279.53, 8897.49, 2100.75, 29564.74, 6001.40, 6424.98, 42354.41, 65279.53, 8897.49, 2100.75, 29564.74, 6001.40, 6424.98, 42354.41, 42354.41, 65279.53, 8897.49, 2100.75, 29564.74, 6001.40, 6424.98, 42354.41, 65279.53, 8897.49, 2100.75, 42354.41, 65279.53, 8897.49, 2100.75, 42354.41, 65279.53, 8897.49, 2100.75, 42354.41, 65279.53, 8897.49, 2100.75, 42354.41, 65279.53, 8897.49, 42354.41, 42354.41, 65279.53, 42354.41, 65279.53, 8897.49, 2100.75, 42354.41, 65279.53, 42354.41, 65279.53, 8897.49, 2100.75, 29564.74, 42354.41, 65279.53,6001.40, 6424.98, 42354.41,6001.40, 6424.98, 42354.41 ,8897.49, 2100.75, 29564.74, 6001.40, 6424.98, 42354.41 ,29564.74, 6001.40, 6424.98, 42354.41,42354.41, 65279.53, 8897.49, 2100.75, 29564.74, 6001.40, 6424.98, 42354.41 ,8897.49, 2100.75, 29564.74, 6001.40,  6001.40, 6424.98, 42354.41 ,8897.49, 2100.75, 29564.74, 6001.40, 6424.98, 42354.41 ,65279.53, 8897.49, 2100.75, 29564.74, 6001.40, 6424.98, 42354.41 ,2100.75, 29564.74, 6001.40, 6424.98, 42354.41,29564.74, 6001.40, 6424.98, 42354.41,29564.74, 6001.40, 6424.98, 42354.41,29564.74, 6001.40, 6424.98, 42354.41, 65279.53, 8897.49, 2100.75, 29564.74, 6001.40, 6424.98, 42354.41 ,2100.75, 29564.74, 6001.40, 6424.98, 42354.41,29564.74, 6001.40, 6424.98, 42354.41,29564.74, 6001.40, 6424.98, 42354.41,29564.74, 6001.40, 6424.98, 42354.41,29564.74, 6001.40,6424.98, 42354.41 ,65279.53, 8897.49, 2100.75, 29564.74, 6001.40, 6424.98, 42354.41 ,2100.75, 29564.74, 6001.40, 6424.98, 42354.41,29564.74, 6001.40, 6424.98, 42354.41,29564.74, 6001.40, 6424.98, 42354.41,29564.74, 6001.40, 6424.98, 42354.41,29564.74, 6001.40, 6424.98, 42354.41 ,42354.41]"
   ]
  },
  {
   "cell_type": "code",
   "execution_count": 21,
   "id": "29e49afb",
   "metadata": {},
   "outputs": [],
   "source": [
    "deta['GDP After Covid']= [ 6001.40, 6424.98, 42354.41 ,8897.49, 2100.75, 29564.74, 6001.40, 6424.98, 42354.41 ,65279.53, 8897.49, 2100.75, 29564.74, 6001.40, 6424.98, 42354.41 ,2100.75, 29564.74, 6001.40, 6424.98, 42354.41,29564.74, 6001.40, 6424.98, 42354.41,29564.74, 6001.40, 6424.98, 42354.41,29564.74, 6001.40, 6424.98, 42354.41,29564.74, 6001.40,  6001.40, 6424.98, 42354.41 ,8897.49, 2100.75, 29564.74, 6001.40, 6424.98, 42354.41 ,65279.53, 8897.49, 2100.75, 29564.74, 6001.40, 6424.98, 42354.41 ,2100.75, 29564.74, 6001.40, 6424.98, 42354.41,29564.74, 6001.40, 6424.98, 42354.41,29564.74, 6001.40, 6424.98, 42354.41,29564.74,  6001.40, 6424.98, 42354.41 ,8897.49, 2100.75, 29564.74, 6001.40, 6424.98, 42354.41 ,65279.53, 8897.49, 2100.75, 29564.74, 6001.40, 6424.98, 42354.41 ,2100.75, 29564.74, 6001.40, 6424.98, 42354.41,29564.74, 6001.40, 6424.98, 42354.41,29564.74, 6001.40, 6424.98, 42354.41,29564.74,  6001.40, 6424.98, 42354.41 ,8897.49, 2100.75, 29564.74, 6001.40, 6424.98, 42354.41 ,65279.53, 8897.49, 2100.75, 29564.74, 6001.40, 6424.98, 42354.41 ,2100.75, 29564.74, 6001.40, 6424.98, 42354.41,29564.74, 6001.40, 6424.98, 42354.41,29564.74, 6001.40, 6424.98, 42354.41,29564.74, 6001.40, 6424.98, 42354.41,29564.74,  6001.40, 6424.98, 42354.41 ,8897.49, 2100.75, 29564.74, 6001.40, 6424.98, 42354.41 ,65279.53, 8897.49, 2100.75, 29564.74, 6001.40, 6424.98, 42354.41 ,2100.75, 29564.74, 6001.40, 6424.98, 42354.41,29564.74, 6001.40, 6424.98, 42354.41,29564.74, 6001.40, 6424.98, 42354.41,29564.74, 6001.40, 6424.98, 42354.41,29564.74, 6001.40 ,6001.40,6001.40, 6424.98, 42354.41,29564.74, 6001.40,6001.40,  6001.40, 6424.98, 42354.41 ,8897.49, 2100.75, 29564.74, 6001.40, 6424.98, 42354.41 ,65279.53, 8897.49, 2100.75, 29564.74, 6001.40, 6424.98, 42354.41 ,2100.75, 29564.74, 6001.40, 6424.98, 42354.41,29564.74, 6001.40, 6424.98, 42354.41,29564.74, 6001.40, 6424.98, 42354.41,29564.74, 6001.40, 6424.98, 42354.41,29564.74, 6001.40 ,6424.98, 42354.41,29564.74, 6001.40]"
   ]
  },
  {
   "cell_type": "code",
   "execution_count": 22,
   "id": "2cc09ed5",
   "metadata": {
    "collapsed": true
   },
   "outputs": [
    {
     "data": {
      "text/plain": [
       "200     6001.40\n",
       "27      6424.98\n",
       "90     42354.41\n",
       "157     8897.49\n",
       "150     2100.75\n",
       "         ...   \n",
       "204     6001.40\n",
       "130     6424.98\n",
       "5      42354.41\n",
       "173    29564.74\n",
       "87      6001.40\n",
       "Name: GDP After Covid, Length: 210, dtype: float64"
      ]
     },
     "execution_count": 22,
     "metadata": {},
     "output_type": "execute_result"
    }
   ],
   "source": [
    "deta['GDP After Covid']"
   ]
  },
  {
   "cell_type": "code",
   "execution_count": 26,
   "id": "00f18ded",
   "metadata": {},
   "outputs": [],
   "source": [
    "first= px.bar(deta, x= 'Country', y= 'Total Cases', color = 'Total Cases', title = 'Countries with Highest Covid Cases')"
   ]
  },
  {
   "cell_type": "code",
   "execution_count": 27,
   "id": "355f25e2",
   "metadata": {
    "scrolled": true
   },
   "outputs": [
    {
     "data": {
      "application/vnd.plotly.v1+json": {
       "config": {
        "plotlyServerURL": "https://plot.ly"
       },
       "data": [
        {
         "alignmentgroup": "True",
         "hovertemplate": "Country=%{x}<br>Total Cases=%{marker.color}<extra></extra>",
         "legendgroup": "",
         "marker": {
          "color": [
           746014098,
           425704517,
           407771615,
           132888951,
           74882695,
           74347548,
           73717676,
           63027659,
           60543682,
           59475032,
           52421884,
           51268034,
           50752853,
           50084335,
           47155234,
           42447678,
           41431948,
           38585191,
           37738077,
           35266178,
           25280332,
           22409936,
           21632319,
           21570149,
           20902374,
           16351440,
           16202474,
           15805665,
           15192468,
           14408757,
           13194863,
           13026629,
           12422845,
           11910109,
           11858838,
           10672859,
           10649646,
           10622205,
           10595186,
           10371724,
           10247326,
           10060093,
           9266263,
           9239657,
           8191161,
           7839270,
           7659484,
           7644426,
           7552067,
           6549995,
           6545499,
           6107371,
           5474629,
           5243653,
           5239798,
           5213980,
           5126433,
           4909197,
           4900649,
           4893999,
           4876417,
           4839834,
           4632482,
           4631835,
           4421215,
           4287847,
           4236782,
           3984174,
           3586463,
           3333075,
           3277734,
           3249458,
           3030088,
           3012377,
           2573206,
           2476502,
           2265640,
           2220699,
           2200057,
           2132883,
           1985889,
           1890380,
           1817274,
           1774181,
           1724220,
           1708798,
           1663545,
           1586747,
           1458484,
           1443321,
           1421470,
           1345940,
           1314031,
           1271391,
           1195836,
           1146724,
           1129913,
           1117391,
           1071951,
           1031803,
           1023155,
           1000626,
           844040,
           799222,
           798665,
           781771,
           716514,
           681299,
           675912,
           655703,
           644209,
           593699,
           593048,
           581546,
           557355,
           547075,
           536447,
           524410,
           510578,
           491145,
           488057,
           473368,
           463888,
           448728,
           446643,
           445402,
           444238,
           431689,
           421210,
           390637,
           388775,
           370890,
           358632,
           333500,
           306564,
           304005,
           268396,
           267902,
           255964,
           253203,
           251261,
           245893,
           239884,
           237908,
           236673,
           231452,
           229521,
           228925,
           225550,
           223576,
           215110,
           205758,
           199978,
           169903,
           166917,
           160975,
           159880,
           154173,
           134994,
           122618,
           121909,
           107948,
           106383,
           98536,
           97074,
           95388,
           91526,
           69524,
           66777,
           64935,
           56893,
           52437,
           49814,
           49745,
           48026,
           45340,
           44432,
           42465,
           40026,
           39539,
           35966,
           33173,
           30140,
           28876,
           24998,
           22847,
           21511,
           19885,
           19777,
           14701,
           12619,
           7824,
           7784,
           5080,
           4742,
           4697,
           4605,
           4495,
           4470,
           4450,
           4039,
           3977,
           3246,
           2678,
           2467,
           2415,
           2383,
           614,
           11,
           0
          ],
          "coloraxis": "coloraxis",
          "pattern": {
           "shape": ""
          }
         },
         "name": "",
         "offsetgroup": "",
         "orientation": "v",
         "showlegend": false,
         "textposition": "auto",
         "type": "bar",
         "x": [
          "United States",
          "Brazil",
          "India",
          "Russia",
          "Peru",
          "Mexico",
          "Spain",
          "South Africa",
          "Colombia",
          "United Kingdom",
          "Iran",
          "Chile",
          "Italy",
          "France",
          "Argentina",
          "Germany",
          "Turkey",
          "Saudi Arabia",
          "Pakistan",
          "Bangladesh",
          "Iraq",
          "Philippines",
          "China",
          "Indonesia",
          "Canada",
          "Qatar",
          "Israel",
          "Ukraine",
          "Belgium",
          "Ecuador",
          "Kazakhstan",
          "Netherlands",
          "Egypt",
          "Sweden",
          "Bolivia",
          "Romania",
          "Dominican Republic",
          "Kuwait",
          "Belarus",
          "Panama",
          "United Arab Emirates",
          "Oman",
          "Portugal",
          "Poland",
          "Singapore",
          "Morocco",
          "Japan",
          "Guatemala",
          "Switzerland",
          "Bahrain",
          "Honduras",
          "Nigeria",
          "Armenia",
          "Nepal",
          "Ireland",
          "Czech Republic",
          "Afghanistan",
          "Austria",
          "Ghana",
          "Algeria",
          "Ethiopia",
          "Venezuela",
          "Moldova",
          "Costa Rica",
          "Uzbekistan",
          "Kyrgyzstan",
          "Azerbaijan",
          "Serbia",
          "Puerto Rico",
          "South Korea",
          "Kenya",
          "Palestine",
          "Denmark",
          "Australia",
          "El Salvador",
          "Cameroon",
          "Paraguay",
          "Lebanon",
          "Bosnia and Herzegovina",
          "Cote d'Ivoire",
          "Norway",
          "Bulgaria",
          "Libya",
          "Malaysia",
          "Macedonia",
          "Hungary",
          "Sudan",
          "Senegal",
          "Finland",
          "Madagascar",
          "Greece",
          "Kosovo",
          "Croatia",
          "Democratic Republic of Congo",
          "Guinea",
          "Luxembourg",
          "Zambia",
          "Tajikistan",
          "Albania",
          "Gabon",
          "Haiti",
          "Tunisia",
          "Maldives",
          "Mauritania",
          "Slovakia",
          "Djibouti",
          "Jordan",
          "Namibia",
          "Montenegro",
          "Thailand",
          "Myanmar",
          "Zimbabwe",
          "Central African Republic",
          "Cuba",
          "Equatorial Guinea",
          "Slovenia",
          "Malawi",
          "Nicaragua",
          "Mozambique",
          "Somalia",
          "Lithuania",
          "Congo",
          "Cape Verde",
          "Uganda",
          "Sri Lanka",
          "Estonia",
          "Swaziland",
          "Georgia",
          "Iceland",
          "Mali",
          "Rwanda",
          "Jamaica",
          "Suriname",
          "South Sudan",
          "Guinea-Bissau",
          "Angola",
          "Sierra Leone",
          "Syria",
          "Latvia",
          "New Zealand",
          "Malta",
          "Benin",
          "Uruguay",
          "Bahamas",
          "Cyprus",
          "Burkina Faso",
          "Gambia",
          "Yemen",
          "Trinidad and Tobago",
          "Andorra",
          "Aruba",
          "Botswana",
          "Niger",
          "Togo",
          "Guyana",
          "Guam",
          "Liberia",
          "Chad",
          "San Marino",
          "Vietnam",
          "Sao Tome and Principe",
          "Lesotho",
          "Belize",
          "United States Virgin Islands",
          "Taiwan",
          "French Polynesia",
          "Tanzania",
          "Mauritius",
          "Jersey",
          "Isle of Man",
          "Faeroe Islands",
          "Comoros",
          "Guernsey",
          "Burundi",
          "Sint Maarten (Dutch part)",
          "Gibraltar",
          "Turks and Caicos Islands",
          "Mongolia",
          "Eritrea",
          "Cambodia",
          "Papua New Guinea",
          "Cayman Islands",
          "Brunei",
          "Bermuda",
          "Barbados",
          "Bhutan",
          "Monaco",
          "Liechtenstein",
          "Curacao",
          "Seychelles",
          "Antigua and Barbuda",
          "Saint Vincent and the Grenadines",
          "Northern Mariana Islands",
          "Bonaire Sint Eustatius and Saba",
          "Fiji",
          "Timor",
          "British Virgin Islands",
          "New Caledonia",
          "Grenada",
          "Saint Lucia",
          "Laos",
          "Dominica",
          "Saint Kitts and Nevis",
          "Greenland",
          "Falkland Islands",
          "Vatican",
          "Montserrat",
          "Anguilla",
          "Solomon Islands",
          "Hong Kong"
         ],
         "xaxis": "x",
         "y": [
          746014098,
          425704517,
          407771615,
          132888951,
          74882695,
          74347548,
          73717676,
          63027659,
          60543682,
          59475032,
          52421884,
          51268034,
          50752853,
          50084335,
          47155234,
          42447678,
          41431948,
          38585191,
          37738077,
          35266178,
          25280332,
          22409936,
          21632319,
          21570149,
          20902374,
          16351440,
          16202474,
          15805665,
          15192468,
          14408757,
          13194863,
          13026629,
          12422845,
          11910109,
          11858838,
          10672859,
          10649646,
          10622205,
          10595186,
          10371724,
          10247326,
          10060093,
          9266263,
          9239657,
          8191161,
          7839270,
          7659484,
          7644426,
          7552067,
          6549995,
          6545499,
          6107371,
          5474629,
          5243653,
          5239798,
          5213980,
          5126433,
          4909197,
          4900649,
          4893999,
          4876417,
          4839834,
          4632482,
          4631835,
          4421215,
          4287847,
          4236782,
          3984174,
          3586463,
          3333075,
          3277734,
          3249458,
          3030088,
          3012377,
          2573206,
          2476502,
          2265640,
          2220699,
          2200057,
          2132883,
          1985889,
          1890380,
          1817274,
          1774181,
          1724220,
          1708798,
          1663545,
          1586747,
          1458484,
          1443321,
          1421470,
          1345940,
          1314031,
          1271391,
          1195836,
          1146724,
          1129913,
          1117391,
          1071951,
          1031803,
          1023155,
          1000626,
          844040,
          799222,
          798665,
          781771,
          716514,
          681299,
          675912,
          655703,
          644209,
          593699,
          593048,
          581546,
          557355,
          547075,
          536447,
          524410,
          510578,
          491145,
          488057,
          473368,
          463888,
          448728,
          446643,
          445402,
          444238,
          431689,
          421210,
          390637,
          388775,
          370890,
          358632,
          333500,
          306564,
          304005,
          268396,
          267902,
          255964,
          253203,
          251261,
          245893,
          239884,
          237908,
          236673,
          231452,
          229521,
          228925,
          225550,
          223576,
          215110,
          205758,
          199978,
          169903,
          166917,
          160975,
          159880,
          154173,
          134994,
          122618,
          121909,
          107948,
          106383,
          98536,
          97074,
          95388,
          91526,
          69524,
          66777,
          64935,
          56893,
          52437,
          49814,
          49745,
          48026,
          45340,
          44432,
          42465,
          40026,
          39539,
          35966,
          33173,
          30140,
          28876,
          24998,
          22847,
          21511,
          19885,
          19777,
          14701,
          12619,
          7824,
          7784,
          5080,
          4742,
          4697,
          4605,
          4495,
          4470,
          4450,
          4039,
          3977,
          3246,
          2678,
          2467,
          2415,
          2383,
          614,
          11,
          0
         ],
         "yaxis": "y"
        }
       ],
       "layout": {
        "barmode": "relative",
        "coloraxis": {
         "colorbar": {
          "title": {
           "text": "Total Cases"
          }
         },
         "colorscale": [
          [
           0,
           "#0d0887"
          ],
          [
           0.1111111111111111,
           "#46039f"
          ],
          [
           0.2222222222222222,
           "#7201a8"
          ],
          [
           0.3333333333333333,
           "#9c179e"
          ],
          [
           0.4444444444444444,
           "#bd3786"
          ],
          [
           0.5555555555555556,
           "#d8576b"
          ],
          [
           0.6666666666666666,
           "#ed7953"
          ],
          [
           0.7777777777777778,
           "#fb9f3a"
          ],
          [
           0.8888888888888888,
           "#fdca26"
          ],
          [
           1,
           "#f0f921"
          ]
         ]
        },
        "legend": {
         "tracegroupgap": 0
        },
        "template": {
         "data": {
          "bar": [
           {
            "error_x": {
             "color": "#2a3f5f"
            },
            "error_y": {
             "color": "#2a3f5f"
            },
            "marker": {
             "line": {
              "color": "#E5ECF6",
              "width": 0.5
             },
             "pattern": {
              "fillmode": "overlay",
              "size": 10,
              "solidity": 0.2
             }
            },
            "type": "bar"
           }
          ],
          "barpolar": [
           {
            "marker": {
             "line": {
              "color": "#E5ECF6",
              "width": 0.5
             },
             "pattern": {
              "fillmode": "overlay",
              "size": 10,
              "solidity": 0.2
             }
            },
            "type": "barpolar"
           }
          ],
          "carpet": [
           {
            "aaxis": {
             "endlinecolor": "#2a3f5f",
             "gridcolor": "white",
             "linecolor": "white",
             "minorgridcolor": "white",
             "startlinecolor": "#2a3f5f"
            },
            "baxis": {
             "endlinecolor": "#2a3f5f",
             "gridcolor": "white",
             "linecolor": "white",
             "minorgridcolor": "white",
             "startlinecolor": "#2a3f5f"
            },
            "type": "carpet"
           }
          ],
          "choropleth": [
           {
            "colorbar": {
             "outlinewidth": 0,
             "ticks": ""
            },
            "type": "choropleth"
           }
          ],
          "contour": [
           {
            "colorbar": {
             "outlinewidth": 0,
             "ticks": ""
            },
            "colorscale": [
             [
              0,
              "#0d0887"
             ],
             [
              0.1111111111111111,
              "#46039f"
             ],
             [
              0.2222222222222222,
              "#7201a8"
             ],
             [
              0.3333333333333333,
              "#9c179e"
             ],
             [
              0.4444444444444444,
              "#bd3786"
             ],
             [
              0.5555555555555556,
              "#d8576b"
             ],
             [
              0.6666666666666666,
              "#ed7953"
             ],
             [
              0.7777777777777778,
              "#fb9f3a"
             ],
             [
              0.8888888888888888,
              "#fdca26"
             ],
             [
              1,
              "#f0f921"
             ]
            ],
            "type": "contour"
           }
          ],
          "contourcarpet": [
           {
            "colorbar": {
             "outlinewidth": 0,
             "ticks": ""
            },
            "type": "contourcarpet"
           }
          ],
          "heatmap": [
           {
            "colorbar": {
             "outlinewidth": 0,
             "ticks": ""
            },
            "colorscale": [
             [
              0,
              "#0d0887"
             ],
             [
              0.1111111111111111,
              "#46039f"
             ],
             [
              0.2222222222222222,
              "#7201a8"
             ],
             [
              0.3333333333333333,
              "#9c179e"
             ],
             [
              0.4444444444444444,
              "#bd3786"
             ],
             [
              0.5555555555555556,
              "#d8576b"
             ],
             [
              0.6666666666666666,
              "#ed7953"
             ],
             [
              0.7777777777777778,
              "#fb9f3a"
             ],
             [
              0.8888888888888888,
              "#fdca26"
             ],
             [
              1,
              "#f0f921"
             ]
            ],
            "type": "heatmap"
           }
          ],
          "heatmapgl": [
           {
            "colorbar": {
             "outlinewidth": 0,
             "ticks": ""
            },
            "colorscale": [
             [
              0,
              "#0d0887"
             ],
             [
              0.1111111111111111,
              "#46039f"
             ],
             [
              0.2222222222222222,
              "#7201a8"
             ],
             [
              0.3333333333333333,
              "#9c179e"
             ],
             [
              0.4444444444444444,
              "#bd3786"
             ],
             [
              0.5555555555555556,
              "#d8576b"
             ],
             [
              0.6666666666666666,
              "#ed7953"
             ],
             [
              0.7777777777777778,
              "#fb9f3a"
             ],
             [
              0.8888888888888888,
              "#fdca26"
             ],
             [
              1,
              "#f0f921"
             ]
            ],
            "type": "heatmapgl"
           }
          ],
          "histogram": [
           {
            "marker": {
             "pattern": {
              "fillmode": "overlay",
              "size": 10,
              "solidity": 0.2
             }
            },
            "type": "histogram"
           }
          ],
          "histogram2d": [
           {
            "colorbar": {
             "outlinewidth": 0,
             "ticks": ""
            },
            "colorscale": [
             [
              0,
              "#0d0887"
             ],
             [
              0.1111111111111111,
              "#46039f"
             ],
             [
              0.2222222222222222,
              "#7201a8"
             ],
             [
              0.3333333333333333,
              "#9c179e"
             ],
             [
              0.4444444444444444,
              "#bd3786"
             ],
             [
              0.5555555555555556,
              "#d8576b"
             ],
             [
              0.6666666666666666,
              "#ed7953"
             ],
             [
              0.7777777777777778,
              "#fb9f3a"
             ],
             [
              0.8888888888888888,
              "#fdca26"
             ],
             [
              1,
              "#f0f921"
             ]
            ],
            "type": "histogram2d"
           }
          ],
          "histogram2dcontour": [
           {
            "colorbar": {
             "outlinewidth": 0,
             "ticks": ""
            },
            "colorscale": [
             [
              0,
              "#0d0887"
             ],
             [
              0.1111111111111111,
              "#46039f"
             ],
             [
              0.2222222222222222,
              "#7201a8"
             ],
             [
              0.3333333333333333,
              "#9c179e"
             ],
             [
              0.4444444444444444,
              "#bd3786"
             ],
             [
              0.5555555555555556,
              "#d8576b"
             ],
             [
              0.6666666666666666,
              "#ed7953"
             ],
             [
              0.7777777777777778,
              "#fb9f3a"
             ],
             [
              0.8888888888888888,
              "#fdca26"
             ],
             [
              1,
              "#f0f921"
             ]
            ],
            "type": "histogram2dcontour"
           }
          ],
          "mesh3d": [
           {
            "colorbar": {
             "outlinewidth": 0,
             "ticks": ""
            },
            "type": "mesh3d"
           }
          ],
          "parcoords": [
           {
            "line": {
             "colorbar": {
              "outlinewidth": 0,
              "ticks": ""
             }
            },
            "type": "parcoords"
           }
          ],
          "pie": [
           {
            "automargin": true,
            "type": "pie"
           }
          ],
          "scatter": [
           {
            "marker": {
             "colorbar": {
              "outlinewidth": 0,
              "ticks": ""
             }
            },
            "type": "scatter"
           }
          ],
          "scatter3d": [
           {
            "line": {
             "colorbar": {
              "outlinewidth": 0,
              "ticks": ""
             }
            },
            "marker": {
             "colorbar": {
              "outlinewidth": 0,
              "ticks": ""
             }
            },
            "type": "scatter3d"
           }
          ],
          "scattercarpet": [
           {
            "marker": {
             "colorbar": {
              "outlinewidth": 0,
              "ticks": ""
             }
            },
            "type": "scattercarpet"
           }
          ],
          "scattergeo": [
           {
            "marker": {
             "colorbar": {
              "outlinewidth": 0,
              "ticks": ""
             }
            },
            "type": "scattergeo"
           }
          ],
          "scattergl": [
           {
            "marker": {
             "colorbar": {
              "outlinewidth": 0,
              "ticks": ""
             }
            },
            "type": "scattergl"
           }
          ],
          "scattermapbox": [
           {
            "marker": {
             "colorbar": {
              "outlinewidth": 0,
              "ticks": ""
             }
            },
            "type": "scattermapbox"
           }
          ],
          "scatterpolar": [
           {
            "marker": {
             "colorbar": {
              "outlinewidth": 0,
              "ticks": ""
             }
            },
            "type": "scatterpolar"
           }
          ],
          "scatterpolargl": [
           {
            "marker": {
             "colorbar": {
              "outlinewidth": 0,
              "ticks": ""
             }
            },
            "type": "scatterpolargl"
           }
          ],
          "scatterternary": [
           {
            "marker": {
             "colorbar": {
              "outlinewidth": 0,
              "ticks": ""
             }
            },
            "type": "scatterternary"
           }
          ],
          "surface": [
           {
            "colorbar": {
             "outlinewidth": 0,
             "ticks": ""
            },
            "colorscale": [
             [
              0,
              "#0d0887"
             ],
             [
              0.1111111111111111,
              "#46039f"
             ],
             [
              0.2222222222222222,
              "#7201a8"
             ],
             [
              0.3333333333333333,
              "#9c179e"
             ],
             [
              0.4444444444444444,
              "#bd3786"
             ],
             [
              0.5555555555555556,
              "#d8576b"
             ],
             [
              0.6666666666666666,
              "#ed7953"
             ],
             [
              0.7777777777777778,
              "#fb9f3a"
             ],
             [
              0.8888888888888888,
              "#fdca26"
             ],
             [
              1,
              "#f0f921"
             ]
            ],
            "type": "surface"
           }
          ],
          "table": [
           {
            "cells": {
             "fill": {
              "color": "#EBF0F8"
             },
             "line": {
              "color": "white"
             }
            },
            "header": {
             "fill": {
              "color": "#C8D4E3"
             },
             "line": {
              "color": "white"
             }
            },
            "type": "table"
           }
          ]
         },
         "layout": {
          "annotationdefaults": {
           "arrowcolor": "#2a3f5f",
           "arrowhead": 0,
           "arrowwidth": 1
          },
          "autotypenumbers": "strict",
          "coloraxis": {
           "colorbar": {
            "outlinewidth": 0,
            "ticks": ""
           }
          },
          "colorscale": {
           "diverging": [
            [
             0,
             "#8e0152"
            ],
            [
             0.1,
             "#c51b7d"
            ],
            [
             0.2,
             "#de77ae"
            ],
            [
             0.3,
             "#f1b6da"
            ],
            [
             0.4,
             "#fde0ef"
            ],
            [
             0.5,
             "#f7f7f7"
            ],
            [
             0.6,
             "#e6f5d0"
            ],
            [
             0.7,
             "#b8e186"
            ],
            [
             0.8,
             "#7fbc41"
            ],
            [
             0.9,
             "#4d9221"
            ],
            [
             1,
             "#276419"
            ]
           ],
           "sequential": [
            [
             0,
             "#0d0887"
            ],
            [
             0.1111111111111111,
             "#46039f"
            ],
            [
             0.2222222222222222,
             "#7201a8"
            ],
            [
             0.3333333333333333,
             "#9c179e"
            ],
            [
             0.4444444444444444,
             "#bd3786"
            ],
            [
             0.5555555555555556,
             "#d8576b"
            ],
            [
             0.6666666666666666,
             "#ed7953"
            ],
            [
             0.7777777777777778,
             "#fb9f3a"
            ],
            [
             0.8888888888888888,
             "#fdca26"
            ],
            [
             1,
             "#f0f921"
            ]
           ],
           "sequentialminus": [
            [
             0,
             "#0d0887"
            ],
            [
             0.1111111111111111,
             "#46039f"
            ],
            [
             0.2222222222222222,
             "#7201a8"
            ],
            [
             0.3333333333333333,
             "#9c179e"
            ],
            [
             0.4444444444444444,
             "#bd3786"
            ],
            [
             0.5555555555555556,
             "#d8576b"
            ],
            [
             0.6666666666666666,
             "#ed7953"
            ],
            [
             0.7777777777777778,
             "#fb9f3a"
            ],
            [
             0.8888888888888888,
             "#fdca26"
            ],
            [
             1,
             "#f0f921"
            ]
           ]
          },
          "colorway": [
           "#636efa",
           "#EF553B",
           "#00cc96",
           "#ab63fa",
           "#FFA15A",
           "#19d3f3",
           "#FF6692",
           "#B6E880",
           "#FF97FF",
           "#FECB52"
          ],
          "font": {
           "color": "#2a3f5f"
          },
          "geo": {
           "bgcolor": "white",
           "lakecolor": "white",
           "landcolor": "#E5ECF6",
           "showlakes": true,
           "showland": true,
           "subunitcolor": "white"
          },
          "hoverlabel": {
           "align": "left"
          },
          "hovermode": "closest",
          "mapbox": {
           "style": "light"
          },
          "paper_bgcolor": "white",
          "plot_bgcolor": "#E5ECF6",
          "polar": {
           "angularaxis": {
            "gridcolor": "white",
            "linecolor": "white",
            "ticks": ""
           },
           "bgcolor": "#E5ECF6",
           "radialaxis": {
            "gridcolor": "white",
            "linecolor": "white",
            "ticks": ""
           }
          },
          "scene": {
           "xaxis": {
            "backgroundcolor": "#E5ECF6",
            "gridcolor": "white",
            "gridwidth": 2,
            "linecolor": "white",
            "showbackground": true,
            "ticks": "",
            "zerolinecolor": "white"
           },
           "yaxis": {
            "backgroundcolor": "#E5ECF6",
            "gridcolor": "white",
            "gridwidth": 2,
            "linecolor": "white",
            "showbackground": true,
            "ticks": "",
            "zerolinecolor": "white"
           },
           "zaxis": {
            "backgroundcolor": "#E5ECF6",
            "gridcolor": "white",
            "gridwidth": 2,
            "linecolor": "white",
            "showbackground": true,
            "ticks": "",
            "zerolinecolor": "white"
           }
          },
          "shapedefaults": {
           "line": {
            "color": "#2a3f5f"
           }
          },
          "ternary": {
           "aaxis": {
            "gridcolor": "white",
            "linecolor": "white",
            "ticks": ""
           },
           "baxis": {
            "gridcolor": "white",
            "linecolor": "white",
            "ticks": ""
           },
           "bgcolor": "#E5ECF6",
           "caxis": {
            "gridcolor": "white",
            "linecolor": "white",
            "ticks": ""
           }
          },
          "title": {
           "x": 0.05
          },
          "xaxis": {
           "automargin": true,
           "gridcolor": "white",
           "linecolor": "white",
           "ticks": "",
           "title": {
            "standoff": 15
           },
           "zerolinecolor": "white",
           "zerolinewidth": 2
          },
          "yaxis": {
           "automargin": true,
           "gridcolor": "white",
           "linecolor": "white",
           "ticks": "",
           "title": {
            "standoff": 15
           },
           "zerolinecolor": "white",
           "zerolinewidth": 2
          }
         }
        },
        "title": {
         "text": "Countries with Highest Covid Cases"
        },
        "xaxis": {
         "anchor": "y",
         "domain": [
          0,
          1
         ],
         "title": {
          "text": "Country"
         }
        },
        "yaxis": {
         "anchor": "x",
         "domain": [
          0,
          1
         ],
         "title": {
          "text": "Total Cases"
         }
        }
       }
      },
      "text/html": [
       "<div>                            <div id=\"bf4b15dd-28b8-41d5-a046-c41f50def908\" class=\"plotly-graph-div\" style=\"height:525px; width:100%;\"></div>            <script type=\"text/javascript\">                require([\"plotly\"], function(Plotly) {                    window.PLOTLYENV=window.PLOTLYENV || {};                                    if (document.getElementById(\"bf4b15dd-28b8-41d5-a046-c41f50def908\")) {                    Plotly.newPlot(                        \"bf4b15dd-28b8-41d5-a046-c41f50def908\",                        [{\"alignmentgroup\":\"True\",\"hovertemplate\":\"Country=%{x}<br>Total Cases=%{marker.color}<extra></extra>\",\"legendgroup\":\"\",\"marker\":{\"color\":[746014098.0,425704517.0,407771615.0,132888951.0,74882695.0,74347548.0,73717676.0,63027659.0,60543682.0,59475032.0,52421884.0,51268034.0,50752853.0,50084335.0,47155234.0,42447678.0,41431948.0,38585191.0,37738077.0,35266178.0,25280332.0,22409936.0,21632319.0,21570149.0,20902374.0,16351440.0,16202474.0,15805665.0,15192468.0,14408757.0,13194863.0,13026629.0,12422845.0,11910109.0,11858838.0,10672859.0,10649646.0,10622205.0,10595186.0,10371724.0,10247326.0,10060093.0,9266263.0,9239657.0,8191161.0,7839270.0,7659484.0,7644426.0,7552067.0,6549995.0,6545499.0,6107371.0,5474629.0,5243653.0,5239798.0,5213980.0,5126433.0,4909197.0,4900649.0,4893999.0,4876417.0,4839834.0,4632482.0,4631835.0,4421215.0,4287847.0,4236782.0,3984174.0,3586463.0,3333075.0,3277734.0,3249458.0,3030088.0,3012377.0,2573206.0,2476502.0,2265640.0,2220699.0,2200057.0,2132883.0,1985889.0,1890380.0,1817274.0,1774181.0,1724220.0,1708798.0,1663545.0,1586747.0,1458484.0,1443321.0,1421470.0,1345940.0,1314031.0,1271391.0,1195836.0,1146724.0,1129913.0,1117391.0,1071951.0,1031803.0,1023155.0,1000626.0,844040.0,799222.0,798665.0,781771.0,716514.0,681299.0,675912.0,655703.0,644209.0,593699.0,593048.0,581546.0,557355.0,547075.0,536447.0,524410.0,510578.0,491145.0,488057.0,473368.0,463888.0,448728.0,446643.0,445402.0,444238.0,431689.0,421210.0,390637.0,388775.0,370890.0,358632.0,333500.0,306564.0,304005.0,268396.0,267902.0,255964.0,253203.0,251261.0,245893.0,239884.0,237908.0,236673.0,231452.0,229521.0,228925.0,225550.0,223576.0,215110.0,205758.0,199978.0,169903.0,166917.0,160975.0,159880.0,154173.0,134994.0,122618.0,121909.0,107948.0,106383.0,98536.0,97074.0,95388.0,91526.0,69524.0,66777.0,64935.0,56893.0,52437.0,49814.0,49745.0,48026.0,45340.0,44432.0,42465.0,40026.0,39539.0,35966.0,33173.0,30140.0,28876.0,24998.0,22847.0,21511.0,19885.0,19777.0,14701.0,12619.0,7824.0,7784.0,5080.0,4742.0,4697.0,4605.0,4495.0,4470.0,4450.0,4039.0,3977.0,3246.0,2678.0,2467.0,2415.0,2383.0,614.0,11.0,0.0],\"coloraxis\":\"coloraxis\",\"pattern\":{\"shape\":\"\"}},\"name\":\"\",\"offsetgroup\":\"\",\"orientation\":\"v\",\"showlegend\":false,\"textposition\":\"auto\",\"x\":[\"United States\",\"Brazil\",\"India\",\"Russia\",\"Peru\",\"Mexico\",\"Spain\",\"South Africa\",\"Colombia\",\"United Kingdom\",\"Iran\",\"Chile\",\"Italy\",\"France\",\"Argentina\",\"Germany\",\"Turkey\",\"Saudi Arabia\",\"Pakistan\",\"Bangladesh\",\"Iraq\",\"Philippines\",\"China\",\"Indonesia\",\"Canada\",\"Qatar\",\"Israel\",\"Ukraine\",\"Belgium\",\"Ecuador\",\"Kazakhstan\",\"Netherlands\",\"Egypt\",\"Sweden\",\"Bolivia\",\"Romania\",\"Dominican Republic\",\"Kuwait\",\"Belarus\",\"Panama\",\"United Arab Emirates\",\"Oman\",\"Portugal\",\"Poland\",\"Singapore\",\"Morocco\",\"Japan\",\"Guatemala\",\"Switzerland\",\"Bahrain\",\"Honduras\",\"Nigeria\",\"Armenia\",\"Nepal\",\"Ireland\",\"Czech Republic\",\"Afghanistan\",\"Austria\",\"Ghana\",\"Algeria\",\"Ethiopia\",\"Venezuela\",\"Moldova\",\"Costa Rica\",\"Uzbekistan\",\"Kyrgyzstan\",\"Azerbaijan\",\"Serbia\",\"Puerto Rico\",\"South Korea\",\"Kenya\",\"Palestine\",\"Denmark\",\"Australia\",\"El Salvador\",\"Cameroon\",\"Paraguay\",\"Lebanon\",\"Bosnia and Herzegovina\",\"Cote d'Ivoire\",\"Norway\",\"Bulgaria\",\"Libya\",\"Malaysia\",\"Macedonia\",\"Hungary\",\"Sudan\",\"Senegal\",\"Finland\",\"Madagascar\",\"Greece\",\"Kosovo\",\"Croatia\",\"Democratic Republic of Congo\",\"Guinea\",\"Luxembourg\",\"Zambia\",\"Tajikistan\",\"Albania\",\"Gabon\",\"Haiti\",\"Tunisia\",\"Maldives\",\"Mauritania\",\"Slovakia\",\"Djibouti\",\"Jordan\",\"Namibia\",\"Montenegro\",\"Thailand\",\"Myanmar\",\"Zimbabwe\",\"Central African Republic\",\"Cuba\",\"Equatorial Guinea\",\"Slovenia\",\"Malawi\",\"Nicaragua\",\"Mozambique\",\"Somalia\",\"Lithuania\",\"Congo\",\"Cape Verde\",\"Uganda\",\"Sri Lanka\",\"Estonia\",\"Swaziland\",\"Georgia\",\"Iceland\",\"Mali\",\"Rwanda\",\"Jamaica\",\"Suriname\",\"South Sudan\",\"Guinea-Bissau\",\"Angola\",\"Sierra Leone\",\"Syria\",\"Latvia\",\"New Zealand\",\"Malta\",\"Benin\",\"Uruguay\",\"Bahamas\",\"Cyprus\",\"Burkina Faso\",\"Gambia\",\"Yemen\",\"Trinidad and Tobago\",\"Andorra\",\"Aruba\",\"Botswana\",\"Niger\",\"Togo\",\"Guyana\",\"Guam\",\"Liberia\",\"Chad\",\"San Marino\",\"Vietnam\",\"Sao Tome and Principe\",\"Lesotho\",\"Belize\",\"United States Virgin Islands\",\"Taiwan\",\"French Polynesia\",\"Tanzania\",\"Mauritius\",\"Jersey\",\"Isle of Man\",\"Faeroe Islands\",\"Comoros\",\"Guernsey\",\"Burundi\",\"Sint Maarten (Dutch part)\",\"Gibraltar\",\"Turks and Caicos Islands\",\"Mongolia\",\"Eritrea\",\"Cambodia\",\"Papua New Guinea\",\"Cayman Islands\",\"Brunei\",\"Bermuda\",\"Barbados\",\"Bhutan\",\"Monaco\",\"Liechtenstein\",\"Curacao\",\"Seychelles\",\"Antigua and Barbuda\",\"Saint Vincent and the Grenadines\",\"Northern Mariana Islands\",\"Bonaire Sint Eustatius and Saba\",\"Fiji\",\"Timor\",\"British Virgin Islands\",\"New Caledonia\",\"Grenada\",\"Saint Lucia\",\"Laos\",\"Dominica\",\"Saint Kitts and Nevis\",\"Greenland\",\"Falkland Islands\",\"Vatican\",\"Montserrat\",\"Anguilla\",\"Solomon Islands\",\"Hong Kong\"],\"xaxis\":\"x\",\"y\":[746014098.0,425704517.0,407771615.0,132888951.0,74882695.0,74347548.0,73717676.0,63027659.0,60543682.0,59475032.0,52421884.0,51268034.0,50752853.0,50084335.0,47155234.0,42447678.0,41431948.0,38585191.0,37738077.0,35266178.0,25280332.0,22409936.0,21632319.0,21570149.0,20902374.0,16351440.0,16202474.0,15805665.0,15192468.0,14408757.0,13194863.0,13026629.0,12422845.0,11910109.0,11858838.0,10672859.0,10649646.0,10622205.0,10595186.0,10371724.0,10247326.0,10060093.0,9266263.0,9239657.0,8191161.0,7839270.0,7659484.0,7644426.0,7552067.0,6549995.0,6545499.0,6107371.0,5474629.0,5243653.0,5239798.0,5213980.0,5126433.0,4909197.0,4900649.0,4893999.0,4876417.0,4839834.0,4632482.0,4631835.0,4421215.0,4287847.0,4236782.0,3984174.0,3586463.0,3333075.0,3277734.0,3249458.0,3030088.0,3012377.0,2573206.0,2476502.0,2265640.0,2220699.0,2200057.0,2132883.0,1985889.0,1890380.0,1817274.0,1774181.0,1724220.0,1708798.0,1663545.0,1586747.0,1458484.0,1443321.0,1421470.0,1345940.0,1314031.0,1271391.0,1195836.0,1146724.0,1129913.0,1117391.0,1071951.0,1031803.0,1023155.0,1000626.0,844040.0,799222.0,798665.0,781771.0,716514.0,681299.0,675912.0,655703.0,644209.0,593699.0,593048.0,581546.0,557355.0,547075.0,536447.0,524410.0,510578.0,491145.0,488057.0,473368.0,463888.0,448728.0,446643.0,445402.0,444238.0,431689.0,421210.0,390637.0,388775.0,370890.0,358632.0,333500.0,306564.0,304005.0,268396.0,267902.0,255964.0,253203.0,251261.0,245893.0,239884.0,237908.0,236673.0,231452.0,229521.0,228925.0,225550.0,223576.0,215110.0,205758.0,199978.0,169903.0,166917.0,160975.0,159880.0,154173.0,134994.0,122618.0,121909.0,107948.0,106383.0,98536.0,97074.0,95388.0,91526.0,69524.0,66777.0,64935.0,56893.0,52437.0,49814.0,49745.0,48026.0,45340.0,44432.0,42465.0,40026.0,39539.0,35966.0,33173.0,30140.0,28876.0,24998.0,22847.0,21511.0,19885.0,19777.0,14701.0,12619.0,7824.0,7784.0,5080.0,4742.0,4697.0,4605.0,4495.0,4470.0,4450.0,4039.0,3977.0,3246.0,2678.0,2467.0,2415.0,2383.0,614.0,11.0,0.0],\"yaxis\":\"y\",\"type\":\"bar\"}],                        {\"template\":{\"data\":{\"bar\":[{\"error_x\":{\"color\":\"#2a3f5f\"},\"error_y\":{\"color\":\"#2a3f5f\"},\"marker\":{\"line\":{\"color\":\"#E5ECF6\",\"width\":0.5},\"pattern\":{\"fillmode\":\"overlay\",\"size\":10,\"solidity\":0.2}},\"type\":\"bar\"}],\"barpolar\":[{\"marker\":{\"line\":{\"color\":\"#E5ECF6\",\"width\":0.5},\"pattern\":{\"fillmode\":\"overlay\",\"size\":10,\"solidity\":0.2}},\"type\":\"barpolar\"}],\"carpet\":[{\"aaxis\":{\"endlinecolor\":\"#2a3f5f\",\"gridcolor\":\"white\",\"linecolor\":\"white\",\"minorgridcolor\":\"white\",\"startlinecolor\":\"#2a3f5f\"},\"baxis\":{\"endlinecolor\":\"#2a3f5f\",\"gridcolor\":\"white\",\"linecolor\":\"white\",\"minorgridcolor\":\"white\",\"startlinecolor\":\"#2a3f5f\"},\"type\":\"carpet\"}],\"choropleth\":[{\"colorbar\":{\"outlinewidth\":0,\"ticks\":\"\"},\"type\":\"choropleth\"}],\"contour\":[{\"colorbar\":{\"outlinewidth\":0,\"ticks\":\"\"},\"colorscale\":[[0.0,\"#0d0887\"],[0.1111111111111111,\"#46039f\"],[0.2222222222222222,\"#7201a8\"],[0.3333333333333333,\"#9c179e\"],[0.4444444444444444,\"#bd3786\"],[0.5555555555555556,\"#d8576b\"],[0.6666666666666666,\"#ed7953\"],[0.7777777777777778,\"#fb9f3a\"],[0.8888888888888888,\"#fdca26\"],[1.0,\"#f0f921\"]],\"type\":\"contour\"}],\"contourcarpet\":[{\"colorbar\":{\"outlinewidth\":0,\"ticks\":\"\"},\"type\":\"contourcarpet\"}],\"heatmap\":[{\"colorbar\":{\"outlinewidth\":0,\"ticks\":\"\"},\"colorscale\":[[0.0,\"#0d0887\"],[0.1111111111111111,\"#46039f\"],[0.2222222222222222,\"#7201a8\"],[0.3333333333333333,\"#9c179e\"],[0.4444444444444444,\"#bd3786\"],[0.5555555555555556,\"#d8576b\"],[0.6666666666666666,\"#ed7953\"],[0.7777777777777778,\"#fb9f3a\"],[0.8888888888888888,\"#fdca26\"],[1.0,\"#f0f921\"]],\"type\":\"heatmap\"}],\"heatmapgl\":[{\"colorbar\":{\"outlinewidth\":0,\"ticks\":\"\"},\"colorscale\":[[0.0,\"#0d0887\"],[0.1111111111111111,\"#46039f\"],[0.2222222222222222,\"#7201a8\"],[0.3333333333333333,\"#9c179e\"],[0.4444444444444444,\"#bd3786\"],[0.5555555555555556,\"#d8576b\"],[0.6666666666666666,\"#ed7953\"],[0.7777777777777778,\"#fb9f3a\"],[0.8888888888888888,\"#fdca26\"],[1.0,\"#f0f921\"]],\"type\":\"heatmapgl\"}],\"histogram\":[{\"marker\":{\"pattern\":{\"fillmode\":\"overlay\",\"size\":10,\"solidity\":0.2}},\"type\":\"histogram\"}],\"histogram2d\":[{\"colorbar\":{\"outlinewidth\":0,\"ticks\":\"\"},\"colorscale\":[[0.0,\"#0d0887\"],[0.1111111111111111,\"#46039f\"],[0.2222222222222222,\"#7201a8\"],[0.3333333333333333,\"#9c179e\"],[0.4444444444444444,\"#bd3786\"],[0.5555555555555556,\"#d8576b\"],[0.6666666666666666,\"#ed7953\"],[0.7777777777777778,\"#fb9f3a\"],[0.8888888888888888,\"#fdca26\"],[1.0,\"#f0f921\"]],\"type\":\"histogram2d\"}],\"histogram2dcontour\":[{\"colorbar\":{\"outlinewidth\":0,\"ticks\":\"\"},\"colorscale\":[[0.0,\"#0d0887\"],[0.1111111111111111,\"#46039f\"],[0.2222222222222222,\"#7201a8\"],[0.3333333333333333,\"#9c179e\"],[0.4444444444444444,\"#bd3786\"],[0.5555555555555556,\"#d8576b\"],[0.6666666666666666,\"#ed7953\"],[0.7777777777777778,\"#fb9f3a\"],[0.8888888888888888,\"#fdca26\"],[1.0,\"#f0f921\"]],\"type\":\"histogram2dcontour\"}],\"mesh3d\":[{\"colorbar\":{\"outlinewidth\":0,\"ticks\":\"\"},\"type\":\"mesh3d\"}],\"parcoords\":[{\"line\":{\"colorbar\":{\"outlinewidth\":0,\"ticks\":\"\"}},\"type\":\"parcoords\"}],\"pie\":[{\"automargin\":true,\"type\":\"pie\"}],\"scatter\":[{\"marker\":{\"colorbar\":{\"outlinewidth\":0,\"ticks\":\"\"}},\"type\":\"scatter\"}],\"scatter3d\":[{\"line\":{\"colorbar\":{\"outlinewidth\":0,\"ticks\":\"\"}},\"marker\":{\"colorbar\":{\"outlinewidth\":0,\"ticks\":\"\"}},\"type\":\"scatter3d\"}],\"scattercarpet\":[{\"marker\":{\"colorbar\":{\"outlinewidth\":0,\"ticks\":\"\"}},\"type\":\"scattercarpet\"}],\"scattergeo\":[{\"marker\":{\"colorbar\":{\"outlinewidth\":0,\"ticks\":\"\"}},\"type\":\"scattergeo\"}],\"scattergl\":[{\"marker\":{\"colorbar\":{\"outlinewidth\":0,\"ticks\":\"\"}},\"type\":\"scattergl\"}],\"scattermapbox\":[{\"marker\":{\"colorbar\":{\"outlinewidth\":0,\"ticks\":\"\"}},\"type\":\"scattermapbox\"}],\"scatterpolar\":[{\"marker\":{\"colorbar\":{\"outlinewidth\":0,\"ticks\":\"\"}},\"type\":\"scatterpolar\"}],\"scatterpolargl\":[{\"marker\":{\"colorbar\":{\"outlinewidth\":0,\"ticks\":\"\"}},\"type\":\"scatterpolargl\"}],\"scatterternary\":[{\"marker\":{\"colorbar\":{\"outlinewidth\":0,\"ticks\":\"\"}},\"type\":\"scatterternary\"}],\"surface\":[{\"colorbar\":{\"outlinewidth\":0,\"ticks\":\"\"},\"colorscale\":[[0.0,\"#0d0887\"],[0.1111111111111111,\"#46039f\"],[0.2222222222222222,\"#7201a8\"],[0.3333333333333333,\"#9c179e\"],[0.4444444444444444,\"#bd3786\"],[0.5555555555555556,\"#d8576b\"],[0.6666666666666666,\"#ed7953\"],[0.7777777777777778,\"#fb9f3a\"],[0.8888888888888888,\"#fdca26\"],[1.0,\"#f0f921\"]],\"type\":\"surface\"}],\"table\":[{\"cells\":{\"fill\":{\"color\":\"#EBF0F8\"},\"line\":{\"color\":\"white\"}},\"header\":{\"fill\":{\"color\":\"#C8D4E3\"},\"line\":{\"color\":\"white\"}},\"type\":\"table\"}]},\"layout\":{\"annotationdefaults\":{\"arrowcolor\":\"#2a3f5f\",\"arrowhead\":0,\"arrowwidth\":1},\"autotypenumbers\":\"strict\",\"coloraxis\":{\"colorbar\":{\"outlinewidth\":0,\"ticks\":\"\"}},\"colorscale\":{\"diverging\":[[0,\"#8e0152\"],[0.1,\"#c51b7d\"],[0.2,\"#de77ae\"],[0.3,\"#f1b6da\"],[0.4,\"#fde0ef\"],[0.5,\"#f7f7f7\"],[0.6,\"#e6f5d0\"],[0.7,\"#b8e186\"],[0.8,\"#7fbc41\"],[0.9,\"#4d9221\"],[1,\"#276419\"]],\"sequential\":[[0.0,\"#0d0887\"],[0.1111111111111111,\"#46039f\"],[0.2222222222222222,\"#7201a8\"],[0.3333333333333333,\"#9c179e\"],[0.4444444444444444,\"#bd3786\"],[0.5555555555555556,\"#d8576b\"],[0.6666666666666666,\"#ed7953\"],[0.7777777777777778,\"#fb9f3a\"],[0.8888888888888888,\"#fdca26\"],[1.0,\"#f0f921\"]],\"sequentialminus\":[[0.0,\"#0d0887\"],[0.1111111111111111,\"#46039f\"],[0.2222222222222222,\"#7201a8\"],[0.3333333333333333,\"#9c179e\"],[0.4444444444444444,\"#bd3786\"],[0.5555555555555556,\"#d8576b\"],[0.6666666666666666,\"#ed7953\"],[0.7777777777777778,\"#fb9f3a\"],[0.8888888888888888,\"#fdca26\"],[1.0,\"#f0f921\"]]},\"colorway\":[\"#636efa\",\"#EF553B\",\"#00cc96\",\"#ab63fa\",\"#FFA15A\",\"#19d3f3\",\"#FF6692\",\"#B6E880\",\"#FF97FF\",\"#FECB52\"],\"font\":{\"color\":\"#2a3f5f\"},\"geo\":{\"bgcolor\":\"white\",\"lakecolor\":\"white\",\"landcolor\":\"#E5ECF6\",\"showlakes\":true,\"showland\":true,\"subunitcolor\":\"white\"},\"hoverlabel\":{\"align\":\"left\"},\"hovermode\":\"closest\",\"mapbox\":{\"style\":\"light\"},\"paper_bgcolor\":\"white\",\"plot_bgcolor\":\"#E5ECF6\",\"polar\":{\"angularaxis\":{\"gridcolor\":\"white\",\"linecolor\":\"white\",\"ticks\":\"\"},\"bgcolor\":\"#E5ECF6\",\"radialaxis\":{\"gridcolor\":\"white\",\"linecolor\":\"white\",\"ticks\":\"\"}},\"scene\":{\"xaxis\":{\"backgroundcolor\":\"#E5ECF6\",\"gridcolor\":\"white\",\"gridwidth\":2,\"linecolor\":\"white\",\"showbackground\":true,\"ticks\":\"\",\"zerolinecolor\":\"white\"},\"yaxis\":{\"backgroundcolor\":\"#E5ECF6\",\"gridcolor\":\"white\",\"gridwidth\":2,\"linecolor\":\"white\",\"showbackground\":true,\"ticks\":\"\",\"zerolinecolor\":\"white\"},\"zaxis\":{\"backgroundcolor\":\"#E5ECF6\",\"gridcolor\":\"white\",\"gridwidth\":2,\"linecolor\":\"white\",\"showbackground\":true,\"ticks\":\"\",\"zerolinecolor\":\"white\"}},\"shapedefaults\":{\"line\":{\"color\":\"#2a3f5f\"}},\"ternary\":{\"aaxis\":{\"gridcolor\":\"white\",\"linecolor\":\"white\",\"ticks\":\"\"},\"baxis\":{\"gridcolor\":\"white\",\"linecolor\":\"white\",\"ticks\":\"\"},\"bgcolor\":\"#E5ECF6\",\"caxis\":{\"gridcolor\":\"white\",\"linecolor\":\"white\",\"ticks\":\"\"}},\"title\":{\"x\":0.05},\"xaxis\":{\"automargin\":true,\"gridcolor\":\"white\",\"linecolor\":\"white\",\"ticks\":\"\",\"title\":{\"standoff\":15},\"zerolinecolor\":\"white\",\"zerolinewidth\":2},\"yaxis\":{\"automargin\":true,\"gridcolor\":\"white\",\"linecolor\":\"white\",\"ticks\":\"\",\"title\":{\"standoff\":15},\"zerolinecolor\":\"white\",\"zerolinewidth\":2}}},\"xaxis\":{\"anchor\":\"y\",\"domain\":[0.0,1.0],\"title\":{\"text\":\"Country\"}},\"yaxis\":{\"anchor\":\"x\",\"domain\":[0.0,1.0],\"title\":{\"text\":\"Total Cases\"}},\"coloraxis\":{\"colorbar\":{\"title\":{\"text\":\"Total Cases\"}},\"colorscale\":[[0.0,\"#0d0887\"],[0.1111111111111111,\"#46039f\"],[0.2222222222222222,\"#7201a8\"],[0.3333333333333333,\"#9c179e\"],[0.4444444444444444,\"#bd3786\"],[0.5555555555555556,\"#d8576b\"],[0.6666666666666666,\"#ed7953\"],[0.7777777777777778,\"#fb9f3a\"],[0.8888888888888888,\"#fdca26\"],[1.0,\"#f0f921\"]]},\"legend\":{\"tracegroupgap\":0},\"title\":{\"text\":\"Countries with Highest Covid Cases\"},\"barmode\":\"relative\"},                        {\"responsive\": true}                    ).then(function(){\n",
       "                            \n",
       "var gd = document.getElementById('bf4b15dd-28b8-41d5-a046-c41f50def908');\n",
       "var x = new MutationObserver(function (mutations, observer) {{\n",
       "        var display = window.getComputedStyle(gd).display;\n",
       "        if (!display || display === 'none') {{\n",
       "            console.log([gd, 'removed!']);\n",
       "            Plotly.purge(gd);\n",
       "            observer.disconnect();\n",
       "        }}\n",
       "}});\n",
       "\n",
       "// Listen for the removal of the full notebook cells\n",
       "var notebookContainer = gd.closest('#notebook-container');\n",
       "if (notebookContainer) {{\n",
       "    x.observe(notebookContainer, {childList: true});\n",
       "}}\n",
       "\n",
       "// Listen for the clearing of the current output cell\n",
       "var outputEl = gd.closest('.output');\n",
       "if (outputEl) {{\n",
       "    x.observe(outputEl, {childList: true});\n",
       "}}\n",
       "\n",
       "                        })                };                });            </script>        </div>"
      ]
     },
     "metadata": {},
     "output_type": "display_data"
    }
   ],
   "source": [
    "first"
   ]
  },
  {
   "cell_type": "code",
   "execution_count": 28,
   "id": "3f5252ae",
   "metadata": {},
   "outputs": [],
   "source": [
    "second= px.bar(deta, x= 'Country', y= 'Total Deaths', color= 'Total Deaths', title= 'Countries with The Most Deaths')"
   ]
  },
  {
   "cell_type": "code",
   "execution_count": 29,
   "id": "1071bbf6",
   "metadata": {
    "scrolled": true
   },
   "outputs": [
    {
     "data": {
      "application/vnd.plotly.v1+json": {
       "config": {
        "plotlyServerURL": "https://plot.ly"
       },
       "data": [
        {
         "alignmentgroup": "True",
         "hovertemplate": "Country=%{x}<br>Total Deaths=%{marker.color}<extra></extra>",
         "legendgroup": "",
         "marker": {
          "color": [
           26477574,
           14340567,
           7247327,
           2131571,
           3020038,
           7295850,
           5510624,
           1357682,
           1936134,
           7249573,
           2914070,
           1283880,
           6664225,
           5633444,
           1077426,
           1640691,
           1049757,
           442507,
           789557,
           484534,
           744253,
           448665,
           1066939,
           916111,
           1455549,
           23820,
           126278,
           343334,
           1798461,
           1083749,
           161480,
           1142410,
           644416,
           941063,
           578559,
           464952,
           209024,
           69104,
           88409,
           222435,
           58035,
           73391,
           302612,
           304001,
           4691,
           142270,
           194918,
           281588,
           320693,
           22413,
           200844,
           125473,
           102039,
           27737,
           310201,
           79880,
           165875,
           134945,
           29143,
           206429,
           77686,
           40840,
           129946,
           50352,
           31903,
           114922,
           59495,
           87503,
           54940,
           63333,
           59485,
           21522,
           113280,
           65029,
           71957,
           56606,
           42850,
           22983,
           70578,
           14220,
           47158,
           72850,
           29730,
           24012,
           74066,
           110142,
           102825,
           30320,
           58377,
           17744,
           44805,
           47571,
           28757,
           32040,
           7283,
           21907,
           26475,
           9730,
           31056,
           6877,
           23891,
           19025,
           3054,
           19810,
           6055,
           8006,
           5653,
           6634,
           11356,
           11162,
           13973,
           15984,
           7108,
           16774,
           8947,
           22165,
           15480,
           16410,
           3396,
           15001,
           14345,
           9298,
           4749,
           3748,
           2108,
           11802,
           8179,
           4013,
           1968,
           18813,
           1744,
           5653,
           6961,
           6063,
           4199,
           11820,
           10036,
           12098,
           5376,
           4145,
           2409,
           4374,
           6083,
           5998,
           3735,
           10248,
           7201,
           64304,
           4519,
           9850,
           1624,
           895,
           11676,
           4197,
           5783,
           2715,
           10087,
           12212,
           8596,
           2318,
           2198,
           2680,
           1613,
           1833,
           1423,
           260,
           3733,
           1988,
           5527,
           4310,
           0,
           920,
           2450,
           188,
           3146,
           0,
           476,
           0,
           0,
           0,
           417,
           213,
           475,
           1631,
           1321,
           0,
           192,
           198,
           207,
           0,
           568,
           0,
           396,
           48,
           132,
           0,
           183,
           0,
           0,
           0,
           0,
           0,
           0,
           0,
           0,
           0,
           177,
           0,
           0,
           0
          ],
          "coloraxis": "coloraxis",
          "pattern": {
           "shape": ""
          }
         },
         "name": "",
         "offsetgroup": "",
         "orientation": "v",
         "showlegend": false,
         "textposition": "auto",
         "type": "bar",
         "x": [
          "United States",
          "Brazil",
          "India",
          "Russia",
          "Peru",
          "Mexico",
          "Spain",
          "South Africa",
          "Colombia",
          "United Kingdom",
          "Iran",
          "Chile",
          "Italy",
          "France",
          "Argentina",
          "Germany",
          "Turkey",
          "Saudi Arabia",
          "Pakistan",
          "Bangladesh",
          "Iraq",
          "Philippines",
          "China",
          "Indonesia",
          "Canada",
          "Qatar",
          "Israel",
          "Ukraine",
          "Belgium",
          "Ecuador",
          "Kazakhstan",
          "Netherlands",
          "Egypt",
          "Sweden",
          "Bolivia",
          "Romania",
          "Dominican Republic",
          "Kuwait",
          "Belarus",
          "Panama",
          "United Arab Emirates",
          "Oman",
          "Portugal",
          "Poland",
          "Singapore",
          "Morocco",
          "Japan",
          "Guatemala",
          "Switzerland",
          "Bahrain",
          "Honduras",
          "Nigeria",
          "Armenia",
          "Nepal",
          "Ireland",
          "Czech Republic",
          "Afghanistan",
          "Austria",
          "Ghana",
          "Algeria",
          "Ethiopia",
          "Venezuela",
          "Moldova",
          "Costa Rica",
          "Uzbekistan",
          "Kyrgyzstan",
          "Azerbaijan",
          "Serbia",
          "Puerto Rico",
          "South Korea",
          "Kenya",
          "Palestine",
          "Denmark",
          "Australia",
          "El Salvador",
          "Cameroon",
          "Paraguay",
          "Lebanon",
          "Bosnia and Herzegovina",
          "Cote d'Ivoire",
          "Norway",
          "Bulgaria",
          "Libya",
          "Malaysia",
          "Macedonia",
          "Hungary",
          "Sudan",
          "Senegal",
          "Finland",
          "Madagascar",
          "Greece",
          "Kosovo",
          "Croatia",
          "Democratic Republic of Congo",
          "Guinea",
          "Luxembourg",
          "Zambia",
          "Tajikistan",
          "Albania",
          "Gabon",
          "Haiti",
          "Tunisia",
          "Maldives",
          "Mauritania",
          "Slovakia",
          "Djibouti",
          "Jordan",
          "Namibia",
          "Montenegro",
          "Thailand",
          "Myanmar",
          "Zimbabwe",
          "Central African Republic",
          "Cuba",
          "Equatorial Guinea",
          "Slovenia",
          "Malawi",
          "Nicaragua",
          "Mozambique",
          "Somalia",
          "Lithuania",
          "Congo",
          "Cape Verde",
          "Uganda",
          "Sri Lanka",
          "Estonia",
          "Swaziland",
          "Georgia",
          "Iceland",
          "Mali",
          "Rwanda",
          "Jamaica",
          "Suriname",
          "South Sudan",
          "Guinea-Bissau",
          "Angola",
          "Sierra Leone",
          "Syria",
          "Latvia",
          "New Zealand",
          "Malta",
          "Benin",
          "Uruguay",
          "Bahamas",
          "Cyprus",
          "Burkina Faso",
          "Gambia",
          "Yemen",
          "Trinidad and Tobago",
          "Andorra",
          "Aruba",
          "Botswana",
          "Niger",
          "Togo",
          "Guyana",
          "Guam",
          "Liberia",
          "Chad",
          "San Marino",
          "Vietnam",
          "Sao Tome and Principe",
          "Lesotho",
          "Belize",
          "United States Virgin Islands",
          "Taiwan",
          "French Polynesia",
          "Tanzania",
          "Mauritius",
          "Jersey",
          "Isle of Man",
          "Faeroe Islands",
          "Comoros",
          "Guernsey",
          "Burundi",
          "Sint Maarten (Dutch part)",
          "Gibraltar",
          "Turks and Caicos Islands",
          "Mongolia",
          "Eritrea",
          "Cambodia",
          "Papua New Guinea",
          "Cayman Islands",
          "Brunei",
          "Bermuda",
          "Barbados",
          "Bhutan",
          "Monaco",
          "Liechtenstein",
          "Curacao",
          "Seychelles",
          "Antigua and Barbuda",
          "Saint Vincent and the Grenadines",
          "Northern Mariana Islands",
          "Bonaire Sint Eustatius and Saba",
          "Fiji",
          "Timor",
          "British Virgin Islands",
          "New Caledonia",
          "Grenada",
          "Saint Lucia",
          "Laos",
          "Dominica",
          "Saint Kitts and Nevis",
          "Greenland",
          "Falkland Islands",
          "Vatican",
          "Montserrat",
          "Anguilla",
          "Solomon Islands",
          "Hong Kong"
         ],
         "xaxis": "x",
         "y": [
          26477574,
          14340567,
          7247327,
          2131571,
          3020038,
          7295850,
          5510624,
          1357682,
          1936134,
          7249573,
          2914070,
          1283880,
          6664225,
          5633444,
          1077426,
          1640691,
          1049757,
          442507,
          789557,
          484534,
          744253,
          448665,
          1066939,
          916111,
          1455549,
          23820,
          126278,
          343334,
          1798461,
          1083749,
          161480,
          1142410,
          644416,
          941063,
          578559,
          464952,
          209024,
          69104,
          88409,
          222435,
          58035,
          73391,
          302612,
          304001,
          4691,
          142270,
          194918,
          281588,
          320693,
          22413,
          200844,
          125473,
          102039,
          27737,
          310201,
          79880,
          165875,
          134945,
          29143,
          206429,
          77686,
          40840,
          129946,
          50352,
          31903,
          114922,
          59495,
          87503,
          54940,
          63333,
          59485,
          21522,
          113280,
          65029,
          71957,
          56606,
          42850,
          22983,
          70578,
          14220,
          47158,
          72850,
          29730,
          24012,
          74066,
          110142,
          102825,
          30320,
          58377,
          17744,
          44805,
          47571,
          28757,
          32040,
          7283,
          21907,
          26475,
          9730,
          31056,
          6877,
          23891,
          19025,
          3054,
          19810,
          6055,
          8006,
          5653,
          6634,
          11356,
          11162,
          13973,
          15984,
          7108,
          16774,
          8947,
          22165,
          15480,
          16410,
          3396,
          15001,
          14345,
          9298,
          4749,
          3748,
          2108,
          11802,
          8179,
          4013,
          1968,
          18813,
          1744,
          5653,
          6961,
          6063,
          4199,
          11820,
          10036,
          12098,
          5376,
          4145,
          2409,
          4374,
          6083,
          5998,
          3735,
          10248,
          7201,
          64304,
          4519,
          9850,
          1624,
          895,
          11676,
          4197,
          5783,
          2715,
          10087,
          12212,
          8596,
          2318,
          2198,
          2680,
          1613,
          1833,
          1423,
          260,
          3733,
          1988,
          5527,
          4310,
          0,
          920,
          2450,
          188,
          3146,
          0,
          476,
          0,
          0,
          0,
          417,
          213,
          475,
          1631,
          1321,
          0,
          192,
          198,
          207,
          0,
          568,
          0,
          396,
          48,
          132,
          0,
          183,
          0,
          0,
          0,
          0,
          0,
          0,
          0,
          0,
          0,
          177,
          0,
          0,
          0
         ],
         "yaxis": "y"
        }
       ],
       "layout": {
        "barmode": "relative",
        "coloraxis": {
         "colorbar": {
          "title": {
           "text": "Total Deaths"
          }
         },
         "colorscale": [
          [
           0,
           "#0d0887"
          ],
          [
           0.1111111111111111,
           "#46039f"
          ],
          [
           0.2222222222222222,
           "#7201a8"
          ],
          [
           0.3333333333333333,
           "#9c179e"
          ],
          [
           0.4444444444444444,
           "#bd3786"
          ],
          [
           0.5555555555555556,
           "#d8576b"
          ],
          [
           0.6666666666666666,
           "#ed7953"
          ],
          [
           0.7777777777777778,
           "#fb9f3a"
          ],
          [
           0.8888888888888888,
           "#fdca26"
          ],
          [
           1,
           "#f0f921"
          ]
         ]
        },
        "legend": {
         "tracegroupgap": 0
        },
        "template": {
         "data": {
          "bar": [
           {
            "error_x": {
             "color": "#2a3f5f"
            },
            "error_y": {
             "color": "#2a3f5f"
            },
            "marker": {
             "line": {
              "color": "#E5ECF6",
              "width": 0.5
             },
             "pattern": {
              "fillmode": "overlay",
              "size": 10,
              "solidity": 0.2
             }
            },
            "type": "bar"
           }
          ],
          "barpolar": [
           {
            "marker": {
             "line": {
              "color": "#E5ECF6",
              "width": 0.5
             },
             "pattern": {
              "fillmode": "overlay",
              "size": 10,
              "solidity": 0.2
             }
            },
            "type": "barpolar"
           }
          ],
          "carpet": [
           {
            "aaxis": {
             "endlinecolor": "#2a3f5f",
             "gridcolor": "white",
             "linecolor": "white",
             "minorgridcolor": "white",
             "startlinecolor": "#2a3f5f"
            },
            "baxis": {
             "endlinecolor": "#2a3f5f",
             "gridcolor": "white",
             "linecolor": "white",
             "minorgridcolor": "white",
             "startlinecolor": "#2a3f5f"
            },
            "type": "carpet"
           }
          ],
          "choropleth": [
           {
            "colorbar": {
             "outlinewidth": 0,
             "ticks": ""
            },
            "type": "choropleth"
           }
          ],
          "contour": [
           {
            "colorbar": {
             "outlinewidth": 0,
             "ticks": ""
            },
            "colorscale": [
             [
              0,
              "#0d0887"
             ],
             [
              0.1111111111111111,
              "#46039f"
             ],
             [
              0.2222222222222222,
              "#7201a8"
             ],
             [
              0.3333333333333333,
              "#9c179e"
             ],
             [
              0.4444444444444444,
              "#bd3786"
             ],
             [
              0.5555555555555556,
              "#d8576b"
             ],
             [
              0.6666666666666666,
              "#ed7953"
             ],
             [
              0.7777777777777778,
              "#fb9f3a"
             ],
             [
              0.8888888888888888,
              "#fdca26"
             ],
             [
              1,
              "#f0f921"
             ]
            ],
            "type": "contour"
           }
          ],
          "contourcarpet": [
           {
            "colorbar": {
             "outlinewidth": 0,
             "ticks": ""
            },
            "type": "contourcarpet"
           }
          ],
          "heatmap": [
           {
            "colorbar": {
             "outlinewidth": 0,
             "ticks": ""
            },
            "colorscale": [
             [
              0,
              "#0d0887"
             ],
             [
              0.1111111111111111,
              "#46039f"
             ],
             [
              0.2222222222222222,
              "#7201a8"
             ],
             [
              0.3333333333333333,
              "#9c179e"
             ],
             [
              0.4444444444444444,
              "#bd3786"
             ],
             [
              0.5555555555555556,
              "#d8576b"
             ],
             [
              0.6666666666666666,
              "#ed7953"
             ],
             [
              0.7777777777777778,
              "#fb9f3a"
             ],
             [
              0.8888888888888888,
              "#fdca26"
             ],
             [
              1,
              "#f0f921"
             ]
            ],
            "type": "heatmap"
           }
          ],
          "heatmapgl": [
           {
            "colorbar": {
             "outlinewidth": 0,
             "ticks": ""
            },
            "colorscale": [
             [
              0,
              "#0d0887"
             ],
             [
              0.1111111111111111,
              "#46039f"
             ],
             [
              0.2222222222222222,
              "#7201a8"
             ],
             [
              0.3333333333333333,
              "#9c179e"
             ],
             [
              0.4444444444444444,
              "#bd3786"
             ],
             [
              0.5555555555555556,
              "#d8576b"
             ],
             [
              0.6666666666666666,
              "#ed7953"
             ],
             [
              0.7777777777777778,
              "#fb9f3a"
             ],
             [
              0.8888888888888888,
              "#fdca26"
             ],
             [
              1,
              "#f0f921"
             ]
            ],
            "type": "heatmapgl"
           }
          ],
          "histogram": [
           {
            "marker": {
             "pattern": {
              "fillmode": "overlay",
              "size": 10,
              "solidity": 0.2
             }
            },
            "type": "histogram"
           }
          ],
          "histogram2d": [
           {
            "colorbar": {
             "outlinewidth": 0,
             "ticks": ""
            },
            "colorscale": [
             [
              0,
              "#0d0887"
             ],
             [
              0.1111111111111111,
              "#46039f"
             ],
             [
              0.2222222222222222,
              "#7201a8"
             ],
             [
              0.3333333333333333,
              "#9c179e"
             ],
             [
              0.4444444444444444,
              "#bd3786"
             ],
             [
              0.5555555555555556,
              "#d8576b"
             ],
             [
              0.6666666666666666,
              "#ed7953"
             ],
             [
              0.7777777777777778,
              "#fb9f3a"
             ],
             [
              0.8888888888888888,
              "#fdca26"
             ],
             [
              1,
              "#f0f921"
             ]
            ],
            "type": "histogram2d"
           }
          ],
          "histogram2dcontour": [
           {
            "colorbar": {
             "outlinewidth": 0,
             "ticks": ""
            },
            "colorscale": [
             [
              0,
              "#0d0887"
             ],
             [
              0.1111111111111111,
              "#46039f"
             ],
             [
              0.2222222222222222,
              "#7201a8"
             ],
             [
              0.3333333333333333,
              "#9c179e"
             ],
             [
              0.4444444444444444,
              "#bd3786"
             ],
             [
              0.5555555555555556,
              "#d8576b"
             ],
             [
              0.6666666666666666,
              "#ed7953"
             ],
             [
              0.7777777777777778,
              "#fb9f3a"
             ],
             [
              0.8888888888888888,
              "#fdca26"
             ],
             [
              1,
              "#f0f921"
             ]
            ],
            "type": "histogram2dcontour"
           }
          ],
          "mesh3d": [
           {
            "colorbar": {
             "outlinewidth": 0,
             "ticks": ""
            },
            "type": "mesh3d"
           }
          ],
          "parcoords": [
           {
            "line": {
             "colorbar": {
              "outlinewidth": 0,
              "ticks": ""
             }
            },
            "type": "parcoords"
           }
          ],
          "pie": [
           {
            "automargin": true,
            "type": "pie"
           }
          ],
          "scatter": [
           {
            "marker": {
             "colorbar": {
              "outlinewidth": 0,
              "ticks": ""
             }
            },
            "type": "scatter"
           }
          ],
          "scatter3d": [
           {
            "line": {
             "colorbar": {
              "outlinewidth": 0,
              "ticks": ""
             }
            },
            "marker": {
             "colorbar": {
              "outlinewidth": 0,
              "ticks": ""
             }
            },
            "type": "scatter3d"
           }
          ],
          "scattercarpet": [
           {
            "marker": {
             "colorbar": {
              "outlinewidth": 0,
              "ticks": ""
             }
            },
            "type": "scattercarpet"
           }
          ],
          "scattergeo": [
           {
            "marker": {
             "colorbar": {
              "outlinewidth": 0,
              "ticks": ""
             }
            },
            "type": "scattergeo"
           }
          ],
          "scattergl": [
           {
            "marker": {
             "colorbar": {
              "outlinewidth": 0,
              "ticks": ""
             }
            },
            "type": "scattergl"
           }
          ],
          "scattermapbox": [
           {
            "marker": {
             "colorbar": {
              "outlinewidth": 0,
              "ticks": ""
             }
            },
            "type": "scattermapbox"
           }
          ],
          "scatterpolar": [
           {
            "marker": {
             "colorbar": {
              "outlinewidth": 0,
              "ticks": ""
             }
            },
            "type": "scatterpolar"
           }
          ],
          "scatterpolargl": [
           {
            "marker": {
             "colorbar": {
              "outlinewidth": 0,
              "ticks": ""
             }
            },
            "type": "scatterpolargl"
           }
          ],
          "scatterternary": [
           {
            "marker": {
             "colorbar": {
              "outlinewidth": 0,
              "ticks": ""
             }
            },
            "type": "scatterternary"
           }
          ],
          "surface": [
           {
            "colorbar": {
             "outlinewidth": 0,
             "ticks": ""
            },
            "colorscale": [
             [
              0,
              "#0d0887"
             ],
             [
              0.1111111111111111,
              "#46039f"
             ],
             [
              0.2222222222222222,
              "#7201a8"
             ],
             [
              0.3333333333333333,
              "#9c179e"
             ],
             [
              0.4444444444444444,
              "#bd3786"
             ],
             [
              0.5555555555555556,
              "#d8576b"
             ],
             [
              0.6666666666666666,
              "#ed7953"
             ],
             [
              0.7777777777777778,
              "#fb9f3a"
             ],
             [
              0.8888888888888888,
              "#fdca26"
             ],
             [
              1,
              "#f0f921"
             ]
            ],
            "type": "surface"
           }
          ],
          "table": [
           {
            "cells": {
             "fill": {
              "color": "#EBF0F8"
             },
             "line": {
              "color": "white"
             }
            },
            "header": {
             "fill": {
              "color": "#C8D4E3"
             },
             "line": {
              "color": "white"
             }
            },
            "type": "table"
           }
          ]
         },
         "layout": {
          "annotationdefaults": {
           "arrowcolor": "#2a3f5f",
           "arrowhead": 0,
           "arrowwidth": 1
          },
          "autotypenumbers": "strict",
          "coloraxis": {
           "colorbar": {
            "outlinewidth": 0,
            "ticks": ""
           }
          },
          "colorscale": {
           "diverging": [
            [
             0,
             "#8e0152"
            ],
            [
             0.1,
             "#c51b7d"
            ],
            [
             0.2,
             "#de77ae"
            ],
            [
             0.3,
             "#f1b6da"
            ],
            [
             0.4,
             "#fde0ef"
            ],
            [
             0.5,
             "#f7f7f7"
            ],
            [
             0.6,
             "#e6f5d0"
            ],
            [
             0.7,
             "#b8e186"
            ],
            [
             0.8,
             "#7fbc41"
            ],
            [
             0.9,
             "#4d9221"
            ],
            [
             1,
             "#276419"
            ]
           ],
           "sequential": [
            [
             0,
             "#0d0887"
            ],
            [
             0.1111111111111111,
             "#46039f"
            ],
            [
             0.2222222222222222,
             "#7201a8"
            ],
            [
             0.3333333333333333,
             "#9c179e"
            ],
            [
             0.4444444444444444,
             "#bd3786"
            ],
            [
             0.5555555555555556,
             "#d8576b"
            ],
            [
             0.6666666666666666,
             "#ed7953"
            ],
            [
             0.7777777777777778,
             "#fb9f3a"
            ],
            [
             0.8888888888888888,
             "#fdca26"
            ],
            [
             1,
             "#f0f921"
            ]
           ],
           "sequentialminus": [
            [
             0,
             "#0d0887"
            ],
            [
             0.1111111111111111,
             "#46039f"
            ],
            [
             0.2222222222222222,
             "#7201a8"
            ],
            [
             0.3333333333333333,
             "#9c179e"
            ],
            [
             0.4444444444444444,
             "#bd3786"
            ],
            [
             0.5555555555555556,
             "#d8576b"
            ],
            [
             0.6666666666666666,
             "#ed7953"
            ],
            [
             0.7777777777777778,
             "#fb9f3a"
            ],
            [
             0.8888888888888888,
             "#fdca26"
            ],
            [
             1,
             "#f0f921"
            ]
           ]
          },
          "colorway": [
           "#636efa",
           "#EF553B",
           "#00cc96",
           "#ab63fa",
           "#FFA15A",
           "#19d3f3",
           "#FF6692",
           "#B6E880",
           "#FF97FF",
           "#FECB52"
          ],
          "font": {
           "color": "#2a3f5f"
          },
          "geo": {
           "bgcolor": "white",
           "lakecolor": "white",
           "landcolor": "#E5ECF6",
           "showlakes": true,
           "showland": true,
           "subunitcolor": "white"
          },
          "hoverlabel": {
           "align": "left"
          },
          "hovermode": "closest",
          "mapbox": {
           "style": "light"
          },
          "paper_bgcolor": "white",
          "plot_bgcolor": "#E5ECF6",
          "polar": {
           "angularaxis": {
            "gridcolor": "white",
            "linecolor": "white",
            "ticks": ""
           },
           "bgcolor": "#E5ECF6",
           "radialaxis": {
            "gridcolor": "white",
            "linecolor": "white",
            "ticks": ""
           }
          },
          "scene": {
           "xaxis": {
            "backgroundcolor": "#E5ECF6",
            "gridcolor": "white",
            "gridwidth": 2,
            "linecolor": "white",
            "showbackground": true,
            "ticks": "",
            "zerolinecolor": "white"
           },
           "yaxis": {
            "backgroundcolor": "#E5ECF6",
            "gridcolor": "white",
            "gridwidth": 2,
            "linecolor": "white",
            "showbackground": true,
            "ticks": "",
            "zerolinecolor": "white"
           },
           "zaxis": {
            "backgroundcolor": "#E5ECF6",
            "gridcolor": "white",
            "gridwidth": 2,
            "linecolor": "white",
            "showbackground": true,
            "ticks": "",
            "zerolinecolor": "white"
           }
          },
          "shapedefaults": {
           "line": {
            "color": "#2a3f5f"
           }
          },
          "ternary": {
           "aaxis": {
            "gridcolor": "white",
            "linecolor": "white",
            "ticks": ""
           },
           "baxis": {
            "gridcolor": "white",
            "linecolor": "white",
            "ticks": ""
           },
           "bgcolor": "#E5ECF6",
           "caxis": {
            "gridcolor": "white",
            "linecolor": "white",
            "ticks": ""
           }
          },
          "title": {
           "x": 0.05
          },
          "xaxis": {
           "automargin": true,
           "gridcolor": "white",
           "linecolor": "white",
           "ticks": "",
           "title": {
            "standoff": 15
           },
           "zerolinecolor": "white",
           "zerolinewidth": 2
          },
          "yaxis": {
           "automargin": true,
           "gridcolor": "white",
           "linecolor": "white",
           "ticks": "",
           "title": {
            "standoff": 15
           },
           "zerolinecolor": "white",
           "zerolinewidth": 2
          }
         }
        },
        "title": {
         "text": "Countries with The Most Deaths"
        },
        "xaxis": {
         "anchor": "y",
         "domain": [
          0,
          1
         ],
         "title": {
          "text": "Country"
         }
        },
        "yaxis": {
         "anchor": "x",
         "domain": [
          0,
          1
         ],
         "title": {
          "text": "Total Deaths"
         }
        }
       }
      },
      "text/html": [
       "<div>                            <div id=\"b46592fb-0d95-4b19-924a-6e5f4970512b\" class=\"plotly-graph-div\" style=\"height:525px; width:100%;\"></div>            <script type=\"text/javascript\">                require([\"plotly\"], function(Plotly) {                    window.PLOTLYENV=window.PLOTLYENV || {};                                    if (document.getElementById(\"b46592fb-0d95-4b19-924a-6e5f4970512b\")) {                    Plotly.newPlot(                        \"b46592fb-0d95-4b19-924a-6e5f4970512b\",                        [{\"alignmentgroup\":\"True\",\"hovertemplate\":\"Country=%{x}<br>Total Deaths=%{marker.color}<extra></extra>\",\"legendgroup\":\"\",\"marker\":{\"color\":[26477574.0,14340567.0,7247327.0,2131571.0,3020038.0,7295850.0,5510624.0,1357682.0,1936134.0,7249573.0,2914070.0,1283880.0,6664225.0,5633444.0,1077426.0,1640691.0,1049757.0,442507.0,789557.0,484534.0,744253.0,448665.0,1066939.0,916111.0,1455549.0,23820.0,126278.0,343334.0,1798461.0,1083749.0,161480.0,1142410.0,644416.0,941063.0,578559.0,464952.0,209024.0,69104.0,88409.0,222435.0,58035.0,73391.0,302612.0,304001.0,4691.0,142270.0,194918.0,281588.0,320693.0,22413.0,200844.0,125473.0,102039.0,27737.0,310201.0,79880.0,165875.0,134945.0,29143.0,206429.0,77686.0,40840.0,129946.0,50352.0,31903.0,114922.0,59495.0,87503.0,54940.0,63333.0,59485.0,21522.0,113280.0,65029.0,71957.0,56606.0,42850.0,22983.0,70578.0,14220.0,47158.0,72850.0,29730.0,24012.0,74066.0,110142.0,102825.0,30320.0,58377.0,17744.0,44805.0,47571.0,28757.0,32040.0,7283.0,21907.0,26475.0,9730.0,31056.0,6877.0,23891.0,19025.0,3054.0,19810.0,6055.0,8006.0,5653.0,6634.0,11356.0,11162.0,13973.0,15984.0,7108.0,16774.0,8947.0,22165.0,15480.0,16410.0,3396.0,15001.0,14345.0,9298.0,4749.0,3748.0,2108.0,11802.0,8179.0,4013.0,1968.0,18813.0,1744.0,5653.0,6961.0,6063.0,4199.0,11820.0,10036.0,12098.0,5376.0,4145.0,2409.0,4374.0,6083.0,5998.0,3735.0,10248.0,7201.0,64304.0,4519.0,9850.0,1624.0,895.0,11676.0,4197.0,5783.0,2715.0,10087.0,12212.0,8596.0,2318.0,2198.0,2680.0,1613.0,1833.0,1423.0,260.0,3733.0,1988.0,5527.0,4310.0,0.0,920.0,2450.0,188.0,3146.0,0.0,476.0,0.0,0.0,0.0,417.0,213.0,475.0,1631.0,1321.0,0.0,192.0,198.0,207.0,0.0,568.0,0.0,396.0,48.0,132.0,0.0,183.0,0.0,0.0,0.0,0.0,0.0,0.0,0.0,0.0,0.0,177.0,0.0,0.0,0.0],\"coloraxis\":\"coloraxis\",\"pattern\":{\"shape\":\"\"}},\"name\":\"\",\"offsetgroup\":\"\",\"orientation\":\"v\",\"showlegend\":false,\"textposition\":\"auto\",\"x\":[\"United States\",\"Brazil\",\"India\",\"Russia\",\"Peru\",\"Mexico\",\"Spain\",\"South Africa\",\"Colombia\",\"United Kingdom\",\"Iran\",\"Chile\",\"Italy\",\"France\",\"Argentina\",\"Germany\",\"Turkey\",\"Saudi Arabia\",\"Pakistan\",\"Bangladesh\",\"Iraq\",\"Philippines\",\"China\",\"Indonesia\",\"Canada\",\"Qatar\",\"Israel\",\"Ukraine\",\"Belgium\",\"Ecuador\",\"Kazakhstan\",\"Netherlands\",\"Egypt\",\"Sweden\",\"Bolivia\",\"Romania\",\"Dominican Republic\",\"Kuwait\",\"Belarus\",\"Panama\",\"United Arab Emirates\",\"Oman\",\"Portugal\",\"Poland\",\"Singapore\",\"Morocco\",\"Japan\",\"Guatemala\",\"Switzerland\",\"Bahrain\",\"Honduras\",\"Nigeria\",\"Armenia\",\"Nepal\",\"Ireland\",\"Czech Republic\",\"Afghanistan\",\"Austria\",\"Ghana\",\"Algeria\",\"Ethiopia\",\"Venezuela\",\"Moldova\",\"Costa Rica\",\"Uzbekistan\",\"Kyrgyzstan\",\"Azerbaijan\",\"Serbia\",\"Puerto Rico\",\"South Korea\",\"Kenya\",\"Palestine\",\"Denmark\",\"Australia\",\"El Salvador\",\"Cameroon\",\"Paraguay\",\"Lebanon\",\"Bosnia and Herzegovina\",\"Cote d'Ivoire\",\"Norway\",\"Bulgaria\",\"Libya\",\"Malaysia\",\"Macedonia\",\"Hungary\",\"Sudan\",\"Senegal\",\"Finland\",\"Madagascar\",\"Greece\",\"Kosovo\",\"Croatia\",\"Democratic Republic of Congo\",\"Guinea\",\"Luxembourg\",\"Zambia\",\"Tajikistan\",\"Albania\",\"Gabon\",\"Haiti\",\"Tunisia\",\"Maldives\",\"Mauritania\",\"Slovakia\",\"Djibouti\",\"Jordan\",\"Namibia\",\"Montenegro\",\"Thailand\",\"Myanmar\",\"Zimbabwe\",\"Central African Republic\",\"Cuba\",\"Equatorial Guinea\",\"Slovenia\",\"Malawi\",\"Nicaragua\",\"Mozambique\",\"Somalia\",\"Lithuania\",\"Congo\",\"Cape Verde\",\"Uganda\",\"Sri Lanka\",\"Estonia\",\"Swaziland\",\"Georgia\",\"Iceland\",\"Mali\",\"Rwanda\",\"Jamaica\",\"Suriname\",\"South Sudan\",\"Guinea-Bissau\",\"Angola\",\"Sierra Leone\",\"Syria\",\"Latvia\",\"New Zealand\",\"Malta\",\"Benin\",\"Uruguay\",\"Bahamas\",\"Cyprus\",\"Burkina Faso\",\"Gambia\",\"Yemen\",\"Trinidad and Tobago\",\"Andorra\",\"Aruba\",\"Botswana\",\"Niger\",\"Togo\",\"Guyana\",\"Guam\",\"Liberia\",\"Chad\",\"San Marino\",\"Vietnam\",\"Sao Tome and Principe\",\"Lesotho\",\"Belize\",\"United States Virgin Islands\",\"Taiwan\",\"French Polynesia\",\"Tanzania\",\"Mauritius\",\"Jersey\",\"Isle of Man\",\"Faeroe Islands\",\"Comoros\",\"Guernsey\",\"Burundi\",\"Sint Maarten (Dutch part)\",\"Gibraltar\",\"Turks and Caicos Islands\",\"Mongolia\",\"Eritrea\",\"Cambodia\",\"Papua New Guinea\",\"Cayman Islands\",\"Brunei\",\"Bermuda\",\"Barbados\",\"Bhutan\",\"Monaco\",\"Liechtenstein\",\"Curacao\",\"Seychelles\",\"Antigua and Barbuda\",\"Saint Vincent and the Grenadines\",\"Northern Mariana Islands\",\"Bonaire Sint Eustatius and Saba\",\"Fiji\",\"Timor\",\"British Virgin Islands\",\"New Caledonia\",\"Grenada\",\"Saint Lucia\",\"Laos\",\"Dominica\",\"Saint Kitts and Nevis\",\"Greenland\",\"Falkland Islands\",\"Vatican\",\"Montserrat\",\"Anguilla\",\"Solomon Islands\",\"Hong Kong\"],\"xaxis\":\"x\",\"y\":[26477574.0,14340567.0,7247327.0,2131571.0,3020038.0,7295850.0,5510624.0,1357682.0,1936134.0,7249573.0,2914070.0,1283880.0,6664225.0,5633444.0,1077426.0,1640691.0,1049757.0,442507.0,789557.0,484534.0,744253.0,448665.0,1066939.0,916111.0,1455549.0,23820.0,126278.0,343334.0,1798461.0,1083749.0,161480.0,1142410.0,644416.0,941063.0,578559.0,464952.0,209024.0,69104.0,88409.0,222435.0,58035.0,73391.0,302612.0,304001.0,4691.0,142270.0,194918.0,281588.0,320693.0,22413.0,200844.0,125473.0,102039.0,27737.0,310201.0,79880.0,165875.0,134945.0,29143.0,206429.0,77686.0,40840.0,129946.0,50352.0,31903.0,114922.0,59495.0,87503.0,54940.0,63333.0,59485.0,21522.0,113280.0,65029.0,71957.0,56606.0,42850.0,22983.0,70578.0,14220.0,47158.0,72850.0,29730.0,24012.0,74066.0,110142.0,102825.0,30320.0,58377.0,17744.0,44805.0,47571.0,28757.0,32040.0,7283.0,21907.0,26475.0,9730.0,31056.0,6877.0,23891.0,19025.0,3054.0,19810.0,6055.0,8006.0,5653.0,6634.0,11356.0,11162.0,13973.0,15984.0,7108.0,16774.0,8947.0,22165.0,15480.0,16410.0,3396.0,15001.0,14345.0,9298.0,4749.0,3748.0,2108.0,11802.0,8179.0,4013.0,1968.0,18813.0,1744.0,5653.0,6961.0,6063.0,4199.0,11820.0,10036.0,12098.0,5376.0,4145.0,2409.0,4374.0,6083.0,5998.0,3735.0,10248.0,7201.0,64304.0,4519.0,9850.0,1624.0,895.0,11676.0,4197.0,5783.0,2715.0,10087.0,12212.0,8596.0,2318.0,2198.0,2680.0,1613.0,1833.0,1423.0,260.0,3733.0,1988.0,5527.0,4310.0,0.0,920.0,2450.0,188.0,3146.0,0.0,476.0,0.0,0.0,0.0,417.0,213.0,475.0,1631.0,1321.0,0.0,192.0,198.0,207.0,0.0,568.0,0.0,396.0,48.0,132.0,0.0,183.0,0.0,0.0,0.0,0.0,0.0,0.0,0.0,0.0,0.0,177.0,0.0,0.0,0.0],\"yaxis\":\"y\",\"type\":\"bar\"}],                        {\"template\":{\"data\":{\"bar\":[{\"error_x\":{\"color\":\"#2a3f5f\"},\"error_y\":{\"color\":\"#2a3f5f\"},\"marker\":{\"line\":{\"color\":\"#E5ECF6\",\"width\":0.5},\"pattern\":{\"fillmode\":\"overlay\",\"size\":10,\"solidity\":0.2}},\"type\":\"bar\"}],\"barpolar\":[{\"marker\":{\"line\":{\"color\":\"#E5ECF6\",\"width\":0.5},\"pattern\":{\"fillmode\":\"overlay\",\"size\":10,\"solidity\":0.2}},\"type\":\"barpolar\"}],\"carpet\":[{\"aaxis\":{\"endlinecolor\":\"#2a3f5f\",\"gridcolor\":\"white\",\"linecolor\":\"white\",\"minorgridcolor\":\"white\",\"startlinecolor\":\"#2a3f5f\"},\"baxis\":{\"endlinecolor\":\"#2a3f5f\",\"gridcolor\":\"white\",\"linecolor\":\"white\",\"minorgridcolor\":\"white\",\"startlinecolor\":\"#2a3f5f\"},\"type\":\"carpet\"}],\"choropleth\":[{\"colorbar\":{\"outlinewidth\":0,\"ticks\":\"\"},\"type\":\"choropleth\"}],\"contour\":[{\"colorbar\":{\"outlinewidth\":0,\"ticks\":\"\"},\"colorscale\":[[0.0,\"#0d0887\"],[0.1111111111111111,\"#46039f\"],[0.2222222222222222,\"#7201a8\"],[0.3333333333333333,\"#9c179e\"],[0.4444444444444444,\"#bd3786\"],[0.5555555555555556,\"#d8576b\"],[0.6666666666666666,\"#ed7953\"],[0.7777777777777778,\"#fb9f3a\"],[0.8888888888888888,\"#fdca26\"],[1.0,\"#f0f921\"]],\"type\":\"contour\"}],\"contourcarpet\":[{\"colorbar\":{\"outlinewidth\":0,\"ticks\":\"\"},\"type\":\"contourcarpet\"}],\"heatmap\":[{\"colorbar\":{\"outlinewidth\":0,\"ticks\":\"\"},\"colorscale\":[[0.0,\"#0d0887\"],[0.1111111111111111,\"#46039f\"],[0.2222222222222222,\"#7201a8\"],[0.3333333333333333,\"#9c179e\"],[0.4444444444444444,\"#bd3786\"],[0.5555555555555556,\"#d8576b\"],[0.6666666666666666,\"#ed7953\"],[0.7777777777777778,\"#fb9f3a\"],[0.8888888888888888,\"#fdca26\"],[1.0,\"#f0f921\"]],\"type\":\"heatmap\"}],\"heatmapgl\":[{\"colorbar\":{\"outlinewidth\":0,\"ticks\":\"\"},\"colorscale\":[[0.0,\"#0d0887\"],[0.1111111111111111,\"#46039f\"],[0.2222222222222222,\"#7201a8\"],[0.3333333333333333,\"#9c179e\"],[0.4444444444444444,\"#bd3786\"],[0.5555555555555556,\"#d8576b\"],[0.6666666666666666,\"#ed7953\"],[0.7777777777777778,\"#fb9f3a\"],[0.8888888888888888,\"#fdca26\"],[1.0,\"#f0f921\"]],\"type\":\"heatmapgl\"}],\"histogram\":[{\"marker\":{\"pattern\":{\"fillmode\":\"overlay\",\"size\":10,\"solidity\":0.2}},\"type\":\"histogram\"}],\"histogram2d\":[{\"colorbar\":{\"outlinewidth\":0,\"ticks\":\"\"},\"colorscale\":[[0.0,\"#0d0887\"],[0.1111111111111111,\"#46039f\"],[0.2222222222222222,\"#7201a8\"],[0.3333333333333333,\"#9c179e\"],[0.4444444444444444,\"#bd3786\"],[0.5555555555555556,\"#d8576b\"],[0.6666666666666666,\"#ed7953\"],[0.7777777777777778,\"#fb9f3a\"],[0.8888888888888888,\"#fdca26\"],[1.0,\"#f0f921\"]],\"type\":\"histogram2d\"}],\"histogram2dcontour\":[{\"colorbar\":{\"outlinewidth\":0,\"ticks\":\"\"},\"colorscale\":[[0.0,\"#0d0887\"],[0.1111111111111111,\"#46039f\"],[0.2222222222222222,\"#7201a8\"],[0.3333333333333333,\"#9c179e\"],[0.4444444444444444,\"#bd3786\"],[0.5555555555555556,\"#d8576b\"],[0.6666666666666666,\"#ed7953\"],[0.7777777777777778,\"#fb9f3a\"],[0.8888888888888888,\"#fdca26\"],[1.0,\"#f0f921\"]],\"type\":\"histogram2dcontour\"}],\"mesh3d\":[{\"colorbar\":{\"outlinewidth\":0,\"ticks\":\"\"},\"type\":\"mesh3d\"}],\"parcoords\":[{\"line\":{\"colorbar\":{\"outlinewidth\":0,\"ticks\":\"\"}},\"type\":\"parcoords\"}],\"pie\":[{\"automargin\":true,\"type\":\"pie\"}],\"scatter\":[{\"marker\":{\"colorbar\":{\"outlinewidth\":0,\"ticks\":\"\"}},\"type\":\"scatter\"}],\"scatter3d\":[{\"line\":{\"colorbar\":{\"outlinewidth\":0,\"ticks\":\"\"}},\"marker\":{\"colorbar\":{\"outlinewidth\":0,\"ticks\":\"\"}},\"type\":\"scatter3d\"}],\"scattercarpet\":[{\"marker\":{\"colorbar\":{\"outlinewidth\":0,\"ticks\":\"\"}},\"type\":\"scattercarpet\"}],\"scattergeo\":[{\"marker\":{\"colorbar\":{\"outlinewidth\":0,\"ticks\":\"\"}},\"type\":\"scattergeo\"}],\"scattergl\":[{\"marker\":{\"colorbar\":{\"outlinewidth\":0,\"ticks\":\"\"}},\"type\":\"scattergl\"}],\"scattermapbox\":[{\"marker\":{\"colorbar\":{\"outlinewidth\":0,\"ticks\":\"\"}},\"type\":\"scattermapbox\"}],\"scatterpolar\":[{\"marker\":{\"colorbar\":{\"outlinewidth\":0,\"ticks\":\"\"}},\"type\":\"scatterpolar\"}],\"scatterpolargl\":[{\"marker\":{\"colorbar\":{\"outlinewidth\":0,\"ticks\":\"\"}},\"type\":\"scatterpolargl\"}],\"scatterternary\":[{\"marker\":{\"colorbar\":{\"outlinewidth\":0,\"ticks\":\"\"}},\"type\":\"scatterternary\"}],\"surface\":[{\"colorbar\":{\"outlinewidth\":0,\"ticks\":\"\"},\"colorscale\":[[0.0,\"#0d0887\"],[0.1111111111111111,\"#46039f\"],[0.2222222222222222,\"#7201a8\"],[0.3333333333333333,\"#9c179e\"],[0.4444444444444444,\"#bd3786\"],[0.5555555555555556,\"#d8576b\"],[0.6666666666666666,\"#ed7953\"],[0.7777777777777778,\"#fb9f3a\"],[0.8888888888888888,\"#fdca26\"],[1.0,\"#f0f921\"]],\"type\":\"surface\"}],\"table\":[{\"cells\":{\"fill\":{\"color\":\"#EBF0F8\"},\"line\":{\"color\":\"white\"}},\"header\":{\"fill\":{\"color\":\"#C8D4E3\"},\"line\":{\"color\":\"white\"}},\"type\":\"table\"}]},\"layout\":{\"annotationdefaults\":{\"arrowcolor\":\"#2a3f5f\",\"arrowhead\":0,\"arrowwidth\":1},\"autotypenumbers\":\"strict\",\"coloraxis\":{\"colorbar\":{\"outlinewidth\":0,\"ticks\":\"\"}},\"colorscale\":{\"diverging\":[[0,\"#8e0152\"],[0.1,\"#c51b7d\"],[0.2,\"#de77ae\"],[0.3,\"#f1b6da\"],[0.4,\"#fde0ef\"],[0.5,\"#f7f7f7\"],[0.6,\"#e6f5d0\"],[0.7,\"#b8e186\"],[0.8,\"#7fbc41\"],[0.9,\"#4d9221\"],[1,\"#276419\"]],\"sequential\":[[0.0,\"#0d0887\"],[0.1111111111111111,\"#46039f\"],[0.2222222222222222,\"#7201a8\"],[0.3333333333333333,\"#9c179e\"],[0.4444444444444444,\"#bd3786\"],[0.5555555555555556,\"#d8576b\"],[0.6666666666666666,\"#ed7953\"],[0.7777777777777778,\"#fb9f3a\"],[0.8888888888888888,\"#fdca26\"],[1.0,\"#f0f921\"]],\"sequentialminus\":[[0.0,\"#0d0887\"],[0.1111111111111111,\"#46039f\"],[0.2222222222222222,\"#7201a8\"],[0.3333333333333333,\"#9c179e\"],[0.4444444444444444,\"#bd3786\"],[0.5555555555555556,\"#d8576b\"],[0.6666666666666666,\"#ed7953\"],[0.7777777777777778,\"#fb9f3a\"],[0.8888888888888888,\"#fdca26\"],[1.0,\"#f0f921\"]]},\"colorway\":[\"#636efa\",\"#EF553B\",\"#00cc96\",\"#ab63fa\",\"#FFA15A\",\"#19d3f3\",\"#FF6692\",\"#B6E880\",\"#FF97FF\",\"#FECB52\"],\"font\":{\"color\":\"#2a3f5f\"},\"geo\":{\"bgcolor\":\"white\",\"lakecolor\":\"white\",\"landcolor\":\"#E5ECF6\",\"showlakes\":true,\"showland\":true,\"subunitcolor\":\"white\"},\"hoverlabel\":{\"align\":\"left\"},\"hovermode\":\"closest\",\"mapbox\":{\"style\":\"light\"},\"paper_bgcolor\":\"white\",\"plot_bgcolor\":\"#E5ECF6\",\"polar\":{\"angularaxis\":{\"gridcolor\":\"white\",\"linecolor\":\"white\",\"ticks\":\"\"},\"bgcolor\":\"#E5ECF6\",\"radialaxis\":{\"gridcolor\":\"white\",\"linecolor\":\"white\",\"ticks\":\"\"}},\"scene\":{\"xaxis\":{\"backgroundcolor\":\"#E5ECF6\",\"gridcolor\":\"white\",\"gridwidth\":2,\"linecolor\":\"white\",\"showbackground\":true,\"ticks\":\"\",\"zerolinecolor\":\"white\"},\"yaxis\":{\"backgroundcolor\":\"#E5ECF6\",\"gridcolor\":\"white\",\"gridwidth\":2,\"linecolor\":\"white\",\"showbackground\":true,\"ticks\":\"\",\"zerolinecolor\":\"white\"},\"zaxis\":{\"backgroundcolor\":\"#E5ECF6\",\"gridcolor\":\"white\",\"gridwidth\":2,\"linecolor\":\"white\",\"showbackground\":true,\"ticks\":\"\",\"zerolinecolor\":\"white\"}},\"shapedefaults\":{\"line\":{\"color\":\"#2a3f5f\"}},\"ternary\":{\"aaxis\":{\"gridcolor\":\"white\",\"linecolor\":\"white\",\"ticks\":\"\"},\"baxis\":{\"gridcolor\":\"white\",\"linecolor\":\"white\",\"ticks\":\"\"},\"bgcolor\":\"#E5ECF6\",\"caxis\":{\"gridcolor\":\"white\",\"linecolor\":\"white\",\"ticks\":\"\"}},\"title\":{\"x\":0.05},\"xaxis\":{\"automargin\":true,\"gridcolor\":\"white\",\"linecolor\":\"white\",\"ticks\":\"\",\"title\":{\"standoff\":15},\"zerolinecolor\":\"white\",\"zerolinewidth\":2},\"yaxis\":{\"automargin\":true,\"gridcolor\":\"white\",\"linecolor\":\"white\",\"ticks\":\"\",\"title\":{\"standoff\":15},\"zerolinecolor\":\"white\",\"zerolinewidth\":2}}},\"xaxis\":{\"anchor\":\"y\",\"domain\":[0.0,1.0],\"title\":{\"text\":\"Country\"}},\"yaxis\":{\"anchor\":\"x\",\"domain\":[0.0,1.0],\"title\":{\"text\":\"Total Deaths\"}},\"coloraxis\":{\"colorbar\":{\"title\":{\"text\":\"Total Deaths\"}},\"colorscale\":[[0.0,\"#0d0887\"],[0.1111111111111111,\"#46039f\"],[0.2222222222222222,\"#7201a8\"],[0.3333333333333333,\"#9c179e\"],[0.4444444444444444,\"#bd3786\"],[0.5555555555555556,\"#d8576b\"],[0.6666666666666666,\"#ed7953\"],[0.7777777777777778,\"#fb9f3a\"],[0.8888888888888888,\"#fdca26\"],[1.0,\"#f0f921\"]]},\"legend\":{\"tracegroupgap\":0},\"title\":{\"text\":\"Countries with The Most Deaths\"},\"barmode\":\"relative\"},                        {\"responsive\": true}                    ).then(function(){\n",
       "                            \n",
       "var gd = document.getElementById('b46592fb-0d95-4b19-924a-6e5f4970512b');\n",
       "var x = new MutationObserver(function (mutations, observer) {{\n",
       "        var display = window.getComputedStyle(gd).display;\n",
       "        if (!display || display === 'none') {{\n",
       "            console.log([gd, 'removed!']);\n",
       "            Plotly.purge(gd);\n",
       "            observer.disconnect();\n",
       "        }}\n",
       "}});\n",
       "\n",
       "// Listen for the removal of the full notebook cells\n",
       "var notebookContainer = gd.closest('#notebook-container');\n",
       "if (notebookContainer) {{\n",
       "    x.observe(notebookContainer, {childList: true});\n",
       "}}\n",
       "\n",
       "// Listen for the clearing of the current output cell\n",
       "var outputEl = gd.closest('.output');\n",
       "if (outputEl) {{\n",
       "    x.observe(outputEl, {childList: true});\n",
       "}}\n",
       "\n",
       "                        })                };                });            </script>        </div>"
      ]
     },
     "metadata": {},
     "output_type": "display_data"
    }
   ],
   "source": [
    "second"
   ]
  },
  {
   "cell_type": "code",
   "execution_count": 30,
   "id": "dbf03474",
   "metadata": {},
   "outputs": [],
   "source": [
    "third = px.bar(deta, x= deta['Country'], y= deta['Total Cases'], color= deta['Total Cases']  ,title= 'Total Cases')\n",
    "\n",
    "fourth = px.bar(deta, x= deta['Country'], y= deta['Total Deaths'], color= deta['Total Deaths']  ,title= 'Total Deaths')\n",
    "\n"
   ]
  },
  {
   "cell_type": "code",
   "execution_count": 31,
   "id": "3625f049",
   "metadata": {},
   "outputs": [
    {
     "data": {
      "application/vnd.plotly.v1+json": {
       "config": {
        "plotlyServerURL": "https://plot.ly"
       },
       "data": [
        {
         "alignmentgroup": "True",
         "hovertemplate": "Country=%{x}<br>Total Cases=%{marker.color}<extra></extra>",
         "legendgroup": "",
         "marker": {
          "color": [
           746014098,
           425704517,
           407771615,
           132888951,
           74882695,
           74347548,
           73717676,
           63027659,
           60543682,
           59475032,
           52421884,
           51268034,
           50752853,
           50084335,
           47155234,
           42447678,
           41431948,
           38585191,
           37738077,
           35266178,
           25280332,
           22409936,
           21632319,
           21570149,
           20902374,
           16351440,
           16202474,
           15805665,
           15192468,
           14408757,
           13194863,
           13026629,
           12422845,
           11910109,
           11858838,
           10672859,
           10649646,
           10622205,
           10595186,
           10371724,
           10247326,
           10060093,
           9266263,
           9239657,
           8191161,
           7839270,
           7659484,
           7644426,
           7552067,
           6549995,
           6545499,
           6107371,
           5474629,
           5243653,
           5239798,
           5213980,
           5126433,
           4909197,
           4900649,
           4893999,
           4876417,
           4839834,
           4632482,
           4631835,
           4421215,
           4287847,
           4236782,
           3984174,
           3586463,
           3333075,
           3277734,
           3249458,
           3030088,
           3012377,
           2573206,
           2476502,
           2265640,
           2220699,
           2200057,
           2132883,
           1985889,
           1890380,
           1817274,
           1774181,
           1724220,
           1708798,
           1663545,
           1586747,
           1458484,
           1443321,
           1421470,
           1345940,
           1314031,
           1271391,
           1195836,
           1146724,
           1129913,
           1117391,
           1071951,
           1031803,
           1023155,
           1000626,
           844040,
           799222,
           798665,
           781771,
           716514,
           681299,
           675912,
           655703,
           644209,
           593699,
           593048,
           581546,
           557355,
           547075,
           536447,
           524410,
           510578,
           491145,
           488057,
           473368,
           463888,
           448728,
           446643,
           445402,
           444238,
           431689,
           421210,
           390637,
           388775,
           370890,
           358632,
           333500,
           306564,
           304005,
           268396,
           267902,
           255964,
           253203,
           251261,
           245893,
           239884,
           237908,
           236673,
           231452,
           229521,
           228925,
           225550,
           223576,
           215110,
           205758,
           199978,
           169903,
           166917,
           160975,
           159880,
           154173,
           134994,
           122618,
           121909,
           107948,
           106383,
           98536,
           97074,
           95388,
           91526,
           69524,
           66777,
           64935,
           56893,
           52437,
           49814,
           49745,
           48026,
           45340,
           44432,
           42465,
           40026,
           39539,
           35966,
           33173,
           30140,
           28876,
           24998,
           22847,
           21511,
           19885,
           19777,
           14701,
           12619,
           7824,
           7784,
           5080,
           4742,
           4697,
           4605,
           4495,
           4470,
           4450,
           4039,
           3977,
           3246,
           2678,
           2467,
           2415,
           2383,
           614,
           11,
           0
          ],
          "coloraxis": "coloraxis",
          "pattern": {
           "shape": ""
          }
         },
         "name": "",
         "offsetgroup": "",
         "orientation": "v",
         "showlegend": false,
         "textposition": "auto",
         "type": "bar",
         "x": [
          "United States",
          "Brazil",
          "India",
          "Russia",
          "Peru",
          "Mexico",
          "Spain",
          "South Africa",
          "Colombia",
          "United Kingdom",
          "Iran",
          "Chile",
          "Italy",
          "France",
          "Argentina",
          "Germany",
          "Turkey",
          "Saudi Arabia",
          "Pakistan",
          "Bangladesh",
          "Iraq",
          "Philippines",
          "China",
          "Indonesia",
          "Canada",
          "Qatar",
          "Israel",
          "Ukraine",
          "Belgium",
          "Ecuador",
          "Kazakhstan",
          "Netherlands",
          "Egypt",
          "Sweden",
          "Bolivia",
          "Romania",
          "Dominican Republic",
          "Kuwait",
          "Belarus",
          "Panama",
          "United Arab Emirates",
          "Oman",
          "Portugal",
          "Poland",
          "Singapore",
          "Morocco",
          "Japan",
          "Guatemala",
          "Switzerland",
          "Bahrain",
          "Honduras",
          "Nigeria",
          "Armenia",
          "Nepal",
          "Ireland",
          "Czech Republic",
          "Afghanistan",
          "Austria",
          "Ghana",
          "Algeria",
          "Ethiopia",
          "Venezuela",
          "Moldova",
          "Costa Rica",
          "Uzbekistan",
          "Kyrgyzstan",
          "Azerbaijan",
          "Serbia",
          "Puerto Rico",
          "South Korea",
          "Kenya",
          "Palestine",
          "Denmark",
          "Australia",
          "El Salvador",
          "Cameroon",
          "Paraguay",
          "Lebanon",
          "Bosnia and Herzegovina",
          "Cote d'Ivoire",
          "Norway",
          "Bulgaria",
          "Libya",
          "Malaysia",
          "Macedonia",
          "Hungary",
          "Sudan",
          "Senegal",
          "Finland",
          "Madagascar",
          "Greece",
          "Kosovo",
          "Croatia",
          "Democratic Republic of Congo",
          "Guinea",
          "Luxembourg",
          "Zambia",
          "Tajikistan",
          "Albania",
          "Gabon",
          "Haiti",
          "Tunisia",
          "Maldives",
          "Mauritania",
          "Slovakia",
          "Djibouti",
          "Jordan",
          "Namibia",
          "Montenegro",
          "Thailand",
          "Myanmar",
          "Zimbabwe",
          "Central African Republic",
          "Cuba",
          "Equatorial Guinea",
          "Slovenia",
          "Malawi",
          "Nicaragua",
          "Mozambique",
          "Somalia",
          "Lithuania",
          "Congo",
          "Cape Verde",
          "Uganda",
          "Sri Lanka",
          "Estonia",
          "Swaziland",
          "Georgia",
          "Iceland",
          "Mali",
          "Rwanda",
          "Jamaica",
          "Suriname",
          "South Sudan",
          "Guinea-Bissau",
          "Angola",
          "Sierra Leone",
          "Syria",
          "Latvia",
          "New Zealand",
          "Malta",
          "Benin",
          "Uruguay",
          "Bahamas",
          "Cyprus",
          "Burkina Faso",
          "Gambia",
          "Yemen",
          "Trinidad and Tobago",
          "Andorra",
          "Aruba",
          "Botswana",
          "Niger",
          "Togo",
          "Guyana",
          "Guam",
          "Liberia",
          "Chad",
          "San Marino",
          "Vietnam",
          "Sao Tome and Principe",
          "Lesotho",
          "Belize",
          "United States Virgin Islands",
          "Taiwan",
          "French Polynesia",
          "Tanzania",
          "Mauritius",
          "Jersey",
          "Isle of Man",
          "Faeroe Islands",
          "Comoros",
          "Guernsey",
          "Burundi",
          "Sint Maarten (Dutch part)",
          "Gibraltar",
          "Turks and Caicos Islands",
          "Mongolia",
          "Eritrea",
          "Cambodia",
          "Papua New Guinea",
          "Cayman Islands",
          "Brunei",
          "Bermuda",
          "Barbados",
          "Bhutan",
          "Monaco",
          "Liechtenstein",
          "Curacao",
          "Seychelles",
          "Antigua and Barbuda",
          "Saint Vincent and the Grenadines",
          "Northern Mariana Islands",
          "Bonaire Sint Eustatius and Saba",
          "Fiji",
          "Timor",
          "British Virgin Islands",
          "New Caledonia",
          "Grenada",
          "Saint Lucia",
          "Laos",
          "Dominica",
          "Saint Kitts and Nevis",
          "Greenland",
          "Falkland Islands",
          "Vatican",
          "Montserrat",
          "Anguilla",
          "Solomon Islands",
          "Hong Kong"
         ],
         "xaxis": "x",
         "y": [
          746014098,
          425704517,
          407771615,
          132888951,
          74882695,
          74347548,
          73717676,
          63027659,
          60543682,
          59475032,
          52421884,
          51268034,
          50752853,
          50084335,
          47155234,
          42447678,
          41431948,
          38585191,
          37738077,
          35266178,
          25280332,
          22409936,
          21632319,
          21570149,
          20902374,
          16351440,
          16202474,
          15805665,
          15192468,
          14408757,
          13194863,
          13026629,
          12422845,
          11910109,
          11858838,
          10672859,
          10649646,
          10622205,
          10595186,
          10371724,
          10247326,
          10060093,
          9266263,
          9239657,
          8191161,
          7839270,
          7659484,
          7644426,
          7552067,
          6549995,
          6545499,
          6107371,
          5474629,
          5243653,
          5239798,
          5213980,
          5126433,
          4909197,
          4900649,
          4893999,
          4876417,
          4839834,
          4632482,
          4631835,
          4421215,
          4287847,
          4236782,
          3984174,
          3586463,
          3333075,
          3277734,
          3249458,
          3030088,
          3012377,
          2573206,
          2476502,
          2265640,
          2220699,
          2200057,
          2132883,
          1985889,
          1890380,
          1817274,
          1774181,
          1724220,
          1708798,
          1663545,
          1586747,
          1458484,
          1443321,
          1421470,
          1345940,
          1314031,
          1271391,
          1195836,
          1146724,
          1129913,
          1117391,
          1071951,
          1031803,
          1023155,
          1000626,
          844040,
          799222,
          798665,
          781771,
          716514,
          681299,
          675912,
          655703,
          644209,
          593699,
          593048,
          581546,
          557355,
          547075,
          536447,
          524410,
          510578,
          491145,
          488057,
          473368,
          463888,
          448728,
          446643,
          445402,
          444238,
          431689,
          421210,
          390637,
          388775,
          370890,
          358632,
          333500,
          306564,
          304005,
          268396,
          267902,
          255964,
          253203,
          251261,
          245893,
          239884,
          237908,
          236673,
          231452,
          229521,
          228925,
          225550,
          223576,
          215110,
          205758,
          199978,
          169903,
          166917,
          160975,
          159880,
          154173,
          134994,
          122618,
          121909,
          107948,
          106383,
          98536,
          97074,
          95388,
          91526,
          69524,
          66777,
          64935,
          56893,
          52437,
          49814,
          49745,
          48026,
          45340,
          44432,
          42465,
          40026,
          39539,
          35966,
          33173,
          30140,
          28876,
          24998,
          22847,
          21511,
          19885,
          19777,
          14701,
          12619,
          7824,
          7784,
          5080,
          4742,
          4697,
          4605,
          4495,
          4470,
          4450,
          4039,
          3977,
          3246,
          2678,
          2467,
          2415,
          2383,
          614,
          11,
          0
         ],
         "yaxis": "y"
        }
       ],
       "layout": {
        "barmode": "relative",
        "coloraxis": {
         "colorbar": {
          "title": {
           "text": "Total Cases"
          }
         },
         "colorscale": [
          [
           0,
           "#0d0887"
          ],
          [
           0.1111111111111111,
           "#46039f"
          ],
          [
           0.2222222222222222,
           "#7201a8"
          ],
          [
           0.3333333333333333,
           "#9c179e"
          ],
          [
           0.4444444444444444,
           "#bd3786"
          ],
          [
           0.5555555555555556,
           "#d8576b"
          ],
          [
           0.6666666666666666,
           "#ed7953"
          ],
          [
           0.7777777777777778,
           "#fb9f3a"
          ],
          [
           0.8888888888888888,
           "#fdca26"
          ],
          [
           1,
           "#f0f921"
          ]
         ]
        },
        "legend": {
         "tracegroupgap": 0
        },
        "template": {
         "data": {
          "bar": [
           {
            "error_x": {
             "color": "#2a3f5f"
            },
            "error_y": {
             "color": "#2a3f5f"
            },
            "marker": {
             "line": {
              "color": "#E5ECF6",
              "width": 0.5
             },
             "pattern": {
              "fillmode": "overlay",
              "size": 10,
              "solidity": 0.2
             }
            },
            "type": "bar"
           }
          ],
          "barpolar": [
           {
            "marker": {
             "line": {
              "color": "#E5ECF6",
              "width": 0.5
             },
             "pattern": {
              "fillmode": "overlay",
              "size": 10,
              "solidity": 0.2
             }
            },
            "type": "barpolar"
           }
          ],
          "carpet": [
           {
            "aaxis": {
             "endlinecolor": "#2a3f5f",
             "gridcolor": "white",
             "linecolor": "white",
             "minorgridcolor": "white",
             "startlinecolor": "#2a3f5f"
            },
            "baxis": {
             "endlinecolor": "#2a3f5f",
             "gridcolor": "white",
             "linecolor": "white",
             "minorgridcolor": "white",
             "startlinecolor": "#2a3f5f"
            },
            "type": "carpet"
           }
          ],
          "choropleth": [
           {
            "colorbar": {
             "outlinewidth": 0,
             "ticks": ""
            },
            "type": "choropleth"
           }
          ],
          "contour": [
           {
            "colorbar": {
             "outlinewidth": 0,
             "ticks": ""
            },
            "colorscale": [
             [
              0,
              "#0d0887"
             ],
             [
              0.1111111111111111,
              "#46039f"
             ],
             [
              0.2222222222222222,
              "#7201a8"
             ],
             [
              0.3333333333333333,
              "#9c179e"
             ],
             [
              0.4444444444444444,
              "#bd3786"
             ],
             [
              0.5555555555555556,
              "#d8576b"
             ],
             [
              0.6666666666666666,
              "#ed7953"
             ],
             [
              0.7777777777777778,
              "#fb9f3a"
             ],
             [
              0.8888888888888888,
              "#fdca26"
             ],
             [
              1,
              "#f0f921"
             ]
            ],
            "type": "contour"
           }
          ],
          "contourcarpet": [
           {
            "colorbar": {
             "outlinewidth": 0,
             "ticks": ""
            },
            "type": "contourcarpet"
           }
          ],
          "heatmap": [
           {
            "colorbar": {
             "outlinewidth": 0,
             "ticks": ""
            },
            "colorscale": [
             [
              0,
              "#0d0887"
             ],
             [
              0.1111111111111111,
              "#46039f"
             ],
             [
              0.2222222222222222,
              "#7201a8"
             ],
             [
              0.3333333333333333,
              "#9c179e"
             ],
             [
              0.4444444444444444,
              "#bd3786"
             ],
             [
              0.5555555555555556,
              "#d8576b"
             ],
             [
              0.6666666666666666,
              "#ed7953"
             ],
             [
              0.7777777777777778,
              "#fb9f3a"
             ],
             [
              0.8888888888888888,
              "#fdca26"
             ],
             [
              1,
              "#f0f921"
             ]
            ],
            "type": "heatmap"
           }
          ],
          "heatmapgl": [
           {
            "colorbar": {
             "outlinewidth": 0,
             "ticks": ""
            },
            "colorscale": [
             [
              0,
              "#0d0887"
             ],
             [
              0.1111111111111111,
              "#46039f"
             ],
             [
              0.2222222222222222,
              "#7201a8"
             ],
             [
              0.3333333333333333,
              "#9c179e"
             ],
             [
              0.4444444444444444,
              "#bd3786"
             ],
             [
              0.5555555555555556,
              "#d8576b"
             ],
             [
              0.6666666666666666,
              "#ed7953"
             ],
             [
              0.7777777777777778,
              "#fb9f3a"
             ],
             [
              0.8888888888888888,
              "#fdca26"
             ],
             [
              1,
              "#f0f921"
             ]
            ],
            "type": "heatmapgl"
           }
          ],
          "histogram": [
           {
            "marker": {
             "pattern": {
              "fillmode": "overlay",
              "size": 10,
              "solidity": 0.2
             }
            },
            "type": "histogram"
           }
          ],
          "histogram2d": [
           {
            "colorbar": {
             "outlinewidth": 0,
             "ticks": ""
            },
            "colorscale": [
             [
              0,
              "#0d0887"
             ],
             [
              0.1111111111111111,
              "#46039f"
             ],
             [
              0.2222222222222222,
              "#7201a8"
             ],
             [
              0.3333333333333333,
              "#9c179e"
             ],
             [
              0.4444444444444444,
              "#bd3786"
             ],
             [
              0.5555555555555556,
              "#d8576b"
             ],
             [
              0.6666666666666666,
              "#ed7953"
             ],
             [
              0.7777777777777778,
              "#fb9f3a"
             ],
             [
              0.8888888888888888,
              "#fdca26"
             ],
             [
              1,
              "#f0f921"
             ]
            ],
            "type": "histogram2d"
           }
          ],
          "histogram2dcontour": [
           {
            "colorbar": {
             "outlinewidth": 0,
             "ticks": ""
            },
            "colorscale": [
             [
              0,
              "#0d0887"
             ],
             [
              0.1111111111111111,
              "#46039f"
             ],
             [
              0.2222222222222222,
              "#7201a8"
             ],
             [
              0.3333333333333333,
              "#9c179e"
             ],
             [
              0.4444444444444444,
              "#bd3786"
             ],
             [
              0.5555555555555556,
              "#d8576b"
             ],
             [
              0.6666666666666666,
              "#ed7953"
             ],
             [
              0.7777777777777778,
              "#fb9f3a"
             ],
             [
              0.8888888888888888,
              "#fdca26"
             ],
             [
              1,
              "#f0f921"
             ]
            ],
            "type": "histogram2dcontour"
           }
          ],
          "mesh3d": [
           {
            "colorbar": {
             "outlinewidth": 0,
             "ticks": ""
            },
            "type": "mesh3d"
           }
          ],
          "parcoords": [
           {
            "line": {
             "colorbar": {
              "outlinewidth": 0,
              "ticks": ""
             }
            },
            "type": "parcoords"
           }
          ],
          "pie": [
           {
            "automargin": true,
            "type": "pie"
           }
          ],
          "scatter": [
           {
            "marker": {
             "colorbar": {
              "outlinewidth": 0,
              "ticks": ""
             }
            },
            "type": "scatter"
           }
          ],
          "scatter3d": [
           {
            "line": {
             "colorbar": {
              "outlinewidth": 0,
              "ticks": ""
             }
            },
            "marker": {
             "colorbar": {
              "outlinewidth": 0,
              "ticks": ""
             }
            },
            "type": "scatter3d"
           }
          ],
          "scattercarpet": [
           {
            "marker": {
             "colorbar": {
              "outlinewidth": 0,
              "ticks": ""
             }
            },
            "type": "scattercarpet"
           }
          ],
          "scattergeo": [
           {
            "marker": {
             "colorbar": {
              "outlinewidth": 0,
              "ticks": ""
             }
            },
            "type": "scattergeo"
           }
          ],
          "scattergl": [
           {
            "marker": {
             "colorbar": {
              "outlinewidth": 0,
              "ticks": ""
             }
            },
            "type": "scattergl"
           }
          ],
          "scattermapbox": [
           {
            "marker": {
             "colorbar": {
              "outlinewidth": 0,
              "ticks": ""
             }
            },
            "type": "scattermapbox"
           }
          ],
          "scatterpolar": [
           {
            "marker": {
             "colorbar": {
              "outlinewidth": 0,
              "ticks": ""
             }
            },
            "type": "scatterpolar"
           }
          ],
          "scatterpolargl": [
           {
            "marker": {
             "colorbar": {
              "outlinewidth": 0,
              "ticks": ""
             }
            },
            "type": "scatterpolargl"
           }
          ],
          "scatterternary": [
           {
            "marker": {
             "colorbar": {
              "outlinewidth": 0,
              "ticks": ""
             }
            },
            "type": "scatterternary"
           }
          ],
          "surface": [
           {
            "colorbar": {
             "outlinewidth": 0,
             "ticks": ""
            },
            "colorscale": [
             [
              0,
              "#0d0887"
             ],
             [
              0.1111111111111111,
              "#46039f"
             ],
             [
              0.2222222222222222,
              "#7201a8"
             ],
             [
              0.3333333333333333,
              "#9c179e"
             ],
             [
              0.4444444444444444,
              "#bd3786"
             ],
             [
              0.5555555555555556,
              "#d8576b"
             ],
             [
              0.6666666666666666,
              "#ed7953"
             ],
             [
              0.7777777777777778,
              "#fb9f3a"
             ],
             [
              0.8888888888888888,
              "#fdca26"
             ],
             [
              1,
              "#f0f921"
             ]
            ],
            "type": "surface"
           }
          ],
          "table": [
           {
            "cells": {
             "fill": {
              "color": "#EBF0F8"
             },
             "line": {
              "color": "white"
             }
            },
            "header": {
             "fill": {
              "color": "#C8D4E3"
             },
             "line": {
              "color": "white"
             }
            },
            "type": "table"
           }
          ]
         },
         "layout": {
          "annotationdefaults": {
           "arrowcolor": "#2a3f5f",
           "arrowhead": 0,
           "arrowwidth": 1
          },
          "autotypenumbers": "strict",
          "coloraxis": {
           "colorbar": {
            "outlinewidth": 0,
            "ticks": ""
           }
          },
          "colorscale": {
           "diverging": [
            [
             0,
             "#8e0152"
            ],
            [
             0.1,
             "#c51b7d"
            ],
            [
             0.2,
             "#de77ae"
            ],
            [
             0.3,
             "#f1b6da"
            ],
            [
             0.4,
             "#fde0ef"
            ],
            [
             0.5,
             "#f7f7f7"
            ],
            [
             0.6,
             "#e6f5d0"
            ],
            [
             0.7,
             "#b8e186"
            ],
            [
             0.8,
             "#7fbc41"
            ],
            [
             0.9,
             "#4d9221"
            ],
            [
             1,
             "#276419"
            ]
           ],
           "sequential": [
            [
             0,
             "#0d0887"
            ],
            [
             0.1111111111111111,
             "#46039f"
            ],
            [
             0.2222222222222222,
             "#7201a8"
            ],
            [
             0.3333333333333333,
             "#9c179e"
            ],
            [
             0.4444444444444444,
             "#bd3786"
            ],
            [
             0.5555555555555556,
             "#d8576b"
            ],
            [
             0.6666666666666666,
             "#ed7953"
            ],
            [
             0.7777777777777778,
             "#fb9f3a"
            ],
            [
             0.8888888888888888,
             "#fdca26"
            ],
            [
             1,
             "#f0f921"
            ]
           ],
           "sequentialminus": [
            [
             0,
             "#0d0887"
            ],
            [
             0.1111111111111111,
             "#46039f"
            ],
            [
             0.2222222222222222,
             "#7201a8"
            ],
            [
             0.3333333333333333,
             "#9c179e"
            ],
            [
             0.4444444444444444,
             "#bd3786"
            ],
            [
             0.5555555555555556,
             "#d8576b"
            ],
            [
             0.6666666666666666,
             "#ed7953"
            ],
            [
             0.7777777777777778,
             "#fb9f3a"
            ],
            [
             0.8888888888888888,
             "#fdca26"
            ],
            [
             1,
             "#f0f921"
            ]
           ]
          },
          "colorway": [
           "#636efa",
           "#EF553B",
           "#00cc96",
           "#ab63fa",
           "#FFA15A",
           "#19d3f3",
           "#FF6692",
           "#B6E880",
           "#FF97FF",
           "#FECB52"
          ],
          "font": {
           "color": "#2a3f5f"
          },
          "geo": {
           "bgcolor": "white",
           "lakecolor": "white",
           "landcolor": "#E5ECF6",
           "showlakes": true,
           "showland": true,
           "subunitcolor": "white"
          },
          "hoverlabel": {
           "align": "left"
          },
          "hovermode": "closest",
          "mapbox": {
           "style": "light"
          },
          "paper_bgcolor": "white",
          "plot_bgcolor": "#E5ECF6",
          "polar": {
           "angularaxis": {
            "gridcolor": "white",
            "linecolor": "white",
            "ticks": ""
           },
           "bgcolor": "#E5ECF6",
           "radialaxis": {
            "gridcolor": "white",
            "linecolor": "white",
            "ticks": ""
           }
          },
          "scene": {
           "xaxis": {
            "backgroundcolor": "#E5ECF6",
            "gridcolor": "white",
            "gridwidth": 2,
            "linecolor": "white",
            "showbackground": true,
            "ticks": "",
            "zerolinecolor": "white"
           },
           "yaxis": {
            "backgroundcolor": "#E5ECF6",
            "gridcolor": "white",
            "gridwidth": 2,
            "linecolor": "white",
            "showbackground": true,
            "ticks": "",
            "zerolinecolor": "white"
           },
           "zaxis": {
            "backgroundcolor": "#E5ECF6",
            "gridcolor": "white",
            "gridwidth": 2,
            "linecolor": "white",
            "showbackground": true,
            "ticks": "",
            "zerolinecolor": "white"
           }
          },
          "shapedefaults": {
           "line": {
            "color": "#2a3f5f"
           }
          },
          "ternary": {
           "aaxis": {
            "gridcolor": "white",
            "linecolor": "white",
            "ticks": ""
           },
           "baxis": {
            "gridcolor": "white",
            "linecolor": "white",
            "ticks": ""
           },
           "bgcolor": "#E5ECF6",
           "caxis": {
            "gridcolor": "white",
            "linecolor": "white",
            "ticks": ""
           }
          },
          "title": {
           "x": 0.05
          },
          "xaxis": {
           "automargin": true,
           "gridcolor": "white",
           "linecolor": "white",
           "ticks": "",
           "title": {
            "standoff": 15
           },
           "zerolinecolor": "white",
           "zerolinewidth": 2
          },
          "yaxis": {
           "automargin": true,
           "gridcolor": "white",
           "linecolor": "white",
           "ticks": "",
           "title": {
            "standoff": 15
           },
           "zerolinecolor": "white",
           "zerolinewidth": 2
          }
         }
        },
        "title": {
         "text": "Total Cases"
        },
        "xaxis": {
         "anchor": "y",
         "domain": [
          0,
          1
         ],
         "title": {
          "text": "Country"
         }
        },
        "yaxis": {
         "anchor": "x",
         "domain": [
          0,
          1
         ],
         "title": {
          "text": "Total Cases"
         }
        }
       }
      },
      "text/html": [
       "<div>                            <div id=\"f7f3abf2-e05d-4d9e-ab0a-0a5df9dc0d20\" class=\"plotly-graph-div\" style=\"height:525px; width:100%;\"></div>            <script type=\"text/javascript\">                require([\"plotly\"], function(Plotly) {                    window.PLOTLYENV=window.PLOTLYENV || {};                                    if (document.getElementById(\"f7f3abf2-e05d-4d9e-ab0a-0a5df9dc0d20\")) {                    Plotly.newPlot(                        \"f7f3abf2-e05d-4d9e-ab0a-0a5df9dc0d20\",                        [{\"alignmentgroup\":\"True\",\"hovertemplate\":\"Country=%{x}<br>Total Cases=%{marker.color}<extra></extra>\",\"legendgroup\":\"\",\"marker\":{\"color\":[746014098.0,425704517.0,407771615.0,132888951.0,74882695.0,74347548.0,73717676.0,63027659.0,60543682.0,59475032.0,52421884.0,51268034.0,50752853.0,50084335.0,47155234.0,42447678.0,41431948.0,38585191.0,37738077.0,35266178.0,25280332.0,22409936.0,21632319.0,21570149.0,20902374.0,16351440.0,16202474.0,15805665.0,15192468.0,14408757.0,13194863.0,13026629.0,12422845.0,11910109.0,11858838.0,10672859.0,10649646.0,10622205.0,10595186.0,10371724.0,10247326.0,10060093.0,9266263.0,9239657.0,8191161.0,7839270.0,7659484.0,7644426.0,7552067.0,6549995.0,6545499.0,6107371.0,5474629.0,5243653.0,5239798.0,5213980.0,5126433.0,4909197.0,4900649.0,4893999.0,4876417.0,4839834.0,4632482.0,4631835.0,4421215.0,4287847.0,4236782.0,3984174.0,3586463.0,3333075.0,3277734.0,3249458.0,3030088.0,3012377.0,2573206.0,2476502.0,2265640.0,2220699.0,2200057.0,2132883.0,1985889.0,1890380.0,1817274.0,1774181.0,1724220.0,1708798.0,1663545.0,1586747.0,1458484.0,1443321.0,1421470.0,1345940.0,1314031.0,1271391.0,1195836.0,1146724.0,1129913.0,1117391.0,1071951.0,1031803.0,1023155.0,1000626.0,844040.0,799222.0,798665.0,781771.0,716514.0,681299.0,675912.0,655703.0,644209.0,593699.0,593048.0,581546.0,557355.0,547075.0,536447.0,524410.0,510578.0,491145.0,488057.0,473368.0,463888.0,448728.0,446643.0,445402.0,444238.0,431689.0,421210.0,390637.0,388775.0,370890.0,358632.0,333500.0,306564.0,304005.0,268396.0,267902.0,255964.0,253203.0,251261.0,245893.0,239884.0,237908.0,236673.0,231452.0,229521.0,228925.0,225550.0,223576.0,215110.0,205758.0,199978.0,169903.0,166917.0,160975.0,159880.0,154173.0,134994.0,122618.0,121909.0,107948.0,106383.0,98536.0,97074.0,95388.0,91526.0,69524.0,66777.0,64935.0,56893.0,52437.0,49814.0,49745.0,48026.0,45340.0,44432.0,42465.0,40026.0,39539.0,35966.0,33173.0,30140.0,28876.0,24998.0,22847.0,21511.0,19885.0,19777.0,14701.0,12619.0,7824.0,7784.0,5080.0,4742.0,4697.0,4605.0,4495.0,4470.0,4450.0,4039.0,3977.0,3246.0,2678.0,2467.0,2415.0,2383.0,614.0,11.0,0.0],\"coloraxis\":\"coloraxis\",\"pattern\":{\"shape\":\"\"}},\"name\":\"\",\"offsetgroup\":\"\",\"orientation\":\"v\",\"showlegend\":false,\"textposition\":\"auto\",\"x\":[\"United States\",\"Brazil\",\"India\",\"Russia\",\"Peru\",\"Mexico\",\"Spain\",\"South Africa\",\"Colombia\",\"United Kingdom\",\"Iran\",\"Chile\",\"Italy\",\"France\",\"Argentina\",\"Germany\",\"Turkey\",\"Saudi Arabia\",\"Pakistan\",\"Bangladesh\",\"Iraq\",\"Philippines\",\"China\",\"Indonesia\",\"Canada\",\"Qatar\",\"Israel\",\"Ukraine\",\"Belgium\",\"Ecuador\",\"Kazakhstan\",\"Netherlands\",\"Egypt\",\"Sweden\",\"Bolivia\",\"Romania\",\"Dominican Republic\",\"Kuwait\",\"Belarus\",\"Panama\",\"United Arab Emirates\",\"Oman\",\"Portugal\",\"Poland\",\"Singapore\",\"Morocco\",\"Japan\",\"Guatemala\",\"Switzerland\",\"Bahrain\",\"Honduras\",\"Nigeria\",\"Armenia\",\"Nepal\",\"Ireland\",\"Czech Republic\",\"Afghanistan\",\"Austria\",\"Ghana\",\"Algeria\",\"Ethiopia\",\"Venezuela\",\"Moldova\",\"Costa Rica\",\"Uzbekistan\",\"Kyrgyzstan\",\"Azerbaijan\",\"Serbia\",\"Puerto Rico\",\"South Korea\",\"Kenya\",\"Palestine\",\"Denmark\",\"Australia\",\"El Salvador\",\"Cameroon\",\"Paraguay\",\"Lebanon\",\"Bosnia and Herzegovina\",\"Cote d'Ivoire\",\"Norway\",\"Bulgaria\",\"Libya\",\"Malaysia\",\"Macedonia\",\"Hungary\",\"Sudan\",\"Senegal\",\"Finland\",\"Madagascar\",\"Greece\",\"Kosovo\",\"Croatia\",\"Democratic Republic of Congo\",\"Guinea\",\"Luxembourg\",\"Zambia\",\"Tajikistan\",\"Albania\",\"Gabon\",\"Haiti\",\"Tunisia\",\"Maldives\",\"Mauritania\",\"Slovakia\",\"Djibouti\",\"Jordan\",\"Namibia\",\"Montenegro\",\"Thailand\",\"Myanmar\",\"Zimbabwe\",\"Central African Republic\",\"Cuba\",\"Equatorial Guinea\",\"Slovenia\",\"Malawi\",\"Nicaragua\",\"Mozambique\",\"Somalia\",\"Lithuania\",\"Congo\",\"Cape Verde\",\"Uganda\",\"Sri Lanka\",\"Estonia\",\"Swaziland\",\"Georgia\",\"Iceland\",\"Mali\",\"Rwanda\",\"Jamaica\",\"Suriname\",\"South Sudan\",\"Guinea-Bissau\",\"Angola\",\"Sierra Leone\",\"Syria\",\"Latvia\",\"New Zealand\",\"Malta\",\"Benin\",\"Uruguay\",\"Bahamas\",\"Cyprus\",\"Burkina Faso\",\"Gambia\",\"Yemen\",\"Trinidad and Tobago\",\"Andorra\",\"Aruba\",\"Botswana\",\"Niger\",\"Togo\",\"Guyana\",\"Guam\",\"Liberia\",\"Chad\",\"San Marino\",\"Vietnam\",\"Sao Tome and Principe\",\"Lesotho\",\"Belize\",\"United States Virgin Islands\",\"Taiwan\",\"French Polynesia\",\"Tanzania\",\"Mauritius\",\"Jersey\",\"Isle of Man\",\"Faeroe Islands\",\"Comoros\",\"Guernsey\",\"Burundi\",\"Sint Maarten (Dutch part)\",\"Gibraltar\",\"Turks and Caicos Islands\",\"Mongolia\",\"Eritrea\",\"Cambodia\",\"Papua New Guinea\",\"Cayman Islands\",\"Brunei\",\"Bermuda\",\"Barbados\",\"Bhutan\",\"Monaco\",\"Liechtenstein\",\"Curacao\",\"Seychelles\",\"Antigua and Barbuda\",\"Saint Vincent and the Grenadines\",\"Northern Mariana Islands\",\"Bonaire Sint Eustatius and Saba\",\"Fiji\",\"Timor\",\"British Virgin Islands\",\"New Caledonia\",\"Grenada\",\"Saint Lucia\",\"Laos\",\"Dominica\",\"Saint Kitts and Nevis\",\"Greenland\",\"Falkland Islands\",\"Vatican\",\"Montserrat\",\"Anguilla\",\"Solomon Islands\",\"Hong Kong\"],\"xaxis\":\"x\",\"y\":[746014098.0,425704517.0,407771615.0,132888951.0,74882695.0,74347548.0,73717676.0,63027659.0,60543682.0,59475032.0,52421884.0,51268034.0,50752853.0,50084335.0,47155234.0,42447678.0,41431948.0,38585191.0,37738077.0,35266178.0,25280332.0,22409936.0,21632319.0,21570149.0,20902374.0,16351440.0,16202474.0,15805665.0,15192468.0,14408757.0,13194863.0,13026629.0,12422845.0,11910109.0,11858838.0,10672859.0,10649646.0,10622205.0,10595186.0,10371724.0,10247326.0,10060093.0,9266263.0,9239657.0,8191161.0,7839270.0,7659484.0,7644426.0,7552067.0,6549995.0,6545499.0,6107371.0,5474629.0,5243653.0,5239798.0,5213980.0,5126433.0,4909197.0,4900649.0,4893999.0,4876417.0,4839834.0,4632482.0,4631835.0,4421215.0,4287847.0,4236782.0,3984174.0,3586463.0,3333075.0,3277734.0,3249458.0,3030088.0,3012377.0,2573206.0,2476502.0,2265640.0,2220699.0,2200057.0,2132883.0,1985889.0,1890380.0,1817274.0,1774181.0,1724220.0,1708798.0,1663545.0,1586747.0,1458484.0,1443321.0,1421470.0,1345940.0,1314031.0,1271391.0,1195836.0,1146724.0,1129913.0,1117391.0,1071951.0,1031803.0,1023155.0,1000626.0,844040.0,799222.0,798665.0,781771.0,716514.0,681299.0,675912.0,655703.0,644209.0,593699.0,593048.0,581546.0,557355.0,547075.0,536447.0,524410.0,510578.0,491145.0,488057.0,473368.0,463888.0,448728.0,446643.0,445402.0,444238.0,431689.0,421210.0,390637.0,388775.0,370890.0,358632.0,333500.0,306564.0,304005.0,268396.0,267902.0,255964.0,253203.0,251261.0,245893.0,239884.0,237908.0,236673.0,231452.0,229521.0,228925.0,225550.0,223576.0,215110.0,205758.0,199978.0,169903.0,166917.0,160975.0,159880.0,154173.0,134994.0,122618.0,121909.0,107948.0,106383.0,98536.0,97074.0,95388.0,91526.0,69524.0,66777.0,64935.0,56893.0,52437.0,49814.0,49745.0,48026.0,45340.0,44432.0,42465.0,40026.0,39539.0,35966.0,33173.0,30140.0,28876.0,24998.0,22847.0,21511.0,19885.0,19777.0,14701.0,12619.0,7824.0,7784.0,5080.0,4742.0,4697.0,4605.0,4495.0,4470.0,4450.0,4039.0,3977.0,3246.0,2678.0,2467.0,2415.0,2383.0,614.0,11.0,0.0],\"yaxis\":\"y\",\"type\":\"bar\"}],                        {\"template\":{\"data\":{\"bar\":[{\"error_x\":{\"color\":\"#2a3f5f\"},\"error_y\":{\"color\":\"#2a3f5f\"},\"marker\":{\"line\":{\"color\":\"#E5ECF6\",\"width\":0.5},\"pattern\":{\"fillmode\":\"overlay\",\"size\":10,\"solidity\":0.2}},\"type\":\"bar\"}],\"barpolar\":[{\"marker\":{\"line\":{\"color\":\"#E5ECF6\",\"width\":0.5},\"pattern\":{\"fillmode\":\"overlay\",\"size\":10,\"solidity\":0.2}},\"type\":\"barpolar\"}],\"carpet\":[{\"aaxis\":{\"endlinecolor\":\"#2a3f5f\",\"gridcolor\":\"white\",\"linecolor\":\"white\",\"minorgridcolor\":\"white\",\"startlinecolor\":\"#2a3f5f\"},\"baxis\":{\"endlinecolor\":\"#2a3f5f\",\"gridcolor\":\"white\",\"linecolor\":\"white\",\"minorgridcolor\":\"white\",\"startlinecolor\":\"#2a3f5f\"},\"type\":\"carpet\"}],\"choropleth\":[{\"colorbar\":{\"outlinewidth\":0,\"ticks\":\"\"},\"type\":\"choropleth\"}],\"contour\":[{\"colorbar\":{\"outlinewidth\":0,\"ticks\":\"\"},\"colorscale\":[[0.0,\"#0d0887\"],[0.1111111111111111,\"#46039f\"],[0.2222222222222222,\"#7201a8\"],[0.3333333333333333,\"#9c179e\"],[0.4444444444444444,\"#bd3786\"],[0.5555555555555556,\"#d8576b\"],[0.6666666666666666,\"#ed7953\"],[0.7777777777777778,\"#fb9f3a\"],[0.8888888888888888,\"#fdca26\"],[1.0,\"#f0f921\"]],\"type\":\"contour\"}],\"contourcarpet\":[{\"colorbar\":{\"outlinewidth\":0,\"ticks\":\"\"},\"type\":\"contourcarpet\"}],\"heatmap\":[{\"colorbar\":{\"outlinewidth\":0,\"ticks\":\"\"},\"colorscale\":[[0.0,\"#0d0887\"],[0.1111111111111111,\"#46039f\"],[0.2222222222222222,\"#7201a8\"],[0.3333333333333333,\"#9c179e\"],[0.4444444444444444,\"#bd3786\"],[0.5555555555555556,\"#d8576b\"],[0.6666666666666666,\"#ed7953\"],[0.7777777777777778,\"#fb9f3a\"],[0.8888888888888888,\"#fdca26\"],[1.0,\"#f0f921\"]],\"type\":\"heatmap\"}],\"heatmapgl\":[{\"colorbar\":{\"outlinewidth\":0,\"ticks\":\"\"},\"colorscale\":[[0.0,\"#0d0887\"],[0.1111111111111111,\"#46039f\"],[0.2222222222222222,\"#7201a8\"],[0.3333333333333333,\"#9c179e\"],[0.4444444444444444,\"#bd3786\"],[0.5555555555555556,\"#d8576b\"],[0.6666666666666666,\"#ed7953\"],[0.7777777777777778,\"#fb9f3a\"],[0.8888888888888888,\"#fdca26\"],[1.0,\"#f0f921\"]],\"type\":\"heatmapgl\"}],\"histogram\":[{\"marker\":{\"pattern\":{\"fillmode\":\"overlay\",\"size\":10,\"solidity\":0.2}},\"type\":\"histogram\"}],\"histogram2d\":[{\"colorbar\":{\"outlinewidth\":0,\"ticks\":\"\"},\"colorscale\":[[0.0,\"#0d0887\"],[0.1111111111111111,\"#46039f\"],[0.2222222222222222,\"#7201a8\"],[0.3333333333333333,\"#9c179e\"],[0.4444444444444444,\"#bd3786\"],[0.5555555555555556,\"#d8576b\"],[0.6666666666666666,\"#ed7953\"],[0.7777777777777778,\"#fb9f3a\"],[0.8888888888888888,\"#fdca26\"],[1.0,\"#f0f921\"]],\"type\":\"histogram2d\"}],\"histogram2dcontour\":[{\"colorbar\":{\"outlinewidth\":0,\"ticks\":\"\"},\"colorscale\":[[0.0,\"#0d0887\"],[0.1111111111111111,\"#46039f\"],[0.2222222222222222,\"#7201a8\"],[0.3333333333333333,\"#9c179e\"],[0.4444444444444444,\"#bd3786\"],[0.5555555555555556,\"#d8576b\"],[0.6666666666666666,\"#ed7953\"],[0.7777777777777778,\"#fb9f3a\"],[0.8888888888888888,\"#fdca26\"],[1.0,\"#f0f921\"]],\"type\":\"histogram2dcontour\"}],\"mesh3d\":[{\"colorbar\":{\"outlinewidth\":0,\"ticks\":\"\"},\"type\":\"mesh3d\"}],\"parcoords\":[{\"line\":{\"colorbar\":{\"outlinewidth\":0,\"ticks\":\"\"}},\"type\":\"parcoords\"}],\"pie\":[{\"automargin\":true,\"type\":\"pie\"}],\"scatter\":[{\"marker\":{\"colorbar\":{\"outlinewidth\":0,\"ticks\":\"\"}},\"type\":\"scatter\"}],\"scatter3d\":[{\"line\":{\"colorbar\":{\"outlinewidth\":0,\"ticks\":\"\"}},\"marker\":{\"colorbar\":{\"outlinewidth\":0,\"ticks\":\"\"}},\"type\":\"scatter3d\"}],\"scattercarpet\":[{\"marker\":{\"colorbar\":{\"outlinewidth\":0,\"ticks\":\"\"}},\"type\":\"scattercarpet\"}],\"scattergeo\":[{\"marker\":{\"colorbar\":{\"outlinewidth\":0,\"ticks\":\"\"}},\"type\":\"scattergeo\"}],\"scattergl\":[{\"marker\":{\"colorbar\":{\"outlinewidth\":0,\"ticks\":\"\"}},\"type\":\"scattergl\"}],\"scattermapbox\":[{\"marker\":{\"colorbar\":{\"outlinewidth\":0,\"ticks\":\"\"}},\"type\":\"scattermapbox\"}],\"scatterpolar\":[{\"marker\":{\"colorbar\":{\"outlinewidth\":0,\"ticks\":\"\"}},\"type\":\"scatterpolar\"}],\"scatterpolargl\":[{\"marker\":{\"colorbar\":{\"outlinewidth\":0,\"ticks\":\"\"}},\"type\":\"scatterpolargl\"}],\"scatterternary\":[{\"marker\":{\"colorbar\":{\"outlinewidth\":0,\"ticks\":\"\"}},\"type\":\"scatterternary\"}],\"surface\":[{\"colorbar\":{\"outlinewidth\":0,\"ticks\":\"\"},\"colorscale\":[[0.0,\"#0d0887\"],[0.1111111111111111,\"#46039f\"],[0.2222222222222222,\"#7201a8\"],[0.3333333333333333,\"#9c179e\"],[0.4444444444444444,\"#bd3786\"],[0.5555555555555556,\"#d8576b\"],[0.6666666666666666,\"#ed7953\"],[0.7777777777777778,\"#fb9f3a\"],[0.8888888888888888,\"#fdca26\"],[1.0,\"#f0f921\"]],\"type\":\"surface\"}],\"table\":[{\"cells\":{\"fill\":{\"color\":\"#EBF0F8\"},\"line\":{\"color\":\"white\"}},\"header\":{\"fill\":{\"color\":\"#C8D4E3\"},\"line\":{\"color\":\"white\"}},\"type\":\"table\"}]},\"layout\":{\"annotationdefaults\":{\"arrowcolor\":\"#2a3f5f\",\"arrowhead\":0,\"arrowwidth\":1},\"autotypenumbers\":\"strict\",\"coloraxis\":{\"colorbar\":{\"outlinewidth\":0,\"ticks\":\"\"}},\"colorscale\":{\"diverging\":[[0,\"#8e0152\"],[0.1,\"#c51b7d\"],[0.2,\"#de77ae\"],[0.3,\"#f1b6da\"],[0.4,\"#fde0ef\"],[0.5,\"#f7f7f7\"],[0.6,\"#e6f5d0\"],[0.7,\"#b8e186\"],[0.8,\"#7fbc41\"],[0.9,\"#4d9221\"],[1,\"#276419\"]],\"sequential\":[[0.0,\"#0d0887\"],[0.1111111111111111,\"#46039f\"],[0.2222222222222222,\"#7201a8\"],[0.3333333333333333,\"#9c179e\"],[0.4444444444444444,\"#bd3786\"],[0.5555555555555556,\"#d8576b\"],[0.6666666666666666,\"#ed7953\"],[0.7777777777777778,\"#fb9f3a\"],[0.8888888888888888,\"#fdca26\"],[1.0,\"#f0f921\"]],\"sequentialminus\":[[0.0,\"#0d0887\"],[0.1111111111111111,\"#46039f\"],[0.2222222222222222,\"#7201a8\"],[0.3333333333333333,\"#9c179e\"],[0.4444444444444444,\"#bd3786\"],[0.5555555555555556,\"#d8576b\"],[0.6666666666666666,\"#ed7953\"],[0.7777777777777778,\"#fb9f3a\"],[0.8888888888888888,\"#fdca26\"],[1.0,\"#f0f921\"]]},\"colorway\":[\"#636efa\",\"#EF553B\",\"#00cc96\",\"#ab63fa\",\"#FFA15A\",\"#19d3f3\",\"#FF6692\",\"#B6E880\",\"#FF97FF\",\"#FECB52\"],\"font\":{\"color\":\"#2a3f5f\"},\"geo\":{\"bgcolor\":\"white\",\"lakecolor\":\"white\",\"landcolor\":\"#E5ECF6\",\"showlakes\":true,\"showland\":true,\"subunitcolor\":\"white\"},\"hoverlabel\":{\"align\":\"left\"},\"hovermode\":\"closest\",\"mapbox\":{\"style\":\"light\"},\"paper_bgcolor\":\"white\",\"plot_bgcolor\":\"#E5ECF6\",\"polar\":{\"angularaxis\":{\"gridcolor\":\"white\",\"linecolor\":\"white\",\"ticks\":\"\"},\"bgcolor\":\"#E5ECF6\",\"radialaxis\":{\"gridcolor\":\"white\",\"linecolor\":\"white\",\"ticks\":\"\"}},\"scene\":{\"xaxis\":{\"backgroundcolor\":\"#E5ECF6\",\"gridcolor\":\"white\",\"gridwidth\":2,\"linecolor\":\"white\",\"showbackground\":true,\"ticks\":\"\",\"zerolinecolor\":\"white\"},\"yaxis\":{\"backgroundcolor\":\"#E5ECF6\",\"gridcolor\":\"white\",\"gridwidth\":2,\"linecolor\":\"white\",\"showbackground\":true,\"ticks\":\"\",\"zerolinecolor\":\"white\"},\"zaxis\":{\"backgroundcolor\":\"#E5ECF6\",\"gridcolor\":\"white\",\"gridwidth\":2,\"linecolor\":\"white\",\"showbackground\":true,\"ticks\":\"\",\"zerolinecolor\":\"white\"}},\"shapedefaults\":{\"line\":{\"color\":\"#2a3f5f\"}},\"ternary\":{\"aaxis\":{\"gridcolor\":\"white\",\"linecolor\":\"white\",\"ticks\":\"\"},\"baxis\":{\"gridcolor\":\"white\",\"linecolor\":\"white\",\"ticks\":\"\"},\"bgcolor\":\"#E5ECF6\",\"caxis\":{\"gridcolor\":\"white\",\"linecolor\":\"white\",\"ticks\":\"\"}},\"title\":{\"x\":0.05},\"xaxis\":{\"automargin\":true,\"gridcolor\":\"white\",\"linecolor\":\"white\",\"ticks\":\"\",\"title\":{\"standoff\":15},\"zerolinecolor\":\"white\",\"zerolinewidth\":2},\"yaxis\":{\"automargin\":true,\"gridcolor\":\"white\",\"linecolor\":\"white\",\"ticks\":\"\",\"title\":{\"standoff\":15},\"zerolinecolor\":\"white\",\"zerolinewidth\":2}}},\"xaxis\":{\"anchor\":\"y\",\"domain\":[0.0,1.0],\"title\":{\"text\":\"Country\"}},\"yaxis\":{\"anchor\":\"x\",\"domain\":[0.0,1.0],\"title\":{\"text\":\"Total Cases\"}},\"coloraxis\":{\"colorbar\":{\"title\":{\"text\":\"Total Cases\"}},\"colorscale\":[[0.0,\"#0d0887\"],[0.1111111111111111,\"#46039f\"],[0.2222222222222222,\"#7201a8\"],[0.3333333333333333,\"#9c179e\"],[0.4444444444444444,\"#bd3786\"],[0.5555555555555556,\"#d8576b\"],[0.6666666666666666,\"#ed7953\"],[0.7777777777777778,\"#fb9f3a\"],[0.8888888888888888,\"#fdca26\"],[1.0,\"#f0f921\"]]},\"legend\":{\"tracegroupgap\":0},\"title\":{\"text\":\"Total Cases\"},\"barmode\":\"relative\"},                        {\"responsive\": true}                    ).then(function(){\n",
       "                            \n",
       "var gd = document.getElementById('f7f3abf2-e05d-4d9e-ab0a-0a5df9dc0d20');\n",
       "var x = new MutationObserver(function (mutations, observer) {{\n",
       "        var display = window.getComputedStyle(gd).display;\n",
       "        if (!display || display === 'none') {{\n",
       "            console.log([gd, 'removed!']);\n",
       "            Plotly.purge(gd);\n",
       "            observer.disconnect();\n",
       "        }}\n",
       "}});\n",
       "\n",
       "// Listen for the removal of the full notebook cells\n",
       "var notebookContainer = gd.closest('#notebook-container');\n",
       "if (notebookContainer) {{\n",
       "    x.observe(notebookContainer, {childList: true});\n",
       "}}\n",
       "\n",
       "// Listen for the clearing of the current output cell\n",
       "var outputEl = gd.closest('.output');\n",
       "if (outputEl) {{\n",
       "    x.observe(outputEl, {childList: true});\n",
       "}}\n",
       "\n",
       "                        })                };                });            </script>        </div>"
      ]
     },
     "metadata": {},
     "output_type": "display_data"
    }
   ],
   "source": [
    "third\n"
   ]
  },
  {
   "cell_type": "code",
   "execution_count": 32,
   "id": "d85fa08f",
   "metadata": {},
   "outputs": [
    {
     "data": {
      "application/vnd.plotly.v1+json": {
       "config": {
        "plotlyServerURL": "https://plot.ly"
       },
       "data": [
        {
         "alignmentgroup": "True",
         "hovertemplate": "Country=%{x}<br>Total Deaths=%{marker.color}<extra></extra>",
         "legendgroup": "",
         "marker": {
          "color": [
           26477574,
           14340567,
           7247327,
           2131571,
           3020038,
           7295850,
           5510624,
           1357682,
           1936134,
           7249573,
           2914070,
           1283880,
           6664225,
           5633444,
           1077426,
           1640691,
           1049757,
           442507,
           789557,
           484534,
           744253,
           448665,
           1066939,
           916111,
           1455549,
           23820,
           126278,
           343334,
           1798461,
           1083749,
           161480,
           1142410,
           644416,
           941063,
           578559,
           464952,
           209024,
           69104,
           88409,
           222435,
           58035,
           73391,
           302612,
           304001,
           4691,
           142270,
           194918,
           281588,
           320693,
           22413,
           200844,
           125473,
           102039,
           27737,
           310201,
           79880,
           165875,
           134945,
           29143,
           206429,
           77686,
           40840,
           129946,
           50352,
           31903,
           114922,
           59495,
           87503,
           54940,
           63333,
           59485,
           21522,
           113280,
           65029,
           71957,
           56606,
           42850,
           22983,
           70578,
           14220,
           47158,
           72850,
           29730,
           24012,
           74066,
           110142,
           102825,
           30320,
           58377,
           17744,
           44805,
           47571,
           28757,
           32040,
           7283,
           21907,
           26475,
           9730,
           31056,
           6877,
           23891,
           19025,
           3054,
           19810,
           6055,
           8006,
           5653,
           6634,
           11356,
           11162,
           13973,
           15984,
           7108,
           16774,
           8947,
           22165,
           15480,
           16410,
           3396,
           15001,
           14345,
           9298,
           4749,
           3748,
           2108,
           11802,
           8179,
           4013,
           1968,
           18813,
           1744,
           5653,
           6961,
           6063,
           4199,
           11820,
           10036,
           12098,
           5376,
           4145,
           2409,
           4374,
           6083,
           5998,
           3735,
           10248,
           7201,
           64304,
           4519,
           9850,
           1624,
           895,
           11676,
           4197,
           5783,
           2715,
           10087,
           12212,
           8596,
           2318,
           2198,
           2680,
           1613,
           1833,
           1423,
           260,
           3733,
           1988,
           5527,
           4310,
           0,
           920,
           2450,
           188,
           3146,
           0,
           476,
           0,
           0,
           0,
           417,
           213,
           475,
           1631,
           1321,
           0,
           192,
           198,
           207,
           0,
           568,
           0,
           396,
           48,
           132,
           0,
           183,
           0,
           0,
           0,
           0,
           0,
           0,
           0,
           0,
           0,
           177,
           0,
           0,
           0
          ],
          "coloraxis": "coloraxis",
          "pattern": {
           "shape": ""
          }
         },
         "name": "",
         "offsetgroup": "",
         "orientation": "v",
         "showlegend": false,
         "textposition": "auto",
         "type": "bar",
         "x": [
          "United States",
          "Brazil",
          "India",
          "Russia",
          "Peru",
          "Mexico",
          "Spain",
          "South Africa",
          "Colombia",
          "United Kingdom",
          "Iran",
          "Chile",
          "Italy",
          "France",
          "Argentina",
          "Germany",
          "Turkey",
          "Saudi Arabia",
          "Pakistan",
          "Bangladesh",
          "Iraq",
          "Philippines",
          "China",
          "Indonesia",
          "Canada",
          "Qatar",
          "Israel",
          "Ukraine",
          "Belgium",
          "Ecuador",
          "Kazakhstan",
          "Netherlands",
          "Egypt",
          "Sweden",
          "Bolivia",
          "Romania",
          "Dominican Republic",
          "Kuwait",
          "Belarus",
          "Panama",
          "United Arab Emirates",
          "Oman",
          "Portugal",
          "Poland",
          "Singapore",
          "Morocco",
          "Japan",
          "Guatemala",
          "Switzerland",
          "Bahrain",
          "Honduras",
          "Nigeria",
          "Armenia",
          "Nepal",
          "Ireland",
          "Czech Republic",
          "Afghanistan",
          "Austria",
          "Ghana",
          "Algeria",
          "Ethiopia",
          "Venezuela",
          "Moldova",
          "Costa Rica",
          "Uzbekistan",
          "Kyrgyzstan",
          "Azerbaijan",
          "Serbia",
          "Puerto Rico",
          "South Korea",
          "Kenya",
          "Palestine",
          "Denmark",
          "Australia",
          "El Salvador",
          "Cameroon",
          "Paraguay",
          "Lebanon",
          "Bosnia and Herzegovina",
          "Cote d'Ivoire",
          "Norway",
          "Bulgaria",
          "Libya",
          "Malaysia",
          "Macedonia",
          "Hungary",
          "Sudan",
          "Senegal",
          "Finland",
          "Madagascar",
          "Greece",
          "Kosovo",
          "Croatia",
          "Democratic Republic of Congo",
          "Guinea",
          "Luxembourg",
          "Zambia",
          "Tajikistan",
          "Albania",
          "Gabon",
          "Haiti",
          "Tunisia",
          "Maldives",
          "Mauritania",
          "Slovakia",
          "Djibouti",
          "Jordan",
          "Namibia",
          "Montenegro",
          "Thailand",
          "Myanmar",
          "Zimbabwe",
          "Central African Republic",
          "Cuba",
          "Equatorial Guinea",
          "Slovenia",
          "Malawi",
          "Nicaragua",
          "Mozambique",
          "Somalia",
          "Lithuania",
          "Congo",
          "Cape Verde",
          "Uganda",
          "Sri Lanka",
          "Estonia",
          "Swaziland",
          "Georgia",
          "Iceland",
          "Mali",
          "Rwanda",
          "Jamaica",
          "Suriname",
          "South Sudan",
          "Guinea-Bissau",
          "Angola",
          "Sierra Leone",
          "Syria",
          "Latvia",
          "New Zealand",
          "Malta",
          "Benin",
          "Uruguay",
          "Bahamas",
          "Cyprus",
          "Burkina Faso",
          "Gambia",
          "Yemen",
          "Trinidad and Tobago",
          "Andorra",
          "Aruba",
          "Botswana",
          "Niger",
          "Togo",
          "Guyana",
          "Guam",
          "Liberia",
          "Chad",
          "San Marino",
          "Vietnam",
          "Sao Tome and Principe",
          "Lesotho",
          "Belize",
          "United States Virgin Islands",
          "Taiwan",
          "French Polynesia",
          "Tanzania",
          "Mauritius",
          "Jersey",
          "Isle of Man",
          "Faeroe Islands",
          "Comoros",
          "Guernsey",
          "Burundi",
          "Sint Maarten (Dutch part)",
          "Gibraltar",
          "Turks and Caicos Islands",
          "Mongolia",
          "Eritrea",
          "Cambodia",
          "Papua New Guinea",
          "Cayman Islands",
          "Brunei",
          "Bermuda",
          "Barbados",
          "Bhutan",
          "Monaco",
          "Liechtenstein",
          "Curacao",
          "Seychelles",
          "Antigua and Barbuda",
          "Saint Vincent and the Grenadines",
          "Northern Mariana Islands",
          "Bonaire Sint Eustatius and Saba",
          "Fiji",
          "Timor",
          "British Virgin Islands",
          "New Caledonia",
          "Grenada",
          "Saint Lucia",
          "Laos",
          "Dominica",
          "Saint Kitts and Nevis",
          "Greenland",
          "Falkland Islands",
          "Vatican",
          "Montserrat",
          "Anguilla",
          "Solomon Islands",
          "Hong Kong"
         ],
         "xaxis": "x",
         "y": [
          26477574,
          14340567,
          7247327,
          2131571,
          3020038,
          7295850,
          5510624,
          1357682,
          1936134,
          7249573,
          2914070,
          1283880,
          6664225,
          5633444,
          1077426,
          1640691,
          1049757,
          442507,
          789557,
          484534,
          744253,
          448665,
          1066939,
          916111,
          1455549,
          23820,
          126278,
          343334,
          1798461,
          1083749,
          161480,
          1142410,
          644416,
          941063,
          578559,
          464952,
          209024,
          69104,
          88409,
          222435,
          58035,
          73391,
          302612,
          304001,
          4691,
          142270,
          194918,
          281588,
          320693,
          22413,
          200844,
          125473,
          102039,
          27737,
          310201,
          79880,
          165875,
          134945,
          29143,
          206429,
          77686,
          40840,
          129946,
          50352,
          31903,
          114922,
          59495,
          87503,
          54940,
          63333,
          59485,
          21522,
          113280,
          65029,
          71957,
          56606,
          42850,
          22983,
          70578,
          14220,
          47158,
          72850,
          29730,
          24012,
          74066,
          110142,
          102825,
          30320,
          58377,
          17744,
          44805,
          47571,
          28757,
          32040,
          7283,
          21907,
          26475,
          9730,
          31056,
          6877,
          23891,
          19025,
          3054,
          19810,
          6055,
          8006,
          5653,
          6634,
          11356,
          11162,
          13973,
          15984,
          7108,
          16774,
          8947,
          22165,
          15480,
          16410,
          3396,
          15001,
          14345,
          9298,
          4749,
          3748,
          2108,
          11802,
          8179,
          4013,
          1968,
          18813,
          1744,
          5653,
          6961,
          6063,
          4199,
          11820,
          10036,
          12098,
          5376,
          4145,
          2409,
          4374,
          6083,
          5998,
          3735,
          10248,
          7201,
          64304,
          4519,
          9850,
          1624,
          895,
          11676,
          4197,
          5783,
          2715,
          10087,
          12212,
          8596,
          2318,
          2198,
          2680,
          1613,
          1833,
          1423,
          260,
          3733,
          1988,
          5527,
          4310,
          0,
          920,
          2450,
          188,
          3146,
          0,
          476,
          0,
          0,
          0,
          417,
          213,
          475,
          1631,
          1321,
          0,
          192,
          198,
          207,
          0,
          568,
          0,
          396,
          48,
          132,
          0,
          183,
          0,
          0,
          0,
          0,
          0,
          0,
          0,
          0,
          0,
          177,
          0,
          0,
          0
         ],
         "yaxis": "y"
        }
       ],
       "layout": {
        "barmode": "relative",
        "coloraxis": {
         "colorbar": {
          "title": {
           "text": "Total Deaths"
          }
         },
         "colorscale": [
          [
           0,
           "#0d0887"
          ],
          [
           0.1111111111111111,
           "#46039f"
          ],
          [
           0.2222222222222222,
           "#7201a8"
          ],
          [
           0.3333333333333333,
           "#9c179e"
          ],
          [
           0.4444444444444444,
           "#bd3786"
          ],
          [
           0.5555555555555556,
           "#d8576b"
          ],
          [
           0.6666666666666666,
           "#ed7953"
          ],
          [
           0.7777777777777778,
           "#fb9f3a"
          ],
          [
           0.8888888888888888,
           "#fdca26"
          ],
          [
           1,
           "#f0f921"
          ]
         ]
        },
        "legend": {
         "tracegroupgap": 0
        },
        "template": {
         "data": {
          "bar": [
           {
            "error_x": {
             "color": "#2a3f5f"
            },
            "error_y": {
             "color": "#2a3f5f"
            },
            "marker": {
             "line": {
              "color": "#E5ECF6",
              "width": 0.5
             },
             "pattern": {
              "fillmode": "overlay",
              "size": 10,
              "solidity": 0.2
             }
            },
            "type": "bar"
           }
          ],
          "barpolar": [
           {
            "marker": {
             "line": {
              "color": "#E5ECF6",
              "width": 0.5
             },
             "pattern": {
              "fillmode": "overlay",
              "size": 10,
              "solidity": 0.2
             }
            },
            "type": "barpolar"
           }
          ],
          "carpet": [
           {
            "aaxis": {
             "endlinecolor": "#2a3f5f",
             "gridcolor": "white",
             "linecolor": "white",
             "minorgridcolor": "white",
             "startlinecolor": "#2a3f5f"
            },
            "baxis": {
             "endlinecolor": "#2a3f5f",
             "gridcolor": "white",
             "linecolor": "white",
             "minorgridcolor": "white",
             "startlinecolor": "#2a3f5f"
            },
            "type": "carpet"
           }
          ],
          "choropleth": [
           {
            "colorbar": {
             "outlinewidth": 0,
             "ticks": ""
            },
            "type": "choropleth"
           }
          ],
          "contour": [
           {
            "colorbar": {
             "outlinewidth": 0,
             "ticks": ""
            },
            "colorscale": [
             [
              0,
              "#0d0887"
             ],
             [
              0.1111111111111111,
              "#46039f"
             ],
             [
              0.2222222222222222,
              "#7201a8"
             ],
             [
              0.3333333333333333,
              "#9c179e"
             ],
             [
              0.4444444444444444,
              "#bd3786"
             ],
             [
              0.5555555555555556,
              "#d8576b"
             ],
             [
              0.6666666666666666,
              "#ed7953"
             ],
             [
              0.7777777777777778,
              "#fb9f3a"
             ],
             [
              0.8888888888888888,
              "#fdca26"
             ],
             [
              1,
              "#f0f921"
             ]
            ],
            "type": "contour"
           }
          ],
          "contourcarpet": [
           {
            "colorbar": {
             "outlinewidth": 0,
             "ticks": ""
            },
            "type": "contourcarpet"
           }
          ],
          "heatmap": [
           {
            "colorbar": {
             "outlinewidth": 0,
             "ticks": ""
            },
            "colorscale": [
             [
              0,
              "#0d0887"
             ],
             [
              0.1111111111111111,
              "#46039f"
             ],
             [
              0.2222222222222222,
              "#7201a8"
             ],
             [
              0.3333333333333333,
              "#9c179e"
             ],
             [
              0.4444444444444444,
              "#bd3786"
             ],
             [
              0.5555555555555556,
              "#d8576b"
             ],
             [
              0.6666666666666666,
              "#ed7953"
             ],
             [
              0.7777777777777778,
              "#fb9f3a"
             ],
             [
              0.8888888888888888,
              "#fdca26"
             ],
             [
              1,
              "#f0f921"
             ]
            ],
            "type": "heatmap"
           }
          ],
          "heatmapgl": [
           {
            "colorbar": {
             "outlinewidth": 0,
             "ticks": ""
            },
            "colorscale": [
             [
              0,
              "#0d0887"
             ],
             [
              0.1111111111111111,
              "#46039f"
             ],
             [
              0.2222222222222222,
              "#7201a8"
             ],
             [
              0.3333333333333333,
              "#9c179e"
             ],
             [
              0.4444444444444444,
              "#bd3786"
             ],
             [
              0.5555555555555556,
              "#d8576b"
             ],
             [
              0.6666666666666666,
              "#ed7953"
             ],
             [
              0.7777777777777778,
              "#fb9f3a"
             ],
             [
              0.8888888888888888,
              "#fdca26"
             ],
             [
              1,
              "#f0f921"
             ]
            ],
            "type": "heatmapgl"
           }
          ],
          "histogram": [
           {
            "marker": {
             "pattern": {
              "fillmode": "overlay",
              "size": 10,
              "solidity": 0.2
             }
            },
            "type": "histogram"
           }
          ],
          "histogram2d": [
           {
            "colorbar": {
             "outlinewidth": 0,
             "ticks": ""
            },
            "colorscale": [
             [
              0,
              "#0d0887"
             ],
             [
              0.1111111111111111,
              "#46039f"
             ],
             [
              0.2222222222222222,
              "#7201a8"
             ],
             [
              0.3333333333333333,
              "#9c179e"
             ],
             [
              0.4444444444444444,
              "#bd3786"
             ],
             [
              0.5555555555555556,
              "#d8576b"
             ],
             [
              0.6666666666666666,
              "#ed7953"
             ],
             [
              0.7777777777777778,
              "#fb9f3a"
             ],
             [
              0.8888888888888888,
              "#fdca26"
             ],
             [
              1,
              "#f0f921"
             ]
            ],
            "type": "histogram2d"
           }
          ],
          "histogram2dcontour": [
           {
            "colorbar": {
             "outlinewidth": 0,
             "ticks": ""
            },
            "colorscale": [
             [
              0,
              "#0d0887"
             ],
             [
              0.1111111111111111,
              "#46039f"
             ],
             [
              0.2222222222222222,
              "#7201a8"
             ],
             [
              0.3333333333333333,
              "#9c179e"
             ],
             [
              0.4444444444444444,
              "#bd3786"
             ],
             [
              0.5555555555555556,
              "#d8576b"
             ],
             [
              0.6666666666666666,
              "#ed7953"
             ],
             [
              0.7777777777777778,
              "#fb9f3a"
             ],
             [
              0.8888888888888888,
              "#fdca26"
             ],
             [
              1,
              "#f0f921"
             ]
            ],
            "type": "histogram2dcontour"
           }
          ],
          "mesh3d": [
           {
            "colorbar": {
             "outlinewidth": 0,
             "ticks": ""
            },
            "type": "mesh3d"
           }
          ],
          "parcoords": [
           {
            "line": {
             "colorbar": {
              "outlinewidth": 0,
              "ticks": ""
             }
            },
            "type": "parcoords"
           }
          ],
          "pie": [
           {
            "automargin": true,
            "type": "pie"
           }
          ],
          "scatter": [
           {
            "marker": {
             "colorbar": {
              "outlinewidth": 0,
              "ticks": ""
             }
            },
            "type": "scatter"
           }
          ],
          "scatter3d": [
           {
            "line": {
             "colorbar": {
              "outlinewidth": 0,
              "ticks": ""
             }
            },
            "marker": {
             "colorbar": {
              "outlinewidth": 0,
              "ticks": ""
             }
            },
            "type": "scatter3d"
           }
          ],
          "scattercarpet": [
           {
            "marker": {
             "colorbar": {
              "outlinewidth": 0,
              "ticks": ""
             }
            },
            "type": "scattercarpet"
           }
          ],
          "scattergeo": [
           {
            "marker": {
             "colorbar": {
              "outlinewidth": 0,
              "ticks": ""
             }
            },
            "type": "scattergeo"
           }
          ],
          "scattergl": [
           {
            "marker": {
             "colorbar": {
              "outlinewidth": 0,
              "ticks": ""
             }
            },
            "type": "scattergl"
           }
          ],
          "scattermapbox": [
           {
            "marker": {
             "colorbar": {
              "outlinewidth": 0,
              "ticks": ""
             }
            },
            "type": "scattermapbox"
           }
          ],
          "scatterpolar": [
           {
            "marker": {
             "colorbar": {
              "outlinewidth": 0,
              "ticks": ""
             }
            },
            "type": "scatterpolar"
           }
          ],
          "scatterpolargl": [
           {
            "marker": {
             "colorbar": {
              "outlinewidth": 0,
              "ticks": ""
             }
            },
            "type": "scatterpolargl"
           }
          ],
          "scatterternary": [
           {
            "marker": {
             "colorbar": {
              "outlinewidth": 0,
              "ticks": ""
             }
            },
            "type": "scatterternary"
           }
          ],
          "surface": [
           {
            "colorbar": {
             "outlinewidth": 0,
             "ticks": ""
            },
            "colorscale": [
             [
              0,
              "#0d0887"
             ],
             [
              0.1111111111111111,
              "#46039f"
             ],
             [
              0.2222222222222222,
              "#7201a8"
             ],
             [
              0.3333333333333333,
              "#9c179e"
             ],
             [
              0.4444444444444444,
              "#bd3786"
             ],
             [
              0.5555555555555556,
              "#d8576b"
             ],
             [
              0.6666666666666666,
              "#ed7953"
             ],
             [
              0.7777777777777778,
              "#fb9f3a"
             ],
             [
              0.8888888888888888,
              "#fdca26"
             ],
             [
              1,
              "#f0f921"
             ]
            ],
            "type": "surface"
           }
          ],
          "table": [
           {
            "cells": {
             "fill": {
              "color": "#EBF0F8"
             },
             "line": {
              "color": "white"
             }
            },
            "header": {
             "fill": {
              "color": "#C8D4E3"
             },
             "line": {
              "color": "white"
             }
            },
            "type": "table"
           }
          ]
         },
         "layout": {
          "annotationdefaults": {
           "arrowcolor": "#2a3f5f",
           "arrowhead": 0,
           "arrowwidth": 1
          },
          "autotypenumbers": "strict",
          "coloraxis": {
           "colorbar": {
            "outlinewidth": 0,
            "ticks": ""
           }
          },
          "colorscale": {
           "diverging": [
            [
             0,
             "#8e0152"
            ],
            [
             0.1,
             "#c51b7d"
            ],
            [
             0.2,
             "#de77ae"
            ],
            [
             0.3,
             "#f1b6da"
            ],
            [
             0.4,
             "#fde0ef"
            ],
            [
             0.5,
             "#f7f7f7"
            ],
            [
             0.6,
             "#e6f5d0"
            ],
            [
             0.7,
             "#b8e186"
            ],
            [
             0.8,
             "#7fbc41"
            ],
            [
             0.9,
             "#4d9221"
            ],
            [
             1,
             "#276419"
            ]
           ],
           "sequential": [
            [
             0,
             "#0d0887"
            ],
            [
             0.1111111111111111,
             "#46039f"
            ],
            [
             0.2222222222222222,
             "#7201a8"
            ],
            [
             0.3333333333333333,
             "#9c179e"
            ],
            [
             0.4444444444444444,
             "#bd3786"
            ],
            [
             0.5555555555555556,
             "#d8576b"
            ],
            [
             0.6666666666666666,
             "#ed7953"
            ],
            [
             0.7777777777777778,
             "#fb9f3a"
            ],
            [
             0.8888888888888888,
             "#fdca26"
            ],
            [
             1,
             "#f0f921"
            ]
           ],
           "sequentialminus": [
            [
             0,
             "#0d0887"
            ],
            [
             0.1111111111111111,
             "#46039f"
            ],
            [
             0.2222222222222222,
             "#7201a8"
            ],
            [
             0.3333333333333333,
             "#9c179e"
            ],
            [
             0.4444444444444444,
             "#bd3786"
            ],
            [
             0.5555555555555556,
             "#d8576b"
            ],
            [
             0.6666666666666666,
             "#ed7953"
            ],
            [
             0.7777777777777778,
             "#fb9f3a"
            ],
            [
             0.8888888888888888,
             "#fdca26"
            ],
            [
             1,
             "#f0f921"
            ]
           ]
          },
          "colorway": [
           "#636efa",
           "#EF553B",
           "#00cc96",
           "#ab63fa",
           "#FFA15A",
           "#19d3f3",
           "#FF6692",
           "#B6E880",
           "#FF97FF",
           "#FECB52"
          ],
          "font": {
           "color": "#2a3f5f"
          },
          "geo": {
           "bgcolor": "white",
           "lakecolor": "white",
           "landcolor": "#E5ECF6",
           "showlakes": true,
           "showland": true,
           "subunitcolor": "white"
          },
          "hoverlabel": {
           "align": "left"
          },
          "hovermode": "closest",
          "mapbox": {
           "style": "light"
          },
          "paper_bgcolor": "white",
          "plot_bgcolor": "#E5ECF6",
          "polar": {
           "angularaxis": {
            "gridcolor": "white",
            "linecolor": "white",
            "ticks": ""
           },
           "bgcolor": "#E5ECF6",
           "radialaxis": {
            "gridcolor": "white",
            "linecolor": "white",
            "ticks": ""
           }
          },
          "scene": {
           "xaxis": {
            "backgroundcolor": "#E5ECF6",
            "gridcolor": "white",
            "gridwidth": 2,
            "linecolor": "white",
            "showbackground": true,
            "ticks": "",
            "zerolinecolor": "white"
           },
           "yaxis": {
            "backgroundcolor": "#E5ECF6",
            "gridcolor": "white",
            "gridwidth": 2,
            "linecolor": "white",
            "showbackground": true,
            "ticks": "",
            "zerolinecolor": "white"
           },
           "zaxis": {
            "backgroundcolor": "#E5ECF6",
            "gridcolor": "white",
            "gridwidth": 2,
            "linecolor": "white",
            "showbackground": true,
            "ticks": "",
            "zerolinecolor": "white"
           }
          },
          "shapedefaults": {
           "line": {
            "color": "#2a3f5f"
           }
          },
          "ternary": {
           "aaxis": {
            "gridcolor": "white",
            "linecolor": "white",
            "ticks": ""
           },
           "baxis": {
            "gridcolor": "white",
            "linecolor": "white",
            "ticks": ""
           },
           "bgcolor": "#E5ECF6",
           "caxis": {
            "gridcolor": "white",
            "linecolor": "white",
            "ticks": ""
           }
          },
          "title": {
           "x": 0.05
          },
          "xaxis": {
           "automargin": true,
           "gridcolor": "white",
           "linecolor": "white",
           "ticks": "",
           "title": {
            "standoff": 15
           },
           "zerolinecolor": "white",
           "zerolinewidth": 2
          },
          "yaxis": {
           "automargin": true,
           "gridcolor": "white",
           "linecolor": "white",
           "ticks": "",
           "title": {
            "standoff": 15
           },
           "zerolinecolor": "white",
           "zerolinewidth": 2
          }
         }
        },
        "title": {
         "text": "Total Deaths"
        },
        "xaxis": {
         "anchor": "y",
         "domain": [
          0,
          1
         ],
         "title": {
          "text": "Country"
         }
        },
        "yaxis": {
         "anchor": "x",
         "domain": [
          0,
          1
         ],
         "title": {
          "text": "Total Deaths"
         }
        }
       }
      },
      "text/html": [
       "<div>                            <div id=\"20f87c8b-fb83-4c6b-b0f7-fa1656dbf9bf\" class=\"plotly-graph-div\" style=\"height:525px; width:100%;\"></div>            <script type=\"text/javascript\">                require([\"plotly\"], function(Plotly) {                    window.PLOTLYENV=window.PLOTLYENV || {};                                    if (document.getElementById(\"20f87c8b-fb83-4c6b-b0f7-fa1656dbf9bf\")) {                    Plotly.newPlot(                        \"20f87c8b-fb83-4c6b-b0f7-fa1656dbf9bf\",                        [{\"alignmentgroup\":\"True\",\"hovertemplate\":\"Country=%{x}<br>Total Deaths=%{marker.color}<extra></extra>\",\"legendgroup\":\"\",\"marker\":{\"color\":[26477574.0,14340567.0,7247327.0,2131571.0,3020038.0,7295850.0,5510624.0,1357682.0,1936134.0,7249573.0,2914070.0,1283880.0,6664225.0,5633444.0,1077426.0,1640691.0,1049757.0,442507.0,789557.0,484534.0,744253.0,448665.0,1066939.0,916111.0,1455549.0,23820.0,126278.0,343334.0,1798461.0,1083749.0,161480.0,1142410.0,644416.0,941063.0,578559.0,464952.0,209024.0,69104.0,88409.0,222435.0,58035.0,73391.0,302612.0,304001.0,4691.0,142270.0,194918.0,281588.0,320693.0,22413.0,200844.0,125473.0,102039.0,27737.0,310201.0,79880.0,165875.0,134945.0,29143.0,206429.0,77686.0,40840.0,129946.0,50352.0,31903.0,114922.0,59495.0,87503.0,54940.0,63333.0,59485.0,21522.0,113280.0,65029.0,71957.0,56606.0,42850.0,22983.0,70578.0,14220.0,47158.0,72850.0,29730.0,24012.0,74066.0,110142.0,102825.0,30320.0,58377.0,17744.0,44805.0,47571.0,28757.0,32040.0,7283.0,21907.0,26475.0,9730.0,31056.0,6877.0,23891.0,19025.0,3054.0,19810.0,6055.0,8006.0,5653.0,6634.0,11356.0,11162.0,13973.0,15984.0,7108.0,16774.0,8947.0,22165.0,15480.0,16410.0,3396.0,15001.0,14345.0,9298.0,4749.0,3748.0,2108.0,11802.0,8179.0,4013.0,1968.0,18813.0,1744.0,5653.0,6961.0,6063.0,4199.0,11820.0,10036.0,12098.0,5376.0,4145.0,2409.0,4374.0,6083.0,5998.0,3735.0,10248.0,7201.0,64304.0,4519.0,9850.0,1624.0,895.0,11676.0,4197.0,5783.0,2715.0,10087.0,12212.0,8596.0,2318.0,2198.0,2680.0,1613.0,1833.0,1423.0,260.0,3733.0,1988.0,5527.0,4310.0,0.0,920.0,2450.0,188.0,3146.0,0.0,476.0,0.0,0.0,0.0,417.0,213.0,475.0,1631.0,1321.0,0.0,192.0,198.0,207.0,0.0,568.0,0.0,396.0,48.0,132.0,0.0,183.0,0.0,0.0,0.0,0.0,0.0,0.0,0.0,0.0,0.0,177.0,0.0,0.0,0.0],\"coloraxis\":\"coloraxis\",\"pattern\":{\"shape\":\"\"}},\"name\":\"\",\"offsetgroup\":\"\",\"orientation\":\"v\",\"showlegend\":false,\"textposition\":\"auto\",\"x\":[\"United States\",\"Brazil\",\"India\",\"Russia\",\"Peru\",\"Mexico\",\"Spain\",\"South Africa\",\"Colombia\",\"United Kingdom\",\"Iran\",\"Chile\",\"Italy\",\"France\",\"Argentina\",\"Germany\",\"Turkey\",\"Saudi Arabia\",\"Pakistan\",\"Bangladesh\",\"Iraq\",\"Philippines\",\"China\",\"Indonesia\",\"Canada\",\"Qatar\",\"Israel\",\"Ukraine\",\"Belgium\",\"Ecuador\",\"Kazakhstan\",\"Netherlands\",\"Egypt\",\"Sweden\",\"Bolivia\",\"Romania\",\"Dominican Republic\",\"Kuwait\",\"Belarus\",\"Panama\",\"United Arab Emirates\",\"Oman\",\"Portugal\",\"Poland\",\"Singapore\",\"Morocco\",\"Japan\",\"Guatemala\",\"Switzerland\",\"Bahrain\",\"Honduras\",\"Nigeria\",\"Armenia\",\"Nepal\",\"Ireland\",\"Czech Republic\",\"Afghanistan\",\"Austria\",\"Ghana\",\"Algeria\",\"Ethiopia\",\"Venezuela\",\"Moldova\",\"Costa Rica\",\"Uzbekistan\",\"Kyrgyzstan\",\"Azerbaijan\",\"Serbia\",\"Puerto Rico\",\"South Korea\",\"Kenya\",\"Palestine\",\"Denmark\",\"Australia\",\"El Salvador\",\"Cameroon\",\"Paraguay\",\"Lebanon\",\"Bosnia and Herzegovina\",\"Cote d'Ivoire\",\"Norway\",\"Bulgaria\",\"Libya\",\"Malaysia\",\"Macedonia\",\"Hungary\",\"Sudan\",\"Senegal\",\"Finland\",\"Madagascar\",\"Greece\",\"Kosovo\",\"Croatia\",\"Democratic Republic of Congo\",\"Guinea\",\"Luxembourg\",\"Zambia\",\"Tajikistan\",\"Albania\",\"Gabon\",\"Haiti\",\"Tunisia\",\"Maldives\",\"Mauritania\",\"Slovakia\",\"Djibouti\",\"Jordan\",\"Namibia\",\"Montenegro\",\"Thailand\",\"Myanmar\",\"Zimbabwe\",\"Central African Republic\",\"Cuba\",\"Equatorial Guinea\",\"Slovenia\",\"Malawi\",\"Nicaragua\",\"Mozambique\",\"Somalia\",\"Lithuania\",\"Congo\",\"Cape Verde\",\"Uganda\",\"Sri Lanka\",\"Estonia\",\"Swaziland\",\"Georgia\",\"Iceland\",\"Mali\",\"Rwanda\",\"Jamaica\",\"Suriname\",\"South Sudan\",\"Guinea-Bissau\",\"Angola\",\"Sierra Leone\",\"Syria\",\"Latvia\",\"New Zealand\",\"Malta\",\"Benin\",\"Uruguay\",\"Bahamas\",\"Cyprus\",\"Burkina Faso\",\"Gambia\",\"Yemen\",\"Trinidad and Tobago\",\"Andorra\",\"Aruba\",\"Botswana\",\"Niger\",\"Togo\",\"Guyana\",\"Guam\",\"Liberia\",\"Chad\",\"San Marino\",\"Vietnam\",\"Sao Tome and Principe\",\"Lesotho\",\"Belize\",\"United States Virgin Islands\",\"Taiwan\",\"French Polynesia\",\"Tanzania\",\"Mauritius\",\"Jersey\",\"Isle of Man\",\"Faeroe Islands\",\"Comoros\",\"Guernsey\",\"Burundi\",\"Sint Maarten (Dutch part)\",\"Gibraltar\",\"Turks and Caicos Islands\",\"Mongolia\",\"Eritrea\",\"Cambodia\",\"Papua New Guinea\",\"Cayman Islands\",\"Brunei\",\"Bermuda\",\"Barbados\",\"Bhutan\",\"Monaco\",\"Liechtenstein\",\"Curacao\",\"Seychelles\",\"Antigua and Barbuda\",\"Saint Vincent and the Grenadines\",\"Northern Mariana Islands\",\"Bonaire Sint Eustatius and Saba\",\"Fiji\",\"Timor\",\"British Virgin Islands\",\"New Caledonia\",\"Grenada\",\"Saint Lucia\",\"Laos\",\"Dominica\",\"Saint Kitts and Nevis\",\"Greenland\",\"Falkland Islands\",\"Vatican\",\"Montserrat\",\"Anguilla\",\"Solomon Islands\",\"Hong Kong\"],\"xaxis\":\"x\",\"y\":[26477574.0,14340567.0,7247327.0,2131571.0,3020038.0,7295850.0,5510624.0,1357682.0,1936134.0,7249573.0,2914070.0,1283880.0,6664225.0,5633444.0,1077426.0,1640691.0,1049757.0,442507.0,789557.0,484534.0,744253.0,448665.0,1066939.0,916111.0,1455549.0,23820.0,126278.0,343334.0,1798461.0,1083749.0,161480.0,1142410.0,644416.0,941063.0,578559.0,464952.0,209024.0,69104.0,88409.0,222435.0,58035.0,73391.0,302612.0,304001.0,4691.0,142270.0,194918.0,281588.0,320693.0,22413.0,200844.0,125473.0,102039.0,27737.0,310201.0,79880.0,165875.0,134945.0,29143.0,206429.0,77686.0,40840.0,129946.0,50352.0,31903.0,114922.0,59495.0,87503.0,54940.0,63333.0,59485.0,21522.0,113280.0,65029.0,71957.0,56606.0,42850.0,22983.0,70578.0,14220.0,47158.0,72850.0,29730.0,24012.0,74066.0,110142.0,102825.0,30320.0,58377.0,17744.0,44805.0,47571.0,28757.0,32040.0,7283.0,21907.0,26475.0,9730.0,31056.0,6877.0,23891.0,19025.0,3054.0,19810.0,6055.0,8006.0,5653.0,6634.0,11356.0,11162.0,13973.0,15984.0,7108.0,16774.0,8947.0,22165.0,15480.0,16410.0,3396.0,15001.0,14345.0,9298.0,4749.0,3748.0,2108.0,11802.0,8179.0,4013.0,1968.0,18813.0,1744.0,5653.0,6961.0,6063.0,4199.0,11820.0,10036.0,12098.0,5376.0,4145.0,2409.0,4374.0,6083.0,5998.0,3735.0,10248.0,7201.0,64304.0,4519.0,9850.0,1624.0,895.0,11676.0,4197.0,5783.0,2715.0,10087.0,12212.0,8596.0,2318.0,2198.0,2680.0,1613.0,1833.0,1423.0,260.0,3733.0,1988.0,5527.0,4310.0,0.0,920.0,2450.0,188.0,3146.0,0.0,476.0,0.0,0.0,0.0,417.0,213.0,475.0,1631.0,1321.0,0.0,192.0,198.0,207.0,0.0,568.0,0.0,396.0,48.0,132.0,0.0,183.0,0.0,0.0,0.0,0.0,0.0,0.0,0.0,0.0,0.0,177.0,0.0,0.0,0.0],\"yaxis\":\"y\",\"type\":\"bar\"}],                        {\"template\":{\"data\":{\"bar\":[{\"error_x\":{\"color\":\"#2a3f5f\"},\"error_y\":{\"color\":\"#2a3f5f\"},\"marker\":{\"line\":{\"color\":\"#E5ECF6\",\"width\":0.5},\"pattern\":{\"fillmode\":\"overlay\",\"size\":10,\"solidity\":0.2}},\"type\":\"bar\"}],\"barpolar\":[{\"marker\":{\"line\":{\"color\":\"#E5ECF6\",\"width\":0.5},\"pattern\":{\"fillmode\":\"overlay\",\"size\":10,\"solidity\":0.2}},\"type\":\"barpolar\"}],\"carpet\":[{\"aaxis\":{\"endlinecolor\":\"#2a3f5f\",\"gridcolor\":\"white\",\"linecolor\":\"white\",\"minorgridcolor\":\"white\",\"startlinecolor\":\"#2a3f5f\"},\"baxis\":{\"endlinecolor\":\"#2a3f5f\",\"gridcolor\":\"white\",\"linecolor\":\"white\",\"minorgridcolor\":\"white\",\"startlinecolor\":\"#2a3f5f\"},\"type\":\"carpet\"}],\"choropleth\":[{\"colorbar\":{\"outlinewidth\":0,\"ticks\":\"\"},\"type\":\"choropleth\"}],\"contour\":[{\"colorbar\":{\"outlinewidth\":0,\"ticks\":\"\"},\"colorscale\":[[0.0,\"#0d0887\"],[0.1111111111111111,\"#46039f\"],[0.2222222222222222,\"#7201a8\"],[0.3333333333333333,\"#9c179e\"],[0.4444444444444444,\"#bd3786\"],[0.5555555555555556,\"#d8576b\"],[0.6666666666666666,\"#ed7953\"],[0.7777777777777778,\"#fb9f3a\"],[0.8888888888888888,\"#fdca26\"],[1.0,\"#f0f921\"]],\"type\":\"contour\"}],\"contourcarpet\":[{\"colorbar\":{\"outlinewidth\":0,\"ticks\":\"\"},\"type\":\"contourcarpet\"}],\"heatmap\":[{\"colorbar\":{\"outlinewidth\":0,\"ticks\":\"\"},\"colorscale\":[[0.0,\"#0d0887\"],[0.1111111111111111,\"#46039f\"],[0.2222222222222222,\"#7201a8\"],[0.3333333333333333,\"#9c179e\"],[0.4444444444444444,\"#bd3786\"],[0.5555555555555556,\"#d8576b\"],[0.6666666666666666,\"#ed7953\"],[0.7777777777777778,\"#fb9f3a\"],[0.8888888888888888,\"#fdca26\"],[1.0,\"#f0f921\"]],\"type\":\"heatmap\"}],\"heatmapgl\":[{\"colorbar\":{\"outlinewidth\":0,\"ticks\":\"\"},\"colorscale\":[[0.0,\"#0d0887\"],[0.1111111111111111,\"#46039f\"],[0.2222222222222222,\"#7201a8\"],[0.3333333333333333,\"#9c179e\"],[0.4444444444444444,\"#bd3786\"],[0.5555555555555556,\"#d8576b\"],[0.6666666666666666,\"#ed7953\"],[0.7777777777777778,\"#fb9f3a\"],[0.8888888888888888,\"#fdca26\"],[1.0,\"#f0f921\"]],\"type\":\"heatmapgl\"}],\"histogram\":[{\"marker\":{\"pattern\":{\"fillmode\":\"overlay\",\"size\":10,\"solidity\":0.2}},\"type\":\"histogram\"}],\"histogram2d\":[{\"colorbar\":{\"outlinewidth\":0,\"ticks\":\"\"},\"colorscale\":[[0.0,\"#0d0887\"],[0.1111111111111111,\"#46039f\"],[0.2222222222222222,\"#7201a8\"],[0.3333333333333333,\"#9c179e\"],[0.4444444444444444,\"#bd3786\"],[0.5555555555555556,\"#d8576b\"],[0.6666666666666666,\"#ed7953\"],[0.7777777777777778,\"#fb9f3a\"],[0.8888888888888888,\"#fdca26\"],[1.0,\"#f0f921\"]],\"type\":\"histogram2d\"}],\"histogram2dcontour\":[{\"colorbar\":{\"outlinewidth\":0,\"ticks\":\"\"},\"colorscale\":[[0.0,\"#0d0887\"],[0.1111111111111111,\"#46039f\"],[0.2222222222222222,\"#7201a8\"],[0.3333333333333333,\"#9c179e\"],[0.4444444444444444,\"#bd3786\"],[0.5555555555555556,\"#d8576b\"],[0.6666666666666666,\"#ed7953\"],[0.7777777777777778,\"#fb9f3a\"],[0.8888888888888888,\"#fdca26\"],[1.0,\"#f0f921\"]],\"type\":\"histogram2dcontour\"}],\"mesh3d\":[{\"colorbar\":{\"outlinewidth\":0,\"ticks\":\"\"},\"type\":\"mesh3d\"}],\"parcoords\":[{\"line\":{\"colorbar\":{\"outlinewidth\":0,\"ticks\":\"\"}},\"type\":\"parcoords\"}],\"pie\":[{\"automargin\":true,\"type\":\"pie\"}],\"scatter\":[{\"marker\":{\"colorbar\":{\"outlinewidth\":0,\"ticks\":\"\"}},\"type\":\"scatter\"}],\"scatter3d\":[{\"line\":{\"colorbar\":{\"outlinewidth\":0,\"ticks\":\"\"}},\"marker\":{\"colorbar\":{\"outlinewidth\":0,\"ticks\":\"\"}},\"type\":\"scatter3d\"}],\"scattercarpet\":[{\"marker\":{\"colorbar\":{\"outlinewidth\":0,\"ticks\":\"\"}},\"type\":\"scattercarpet\"}],\"scattergeo\":[{\"marker\":{\"colorbar\":{\"outlinewidth\":0,\"ticks\":\"\"}},\"type\":\"scattergeo\"}],\"scattergl\":[{\"marker\":{\"colorbar\":{\"outlinewidth\":0,\"ticks\":\"\"}},\"type\":\"scattergl\"}],\"scattermapbox\":[{\"marker\":{\"colorbar\":{\"outlinewidth\":0,\"ticks\":\"\"}},\"type\":\"scattermapbox\"}],\"scatterpolar\":[{\"marker\":{\"colorbar\":{\"outlinewidth\":0,\"ticks\":\"\"}},\"type\":\"scatterpolar\"}],\"scatterpolargl\":[{\"marker\":{\"colorbar\":{\"outlinewidth\":0,\"ticks\":\"\"}},\"type\":\"scatterpolargl\"}],\"scatterternary\":[{\"marker\":{\"colorbar\":{\"outlinewidth\":0,\"ticks\":\"\"}},\"type\":\"scatterternary\"}],\"surface\":[{\"colorbar\":{\"outlinewidth\":0,\"ticks\":\"\"},\"colorscale\":[[0.0,\"#0d0887\"],[0.1111111111111111,\"#46039f\"],[0.2222222222222222,\"#7201a8\"],[0.3333333333333333,\"#9c179e\"],[0.4444444444444444,\"#bd3786\"],[0.5555555555555556,\"#d8576b\"],[0.6666666666666666,\"#ed7953\"],[0.7777777777777778,\"#fb9f3a\"],[0.8888888888888888,\"#fdca26\"],[1.0,\"#f0f921\"]],\"type\":\"surface\"}],\"table\":[{\"cells\":{\"fill\":{\"color\":\"#EBF0F8\"},\"line\":{\"color\":\"white\"}},\"header\":{\"fill\":{\"color\":\"#C8D4E3\"},\"line\":{\"color\":\"white\"}},\"type\":\"table\"}]},\"layout\":{\"annotationdefaults\":{\"arrowcolor\":\"#2a3f5f\",\"arrowhead\":0,\"arrowwidth\":1},\"autotypenumbers\":\"strict\",\"coloraxis\":{\"colorbar\":{\"outlinewidth\":0,\"ticks\":\"\"}},\"colorscale\":{\"diverging\":[[0,\"#8e0152\"],[0.1,\"#c51b7d\"],[0.2,\"#de77ae\"],[0.3,\"#f1b6da\"],[0.4,\"#fde0ef\"],[0.5,\"#f7f7f7\"],[0.6,\"#e6f5d0\"],[0.7,\"#b8e186\"],[0.8,\"#7fbc41\"],[0.9,\"#4d9221\"],[1,\"#276419\"]],\"sequential\":[[0.0,\"#0d0887\"],[0.1111111111111111,\"#46039f\"],[0.2222222222222222,\"#7201a8\"],[0.3333333333333333,\"#9c179e\"],[0.4444444444444444,\"#bd3786\"],[0.5555555555555556,\"#d8576b\"],[0.6666666666666666,\"#ed7953\"],[0.7777777777777778,\"#fb9f3a\"],[0.8888888888888888,\"#fdca26\"],[1.0,\"#f0f921\"]],\"sequentialminus\":[[0.0,\"#0d0887\"],[0.1111111111111111,\"#46039f\"],[0.2222222222222222,\"#7201a8\"],[0.3333333333333333,\"#9c179e\"],[0.4444444444444444,\"#bd3786\"],[0.5555555555555556,\"#d8576b\"],[0.6666666666666666,\"#ed7953\"],[0.7777777777777778,\"#fb9f3a\"],[0.8888888888888888,\"#fdca26\"],[1.0,\"#f0f921\"]]},\"colorway\":[\"#636efa\",\"#EF553B\",\"#00cc96\",\"#ab63fa\",\"#FFA15A\",\"#19d3f3\",\"#FF6692\",\"#B6E880\",\"#FF97FF\",\"#FECB52\"],\"font\":{\"color\":\"#2a3f5f\"},\"geo\":{\"bgcolor\":\"white\",\"lakecolor\":\"white\",\"landcolor\":\"#E5ECF6\",\"showlakes\":true,\"showland\":true,\"subunitcolor\":\"white\"},\"hoverlabel\":{\"align\":\"left\"},\"hovermode\":\"closest\",\"mapbox\":{\"style\":\"light\"},\"paper_bgcolor\":\"white\",\"plot_bgcolor\":\"#E5ECF6\",\"polar\":{\"angularaxis\":{\"gridcolor\":\"white\",\"linecolor\":\"white\",\"ticks\":\"\"},\"bgcolor\":\"#E5ECF6\",\"radialaxis\":{\"gridcolor\":\"white\",\"linecolor\":\"white\",\"ticks\":\"\"}},\"scene\":{\"xaxis\":{\"backgroundcolor\":\"#E5ECF6\",\"gridcolor\":\"white\",\"gridwidth\":2,\"linecolor\":\"white\",\"showbackground\":true,\"ticks\":\"\",\"zerolinecolor\":\"white\"},\"yaxis\":{\"backgroundcolor\":\"#E5ECF6\",\"gridcolor\":\"white\",\"gridwidth\":2,\"linecolor\":\"white\",\"showbackground\":true,\"ticks\":\"\",\"zerolinecolor\":\"white\"},\"zaxis\":{\"backgroundcolor\":\"#E5ECF6\",\"gridcolor\":\"white\",\"gridwidth\":2,\"linecolor\":\"white\",\"showbackground\":true,\"ticks\":\"\",\"zerolinecolor\":\"white\"}},\"shapedefaults\":{\"line\":{\"color\":\"#2a3f5f\"}},\"ternary\":{\"aaxis\":{\"gridcolor\":\"white\",\"linecolor\":\"white\",\"ticks\":\"\"},\"baxis\":{\"gridcolor\":\"white\",\"linecolor\":\"white\",\"ticks\":\"\"},\"bgcolor\":\"#E5ECF6\",\"caxis\":{\"gridcolor\":\"white\",\"linecolor\":\"white\",\"ticks\":\"\"}},\"title\":{\"x\":0.05},\"xaxis\":{\"automargin\":true,\"gridcolor\":\"white\",\"linecolor\":\"white\",\"ticks\":\"\",\"title\":{\"standoff\":15},\"zerolinecolor\":\"white\",\"zerolinewidth\":2},\"yaxis\":{\"automargin\":true,\"gridcolor\":\"white\",\"linecolor\":\"white\",\"ticks\":\"\",\"title\":{\"standoff\":15},\"zerolinecolor\":\"white\",\"zerolinewidth\":2}}},\"xaxis\":{\"anchor\":\"y\",\"domain\":[0.0,1.0],\"title\":{\"text\":\"Country\"}},\"yaxis\":{\"anchor\":\"x\",\"domain\":[0.0,1.0],\"title\":{\"text\":\"Total Deaths\"}},\"coloraxis\":{\"colorbar\":{\"title\":{\"text\":\"Total Deaths\"}},\"colorscale\":[[0.0,\"#0d0887\"],[0.1111111111111111,\"#46039f\"],[0.2222222222222222,\"#7201a8\"],[0.3333333333333333,\"#9c179e\"],[0.4444444444444444,\"#bd3786\"],[0.5555555555555556,\"#d8576b\"],[0.6666666666666666,\"#ed7953\"],[0.7777777777777778,\"#fb9f3a\"],[0.8888888888888888,\"#fdca26\"],[1.0,\"#f0f921\"]]},\"legend\":{\"tracegroupgap\":0},\"title\":{\"text\":\"Total Deaths\"},\"barmode\":\"relative\"},                        {\"responsive\": true}                    ).then(function(){\n",
       "                            \n",
       "var gd = document.getElementById('20f87c8b-fb83-4c6b-b0f7-fa1656dbf9bf');\n",
       "var x = new MutationObserver(function (mutations, observer) {{\n",
       "        var display = window.getComputedStyle(gd).display;\n",
       "        if (!display || display === 'none') {{\n",
       "            console.log([gd, 'removed!']);\n",
       "            Plotly.purge(gd);\n",
       "            observer.disconnect();\n",
       "        }}\n",
       "}});\n",
       "\n",
       "// Listen for the removal of the full notebook cells\n",
       "var notebookContainer = gd.closest('#notebook-container');\n",
       "if (notebookContainer) {{\n",
       "    x.observe(notebookContainer, {childList: true});\n",
       "}}\n",
       "\n",
       "// Listen for the clearing of the current output cell\n",
       "var outputEl = gd.closest('.output');\n",
       "if (outputEl) {{\n",
       "    x.observe(outputEl, {childList: true});\n",
       "}}\n",
       "\n",
       "                        })                };                });            </script>        </div>"
      ]
     },
     "metadata": {},
     "output_type": "display_data"
    }
   ],
   "source": [
    "fourth"
   ]
  },
  {
   "cell_type": "code",
   "execution_count": 54,
   "id": "a4526b68",
   "metadata": {},
   "outputs": [
    {
     "data": {
      "application/vnd.plotly.v1+json": {
       "config": {
        "plotlyServerURL": "https://plot.ly"
       },
       "data": [
        {
         "marker": {
          "color": "indianred"
         },
         "name": "Total Cases",
         "type": "bar",
         "x": [
          "United States",
          "Brazil",
          "India",
          "Russia",
          "Peru",
          "Mexico",
          "Spain",
          "South Africa",
          "Colombia",
          "United Kingdom",
          "Iran",
          "Chile",
          "Italy",
          "France",
          "Argentina",
          "Germany",
          "Turkey",
          "Saudi Arabia",
          "Pakistan",
          "Bangladesh",
          "Iraq",
          "Philippines",
          "China",
          "Indonesia",
          "Canada",
          "Qatar",
          "Israel",
          "Ukraine",
          "Belgium",
          "Ecuador",
          "Kazakhstan",
          "Netherlands",
          "Egypt",
          "Sweden",
          "Bolivia",
          "Romania",
          "Dominican Republic",
          "Kuwait",
          "Belarus",
          "Panama",
          "United Arab Emirates",
          "Oman",
          "Portugal",
          "Poland",
          "Singapore",
          "Morocco",
          "Japan",
          "Guatemala",
          "Switzerland",
          "Bahrain",
          "Honduras",
          "Nigeria",
          "Armenia",
          "Nepal",
          "Ireland",
          "Czech Republic",
          "Afghanistan",
          "Austria",
          "Ghana",
          "Algeria",
          "Ethiopia",
          "Venezuela",
          "Moldova",
          "Costa Rica",
          "Uzbekistan",
          "Kyrgyzstan",
          "Azerbaijan",
          "Serbia",
          "Puerto Rico",
          "South Korea",
          "Kenya",
          "Palestine",
          "Denmark",
          "Australia",
          "El Salvador",
          "Cameroon",
          "Paraguay",
          "Lebanon",
          "Bosnia and Herzegovina",
          "Cote d'Ivoire",
          "Norway",
          "Bulgaria",
          "Libya",
          "Malaysia",
          "Macedonia",
          "Hungary",
          "Sudan",
          "Senegal",
          "Finland",
          "Madagascar",
          "Greece",
          "Kosovo",
          "Croatia",
          "Democratic Republic of Congo",
          "Guinea",
          "Luxembourg",
          "Zambia",
          "Tajikistan",
          "Albania",
          "Gabon",
          "Haiti",
          "Tunisia",
          "Maldives",
          "Mauritania",
          "Slovakia",
          "Djibouti",
          "Jordan",
          "Namibia",
          "Montenegro",
          "Thailand",
          "Myanmar",
          "Zimbabwe",
          "Central African Republic",
          "Cuba",
          "Equatorial Guinea",
          "Slovenia",
          "Malawi",
          "Nicaragua",
          "Mozambique",
          "Somalia",
          "Lithuania",
          "Congo",
          "Cape Verde",
          "Uganda",
          "Sri Lanka",
          "Estonia",
          "Swaziland",
          "Georgia",
          "Iceland",
          "Mali",
          "Rwanda",
          "Jamaica",
          "Suriname",
          "South Sudan",
          "Guinea-Bissau",
          "Angola",
          "Sierra Leone",
          "Syria",
          "Latvia",
          "New Zealand",
          "Malta",
          "Benin",
          "Uruguay",
          "Bahamas",
          "Cyprus",
          "Burkina Faso",
          "Gambia",
          "Yemen",
          "Trinidad and Tobago",
          "Andorra",
          "Aruba",
          "Botswana",
          "Niger",
          "Togo",
          "Guyana",
          "Guam",
          "Liberia",
          "Chad",
          "San Marino",
          "Vietnam",
          "Sao Tome and Principe",
          "Lesotho",
          "Belize",
          "United States Virgin Islands",
          "Taiwan",
          "French Polynesia",
          "Tanzania",
          "Mauritius",
          "Jersey",
          "Isle of Man",
          "Faeroe Islands",
          "Comoros",
          "Guernsey",
          "Burundi",
          "Sint Maarten (Dutch part)",
          "Gibraltar",
          "Turks and Caicos Islands",
          "Mongolia",
          "Eritrea",
          "Cambodia",
          "Papua New Guinea",
          "Cayman Islands",
          "Brunei",
          "Bermuda",
          "Barbados",
          "Bhutan",
          "Monaco",
          "Liechtenstein",
          "Curacao",
          "Seychelles",
          "Antigua and Barbuda",
          "Saint Vincent and the Grenadines",
          "Northern Mariana Islands",
          "Bonaire Sint Eustatius and Saba",
          "Fiji",
          "Timor",
          "British Virgin Islands",
          "New Caledonia",
          "Grenada",
          "Saint Lucia",
          "Laos",
          "Dominica",
          "Saint Kitts and Nevis",
          "Greenland",
          "Falkland Islands",
          "Vatican",
          "Montserrat",
          "Anguilla",
          "Solomon Islands",
          "Hong Kong"
         ],
         "y": [
          746014098,
          425704517,
          407771615,
          132888951,
          74882695,
          74347548,
          73717676,
          63027659,
          60543682,
          59475032,
          52421884,
          51268034,
          50752853,
          50084335,
          47155234,
          42447678,
          41431948,
          38585191,
          37738077,
          35266178,
          25280332,
          22409936,
          21632319,
          21570149,
          20902374,
          16351440,
          16202474,
          15805665,
          15192468,
          14408757,
          13194863,
          13026629,
          12422845,
          11910109,
          11858838,
          10672859,
          10649646,
          10622205,
          10595186,
          10371724,
          10247326,
          10060093,
          9266263,
          9239657,
          8191161,
          7839270,
          7659484,
          7644426,
          7552067,
          6549995,
          6545499,
          6107371,
          5474629,
          5243653,
          5239798,
          5213980,
          5126433,
          4909197,
          4900649,
          4893999,
          4876417,
          4839834,
          4632482,
          4631835,
          4421215,
          4287847,
          4236782,
          3984174,
          3586463,
          3333075,
          3277734,
          3249458,
          3030088,
          3012377,
          2573206,
          2476502,
          2265640,
          2220699,
          2200057,
          2132883,
          1985889,
          1890380,
          1817274,
          1774181,
          1724220,
          1708798,
          1663545,
          1586747,
          1458484,
          1443321,
          1421470,
          1345940,
          1314031,
          1271391,
          1195836,
          1146724,
          1129913,
          1117391,
          1071951,
          1031803,
          1023155,
          1000626,
          844040,
          799222,
          798665,
          781771,
          716514,
          681299,
          675912,
          655703,
          644209,
          593699,
          593048,
          581546,
          557355,
          547075,
          536447,
          524410,
          510578,
          491145,
          488057,
          473368,
          463888,
          448728,
          446643,
          445402,
          444238,
          431689,
          421210,
          390637,
          388775,
          370890,
          358632,
          333500,
          306564,
          304005,
          268396,
          267902,
          255964,
          253203,
          251261,
          245893,
          239884,
          237908,
          236673,
          231452,
          229521,
          228925,
          225550,
          223576,
          215110,
          205758,
          199978,
          169903,
          166917,
          160975,
          159880,
          154173,
          134994,
          122618,
          121909,
          107948,
          106383,
          98536,
          97074,
          95388,
          91526,
          69524,
          66777,
          64935,
          56893,
          52437,
          49814,
          49745,
          48026,
          45340,
          44432,
          42465,
          40026,
          39539,
          35966,
          33173,
          30140,
          28876,
          24998,
          22847,
          21511,
          19885,
          19777,
          14701,
          12619,
          7824,
          7784,
          5080,
          4742,
          4697,
          4605,
          4495,
          4470,
          4450,
          4039,
          3977,
          3246,
          2678,
          2467,
          2415,
          2383,
          614,
          11,
          0
         ]
        },
        {
         "marker": {
          "color": "cyan"
         },
         "name": "Total Deaths",
         "type": "bar",
         "x": [
          "United States",
          "Brazil",
          "India",
          "Russia",
          "Peru",
          "Mexico",
          "Spain",
          "South Africa",
          "Colombia",
          "United Kingdom",
          "Iran",
          "Chile",
          "Italy",
          "France",
          "Argentina",
          "Germany",
          "Turkey",
          "Saudi Arabia",
          "Pakistan",
          "Bangladesh",
          "Iraq",
          "Philippines",
          "China",
          "Indonesia",
          "Canada",
          "Qatar",
          "Israel",
          "Ukraine",
          "Belgium",
          "Ecuador",
          "Kazakhstan",
          "Netherlands",
          "Egypt",
          "Sweden",
          "Bolivia",
          "Romania",
          "Dominican Republic",
          "Kuwait",
          "Belarus",
          "Panama",
          "United Arab Emirates",
          "Oman",
          "Portugal",
          "Poland",
          "Singapore",
          "Morocco",
          "Japan",
          "Guatemala",
          "Switzerland",
          "Bahrain",
          "Honduras",
          "Nigeria",
          "Armenia",
          "Nepal",
          "Ireland",
          "Czech Republic",
          "Afghanistan",
          "Austria",
          "Ghana",
          "Algeria",
          "Ethiopia",
          "Venezuela",
          "Moldova",
          "Costa Rica",
          "Uzbekistan",
          "Kyrgyzstan",
          "Azerbaijan",
          "Serbia",
          "Puerto Rico",
          "South Korea",
          "Kenya",
          "Palestine",
          "Denmark",
          "Australia",
          "El Salvador",
          "Cameroon",
          "Paraguay",
          "Lebanon",
          "Bosnia and Herzegovina",
          "Cote d'Ivoire",
          "Norway",
          "Bulgaria",
          "Libya",
          "Malaysia",
          "Macedonia",
          "Hungary",
          "Sudan",
          "Senegal",
          "Finland",
          "Madagascar",
          "Greece",
          "Kosovo",
          "Croatia",
          "Democratic Republic of Congo",
          "Guinea",
          "Luxembourg",
          "Zambia",
          "Tajikistan",
          "Albania",
          "Gabon",
          "Haiti",
          "Tunisia",
          "Maldives",
          "Mauritania",
          "Slovakia",
          "Djibouti",
          "Jordan",
          "Namibia",
          "Montenegro",
          "Thailand",
          "Myanmar",
          "Zimbabwe",
          "Central African Republic",
          "Cuba",
          "Equatorial Guinea",
          "Slovenia",
          "Malawi",
          "Nicaragua",
          "Mozambique",
          "Somalia",
          "Lithuania",
          "Congo",
          "Cape Verde",
          "Uganda",
          "Sri Lanka",
          "Estonia",
          "Swaziland",
          "Georgia",
          "Iceland",
          "Mali",
          "Rwanda",
          "Jamaica",
          "Suriname",
          "South Sudan",
          "Guinea-Bissau",
          "Angola",
          "Sierra Leone",
          "Syria",
          "Latvia",
          "New Zealand",
          "Malta",
          "Benin",
          "Uruguay",
          "Bahamas",
          "Cyprus",
          "Burkina Faso",
          "Gambia",
          "Yemen",
          "Trinidad and Tobago",
          "Andorra",
          "Aruba",
          "Botswana",
          "Niger",
          "Togo",
          "Guyana",
          "Guam",
          "Liberia",
          "Chad",
          "San Marino",
          "Vietnam",
          "Sao Tome and Principe",
          "Lesotho",
          "Belize",
          "United States Virgin Islands",
          "Taiwan",
          "French Polynesia",
          "Tanzania",
          "Mauritius",
          "Jersey",
          "Isle of Man",
          "Faeroe Islands",
          "Comoros",
          "Guernsey",
          "Burundi",
          "Sint Maarten (Dutch part)",
          "Gibraltar",
          "Turks and Caicos Islands",
          "Mongolia",
          "Eritrea",
          "Cambodia",
          "Papua New Guinea",
          "Cayman Islands",
          "Brunei",
          "Bermuda",
          "Barbados",
          "Bhutan",
          "Monaco",
          "Liechtenstein",
          "Curacao",
          "Seychelles",
          "Antigua and Barbuda",
          "Saint Vincent and the Grenadines",
          "Northern Mariana Islands",
          "Bonaire Sint Eustatius and Saba",
          "Fiji",
          "Timor",
          "British Virgin Islands",
          "New Caledonia",
          "Grenada",
          "Saint Lucia",
          "Laos",
          "Dominica",
          "Saint Kitts and Nevis",
          "Greenland",
          "Falkland Islands",
          "Vatican",
          "Montserrat",
          "Anguilla",
          "Solomon Islands",
          "Hong Kong"
         ],
         "y": [
          26477574,
          14340567,
          7247327,
          2131571,
          3020038,
          7295850,
          5510624,
          1357682,
          1936134,
          7249573,
          2914070,
          1283880,
          6664225,
          5633444,
          1077426,
          1640691,
          1049757,
          442507,
          789557,
          484534,
          744253,
          448665,
          1066939,
          916111,
          1455549,
          23820,
          126278,
          343334,
          1798461,
          1083749,
          161480,
          1142410,
          644416,
          941063,
          578559,
          464952,
          209024,
          69104,
          88409,
          222435,
          58035,
          73391,
          302612,
          304001,
          4691,
          142270,
          194918,
          281588,
          320693,
          22413,
          200844,
          125473,
          102039,
          27737,
          310201,
          79880,
          165875,
          134945,
          29143,
          206429,
          77686,
          40840,
          129946,
          50352,
          31903,
          114922,
          59495,
          87503,
          54940,
          63333,
          59485,
          21522,
          113280,
          65029,
          71957,
          56606,
          42850,
          22983,
          70578,
          14220,
          47158,
          72850,
          29730,
          24012,
          74066,
          110142,
          102825,
          30320,
          58377,
          17744,
          44805,
          47571,
          28757,
          32040,
          7283,
          21907,
          26475,
          9730,
          31056,
          6877,
          23891,
          19025,
          3054,
          19810,
          6055,
          8006,
          5653,
          6634,
          11356,
          11162,
          13973,
          15984,
          7108,
          16774,
          8947,
          22165,
          15480,
          16410,
          3396,
          15001,
          14345,
          9298,
          4749,
          3748,
          2108,
          11802,
          8179,
          4013,
          1968,
          18813,
          1744,
          5653,
          6961,
          6063,
          4199,
          11820,
          10036,
          12098,
          5376,
          4145,
          2409,
          4374,
          6083,
          5998,
          3735,
          10248,
          7201,
          64304,
          4519,
          9850,
          1624,
          895,
          11676,
          4197,
          5783,
          2715,
          10087,
          12212,
          8596,
          2318,
          2198,
          2680,
          1613,
          1833,
          1423,
          260,
          3733,
          1988,
          5527,
          4310,
          0,
          920,
          2450,
          188,
          3146,
          0,
          476,
          0,
          0,
          0,
          417,
          213,
          475,
          1631,
          1321,
          0,
          192,
          198,
          207,
          0,
          568,
          0,
          396,
          48,
          132,
          0,
          183,
          0,
          0,
          0,
          0,
          0,
          0,
          0,
          0,
          0,
          177,
          0,
          0,
          0
         ]
        }
       ],
       "layout": {
        "barmode": "group",
        "template": {
         "data": {
          "bar": [
           {
            "error_x": {
             "color": "#2a3f5f"
            },
            "error_y": {
             "color": "#2a3f5f"
            },
            "marker": {
             "line": {
              "color": "#E5ECF6",
              "width": 0.5
             },
             "pattern": {
              "fillmode": "overlay",
              "size": 10,
              "solidity": 0.2
             }
            },
            "type": "bar"
           }
          ],
          "barpolar": [
           {
            "marker": {
             "line": {
              "color": "#E5ECF6",
              "width": 0.5
             },
             "pattern": {
              "fillmode": "overlay",
              "size": 10,
              "solidity": 0.2
             }
            },
            "type": "barpolar"
           }
          ],
          "carpet": [
           {
            "aaxis": {
             "endlinecolor": "#2a3f5f",
             "gridcolor": "white",
             "linecolor": "white",
             "minorgridcolor": "white",
             "startlinecolor": "#2a3f5f"
            },
            "baxis": {
             "endlinecolor": "#2a3f5f",
             "gridcolor": "white",
             "linecolor": "white",
             "minorgridcolor": "white",
             "startlinecolor": "#2a3f5f"
            },
            "type": "carpet"
           }
          ],
          "choropleth": [
           {
            "colorbar": {
             "outlinewidth": 0,
             "ticks": ""
            },
            "type": "choropleth"
           }
          ],
          "contour": [
           {
            "colorbar": {
             "outlinewidth": 0,
             "ticks": ""
            },
            "colorscale": [
             [
              0,
              "#0d0887"
             ],
             [
              0.1111111111111111,
              "#46039f"
             ],
             [
              0.2222222222222222,
              "#7201a8"
             ],
             [
              0.3333333333333333,
              "#9c179e"
             ],
             [
              0.4444444444444444,
              "#bd3786"
             ],
             [
              0.5555555555555556,
              "#d8576b"
             ],
             [
              0.6666666666666666,
              "#ed7953"
             ],
             [
              0.7777777777777778,
              "#fb9f3a"
             ],
             [
              0.8888888888888888,
              "#fdca26"
             ],
             [
              1,
              "#f0f921"
             ]
            ],
            "type": "contour"
           }
          ],
          "contourcarpet": [
           {
            "colorbar": {
             "outlinewidth": 0,
             "ticks": ""
            },
            "type": "contourcarpet"
           }
          ],
          "heatmap": [
           {
            "colorbar": {
             "outlinewidth": 0,
             "ticks": ""
            },
            "colorscale": [
             [
              0,
              "#0d0887"
             ],
             [
              0.1111111111111111,
              "#46039f"
             ],
             [
              0.2222222222222222,
              "#7201a8"
             ],
             [
              0.3333333333333333,
              "#9c179e"
             ],
             [
              0.4444444444444444,
              "#bd3786"
             ],
             [
              0.5555555555555556,
              "#d8576b"
             ],
             [
              0.6666666666666666,
              "#ed7953"
             ],
             [
              0.7777777777777778,
              "#fb9f3a"
             ],
             [
              0.8888888888888888,
              "#fdca26"
             ],
             [
              1,
              "#f0f921"
             ]
            ],
            "type": "heatmap"
           }
          ],
          "heatmapgl": [
           {
            "colorbar": {
             "outlinewidth": 0,
             "ticks": ""
            },
            "colorscale": [
             [
              0,
              "#0d0887"
             ],
             [
              0.1111111111111111,
              "#46039f"
             ],
             [
              0.2222222222222222,
              "#7201a8"
             ],
             [
              0.3333333333333333,
              "#9c179e"
             ],
             [
              0.4444444444444444,
              "#bd3786"
             ],
             [
              0.5555555555555556,
              "#d8576b"
             ],
             [
              0.6666666666666666,
              "#ed7953"
             ],
             [
              0.7777777777777778,
              "#fb9f3a"
             ],
             [
              0.8888888888888888,
              "#fdca26"
             ],
             [
              1,
              "#f0f921"
             ]
            ],
            "type": "heatmapgl"
           }
          ],
          "histogram": [
           {
            "marker": {
             "pattern": {
              "fillmode": "overlay",
              "size": 10,
              "solidity": 0.2
             }
            },
            "type": "histogram"
           }
          ],
          "histogram2d": [
           {
            "colorbar": {
             "outlinewidth": 0,
             "ticks": ""
            },
            "colorscale": [
             [
              0,
              "#0d0887"
             ],
             [
              0.1111111111111111,
              "#46039f"
             ],
             [
              0.2222222222222222,
              "#7201a8"
             ],
             [
              0.3333333333333333,
              "#9c179e"
             ],
             [
              0.4444444444444444,
              "#bd3786"
             ],
             [
              0.5555555555555556,
              "#d8576b"
             ],
             [
              0.6666666666666666,
              "#ed7953"
             ],
             [
              0.7777777777777778,
              "#fb9f3a"
             ],
             [
              0.8888888888888888,
              "#fdca26"
             ],
             [
              1,
              "#f0f921"
             ]
            ],
            "type": "histogram2d"
           }
          ],
          "histogram2dcontour": [
           {
            "colorbar": {
             "outlinewidth": 0,
             "ticks": ""
            },
            "colorscale": [
             [
              0,
              "#0d0887"
             ],
             [
              0.1111111111111111,
              "#46039f"
             ],
             [
              0.2222222222222222,
              "#7201a8"
             ],
             [
              0.3333333333333333,
              "#9c179e"
             ],
             [
              0.4444444444444444,
              "#bd3786"
             ],
             [
              0.5555555555555556,
              "#d8576b"
             ],
             [
              0.6666666666666666,
              "#ed7953"
             ],
             [
              0.7777777777777778,
              "#fb9f3a"
             ],
             [
              0.8888888888888888,
              "#fdca26"
             ],
             [
              1,
              "#f0f921"
             ]
            ],
            "type": "histogram2dcontour"
           }
          ],
          "mesh3d": [
           {
            "colorbar": {
             "outlinewidth": 0,
             "ticks": ""
            },
            "type": "mesh3d"
           }
          ],
          "parcoords": [
           {
            "line": {
             "colorbar": {
              "outlinewidth": 0,
              "ticks": ""
             }
            },
            "type": "parcoords"
           }
          ],
          "pie": [
           {
            "automargin": true,
            "type": "pie"
           }
          ],
          "scatter": [
           {
            "marker": {
             "colorbar": {
              "outlinewidth": 0,
              "ticks": ""
             }
            },
            "type": "scatter"
           }
          ],
          "scatter3d": [
           {
            "line": {
             "colorbar": {
              "outlinewidth": 0,
              "ticks": ""
             }
            },
            "marker": {
             "colorbar": {
              "outlinewidth": 0,
              "ticks": ""
             }
            },
            "type": "scatter3d"
           }
          ],
          "scattercarpet": [
           {
            "marker": {
             "colorbar": {
              "outlinewidth": 0,
              "ticks": ""
             }
            },
            "type": "scattercarpet"
           }
          ],
          "scattergeo": [
           {
            "marker": {
             "colorbar": {
              "outlinewidth": 0,
              "ticks": ""
             }
            },
            "type": "scattergeo"
           }
          ],
          "scattergl": [
           {
            "marker": {
             "colorbar": {
              "outlinewidth": 0,
              "ticks": ""
             }
            },
            "type": "scattergl"
           }
          ],
          "scattermapbox": [
           {
            "marker": {
             "colorbar": {
              "outlinewidth": 0,
              "ticks": ""
             }
            },
            "type": "scattermapbox"
           }
          ],
          "scatterpolar": [
           {
            "marker": {
             "colorbar": {
              "outlinewidth": 0,
              "ticks": ""
             }
            },
            "type": "scatterpolar"
           }
          ],
          "scatterpolargl": [
           {
            "marker": {
             "colorbar": {
              "outlinewidth": 0,
              "ticks": ""
             }
            },
            "type": "scatterpolargl"
           }
          ],
          "scatterternary": [
           {
            "marker": {
             "colorbar": {
              "outlinewidth": 0,
              "ticks": ""
             }
            },
            "type": "scatterternary"
           }
          ],
          "surface": [
           {
            "colorbar": {
             "outlinewidth": 0,
             "ticks": ""
            },
            "colorscale": [
             [
              0,
              "#0d0887"
             ],
             [
              0.1111111111111111,
              "#46039f"
             ],
             [
              0.2222222222222222,
              "#7201a8"
             ],
             [
              0.3333333333333333,
              "#9c179e"
             ],
             [
              0.4444444444444444,
              "#bd3786"
             ],
             [
              0.5555555555555556,
              "#d8576b"
             ],
             [
              0.6666666666666666,
              "#ed7953"
             ],
             [
              0.7777777777777778,
              "#fb9f3a"
             ],
             [
              0.8888888888888888,
              "#fdca26"
             ],
             [
              1,
              "#f0f921"
             ]
            ],
            "type": "surface"
           }
          ],
          "table": [
           {
            "cells": {
             "fill": {
              "color": "#EBF0F8"
             },
             "line": {
              "color": "white"
             }
            },
            "header": {
             "fill": {
              "color": "#C8D4E3"
             },
             "line": {
              "color": "white"
             }
            },
            "type": "table"
           }
          ]
         },
         "layout": {
          "annotationdefaults": {
           "arrowcolor": "#2a3f5f",
           "arrowhead": 0,
           "arrowwidth": 1
          },
          "autotypenumbers": "strict",
          "coloraxis": {
           "colorbar": {
            "outlinewidth": 0,
            "ticks": ""
           }
          },
          "colorscale": {
           "diverging": [
            [
             0,
             "#8e0152"
            ],
            [
             0.1,
             "#c51b7d"
            ],
            [
             0.2,
             "#de77ae"
            ],
            [
             0.3,
             "#f1b6da"
            ],
            [
             0.4,
             "#fde0ef"
            ],
            [
             0.5,
             "#f7f7f7"
            ],
            [
             0.6,
             "#e6f5d0"
            ],
            [
             0.7,
             "#b8e186"
            ],
            [
             0.8,
             "#7fbc41"
            ],
            [
             0.9,
             "#4d9221"
            ],
            [
             1,
             "#276419"
            ]
           ],
           "sequential": [
            [
             0,
             "#0d0887"
            ],
            [
             0.1111111111111111,
             "#46039f"
            ],
            [
             0.2222222222222222,
             "#7201a8"
            ],
            [
             0.3333333333333333,
             "#9c179e"
            ],
            [
             0.4444444444444444,
             "#bd3786"
            ],
            [
             0.5555555555555556,
             "#d8576b"
            ],
            [
             0.6666666666666666,
             "#ed7953"
            ],
            [
             0.7777777777777778,
             "#fb9f3a"
            ],
            [
             0.8888888888888888,
             "#fdca26"
            ],
            [
             1,
             "#f0f921"
            ]
           ],
           "sequentialminus": [
            [
             0,
             "#0d0887"
            ],
            [
             0.1111111111111111,
             "#46039f"
            ],
            [
             0.2222222222222222,
             "#7201a8"
            ],
            [
             0.3333333333333333,
             "#9c179e"
            ],
            [
             0.4444444444444444,
             "#bd3786"
            ],
            [
             0.5555555555555556,
             "#d8576b"
            ],
            [
             0.6666666666666666,
             "#ed7953"
            ],
            [
             0.7777777777777778,
             "#fb9f3a"
            ],
            [
             0.8888888888888888,
             "#fdca26"
            ],
            [
             1,
             "#f0f921"
            ]
           ]
          },
          "colorway": [
           "#636efa",
           "#EF553B",
           "#00cc96",
           "#ab63fa",
           "#FFA15A",
           "#19d3f3",
           "#FF6692",
           "#B6E880",
           "#FF97FF",
           "#FECB52"
          ],
          "font": {
           "color": "#2a3f5f"
          },
          "geo": {
           "bgcolor": "white",
           "lakecolor": "white",
           "landcolor": "#E5ECF6",
           "showlakes": true,
           "showland": true,
           "subunitcolor": "white"
          },
          "hoverlabel": {
           "align": "left"
          },
          "hovermode": "closest",
          "mapbox": {
           "style": "light"
          },
          "paper_bgcolor": "white",
          "plot_bgcolor": "#E5ECF6",
          "polar": {
           "angularaxis": {
            "gridcolor": "white",
            "linecolor": "white",
            "ticks": ""
           },
           "bgcolor": "#E5ECF6",
           "radialaxis": {
            "gridcolor": "white",
            "linecolor": "white",
            "ticks": ""
           }
          },
          "scene": {
           "xaxis": {
            "backgroundcolor": "#E5ECF6",
            "gridcolor": "white",
            "gridwidth": 2,
            "linecolor": "white",
            "showbackground": true,
            "ticks": "",
            "zerolinecolor": "white"
           },
           "yaxis": {
            "backgroundcolor": "#E5ECF6",
            "gridcolor": "white",
            "gridwidth": 2,
            "linecolor": "white",
            "showbackground": true,
            "ticks": "",
            "zerolinecolor": "white"
           },
           "zaxis": {
            "backgroundcolor": "#E5ECF6",
            "gridcolor": "white",
            "gridwidth": 2,
            "linecolor": "white",
            "showbackground": true,
            "ticks": "",
            "zerolinecolor": "white"
           }
          },
          "shapedefaults": {
           "line": {
            "color": "#2a3f5f"
           }
          },
          "ternary": {
           "aaxis": {
            "gridcolor": "white",
            "linecolor": "white",
            "ticks": ""
           },
           "baxis": {
            "gridcolor": "white",
            "linecolor": "white",
            "ticks": ""
           },
           "bgcolor": "#E5ECF6",
           "caxis": {
            "gridcolor": "white",
            "linecolor": "white",
            "ticks": ""
           }
          },
          "title": {
           "x": 0.05
          },
          "xaxis": {
           "automargin": true,
           "gridcolor": "white",
           "linecolor": "white",
           "ticks": "",
           "title": {
            "standoff": 15
           },
           "zerolinecolor": "white",
           "zerolinewidth": 2
          },
          "yaxis": {
           "automargin": true,
           "gridcolor": "white",
           "linecolor": "white",
           "ticks": "",
           "title": {
            "standoff": 15
           },
           "zerolinecolor": "white",
           "zerolinewidth": 2
          }
         }
        },
        "xaxis": {
         "tickangle": -45
        }
       }
      },
      "text/html": [
       "<div>                            <div id=\"ff46f8c5-556d-400b-b56a-b191696262d6\" class=\"plotly-graph-div\" style=\"height:525px; width:100%;\"></div>            <script type=\"text/javascript\">                require([\"plotly\"], function(Plotly) {                    window.PLOTLYENV=window.PLOTLYENV || {};                                    if (document.getElementById(\"ff46f8c5-556d-400b-b56a-b191696262d6\")) {                    Plotly.newPlot(                        \"ff46f8c5-556d-400b-b56a-b191696262d6\",                        [{\"marker\":{\"color\":\"indianred\"},\"name\":\"Total Cases\",\"x\":[\"United States\",\"Brazil\",\"India\",\"Russia\",\"Peru\",\"Mexico\",\"Spain\",\"South Africa\",\"Colombia\",\"United Kingdom\",\"Iran\",\"Chile\",\"Italy\",\"France\",\"Argentina\",\"Germany\",\"Turkey\",\"Saudi Arabia\",\"Pakistan\",\"Bangladesh\",\"Iraq\",\"Philippines\",\"China\",\"Indonesia\",\"Canada\",\"Qatar\",\"Israel\",\"Ukraine\",\"Belgium\",\"Ecuador\",\"Kazakhstan\",\"Netherlands\",\"Egypt\",\"Sweden\",\"Bolivia\",\"Romania\",\"Dominican Republic\",\"Kuwait\",\"Belarus\",\"Panama\",\"United Arab Emirates\",\"Oman\",\"Portugal\",\"Poland\",\"Singapore\",\"Morocco\",\"Japan\",\"Guatemala\",\"Switzerland\",\"Bahrain\",\"Honduras\",\"Nigeria\",\"Armenia\",\"Nepal\",\"Ireland\",\"Czech Republic\",\"Afghanistan\",\"Austria\",\"Ghana\",\"Algeria\",\"Ethiopia\",\"Venezuela\",\"Moldova\",\"Costa Rica\",\"Uzbekistan\",\"Kyrgyzstan\",\"Azerbaijan\",\"Serbia\",\"Puerto Rico\",\"South Korea\",\"Kenya\",\"Palestine\",\"Denmark\",\"Australia\",\"El Salvador\",\"Cameroon\",\"Paraguay\",\"Lebanon\",\"Bosnia and Herzegovina\",\"Cote d'Ivoire\",\"Norway\",\"Bulgaria\",\"Libya\",\"Malaysia\",\"Macedonia\",\"Hungary\",\"Sudan\",\"Senegal\",\"Finland\",\"Madagascar\",\"Greece\",\"Kosovo\",\"Croatia\",\"Democratic Republic of Congo\",\"Guinea\",\"Luxembourg\",\"Zambia\",\"Tajikistan\",\"Albania\",\"Gabon\",\"Haiti\",\"Tunisia\",\"Maldives\",\"Mauritania\",\"Slovakia\",\"Djibouti\",\"Jordan\",\"Namibia\",\"Montenegro\",\"Thailand\",\"Myanmar\",\"Zimbabwe\",\"Central African Republic\",\"Cuba\",\"Equatorial Guinea\",\"Slovenia\",\"Malawi\",\"Nicaragua\",\"Mozambique\",\"Somalia\",\"Lithuania\",\"Congo\",\"Cape Verde\",\"Uganda\",\"Sri Lanka\",\"Estonia\",\"Swaziland\",\"Georgia\",\"Iceland\",\"Mali\",\"Rwanda\",\"Jamaica\",\"Suriname\",\"South Sudan\",\"Guinea-Bissau\",\"Angola\",\"Sierra Leone\",\"Syria\",\"Latvia\",\"New Zealand\",\"Malta\",\"Benin\",\"Uruguay\",\"Bahamas\",\"Cyprus\",\"Burkina Faso\",\"Gambia\",\"Yemen\",\"Trinidad and Tobago\",\"Andorra\",\"Aruba\",\"Botswana\",\"Niger\",\"Togo\",\"Guyana\",\"Guam\",\"Liberia\",\"Chad\",\"San Marino\",\"Vietnam\",\"Sao Tome and Principe\",\"Lesotho\",\"Belize\",\"United States Virgin Islands\",\"Taiwan\",\"French Polynesia\",\"Tanzania\",\"Mauritius\",\"Jersey\",\"Isle of Man\",\"Faeroe Islands\",\"Comoros\",\"Guernsey\",\"Burundi\",\"Sint Maarten (Dutch part)\",\"Gibraltar\",\"Turks and Caicos Islands\",\"Mongolia\",\"Eritrea\",\"Cambodia\",\"Papua New Guinea\",\"Cayman Islands\",\"Brunei\",\"Bermuda\",\"Barbados\",\"Bhutan\",\"Monaco\",\"Liechtenstein\",\"Curacao\",\"Seychelles\",\"Antigua and Barbuda\",\"Saint Vincent and the Grenadines\",\"Northern Mariana Islands\",\"Bonaire Sint Eustatius and Saba\",\"Fiji\",\"Timor\",\"British Virgin Islands\",\"New Caledonia\",\"Grenada\",\"Saint Lucia\",\"Laos\",\"Dominica\",\"Saint Kitts and Nevis\",\"Greenland\",\"Falkland Islands\",\"Vatican\",\"Montserrat\",\"Anguilla\",\"Solomon Islands\",\"Hong Kong\"],\"y\":[746014098.0,425704517.0,407771615.0,132888951.0,74882695.0,74347548.0,73717676.0,63027659.0,60543682.0,59475032.0,52421884.0,51268034.0,50752853.0,50084335.0,47155234.0,42447678.0,41431948.0,38585191.0,37738077.0,35266178.0,25280332.0,22409936.0,21632319.0,21570149.0,20902374.0,16351440.0,16202474.0,15805665.0,15192468.0,14408757.0,13194863.0,13026629.0,12422845.0,11910109.0,11858838.0,10672859.0,10649646.0,10622205.0,10595186.0,10371724.0,10247326.0,10060093.0,9266263.0,9239657.0,8191161.0,7839270.0,7659484.0,7644426.0,7552067.0,6549995.0,6545499.0,6107371.0,5474629.0,5243653.0,5239798.0,5213980.0,5126433.0,4909197.0,4900649.0,4893999.0,4876417.0,4839834.0,4632482.0,4631835.0,4421215.0,4287847.0,4236782.0,3984174.0,3586463.0,3333075.0,3277734.0,3249458.0,3030088.0,3012377.0,2573206.0,2476502.0,2265640.0,2220699.0,2200057.0,2132883.0,1985889.0,1890380.0,1817274.0,1774181.0,1724220.0,1708798.0,1663545.0,1586747.0,1458484.0,1443321.0,1421470.0,1345940.0,1314031.0,1271391.0,1195836.0,1146724.0,1129913.0,1117391.0,1071951.0,1031803.0,1023155.0,1000626.0,844040.0,799222.0,798665.0,781771.0,716514.0,681299.0,675912.0,655703.0,644209.0,593699.0,593048.0,581546.0,557355.0,547075.0,536447.0,524410.0,510578.0,491145.0,488057.0,473368.0,463888.0,448728.0,446643.0,445402.0,444238.0,431689.0,421210.0,390637.0,388775.0,370890.0,358632.0,333500.0,306564.0,304005.0,268396.0,267902.0,255964.0,253203.0,251261.0,245893.0,239884.0,237908.0,236673.0,231452.0,229521.0,228925.0,225550.0,223576.0,215110.0,205758.0,199978.0,169903.0,166917.0,160975.0,159880.0,154173.0,134994.0,122618.0,121909.0,107948.0,106383.0,98536.0,97074.0,95388.0,91526.0,69524.0,66777.0,64935.0,56893.0,52437.0,49814.0,49745.0,48026.0,45340.0,44432.0,42465.0,40026.0,39539.0,35966.0,33173.0,30140.0,28876.0,24998.0,22847.0,21511.0,19885.0,19777.0,14701.0,12619.0,7824.0,7784.0,5080.0,4742.0,4697.0,4605.0,4495.0,4470.0,4450.0,4039.0,3977.0,3246.0,2678.0,2467.0,2415.0,2383.0,614.0,11.0,0.0],\"type\":\"bar\"},{\"marker\":{\"color\":\"cyan\"},\"name\":\"Total Deaths\",\"x\":[\"United States\",\"Brazil\",\"India\",\"Russia\",\"Peru\",\"Mexico\",\"Spain\",\"South Africa\",\"Colombia\",\"United Kingdom\",\"Iran\",\"Chile\",\"Italy\",\"France\",\"Argentina\",\"Germany\",\"Turkey\",\"Saudi Arabia\",\"Pakistan\",\"Bangladesh\",\"Iraq\",\"Philippines\",\"China\",\"Indonesia\",\"Canada\",\"Qatar\",\"Israel\",\"Ukraine\",\"Belgium\",\"Ecuador\",\"Kazakhstan\",\"Netherlands\",\"Egypt\",\"Sweden\",\"Bolivia\",\"Romania\",\"Dominican Republic\",\"Kuwait\",\"Belarus\",\"Panama\",\"United Arab Emirates\",\"Oman\",\"Portugal\",\"Poland\",\"Singapore\",\"Morocco\",\"Japan\",\"Guatemala\",\"Switzerland\",\"Bahrain\",\"Honduras\",\"Nigeria\",\"Armenia\",\"Nepal\",\"Ireland\",\"Czech Republic\",\"Afghanistan\",\"Austria\",\"Ghana\",\"Algeria\",\"Ethiopia\",\"Venezuela\",\"Moldova\",\"Costa Rica\",\"Uzbekistan\",\"Kyrgyzstan\",\"Azerbaijan\",\"Serbia\",\"Puerto Rico\",\"South Korea\",\"Kenya\",\"Palestine\",\"Denmark\",\"Australia\",\"El Salvador\",\"Cameroon\",\"Paraguay\",\"Lebanon\",\"Bosnia and Herzegovina\",\"Cote d'Ivoire\",\"Norway\",\"Bulgaria\",\"Libya\",\"Malaysia\",\"Macedonia\",\"Hungary\",\"Sudan\",\"Senegal\",\"Finland\",\"Madagascar\",\"Greece\",\"Kosovo\",\"Croatia\",\"Democratic Republic of Congo\",\"Guinea\",\"Luxembourg\",\"Zambia\",\"Tajikistan\",\"Albania\",\"Gabon\",\"Haiti\",\"Tunisia\",\"Maldives\",\"Mauritania\",\"Slovakia\",\"Djibouti\",\"Jordan\",\"Namibia\",\"Montenegro\",\"Thailand\",\"Myanmar\",\"Zimbabwe\",\"Central African Republic\",\"Cuba\",\"Equatorial Guinea\",\"Slovenia\",\"Malawi\",\"Nicaragua\",\"Mozambique\",\"Somalia\",\"Lithuania\",\"Congo\",\"Cape Verde\",\"Uganda\",\"Sri Lanka\",\"Estonia\",\"Swaziland\",\"Georgia\",\"Iceland\",\"Mali\",\"Rwanda\",\"Jamaica\",\"Suriname\",\"South Sudan\",\"Guinea-Bissau\",\"Angola\",\"Sierra Leone\",\"Syria\",\"Latvia\",\"New Zealand\",\"Malta\",\"Benin\",\"Uruguay\",\"Bahamas\",\"Cyprus\",\"Burkina Faso\",\"Gambia\",\"Yemen\",\"Trinidad and Tobago\",\"Andorra\",\"Aruba\",\"Botswana\",\"Niger\",\"Togo\",\"Guyana\",\"Guam\",\"Liberia\",\"Chad\",\"San Marino\",\"Vietnam\",\"Sao Tome and Principe\",\"Lesotho\",\"Belize\",\"United States Virgin Islands\",\"Taiwan\",\"French Polynesia\",\"Tanzania\",\"Mauritius\",\"Jersey\",\"Isle of Man\",\"Faeroe Islands\",\"Comoros\",\"Guernsey\",\"Burundi\",\"Sint Maarten (Dutch part)\",\"Gibraltar\",\"Turks and Caicos Islands\",\"Mongolia\",\"Eritrea\",\"Cambodia\",\"Papua New Guinea\",\"Cayman Islands\",\"Brunei\",\"Bermuda\",\"Barbados\",\"Bhutan\",\"Monaco\",\"Liechtenstein\",\"Curacao\",\"Seychelles\",\"Antigua and Barbuda\",\"Saint Vincent and the Grenadines\",\"Northern Mariana Islands\",\"Bonaire Sint Eustatius and Saba\",\"Fiji\",\"Timor\",\"British Virgin Islands\",\"New Caledonia\",\"Grenada\",\"Saint Lucia\",\"Laos\",\"Dominica\",\"Saint Kitts and Nevis\",\"Greenland\",\"Falkland Islands\",\"Vatican\",\"Montserrat\",\"Anguilla\",\"Solomon Islands\",\"Hong Kong\"],\"y\":[26477574.0,14340567.0,7247327.0,2131571.0,3020038.0,7295850.0,5510624.0,1357682.0,1936134.0,7249573.0,2914070.0,1283880.0,6664225.0,5633444.0,1077426.0,1640691.0,1049757.0,442507.0,789557.0,484534.0,744253.0,448665.0,1066939.0,916111.0,1455549.0,23820.0,126278.0,343334.0,1798461.0,1083749.0,161480.0,1142410.0,644416.0,941063.0,578559.0,464952.0,209024.0,69104.0,88409.0,222435.0,58035.0,73391.0,302612.0,304001.0,4691.0,142270.0,194918.0,281588.0,320693.0,22413.0,200844.0,125473.0,102039.0,27737.0,310201.0,79880.0,165875.0,134945.0,29143.0,206429.0,77686.0,40840.0,129946.0,50352.0,31903.0,114922.0,59495.0,87503.0,54940.0,63333.0,59485.0,21522.0,113280.0,65029.0,71957.0,56606.0,42850.0,22983.0,70578.0,14220.0,47158.0,72850.0,29730.0,24012.0,74066.0,110142.0,102825.0,30320.0,58377.0,17744.0,44805.0,47571.0,28757.0,32040.0,7283.0,21907.0,26475.0,9730.0,31056.0,6877.0,23891.0,19025.0,3054.0,19810.0,6055.0,8006.0,5653.0,6634.0,11356.0,11162.0,13973.0,15984.0,7108.0,16774.0,8947.0,22165.0,15480.0,16410.0,3396.0,15001.0,14345.0,9298.0,4749.0,3748.0,2108.0,11802.0,8179.0,4013.0,1968.0,18813.0,1744.0,5653.0,6961.0,6063.0,4199.0,11820.0,10036.0,12098.0,5376.0,4145.0,2409.0,4374.0,6083.0,5998.0,3735.0,10248.0,7201.0,64304.0,4519.0,9850.0,1624.0,895.0,11676.0,4197.0,5783.0,2715.0,10087.0,12212.0,8596.0,2318.0,2198.0,2680.0,1613.0,1833.0,1423.0,260.0,3733.0,1988.0,5527.0,4310.0,0.0,920.0,2450.0,188.0,3146.0,0.0,476.0,0.0,0.0,0.0,417.0,213.0,475.0,1631.0,1321.0,0.0,192.0,198.0,207.0,0.0,568.0,0.0,396.0,48.0,132.0,0.0,183.0,0.0,0.0,0.0,0.0,0.0,0.0,0.0,0.0,0.0,177.0,0.0,0.0,0.0],\"type\":\"bar\"}],                        {\"template\":{\"data\":{\"bar\":[{\"error_x\":{\"color\":\"#2a3f5f\"},\"error_y\":{\"color\":\"#2a3f5f\"},\"marker\":{\"line\":{\"color\":\"#E5ECF6\",\"width\":0.5},\"pattern\":{\"fillmode\":\"overlay\",\"size\":10,\"solidity\":0.2}},\"type\":\"bar\"}],\"barpolar\":[{\"marker\":{\"line\":{\"color\":\"#E5ECF6\",\"width\":0.5},\"pattern\":{\"fillmode\":\"overlay\",\"size\":10,\"solidity\":0.2}},\"type\":\"barpolar\"}],\"carpet\":[{\"aaxis\":{\"endlinecolor\":\"#2a3f5f\",\"gridcolor\":\"white\",\"linecolor\":\"white\",\"minorgridcolor\":\"white\",\"startlinecolor\":\"#2a3f5f\"},\"baxis\":{\"endlinecolor\":\"#2a3f5f\",\"gridcolor\":\"white\",\"linecolor\":\"white\",\"minorgridcolor\":\"white\",\"startlinecolor\":\"#2a3f5f\"},\"type\":\"carpet\"}],\"choropleth\":[{\"colorbar\":{\"outlinewidth\":0,\"ticks\":\"\"},\"type\":\"choropleth\"}],\"contour\":[{\"colorbar\":{\"outlinewidth\":0,\"ticks\":\"\"},\"colorscale\":[[0.0,\"#0d0887\"],[0.1111111111111111,\"#46039f\"],[0.2222222222222222,\"#7201a8\"],[0.3333333333333333,\"#9c179e\"],[0.4444444444444444,\"#bd3786\"],[0.5555555555555556,\"#d8576b\"],[0.6666666666666666,\"#ed7953\"],[0.7777777777777778,\"#fb9f3a\"],[0.8888888888888888,\"#fdca26\"],[1.0,\"#f0f921\"]],\"type\":\"contour\"}],\"contourcarpet\":[{\"colorbar\":{\"outlinewidth\":0,\"ticks\":\"\"},\"type\":\"contourcarpet\"}],\"heatmap\":[{\"colorbar\":{\"outlinewidth\":0,\"ticks\":\"\"},\"colorscale\":[[0.0,\"#0d0887\"],[0.1111111111111111,\"#46039f\"],[0.2222222222222222,\"#7201a8\"],[0.3333333333333333,\"#9c179e\"],[0.4444444444444444,\"#bd3786\"],[0.5555555555555556,\"#d8576b\"],[0.6666666666666666,\"#ed7953\"],[0.7777777777777778,\"#fb9f3a\"],[0.8888888888888888,\"#fdca26\"],[1.0,\"#f0f921\"]],\"type\":\"heatmap\"}],\"heatmapgl\":[{\"colorbar\":{\"outlinewidth\":0,\"ticks\":\"\"},\"colorscale\":[[0.0,\"#0d0887\"],[0.1111111111111111,\"#46039f\"],[0.2222222222222222,\"#7201a8\"],[0.3333333333333333,\"#9c179e\"],[0.4444444444444444,\"#bd3786\"],[0.5555555555555556,\"#d8576b\"],[0.6666666666666666,\"#ed7953\"],[0.7777777777777778,\"#fb9f3a\"],[0.8888888888888888,\"#fdca26\"],[1.0,\"#f0f921\"]],\"type\":\"heatmapgl\"}],\"histogram\":[{\"marker\":{\"pattern\":{\"fillmode\":\"overlay\",\"size\":10,\"solidity\":0.2}},\"type\":\"histogram\"}],\"histogram2d\":[{\"colorbar\":{\"outlinewidth\":0,\"ticks\":\"\"},\"colorscale\":[[0.0,\"#0d0887\"],[0.1111111111111111,\"#46039f\"],[0.2222222222222222,\"#7201a8\"],[0.3333333333333333,\"#9c179e\"],[0.4444444444444444,\"#bd3786\"],[0.5555555555555556,\"#d8576b\"],[0.6666666666666666,\"#ed7953\"],[0.7777777777777778,\"#fb9f3a\"],[0.8888888888888888,\"#fdca26\"],[1.0,\"#f0f921\"]],\"type\":\"histogram2d\"}],\"histogram2dcontour\":[{\"colorbar\":{\"outlinewidth\":0,\"ticks\":\"\"},\"colorscale\":[[0.0,\"#0d0887\"],[0.1111111111111111,\"#46039f\"],[0.2222222222222222,\"#7201a8\"],[0.3333333333333333,\"#9c179e\"],[0.4444444444444444,\"#bd3786\"],[0.5555555555555556,\"#d8576b\"],[0.6666666666666666,\"#ed7953\"],[0.7777777777777778,\"#fb9f3a\"],[0.8888888888888888,\"#fdca26\"],[1.0,\"#f0f921\"]],\"type\":\"histogram2dcontour\"}],\"mesh3d\":[{\"colorbar\":{\"outlinewidth\":0,\"ticks\":\"\"},\"type\":\"mesh3d\"}],\"parcoords\":[{\"line\":{\"colorbar\":{\"outlinewidth\":0,\"ticks\":\"\"}},\"type\":\"parcoords\"}],\"pie\":[{\"automargin\":true,\"type\":\"pie\"}],\"scatter\":[{\"marker\":{\"colorbar\":{\"outlinewidth\":0,\"ticks\":\"\"}},\"type\":\"scatter\"}],\"scatter3d\":[{\"line\":{\"colorbar\":{\"outlinewidth\":0,\"ticks\":\"\"}},\"marker\":{\"colorbar\":{\"outlinewidth\":0,\"ticks\":\"\"}},\"type\":\"scatter3d\"}],\"scattercarpet\":[{\"marker\":{\"colorbar\":{\"outlinewidth\":0,\"ticks\":\"\"}},\"type\":\"scattercarpet\"}],\"scattergeo\":[{\"marker\":{\"colorbar\":{\"outlinewidth\":0,\"ticks\":\"\"}},\"type\":\"scattergeo\"}],\"scattergl\":[{\"marker\":{\"colorbar\":{\"outlinewidth\":0,\"ticks\":\"\"}},\"type\":\"scattergl\"}],\"scattermapbox\":[{\"marker\":{\"colorbar\":{\"outlinewidth\":0,\"ticks\":\"\"}},\"type\":\"scattermapbox\"}],\"scatterpolar\":[{\"marker\":{\"colorbar\":{\"outlinewidth\":0,\"ticks\":\"\"}},\"type\":\"scatterpolar\"}],\"scatterpolargl\":[{\"marker\":{\"colorbar\":{\"outlinewidth\":0,\"ticks\":\"\"}},\"type\":\"scatterpolargl\"}],\"scatterternary\":[{\"marker\":{\"colorbar\":{\"outlinewidth\":0,\"ticks\":\"\"}},\"type\":\"scatterternary\"}],\"surface\":[{\"colorbar\":{\"outlinewidth\":0,\"ticks\":\"\"},\"colorscale\":[[0.0,\"#0d0887\"],[0.1111111111111111,\"#46039f\"],[0.2222222222222222,\"#7201a8\"],[0.3333333333333333,\"#9c179e\"],[0.4444444444444444,\"#bd3786\"],[0.5555555555555556,\"#d8576b\"],[0.6666666666666666,\"#ed7953\"],[0.7777777777777778,\"#fb9f3a\"],[0.8888888888888888,\"#fdca26\"],[1.0,\"#f0f921\"]],\"type\":\"surface\"}],\"table\":[{\"cells\":{\"fill\":{\"color\":\"#EBF0F8\"},\"line\":{\"color\":\"white\"}},\"header\":{\"fill\":{\"color\":\"#C8D4E3\"},\"line\":{\"color\":\"white\"}},\"type\":\"table\"}]},\"layout\":{\"annotationdefaults\":{\"arrowcolor\":\"#2a3f5f\",\"arrowhead\":0,\"arrowwidth\":1},\"autotypenumbers\":\"strict\",\"coloraxis\":{\"colorbar\":{\"outlinewidth\":0,\"ticks\":\"\"}},\"colorscale\":{\"diverging\":[[0,\"#8e0152\"],[0.1,\"#c51b7d\"],[0.2,\"#de77ae\"],[0.3,\"#f1b6da\"],[0.4,\"#fde0ef\"],[0.5,\"#f7f7f7\"],[0.6,\"#e6f5d0\"],[0.7,\"#b8e186\"],[0.8,\"#7fbc41\"],[0.9,\"#4d9221\"],[1,\"#276419\"]],\"sequential\":[[0.0,\"#0d0887\"],[0.1111111111111111,\"#46039f\"],[0.2222222222222222,\"#7201a8\"],[0.3333333333333333,\"#9c179e\"],[0.4444444444444444,\"#bd3786\"],[0.5555555555555556,\"#d8576b\"],[0.6666666666666666,\"#ed7953\"],[0.7777777777777778,\"#fb9f3a\"],[0.8888888888888888,\"#fdca26\"],[1.0,\"#f0f921\"]],\"sequentialminus\":[[0.0,\"#0d0887\"],[0.1111111111111111,\"#46039f\"],[0.2222222222222222,\"#7201a8\"],[0.3333333333333333,\"#9c179e\"],[0.4444444444444444,\"#bd3786\"],[0.5555555555555556,\"#d8576b\"],[0.6666666666666666,\"#ed7953\"],[0.7777777777777778,\"#fb9f3a\"],[0.8888888888888888,\"#fdca26\"],[1.0,\"#f0f921\"]]},\"colorway\":[\"#636efa\",\"#EF553B\",\"#00cc96\",\"#ab63fa\",\"#FFA15A\",\"#19d3f3\",\"#FF6692\",\"#B6E880\",\"#FF97FF\",\"#FECB52\"],\"font\":{\"color\":\"#2a3f5f\"},\"geo\":{\"bgcolor\":\"white\",\"lakecolor\":\"white\",\"landcolor\":\"#E5ECF6\",\"showlakes\":true,\"showland\":true,\"subunitcolor\":\"white\"},\"hoverlabel\":{\"align\":\"left\"},\"hovermode\":\"closest\",\"mapbox\":{\"style\":\"light\"},\"paper_bgcolor\":\"white\",\"plot_bgcolor\":\"#E5ECF6\",\"polar\":{\"angularaxis\":{\"gridcolor\":\"white\",\"linecolor\":\"white\",\"ticks\":\"\"},\"bgcolor\":\"#E5ECF6\",\"radialaxis\":{\"gridcolor\":\"white\",\"linecolor\":\"white\",\"ticks\":\"\"}},\"scene\":{\"xaxis\":{\"backgroundcolor\":\"#E5ECF6\",\"gridcolor\":\"white\",\"gridwidth\":2,\"linecolor\":\"white\",\"showbackground\":true,\"ticks\":\"\",\"zerolinecolor\":\"white\"},\"yaxis\":{\"backgroundcolor\":\"#E5ECF6\",\"gridcolor\":\"white\",\"gridwidth\":2,\"linecolor\":\"white\",\"showbackground\":true,\"ticks\":\"\",\"zerolinecolor\":\"white\"},\"zaxis\":{\"backgroundcolor\":\"#E5ECF6\",\"gridcolor\":\"white\",\"gridwidth\":2,\"linecolor\":\"white\",\"showbackground\":true,\"ticks\":\"\",\"zerolinecolor\":\"white\"}},\"shapedefaults\":{\"line\":{\"color\":\"#2a3f5f\"}},\"ternary\":{\"aaxis\":{\"gridcolor\":\"white\",\"linecolor\":\"white\",\"ticks\":\"\"},\"baxis\":{\"gridcolor\":\"white\",\"linecolor\":\"white\",\"ticks\":\"\"},\"bgcolor\":\"#E5ECF6\",\"caxis\":{\"gridcolor\":\"white\",\"linecolor\":\"white\",\"ticks\":\"\"}},\"title\":{\"x\":0.05},\"xaxis\":{\"automargin\":true,\"gridcolor\":\"white\",\"linecolor\":\"white\",\"ticks\":\"\",\"title\":{\"standoff\":15},\"zerolinecolor\":\"white\",\"zerolinewidth\":2},\"yaxis\":{\"automargin\":true,\"gridcolor\":\"white\",\"linecolor\":\"white\",\"ticks\":\"\",\"title\":{\"standoff\":15},\"zerolinecolor\":\"white\",\"zerolinewidth\":2}}},\"xaxis\":{\"tickangle\":-45},\"barmode\":\"group\"},                        {\"responsive\": true}                    ).then(function(){\n",
       "                            \n",
       "var gd = document.getElementById('ff46f8c5-556d-400b-b56a-b191696262d6');\n",
       "var x = new MutationObserver(function (mutations, observer) {{\n",
       "        var display = window.getComputedStyle(gd).display;\n",
       "        if (!display || display === 'none') {{\n",
       "            console.log([gd, 'removed!']);\n",
       "            Plotly.purge(gd);\n",
       "            observer.disconnect();\n",
       "        }}\n",
       "}});\n",
       "\n",
       "// Listen for the removal of the full notebook cells\n",
       "var notebookContainer = gd.closest('#notebook-container');\n",
       "if (notebookContainer) {{\n",
       "    x.observe(notebookContainer, {childList: true});\n",
       "}}\n",
       "\n",
       "// Listen for the clearing of the current output cell\n",
       "var outputEl = gd.closest('.output');\n",
       "if (outputEl) {{\n",
       "    x.observe(outputEl, {childList: true});\n",
       "}}\n",
       "\n",
       "                        })                };                });            </script>        </div>"
      ]
     },
     "metadata": {},
     "output_type": "display_data"
    }
   ],
   "source": [
    "#plotting total cases & deaths together\n",
    "#multiple info on a single plot\n",
    "\n",
    "fig = go.Figure()\n",
    "\n",
    "fig.add_trace(go.Bar(\n",
    "\n",
    "    x=deta[\"Country\"],\n",
    "\n",
    "    y=deta[\"Total Cases\"],\n",
    "\n",
    "    name='Total Cases',\n",
    "\n",
    "    marker_color='indianred'\n",
    "\n",
    "))\n",
    "\n",
    "fig.add_trace(go.Bar(\n",
    "\n",
    "    x=deta[\"Country\"],\n",
    "\n",
    "    y=deta[\"Total Deaths\"],\n",
    "\n",
    "    name='Total Deaths',\n",
    "\n",
    "    marker_color='cyan'\n",
    "\n",
    "))\n",
    "\n",
    "fig.update_layout(barmode='group', xaxis_tickangle=-45)\n",
    "\n",
    "fig.show()"
   ]
  },
  {
   "cell_type": "code",
   "execution_count": 76,
   "id": "62445741",
   "metadata": {},
   "outputs": [],
   "source": [
    "cases= deta['Total Cases'].sum()\n",
    "deceased= deta['Total Deaths'].sum()\n",
    "\n",
    "M= ['Total Cases', 'Total Deaths']\n",
    "N= [cases, deceased]\n",
    "\n",
    "\n",
    "fifth= px.pie(deta, values= N, names= M, title= 'Percentage of Total Cases and Deaths', hole= 0.1)\n",
    "\n"
   ]
  },
  {
   "cell_type": "code",
   "execution_count": 77,
   "id": "7697592b",
   "metadata": {
    "scrolled": false
   },
   "outputs": [
    {
     "data": {
      "application/vnd.plotly.v1+json": {
       "config": {
        "plotlyServerURL": "https://plot.ly"
       },
       "data": [
        {
         "domain": {
          "x": [
           0,
           1
          ],
          "y": [
           0,
           1
          ]
         },
         "hole": 0.1,
         "hovertemplate": "label=%{label}<br>value=%{value}<extra></extra>",
         "labels": [
          "Total Cases",
          "Total Deaths"
         ],
         "legendgroup": "",
         "name": "",
         "showlegend": true,
         "type": "pie",
         "values": [
          3133760956,
          116851104
         ]
        }
       ],
       "layout": {
        "legend": {
         "tracegroupgap": 0
        },
        "template": {
         "data": {
          "bar": [
           {
            "error_x": {
             "color": "#2a3f5f"
            },
            "error_y": {
             "color": "#2a3f5f"
            },
            "marker": {
             "line": {
              "color": "#E5ECF6",
              "width": 0.5
             },
             "pattern": {
              "fillmode": "overlay",
              "size": 10,
              "solidity": 0.2
             }
            },
            "type": "bar"
           }
          ],
          "barpolar": [
           {
            "marker": {
             "line": {
              "color": "#E5ECF6",
              "width": 0.5
             },
             "pattern": {
              "fillmode": "overlay",
              "size": 10,
              "solidity": 0.2
             }
            },
            "type": "barpolar"
           }
          ],
          "carpet": [
           {
            "aaxis": {
             "endlinecolor": "#2a3f5f",
             "gridcolor": "white",
             "linecolor": "white",
             "minorgridcolor": "white",
             "startlinecolor": "#2a3f5f"
            },
            "baxis": {
             "endlinecolor": "#2a3f5f",
             "gridcolor": "white",
             "linecolor": "white",
             "minorgridcolor": "white",
             "startlinecolor": "#2a3f5f"
            },
            "type": "carpet"
           }
          ],
          "choropleth": [
           {
            "colorbar": {
             "outlinewidth": 0,
             "ticks": ""
            },
            "type": "choropleth"
           }
          ],
          "contour": [
           {
            "colorbar": {
             "outlinewidth": 0,
             "ticks": ""
            },
            "colorscale": [
             [
              0,
              "#0d0887"
             ],
             [
              0.1111111111111111,
              "#46039f"
             ],
             [
              0.2222222222222222,
              "#7201a8"
             ],
             [
              0.3333333333333333,
              "#9c179e"
             ],
             [
              0.4444444444444444,
              "#bd3786"
             ],
             [
              0.5555555555555556,
              "#d8576b"
             ],
             [
              0.6666666666666666,
              "#ed7953"
             ],
             [
              0.7777777777777778,
              "#fb9f3a"
             ],
             [
              0.8888888888888888,
              "#fdca26"
             ],
             [
              1,
              "#f0f921"
             ]
            ],
            "type": "contour"
           }
          ],
          "contourcarpet": [
           {
            "colorbar": {
             "outlinewidth": 0,
             "ticks": ""
            },
            "type": "contourcarpet"
           }
          ],
          "heatmap": [
           {
            "colorbar": {
             "outlinewidth": 0,
             "ticks": ""
            },
            "colorscale": [
             [
              0,
              "#0d0887"
             ],
             [
              0.1111111111111111,
              "#46039f"
             ],
             [
              0.2222222222222222,
              "#7201a8"
             ],
             [
              0.3333333333333333,
              "#9c179e"
             ],
             [
              0.4444444444444444,
              "#bd3786"
             ],
             [
              0.5555555555555556,
              "#d8576b"
             ],
             [
              0.6666666666666666,
              "#ed7953"
             ],
             [
              0.7777777777777778,
              "#fb9f3a"
             ],
             [
              0.8888888888888888,
              "#fdca26"
             ],
             [
              1,
              "#f0f921"
             ]
            ],
            "type": "heatmap"
           }
          ],
          "heatmapgl": [
           {
            "colorbar": {
             "outlinewidth": 0,
             "ticks": ""
            },
            "colorscale": [
             [
              0,
              "#0d0887"
             ],
             [
              0.1111111111111111,
              "#46039f"
             ],
             [
              0.2222222222222222,
              "#7201a8"
             ],
             [
              0.3333333333333333,
              "#9c179e"
             ],
             [
              0.4444444444444444,
              "#bd3786"
             ],
             [
              0.5555555555555556,
              "#d8576b"
             ],
             [
              0.6666666666666666,
              "#ed7953"
             ],
             [
              0.7777777777777778,
              "#fb9f3a"
             ],
             [
              0.8888888888888888,
              "#fdca26"
             ],
             [
              1,
              "#f0f921"
             ]
            ],
            "type": "heatmapgl"
           }
          ],
          "histogram": [
           {
            "marker": {
             "pattern": {
              "fillmode": "overlay",
              "size": 10,
              "solidity": 0.2
             }
            },
            "type": "histogram"
           }
          ],
          "histogram2d": [
           {
            "colorbar": {
             "outlinewidth": 0,
             "ticks": ""
            },
            "colorscale": [
             [
              0,
              "#0d0887"
             ],
             [
              0.1111111111111111,
              "#46039f"
             ],
             [
              0.2222222222222222,
              "#7201a8"
             ],
             [
              0.3333333333333333,
              "#9c179e"
             ],
             [
              0.4444444444444444,
              "#bd3786"
             ],
             [
              0.5555555555555556,
              "#d8576b"
             ],
             [
              0.6666666666666666,
              "#ed7953"
             ],
             [
              0.7777777777777778,
              "#fb9f3a"
             ],
             [
              0.8888888888888888,
              "#fdca26"
             ],
             [
              1,
              "#f0f921"
             ]
            ],
            "type": "histogram2d"
           }
          ],
          "histogram2dcontour": [
           {
            "colorbar": {
             "outlinewidth": 0,
             "ticks": ""
            },
            "colorscale": [
             [
              0,
              "#0d0887"
             ],
             [
              0.1111111111111111,
              "#46039f"
             ],
             [
              0.2222222222222222,
              "#7201a8"
             ],
             [
              0.3333333333333333,
              "#9c179e"
             ],
             [
              0.4444444444444444,
              "#bd3786"
             ],
             [
              0.5555555555555556,
              "#d8576b"
             ],
             [
              0.6666666666666666,
              "#ed7953"
             ],
             [
              0.7777777777777778,
              "#fb9f3a"
             ],
             [
              0.8888888888888888,
              "#fdca26"
             ],
             [
              1,
              "#f0f921"
             ]
            ],
            "type": "histogram2dcontour"
           }
          ],
          "mesh3d": [
           {
            "colorbar": {
             "outlinewidth": 0,
             "ticks": ""
            },
            "type": "mesh3d"
           }
          ],
          "parcoords": [
           {
            "line": {
             "colorbar": {
              "outlinewidth": 0,
              "ticks": ""
             }
            },
            "type": "parcoords"
           }
          ],
          "pie": [
           {
            "automargin": true,
            "type": "pie"
           }
          ],
          "scatter": [
           {
            "marker": {
             "colorbar": {
              "outlinewidth": 0,
              "ticks": ""
             }
            },
            "type": "scatter"
           }
          ],
          "scatter3d": [
           {
            "line": {
             "colorbar": {
              "outlinewidth": 0,
              "ticks": ""
             }
            },
            "marker": {
             "colorbar": {
              "outlinewidth": 0,
              "ticks": ""
             }
            },
            "type": "scatter3d"
           }
          ],
          "scattercarpet": [
           {
            "marker": {
             "colorbar": {
              "outlinewidth": 0,
              "ticks": ""
             }
            },
            "type": "scattercarpet"
           }
          ],
          "scattergeo": [
           {
            "marker": {
             "colorbar": {
              "outlinewidth": 0,
              "ticks": ""
             }
            },
            "type": "scattergeo"
           }
          ],
          "scattergl": [
           {
            "marker": {
             "colorbar": {
              "outlinewidth": 0,
              "ticks": ""
             }
            },
            "type": "scattergl"
           }
          ],
          "scattermapbox": [
           {
            "marker": {
             "colorbar": {
              "outlinewidth": 0,
              "ticks": ""
             }
            },
            "type": "scattermapbox"
           }
          ],
          "scatterpolar": [
           {
            "marker": {
             "colorbar": {
              "outlinewidth": 0,
              "ticks": ""
             }
            },
            "type": "scatterpolar"
           }
          ],
          "scatterpolargl": [
           {
            "marker": {
             "colorbar": {
              "outlinewidth": 0,
              "ticks": ""
             }
            },
            "type": "scatterpolargl"
           }
          ],
          "scatterternary": [
           {
            "marker": {
             "colorbar": {
              "outlinewidth": 0,
              "ticks": ""
             }
            },
            "type": "scatterternary"
           }
          ],
          "surface": [
           {
            "colorbar": {
             "outlinewidth": 0,
             "ticks": ""
            },
            "colorscale": [
             [
              0,
              "#0d0887"
             ],
             [
              0.1111111111111111,
              "#46039f"
             ],
             [
              0.2222222222222222,
              "#7201a8"
             ],
             [
              0.3333333333333333,
              "#9c179e"
             ],
             [
              0.4444444444444444,
              "#bd3786"
             ],
             [
              0.5555555555555556,
              "#d8576b"
             ],
             [
              0.6666666666666666,
              "#ed7953"
             ],
             [
              0.7777777777777778,
              "#fb9f3a"
             ],
             [
              0.8888888888888888,
              "#fdca26"
             ],
             [
              1,
              "#f0f921"
             ]
            ],
            "type": "surface"
           }
          ],
          "table": [
           {
            "cells": {
             "fill": {
              "color": "#EBF0F8"
             },
             "line": {
              "color": "white"
             }
            },
            "header": {
             "fill": {
              "color": "#C8D4E3"
             },
             "line": {
              "color": "white"
             }
            },
            "type": "table"
           }
          ]
         },
         "layout": {
          "annotationdefaults": {
           "arrowcolor": "#2a3f5f",
           "arrowhead": 0,
           "arrowwidth": 1
          },
          "autotypenumbers": "strict",
          "coloraxis": {
           "colorbar": {
            "outlinewidth": 0,
            "ticks": ""
           }
          },
          "colorscale": {
           "diverging": [
            [
             0,
             "#8e0152"
            ],
            [
             0.1,
             "#c51b7d"
            ],
            [
             0.2,
             "#de77ae"
            ],
            [
             0.3,
             "#f1b6da"
            ],
            [
             0.4,
             "#fde0ef"
            ],
            [
             0.5,
             "#f7f7f7"
            ],
            [
             0.6,
             "#e6f5d0"
            ],
            [
             0.7,
             "#b8e186"
            ],
            [
             0.8,
             "#7fbc41"
            ],
            [
             0.9,
             "#4d9221"
            ],
            [
             1,
             "#276419"
            ]
           ],
           "sequential": [
            [
             0,
             "#0d0887"
            ],
            [
             0.1111111111111111,
             "#46039f"
            ],
            [
             0.2222222222222222,
             "#7201a8"
            ],
            [
             0.3333333333333333,
             "#9c179e"
            ],
            [
             0.4444444444444444,
             "#bd3786"
            ],
            [
             0.5555555555555556,
             "#d8576b"
            ],
            [
             0.6666666666666666,
             "#ed7953"
            ],
            [
             0.7777777777777778,
             "#fb9f3a"
            ],
            [
             0.8888888888888888,
             "#fdca26"
            ],
            [
             1,
             "#f0f921"
            ]
           ],
           "sequentialminus": [
            [
             0,
             "#0d0887"
            ],
            [
             0.1111111111111111,
             "#46039f"
            ],
            [
             0.2222222222222222,
             "#7201a8"
            ],
            [
             0.3333333333333333,
             "#9c179e"
            ],
            [
             0.4444444444444444,
             "#bd3786"
            ],
            [
             0.5555555555555556,
             "#d8576b"
            ],
            [
             0.6666666666666666,
             "#ed7953"
            ],
            [
             0.7777777777777778,
             "#fb9f3a"
            ],
            [
             0.8888888888888888,
             "#fdca26"
            ],
            [
             1,
             "#f0f921"
            ]
           ]
          },
          "colorway": [
           "#636efa",
           "#EF553B",
           "#00cc96",
           "#ab63fa",
           "#FFA15A",
           "#19d3f3",
           "#FF6692",
           "#B6E880",
           "#FF97FF",
           "#FECB52"
          ],
          "font": {
           "color": "#2a3f5f"
          },
          "geo": {
           "bgcolor": "white",
           "lakecolor": "white",
           "landcolor": "#E5ECF6",
           "showlakes": true,
           "showland": true,
           "subunitcolor": "white"
          },
          "hoverlabel": {
           "align": "left"
          },
          "hovermode": "closest",
          "mapbox": {
           "style": "light"
          },
          "paper_bgcolor": "white",
          "plot_bgcolor": "#E5ECF6",
          "polar": {
           "angularaxis": {
            "gridcolor": "white",
            "linecolor": "white",
            "ticks": ""
           },
           "bgcolor": "#E5ECF6",
           "radialaxis": {
            "gridcolor": "white",
            "linecolor": "white",
            "ticks": ""
           }
          },
          "scene": {
           "xaxis": {
            "backgroundcolor": "#E5ECF6",
            "gridcolor": "white",
            "gridwidth": 2,
            "linecolor": "white",
            "showbackground": true,
            "ticks": "",
            "zerolinecolor": "white"
           },
           "yaxis": {
            "backgroundcolor": "#E5ECF6",
            "gridcolor": "white",
            "gridwidth": 2,
            "linecolor": "white",
            "showbackground": true,
            "ticks": "",
            "zerolinecolor": "white"
           },
           "zaxis": {
            "backgroundcolor": "#E5ECF6",
            "gridcolor": "white",
            "gridwidth": 2,
            "linecolor": "white",
            "showbackground": true,
            "ticks": "",
            "zerolinecolor": "white"
           }
          },
          "shapedefaults": {
           "line": {
            "color": "#2a3f5f"
           }
          },
          "ternary": {
           "aaxis": {
            "gridcolor": "white",
            "linecolor": "white",
            "ticks": ""
           },
           "baxis": {
            "gridcolor": "white",
            "linecolor": "white",
            "ticks": ""
           },
           "bgcolor": "#E5ECF6",
           "caxis": {
            "gridcolor": "white",
            "linecolor": "white",
            "ticks": ""
           }
          },
          "title": {
           "x": 0.05
          },
          "xaxis": {
           "automargin": true,
           "gridcolor": "white",
           "linecolor": "white",
           "ticks": "",
           "title": {
            "standoff": 15
           },
           "zerolinecolor": "white",
           "zerolinewidth": 2
          },
          "yaxis": {
           "automargin": true,
           "gridcolor": "white",
           "linecolor": "white",
           "ticks": "",
           "title": {
            "standoff": 15
           },
           "zerolinecolor": "white",
           "zerolinewidth": 2
          }
         }
        },
        "title": {
         "text": "Percentage of Total Cases and Deaths"
        }
       }
      },
      "text/html": [
       "<div>                            <div id=\"973cd4b6-3a29-49ab-b575-8a3317fda4f3\" class=\"plotly-graph-div\" style=\"height:525px; width:100%;\"></div>            <script type=\"text/javascript\">                require([\"plotly\"], function(Plotly) {                    window.PLOTLYENV=window.PLOTLYENV || {};                                    if (document.getElementById(\"973cd4b6-3a29-49ab-b575-8a3317fda4f3\")) {                    Plotly.newPlot(                        \"973cd4b6-3a29-49ab-b575-8a3317fda4f3\",                        [{\"domain\":{\"x\":[0.0,1.0],\"y\":[0.0,1.0]},\"hole\":0.1,\"hovertemplate\":\"label=%{label}<br>value=%{value}<extra></extra>\",\"labels\":[\"Total Cases\",\"Total Deaths\"],\"legendgroup\":\"\",\"name\":\"\",\"showlegend\":true,\"values\":[3133760956.0,116851104.0],\"type\":\"pie\"}],                        {\"template\":{\"data\":{\"bar\":[{\"error_x\":{\"color\":\"#2a3f5f\"},\"error_y\":{\"color\":\"#2a3f5f\"},\"marker\":{\"line\":{\"color\":\"#E5ECF6\",\"width\":0.5},\"pattern\":{\"fillmode\":\"overlay\",\"size\":10,\"solidity\":0.2}},\"type\":\"bar\"}],\"barpolar\":[{\"marker\":{\"line\":{\"color\":\"#E5ECF6\",\"width\":0.5},\"pattern\":{\"fillmode\":\"overlay\",\"size\":10,\"solidity\":0.2}},\"type\":\"barpolar\"}],\"carpet\":[{\"aaxis\":{\"endlinecolor\":\"#2a3f5f\",\"gridcolor\":\"white\",\"linecolor\":\"white\",\"minorgridcolor\":\"white\",\"startlinecolor\":\"#2a3f5f\"},\"baxis\":{\"endlinecolor\":\"#2a3f5f\",\"gridcolor\":\"white\",\"linecolor\":\"white\",\"minorgridcolor\":\"white\",\"startlinecolor\":\"#2a3f5f\"},\"type\":\"carpet\"}],\"choropleth\":[{\"colorbar\":{\"outlinewidth\":0,\"ticks\":\"\"},\"type\":\"choropleth\"}],\"contour\":[{\"colorbar\":{\"outlinewidth\":0,\"ticks\":\"\"},\"colorscale\":[[0.0,\"#0d0887\"],[0.1111111111111111,\"#46039f\"],[0.2222222222222222,\"#7201a8\"],[0.3333333333333333,\"#9c179e\"],[0.4444444444444444,\"#bd3786\"],[0.5555555555555556,\"#d8576b\"],[0.6666666666666666,\"#ed7953\"],[0.7777777777777778,\"#fb9f3a\"],[0.8888888888888888,\"#fdca26\"],[1.0,\"#f0f921\"]],\"type\":\"contour\"}],\"contourcarpet\":[{\"colorbar\":{\"outlinewidth\":0,\"ticks\":\"\"},\"type\":\"contourcarpet\"}],\"heatmap\":[{\"colorbar\":{\"outlinewidth\":0,\"ticks\":\"\"},\"colorscale\":[[0.0,\"#0d0887\"],[0.1111111111111111,\"#46039f\"],[0.2222222222222222,\"#7201a8\"],[0.3333333333333333,\"#9c179e\"],[0.4444444444444444,\"#bd3786\"],[0.5555555555555556,\"#d8576b\"],[0.6666666666666666,\"#ed7953\"],[0.7777777777777778,\"#fb9f3a\"],[0.8888888888888888,\"#fdca26\"],[1.0,\"#f0f921\"]],\"type\":\"heatmap\"}],\"heatmapgl\":[{\"colorbar\":{\"outlinewidth\":0,\"ticks\":\"\"},\"colorscale\":[[0.0,\"#0d0887\"],[0.1111111111111111,\"#46039f\"],[0.2222222222222222,\"#7201a8\"],[0.3333333333333333,\"#9c179e\"],[0.4444444444444444,\"#bd3786\"],[0.5555555555555556,\"#d8576b\"],[0.6666666666666666,\"#ed7953\"],[0.7777777777777778,\"#fb9f3a\"],[0.8888888888888888,\"#fdca26\"],[1.0,\"#f0f921\"]],\"type\":\"heatmapgl\"}],\"histogram\":[{\"marker\":{\"pattern\":{\"fillmode\":\"overlay\",\"size\":10,\"solidity\":0.2}},\"type\":\"histogram\"}],\"histogram2d\":[{\"colorbar\":{\"outlinewidth\":0,\"ticks\":\"\"},\"colorscale\":[[0.0,\"#0d0887\"],[0.1111111111111111,\"#46039f\"],[0.2222222222222222,\"#7201a8\"],[0.3333333333333333,\"#9c179e\"],[0.4444444444444444,\"#bd3786\"],[0.5555555555555556,\"#d8576b\"],[0.6666666666666666,\"#ed7953\"],[0.7777777777777778,\"#fb9f3a\"],[0.8888888888888888,\"#fdca26\"],[1.0,\"#f0f921\"]],\"type\":\"histogram2d\"}],\"histogram2dcontour\":[{\"colorbar\":{\"outlinewidth\":0,\"ticks\":\"\"},\"colorscale\":[[0.0,\"#0d0887\"],[0.1111111111111111,\"#46039f\"],[0.2222222222222222,\"#7201a8\"],[0.3333333333333333,\"#9c179e\"],[0.4444444444444444,\"#bd3786\"],[0.5555555555555556,\"#d8576b\"],[0.6666666666666666,\"#ed7953\"],[0.7777777777777778,\"#fb9f3a\"],[0.8888888888888888,\"#fdca26\"],[1.0,\"#f0f921\"]],\"type\":\"histogram2dcontour\"}],\"mesh3d\":[{\"colorbar\":{\"outlinewidth\":0,\"ticks\":\"\"},\"type\":\"mesh3d\"}],\"parcoords\":[{\"line\":{\"colorbar\":{\"outlinewidth\":0,\"ticks\":\"\"}},\"type\":\"parcoords\"}],\"pie\":[{\"automargin\":true,\"type\":\"pie\"}],\"scatter\":[{\"marker\":{\"colorbar\":{\"outlinewidth\":0,\"ticks\":\"\"}},\"type\":\"scatter\"}],\"scatter3d\":[{\"line\":{\"colorbar\":{\"outlinewidth\":0,\"ticks\":\"\"}},\"marker\":{\"colorbar\":{\"outlinewidth\":0,\"ticks\":\"\"}},\"type\":\"scatter3d\"}],\"scattercarpet\":[{\"marker\":{\"colorbar\":{\"outlinewidth\":0,\"ticks\":\"\"}},\"type\":\"scattercarpet\"}],\"scattergeo\":[{\"marker\":{\"colorbar\":{\"outlinewidth\":0,\"ticks\":\"\"}},\"type\":\"scattergeo\"}],\"scattergl\":[{\"marker\":{\"colorbar\":{\"outlinewidth\":0,\"ticks\":\"\"}},\"type\":\"scattergl\"}],\"scattermapbox\":[{\"marker\":{\"colorbar\":{\"outlinewidth\":0,\"ticks\":\"\"}},\"type\":\"scattermapbox\"}],\"scatterpolar\":[{\"marker\":{\"colorbar\":{\"outlinewidth\":0,\"ticks\":\"\"}},\"type\":\"scatterpolar\"}],\"scatterpolargl\":[{\"marker\":{\"colorbar\":{\"outlinewidth\":0,\"ticks\":\"\"}},\"type\":\"scatterpolargl\"}],\"scatterternary\":[{\"marker\":{\"colorbar\":{\"outlinewidth\":0,\"ticks\":\"\"}},\"type\":\"scatterternary\"}],\"surface\":[{\"colorbar\":{\"outlinewidth\":0,\"ticks\":\"\"},\"colorscale\":[[0.0,\"#0d0887\"],[0.1111111111111111,\"#46039f\"],[0.2222222222222222,\"#7201a8\"],[0.3333333333333333,\"#9c179e\"],[0.4444444444444444,\"#bd3786\"],[0.5555555555555556,\"#d8576b\"],[0.6666666666666666,\"#ed7953\"],[0.7777777777777778,\"#fb9f3a\"],[0.8888888888888888,\"#fdca26\"],[1.0,\"#f0f921\"]],\"type\":\"surface\"}],\"table\":[{\"cells\":{\"fill\":{\"color\":\"#EBF0F8\"},\"line\":{\"color\":\"white\"}},\"header\":{\"fill\":{\"color\":\"#C8D4E3\"},\"line\":{\"color\":\"white\"}},\"type\":\"table\"}]},\"layout\":{\"annotationdefaults\":{\"arrowcolor\":\"#2a3f5f\",\"arrowhead\":0,\"arrowwidth\":1},\"autotypenumbers\":\"strict\",\"coloraxis\":{\"colorbar\":{\"outlinewidth\":0,\"ticks\":\"\"}},\"colorscale\":{\"diverging\":[[0,\"#8e0152\"],[0.1,\"#c51b7d\"],[0.2,\"#de77ae\"],[0.3,\"#f1b6da\"],[0.4,\"#fde0ef\"],[0.5,\"#f7f7f7\"],[0.6,\"#e6f5d0\"],[0.7,\"#b8e186\"],[0.8,\"#7fbc41\"],[0.9,\"#4d9221\"],[1,\"#276419\"]],\"sequential\":[[0.0,\"#0d0887\"],[0.1111111111111111,\"#46039f\"],[0.2222222222222222,\"#7201a8\"],[0.3333333333333333,\"#9c179e\"],[0.4444444444444444,\"#bd3786\"],[0.5555555555555556,\"#d8576b\"],[0.6666666666666666,\"#ed7953\"],[0.7777777777777778,\"#fb9f3a\"],[0.8888888888888888,\"#fdca26\"],[1.0,\"#f0f921\"]],\"sequentialminus\":[[0.0,\"#0d0887\"],[0.1111111111111111,\"#46039f\"],[0.2222222222222222,\"#7201a8\"],[0.3333333333333333,\"#9c179e\"],[0.4444444444444444,\"#bd3786\"],[0.5555555555555556,\"#d8576b\"],[0.6666666666666666,\"#ed7953\"],[0.7777777777777778,\"#fb9f3a\"],[0.8888888888888888,\"#fdca26\"],[1.0,\"#f0f921\"]]},\"colorway\":[\"#636efa\",\"#EF553B\",\"#00cc96\",\"#ab63fa\",\"#FFA15A\",\"#19d3f3\",\"#FF6692\",\"#B6E880\",\"#FF97FF\",\"#FECB52\"],\"font\":{\"color\":\"#2a3f5f\"},\"geo\":{\"bgcolor\":\"white\",\"lakecolor\":\"white\",\"landcolor\":\"#E5ECF6\",\"showlakes\":true,\"showland\":true,\"subunitcolor\":\"white\"},\"hoverlabel\":{\"align\":\"left\"},\"hovermode\":\"closest\",\"mapbox\":{\"style\":\"light\"},\"paper_bgcolor\":\"white\",\"plot_bgcolor\":\"#E5ECF6\",\"polar\":{\"angularaxis\":{\"gridcolor\":\"white\",\"linecolor\":\"white\",\"ticks\":\"\"},\"bgcolor\":\"#E5ECF6\",\"radialaxis\":{\"gridcolor\":\"white\",\"linecolor\":\"white\",\"ticks\":\"\"}},\"scene\":{\"xaxis\":{\"backgroundcolor\":\"#E5ECF6\",\"gridcolor\":\"white\",\"gridwidth\":2,\"linecolor\":\"white\",\"showbackground\":true,\"ticks\":\"\",\"zerolinecolor\":\"white\"},\"yaxis\":{\"backgroundcolor\":\"#E5ECF6\",\"gridcolor\":\"white\",\"gridwidth\":2,\"linecolor\":\"white\",\"showbackground\":true,\"ticks\":\"\",\"zerolinecolor\":\"white\"},\"zaxis\":{\"backgroundcolor\":\"#E5ECF6\",\"gridcolor\":\"white\",\"gridwidth\":2,\"linecolor\":\"white\",\"showbackground\":true,\"ticks\":\"\",\"zerolinecolor\":\"white\"}},\"shapedefaults\":{\"line\":{\"color\":\"#2a3f5f\"}},\"ternary\":{\"aaxis\":{\"gridcolor\":\"white\",\"linecolor\":\"white\",\"ticks\":\"\"},\"baxis\":{\"gridcolor\":\"white\",\"linecolor\":\"white\",\"ticks\":\"\"},\"bgcolor\":\"#E5ECF6\",\"caxis\":{\"gridcolor\":\"white\",\"linecolor\":\"white\",\"ticks\":\"\"}},\"title\":{\"x\":0.05},\"xaxis\":{\"automargin\":true,\"gridcolor\":\"white\",\"linecolor\":\"white\",\"ticks\":\"\",\"title\":{\"standoff\":15},\"zerolinecolor\":\"white\",\"zerolinewidth\":2},\"yaxis\":{\"automargin\":true,\"gridcolor\":\"white\",\"linecolor\":\"white\",\"ticks\":\"\",\"title\":{\"standoff\":15},\"zerolinecolor\":\"white\",\"zerolinewidth\":2}}},\"legend\":{\"tracegroupgap\":0},\"title\":{\"text\":\"Percentage of Total Cases and Deaths\"}},                        {\"responsive\": true}                    ).then(function(){\n",
       "                            \n",
       "var gd = document.getElementById('973cd4b6-3a29-49ab-b575-8a3317fda4f3');\n",
       "var x = new MutationObserver(function (mutations, observer) {{\n",
       "        var display = window.getComputedStyle(gd).display;\n",
       "        if (!display || display === 'none') {{\n",
       "            console.log([gd, 'removed!']);\n",
       "            Plotly.purge(gd);\n",
       "            observer.disconnect();\n",
       "        }}\n",
       "}});\n",
       "\n",
       "// Listen for the removal of the full notebook cells\n",
       "var notebookContainer = gd.closest('#notebook-container');\n",
       "if (notebookContainer) {{\n",
       "    x.observe(notebookContainer, {childList: true});\n",
       "}}\n",
       "\n",
       "// Listen for the clearing of the current output cell\n",
       "var outputEl = gd.closest('.output');\n",
       "if (outputEl) {{\n",
       "    x.observe(outputEl, {childList: true});\n",
       "}}\n",
       "\n",
       "                        })                };                });            </script>        </div>"
      ]
     },
     "metadata": {},
     "output_type": "display_data"
    }
   ],
   "source": [
    "fifth"
   ]
  },
  {
   "cell_type": "code",
   "execution_count": 46,
   "id": "181e03fe",
   "metadata": {},
   "outputs": [],
   "source": [
    "G= deta['Total Deaths'].sum()\n",
    "H= deta['Total Cases'].sum()\n",
    "\n",
    "death_rate=(G/H)*100"
   ]
  },
  {
   "cell_type": "code",
   "execution_count": 48,
   "id": "0b220f08",
   "metadata": {},
   "outputs": [
    {
     "name": "stdout",
     "output_type": "stream",
     "text": [
      "death rate is 3.728781666523514\n"
     ]
    }
   ],
   "source": [
    "print('death rate is {}'.format(death_rate))"
   ]
  },
  {
   "cell_type": "code",
   "execution_count": 50,
   "id": "92d42282",
   "metadata": {},
   "outputs": [
    {
     "name": "stdout",
     "output_type": "stream",
     "text": [
      "death rate=  3.728781666523514\n"
     ]
    }
   ],
   "source": [
    "print('death rate= ', death_rate)"
   ]
  },
  {
   "cell_type": "code",
   "execution_count": 88,
   "id": "a8da80ab",
   "metadata": {},
   "outputs": [],
   "source": [
    "sixth= px.bar(deta, x= deta['Country'], y= deta['Total Cases'], color= deta['Stringency Index'], hover_data= ['Population', 'Total Deaths'],height= 450, title= 'Stringency Index during Covid')"
   ]
  },
  {
   "cell_type": "code",
   "execution_count": 89,
   "id": "7c305eaf",
   "metadata": {
    "scrolled": true
   },
   "outputs": [
    {
     "data": {
      "application/vnd.plotly.v1+json": {
       "config": {
        "plotlyServerURL": "https://plot.ly"
       },
       "data": [
        {
         "alignmentgroup": "True",
         "customdata": [
          [
           331002647,
           26477574
          ],
          [
           212559409,
           14340567
          ],
          [
           1380004385,
           7247327
          ],
          [
           145934460,
           2131571
          ],
          [
           26355046.972789116,
           3020038
          ],
          [
           128932753,
           7295850
          ],
          [
           46595753.12585034,
           5510624
          ],
          [
           51642940.952380955,
           1357682
          ],
          [
           39633266.789115645,
           1936134
          ],
          [
           67886004,
           7249573
          ],
          [
           83992953,
           2914070
          ],
          [
           14889836.261904761,
           1283880
          ],
          [
           60461828,
           6664225
          ],
          [
           65273512,
           5633444
          ],
          [
           38739237.428571425,
           1077426
          ],
          [
           83783945,
           1640691
          ],
          [
           63110866.46258503,
           1049757
          ],
          [
           27472167.156462584,
           442507
          ],
          [
           220892331,
           789557
          ],
          [
           129398800.92857143,
           484534
          ],
          [
           40222503,
           744253
          ],
          [
           109581085,
           448665
          ],
          [
           1439323774,
           1066939
          ],
          [
           273523621,
           916111
          ],
          [
           37742157,
           1455549
          ],
          [
           2881060,
           23820
          ],
          [
           8655541,
           126278
          ],
          [
           33469713.520408165,
           343334
          ],
          [
           11510775.074829932,
           1798461
          ],
          [
           17643060,
           1083749
          ],
          [
           14114463.425170068,
           161480
          ],
          [
           17134873,
           1142410
          ],
          [
           102334403,
           644416
          ],
          [
           9996216.224489795,
           941063
          ],
          [
           8814328.020408163,
           578559
          ],
          [
           19237682,
           464952
          ],
          [
           10847904,
           209024
          ],
          [
           4270563,
           69104
          ],
          [
           9449321,
           88409
          ],
          [
           3302118.3673469387,
           222435
          ],
          [
           9890400,
           58035
          ],
          [
           5106622,
           73391
          ],
          [
           8081063.710884354,
           302612
          ],
          [
           29350428.36734694,
           304001
          ],
          [
           5850343,
           4691
          ],
          [
           32139805.605442178,
           142270
          ],
          [
           126476458,
           194918
          ],
          [
           14990576.469387755,
           281588
          ],
          [
           8654618,
           320693
          ],
          [
           1701583,
           22413
          ],
          [
           7411611.428571428,
           200844
          ],
          [
           206139587,
           125473
          ],
          [
           2963234,
           102039
          ],
          [
           29136808,
           27737
          ],
          [
           4937796,
           310201
          ],
          [
           10708982,
           79880
          ],
          [
           38928341,
           165875
          ],
          [
           9006400,
           134945
          ],
          [
           23251863.605442178,
           29143
          ],
          [
           43851043,
           206429
          ],
          [
           86418203.54761904,
           77686
          ],
          [
           21181875.908163264,
           40840
          ],
          [
           3073495.619047619,
           129946
          ],
          [
           3915883.551020408,
           50352
          ],
          [
           24817297.217687074,
           31903
          ],
          [
           4771092.057823129,
           114922
          ],
          [
           10139175,
           59495
          ],
          [
           5485337.591836735,
           87503
          ],
          [
           2004534.149659864,
           54940
          ],
          [
           51269183,
           63333
          ],
          [
           41700191.8367347,
           59485
          ],
          [
           3938848.4081632653,
           21522
          ],
          [
           5792203,
           113280
          ],
          [
           25499881,
           65029
          ],
          [
           4743310.255102041,
           71957
          ],
          [
           20135128.136054423,
           56606
          ],
          [
           5507089.489795919,
           42850
          ],
          [
           6825442,
           22983
          ],
          [
           2488509.336734694,
           70578
          ],
          [
           19738845.23809524,
           14220
          ],
          [
           5421242,
           47158
          ],
          [
           5294053.333333333,
           72850
          ],
          [
           5375496.632653061,
           29730
          ],
          [
           32365998,
           24012
          ],
          [
           2083380,
           74066
          ],
          [
           7557416.666666667,
           110142
          ],
          [
           32812378.163265307,
           102825
          ],
          [
           13383753.57142857,
           30320
          ],
          [
           5540718,
           58377
          ],
          [
           20061860.704081632,
           17744
          ],
          [
           10423056,
           44805
          ],
          [
           1446293.469387755,
           47571
          ],
          [
           4105268,
           28757
          ],
          [
           67323368.31292517,
           32040
          ],
          [
           9782589.959183674,
           7283
          ],
          [
           625976,
           21907
          ],
          [
           13444049.455782313,
           26475
          ],
          [
           5579844.979591837,
           9730
          ],
          [
           2202397.9591836734,
           31056
          ],
          [
           1665510.7482993198,
           6877
          ],
          [
           8299802.93197279,
           23891
          ],
          [
           9085060.095238095,
           19025
          ],
          [
           411841.5238095238,
           3054
          ],
          [
           3463522.2448979593,
           19810
          ],
          [
           4234008.857142857,
           6055
          ],
          [
           722518.4693877551,
           8006
          ],
          [
           7877934.62585034,
           5653
          ],
          [
           1892723.142857143,
           6634
          ],
          [
           461433.306122449,
           11356
          ],
          [
           69799978,
           11162
          ],
          [
           39234273.22448979,
           13973
          ],
          [
           10768038.948979592,
           15984
          ],
          [
           3581253.5782312923,
           7108
          ],
          [
           8437173.142857144,
           16774
          ],
          [
           1045080.6632653062,
           8947
          ],
          [
           1612232.9795918367,
           22165
          ],
          [
           13338914.200680273,
           15480
          ],
          [
           4844486.768707483,
           16410
          ],
          [
           22431621.717687074,
           3396
          ],
          [
           11730709.261904761,
           15001
          ],
          [
           2722291,
           14345
          ],
          [
           4091646.448979592,
           9298
          ],
          [
           402807.63265306124,
           4749
          ],
          [
           32983306.12244898,
           3748
          ],
          [
           21413250,
           2108
          ],
          [
           1326539,
           11802
          ],
          [
           864203.7959183673,
           8179
          ],
          [
           3989175,
           4013
          ],
          [
           341250,
           1968
          ],
          [
           14327120.653061224,
           18813
          ],
          [
           9648074.051020408,
           1744
          ],
          [
           2225906.738095238,
           5653
          ],
          [
           427005.70068027213,
           6961
          ],
          [
           7500559.908163265,
           6063
          ],
          [
           1385631.2448979593,
           4199
          ],
          [
           23699485.768707484,
           11820
          ],
          [
           5480785.6122448975,
           10036
          ],
          [
           12559995.329931973,
           12098
          ],
          [
           1501262.8163265307,
           5376
          ],
          [
           4822233,
           4145
          ],
          [
           385971.1666666667,
           2409
          ],
          [
           8948074.714285715,
           4374
          ],
          [
           2587572.1530612246,
           6083
          ],
          [
           288916.89795918367,
           5998
          ],
          [
           661393.1224489796,
           3735
          ],
          [
           15713008.292517006,
           10248
          ],
          [
           1775508.2448979593,
           7201
          ],
          [
           19579632.054421768,
           64304
          ],
          [
           1051998.336734694,
           4519
          ],
          [
           59394.183673469386,
           9850
          ],
          [
           78440.32653061225,
           1624
          ],
          [
           1615742.3469387756,
           895
          ],
          [
           17537460.775510203,
           11676
          ],
          [
           6476562.959183673,
           4197
          ],
          [
           585906.193877551,
           5783
          ],
          [
           123429.74489795919,
           2715
          ],
          [
           3733047.3095238097,
           10087
          ],
          [
           11956237.503401361,
           12212
          ],
          [
           33938,
           8596
          ],
          [
           97338583,
           2318
          ],
          [
           144616.44217687074,
           2198
          ],
          [
           1151278.2857142857,
           2680
          ],
          [
           284015,
           1613
          ],
          [
           74587.85714285714,
           1833
          ],
          [
           23816775,
           1423
          ],
          [
           205422.9931972789,
           260
          ],
          [
           44089538.166666664,
           3733
          ],
          [
           925707.9523809524,
           1988
          ],
          [
           73570.14285714286,
           5527
          ],
          [
           61604.816326530614,
           4310
          ],
          [
           37895.30612244898,
           0
          ],
          [
           505784.8469387755,
           920
          ],
          [
           48806.55782312925,
           2450
          ],
          [
           8169856.333333333,
           188
          ],
          [
           32963.71428571428,
           3146
          ],
          [
           24523.380952380954,
           0
          ],
          [
           27524.020408163266,
           476
          ],
          [
           2453143.673469388,
           0
          ],
          [
           2557287.4965986395,
           0
          ],
          [
           16718971,
           0
          ],
          [
           6482029.765306123,
           417
          ],
          [
           47837.00680272109,
           213
          ],
          [
           331832.34353741497,
           475
          ],
          [
           45327.965986394556,
           1631
          ],
          [
           211129.7142857143,
           1321
          ],
          [
           585270.3265306122,
           0
          ],
          [
           39244,
           192
          ],
          [
           29056.761904761905,
           198
          ],
          [
           120563.26530612246,
           207
          ],
          [
           73253.26530612246,
           0
          ],
          [
           71280.92517006803,
           568
          ],
          [
           81512.08163265306,
           0
          ],
          [
           39741.73809523809,
           396
          ],
          [
           17926.602040816328,
           48
          ],
          [
           804970.1224489796,
           132
          ],
          [
           950713.2789115646,
           0
          ],
          [
           21289.316326530614,
           183
          ],
          [
           206835.31632653062,
           0
          ],
          [
           80753.43197278911,
           0
          ],
          [
           136784.8673469388,
           0
          ],
          [
           5172078.925170068,
           0
          ],
          [
           51667.010204081635,
           0
          ],
          [
           37632.43537414966,
           0
          ],
          [
           41323.836734693876,
           0
          ],
          [
           2357.5408163265306,
           0
          ],
          [
           610.8775510204082,
           0
          ],
          [
           3621.7244897959185,
           177
          ],
          [
           10562.632653061224,
           0
          ],
          [
           9345.278911564626,
           0
          ],
          [
           1300497.918367347,
           0
          ]
         ],
         "hovertemplate": "Country=%{x}<br>Total Cases=%{y}<br>Population=%{customdata[0]}<br>Total Deaths=%{customdata[1]}<br>Stringency Index=%{marker.color}<extra></extra>",
         "legendgroup": "",
         "marker": {
          "color": [
           3.3509486690850343,
           3.136027957462585,
           3.6105521148129256,
           3.380088191482993,
           3.4301264381156464,
           3.0192894045204084,
           3.393922273142857,
           3.3643329908979593,
           3.3579230454251703,
           3.3538831399625852,
           3.207064113278912,
           2.989193634731293,
           3.629838088122449,
           3.3857936759115645,
           3.4754380163809526,
           3.28451614412585,
           3.0414184019965984,
           3.2633605816360545,
           3.38580207355102,
           3.186409532867346,
           3.6382597844795925,
           3.67810238272449,
           3.8925538979353735,
           3.6401493643061213,
           3.286389158969388,
           3.561580438853742,
           3.5793130338673467,
           3.0981180947312925,
           3.4200551236938774,
           3.4756814307823136,
           3.279181903081632,
           2.922922530493197,
           3.079215255792518,
           2.75164141155102,
           3.2593630045034017,
           3.3440225178673466,
           3.329886860812925,
           3.6756516780068034,
           1.7777885856122446,
           3.347952237411565,
           3.2094847001292517,
           3.730139465272109,
           3.266071855346939,
           2.854065180411564,
           3.7307369099183667,
           3.2886413599217685,
           3.178413736503401,
           3.4795448106666664,
           3.12802378279932,
           3.672654081911565,
           3.310703392435374,
           3.504160797792516,
           0,
           3.677210356482993,
           3.3750440923061227,
           3.2069219557006803,
           3.0496734543605446,
           2.999125721982993,
           2.845124538520408,
           3.195168482772109,
           3.106953683829932,
           3.235751674234694,
           2.9956552940374146,
           3.052990643608844,
           3.130970957227891,
           3.1833747295,
           3.5610048554761904,
           3.0738407065272106,
           3.0402436258537415,
           3.422536914673469,
           3.332929539568027,
           3.2563697529931965,
           3.069241891969387,
           3.6220902177993195,
           3.228307817353741,
           2.9765738832653064,
           3.171279047295919,
           3.4019439833571425,
           3.0345279388299318,
           2.8512348956428575,
           3.1960380252551017,
           2.8532486089081637,
           3.411850270965986,
           3.6216474627346935,
           0,
           3.01363418397619,
           3.196909016653061,
           2.66599380340136,
           3.101641431479592,
           2.957421466741496,
           3.1346855279761905,
           3.1763816652925168,
           3.1440618902551023,
           3.0745801085034015,
           3.0001857734659865,
           2.905672398506803,
           2.645104184595238,
           2.240074461547619,
           3.0056236545748294,
           3.1221241128979584,
           2.7754449377074826,
           2.8630195453367344,
           0,
           2.6605094333877557,
           2.8965280817040817,
           2.910019280119047,
           3.179010039955782,
           2.996030525765306,
           0,
           3.060495103527211,
           3.1433438754523806,
           3.1611319515748297,
           2.9648505104047618,
           3.1526094456394556,
           0,
           3.0012790250646257,
           2.7483170985986396,
           1.7787903315544213,
           2.8819963542414953,
           2.5585456688027213,
           2.79028876255102,
           3.029772100969388,
           2.988857297673469,
           3.177188289904762,
           3.2125340412482988,
           2.5380262833979588,
           3.061297157204082,
           3.6389395285034007,
           3.174260733585034,
           2.7711030407380943,
           3.0920467206394555,
           3.239694818312925,
           3.167167094068027,
           2.71822275794898,
           0,
           2.965559714153062,
           2.5651667428537417,
           2.829461847836735,
           3.0254631613775507,
           3.233197103585034,
           0,
           2.7188522499115644,
           2.777736691469387,
           0,
           3.110623018248299,
           2.8844738915544217,
           3.1054073187108853,
           2.3695679034965984,
           3.0174295116428564,
           2.6776539695340142,
           2.7689076071326535,
           2.8325677352210885,
           2.2517598853673464,
           2.9374114366496604,
           3.139448600384354,
           2.8180347343673473,
           3.148329587809524,
           2.983968134125851,
           3.080051874061225,
           3.710868429755102,
           0,
           2.2233248549795923,
           2.8959699335272107,
           0,
           2.963287182741497,
           0,
           2.402485587190476,
           2.5070728676870746,
           0,
           0,
           0,
           0,
           0,
           1.689712130088435,
           0,
           2.2786489774285714,
           2.2971052494115645,
           3.0700195609013603,
           3.2501682509489793,
           2.875571929306122,
           2.67551761532653,
           1.5389167769829932,
           2.8664489886020412,
           2.846286835465986,
           2.9471776484217687,
           3.187371286312924,
           0,
           0,
           0,
           2.5486704868707477,
           0,
           0,
           0,
           0,
           3.427270103061224,
           2.5767618823639458,
           2.2406592542244894,
           0,
           0,
           0,
           2.516711985833333,
           2.6819666489727885,
           0,
           2.5884353651666667,
           2.1229575531768705,
           0,
           2.477076521632654,
           2.3261806732925168,
           0,
           0.6439803426292516
          ],
          "coloraxis": "coloraxis",
          "pattern": {
           "shape": ""
          }
         },
         "name": "",
         "offsetgroup": "",
         "orientation": "v",
         "showlegend": false,
         "textposition": "auto",
         "type": "bar",
         "x": [
          "United States",
          "Brazil",
          "India",
          "Russia",
          "Peru",
          "Mexico",
          "Spain",
          "South Africa",
          "Colombia",
          "United Kingdom",
          "Iran",
          "Chile",
          "Italy",
          "France",
          "Argentina",
          "Germany",
          "Turkey",
          "Saudi Arabia",
          "Pakistan",
          "Bangladesh",
          "Iraq",
          "Philippines",
          "China",
          "Indonesia",
          "Canada",
          "Qatar",
          "Israel",
          "Ukraine",
          "Belgium",
          "Ecuador",
          "Kazakhstan",
          "Netherlands",
          "Egypt",
          "Sweden",
          "Bolivia",
          "Romania",
          "Dominican Republic",
          "Kuwait",
          "Belarus",
          "Panama",
          "United Arab Emirates",
          "Oman",
          "Portugal",
          "Poland",
          "Singapore",
          "Morocco",
          "Japan",
          "Guatemala",
          "Switzerland",
          "Bahrain",
          "Honduras",
          "Nigeria",
          "Armenia",
          "Nepal",
          "Ireland",
          "Czech Republic",
          "Afghanistan",
          "Austria",
          "Ghana",
          "Algeria",
          "Ethiopia",
          "Venezuela",
          "Moldova",
          "Costa Rica",
          "Uzbekistan",
          "Kyrgyzstan",
          "Azerbaijan",
          "Serbia",
          "Puerto Rico",
          "South Korea",
          "Kenya",
          "Palestine",
          "Denmark",
          "Australia",
          "El Salvador",
          "Cameroon",
          "Paraguay",
          "Lebanon",
          "Bosnia and Herzegovina",
          "Cote d'Ivoire",
          "Norway",
          "Bulgaria",
          "Libya",
          "Malaysia",
          "Macedonia",
          "Hungary",
          "Sudan",
          "Senegal",
          "Finland",
          "Madagascar",
          "Greece",
          "Kosovo",
          "Croatia",
          "Democratic Republic of Congo",
          "Guinea",
          "Luxembourg",
          "Zambia",
          "Tajikistan",
          "Albania",
          "Gabon",
          "Haiti",
          "Tunisia",
          "Maldives",
          "Mauritania",
          "Slovakia",
          "Djibouti",
          "Jordan",
          "Namibia",
          "Montenegro",
          "Thailand",
          "Myanmar",
          "Zimbabwe",
          "Central African Republic",
          "Cuba",
          "Equatorial Guinea",
          "Slovenia",
          "Malawi",
          "Nicaragua",
          "Mozambique",
          "Somalia",
          "Lithuania",
          "Congo",
          "Cape Verde",
          "Uganda",
          "Sri Lanka",
          "Estonia",
          "Swaziland",
          "Georgia",
          "Iceland",
          "Mali",
          "Rwanda",
          "Jamaica",
          "Suriname",
          "South Sudan",
          "Guinea-Bissau",
          "Angola",
          "Sierra Leone",
          "Syria",
          "Latvia",
          "New Zealand",
          "Malta",
          "Benin",
          "Uruguay",
          "Bahamas",
          "Cyprus",
          "Burkina Faso",
          "Gambia",
          "Yemen",
          "Trinidad and Tobago",
          "Andorra",
          "Aruba",
          "Botswana",
          "Niger",
          "Togo",
          "Guyana",
          "Guam",
          "Liberia",
          "Chad",
          "San Marino",
          "Vietnam",
          "Sao Tome and Principe",
          "Lesotho",
          "Belize",
          "United States Virgin Islands",
          "Taiwan",
          "French Polynesia",
          "Tanzania",
          "Mauritius",
          "Jersey",
          "Isle of Man",
          "Faeroe Islands",
          "Comoros",
          "Guernsey",
          "Burundi",
          "Sint Maarten (Dutch part)",
          "Gibraltar",
          "Turks and Caicos Islands",
          "Mongolia",
          "Eritrea",
          "Cambodia",
          "Papua New Guinea",
          "Cayman Islands",
          "Brunei",
          "Bermuda",
          "Barbados",
          "Bhutan",
          "Monaco",
          "Liechtenstein",
          "Curacao",
          "Seychelles",
          "Antigua and Barbuda",
          "Saint Vincent and the Grenadines",
          "Northern Mariana Islands",
          "Bonaire Sint Eustatius and Saba",
          "Fiji",
          "Timor",
          "British Virgin Islands",
          "New Caledonia",
          "Grenada",
          "Saint Lucia",
          "Laos",
          "Dominica",
          "Saint Kitts and Nevis",
          "Greenland",
          "Falkland Islands",
          "Vatican",
          "Montserrat",
          "Anguilla",
          "Solomon Islands",
          "Hong Kong"
         ],
         "xaxis": "x",
         "y": [
          746014098,
          425704517,
          407771615,
          132888951,
          74882695,
          74347548,
          73717676,
          63027659,
          60543682,
          59475032,
          52421884,
          51268034,
          50752853,
          50084335,
          47155234,
          42447678,
          41431948,
          38585191,
          37738077,
          35266178,
          25280332,
          22409936,
          21632319,
          21570149,
          20902374,
          16351440,
          16202474,
          15805665,
          15192468,
          14408757,
          13194863,
          13026629,
          12422845,
          11910109,
          11858838,
          10672859,
          10649646,
          10622205,
          10595186,
          10371724,
          10247326,
          10060093,
          9266263,
          9239657,
          8191161,
          7839270,
          7659484,
          7644426,
          7552067,
          6549995,
          6545499,
          6107371,
          5474629,
          5243653,
          5239798,
          5213980,
          5126433,
          4909197,
          4900649,
          4893999,
          4876417,
          4839834,
          4632482,
          4631835,
          4421215,
          4287847,
          4236782,
          3984174,
          3586463,
          3333075,
          3277734,
          3249458,
          3030088,
          3012377,
          2573206,
          2476502,
          2265640,
          2220699,
          2200057,
          2132883,
          1985889,
          1890380,
          1817274,
          1774181,
          1724220,
          1708798,
          1663545,
          1586747,
          1458484,
          1443321,
          1421470,
          1345940,
          1314031,
          1271391,
          1195836,
          1146724,
          1129913,
          1117391,
          1071951,
          1031803,
          1023155,
          1000626,
          844040,
          799222,
          798665,
          781771,
          716514,
          681299,
          675912,
          655703,
          644209,
          593699,
          593048,
          581546,
          557355,
          547075,
          536447,
          524410,
          510578,
          491145,
          488057,
          473368,
          463888,
          448728,
          446643,
          445402,
          444238,
          431689,
          421210,
          390637,
          388775,
          370890,
          358632,
          333500,
          306564,
          304005,
          268396,
          267902,
          255964,
          253203,
          251261,
          245893,
          239884,
          237908,
          236673,
          231452,
          229521,
          228925,
          225550,
          223576,
          215110,
          205758,
          199978,
          169903,
          166917,
          160975,
          159880,
          154173,
          134994,
          122618,
          121909,
          107948,
          106383,
          98536,
          97074,
          95388,
          91526,
          69524,
          66777,
          64935,
          56893,
          52437,
          49814,
          49745,
          48026,
          45340,
          44432,
          42465,
          40026,
          39539,
          35966,
          33173,
          30140,
          28876,
          24998,
          22847,
          21511,
          19885,
          19777,
          14701,
          12619,
          7824,
          7784,
          5080,
          4742,
          4697,
          4605,
          4495,
          4470,
          4450,
          4039,
          3977,
          3246,
          2678,
          2467,
          2415,
          2383,
          614,
          11,
          0
         ],
         "yaxis": "y"
        }
       ],
       "layout": {
        "barmode": "relative",
        "coloraxis": {
         "colorbar": {
          "title": {
           "text": "Stringency Index"
          }
         },
         "colorscale": [
          [
           0,
           "#0d0887"
          ],
          [
           0.1111111111111111,
           "#46039f"
          ],
          [
           0.2222222222222222,
           "#7201a8"
          ],
          [
           0.3333333333333333,
           "#9c179e"
          ],
          [
           0.4444444444444444,
           "#bd3786"
          ],
          [
           0.5555555555555556,
           "#d8576b"
          ],
          [
           0.6666666666666666,
           "#ed7953"
          ],
          [
           0.7777777777777778,
           "#fb9f3a"
          ],
          [
           0.8888888888888888,
           "#fdca26"
          ],
          [
           1,
           "#f0f921"
          ]
         ]
        },
        "height": 450,
        "legend": {
         "tracegroupgap": 0
        },
        "template": {
         "data": {
          "bar": [
           {
            "error_x": {
             "color": "#2a3f5f"
            },
            "error_y": {
             "color": "#2a3f5f"
            },
            "marker": {
             "line": {
              "color": "#E5ECF6",
              "width": 0.5
             },
             "pattern": {
              "fillmode": "overlay",
              "size": 10,
              "solidity": 0.2
             }
            },
            "type": "bar"
           }
          ],
          "barpolar": [
           {
            "marker": {
             "line": {
              "color": "#E5ECF6",
              "width": 0.5
             },
             "pattern": {
              "fillmode": "overlay",
              "size": 10,
              "solidity": 0.2
             }
            },
            "type": "barpolar"
           }
          ],
          "carpet": [
           {
            "aaxis": {
             "endlinecolor": "#2a3f5f",
             "gridcolor": "white",
             "linecolor": "white",
             "minorgridcolor": "white",
             "startlinecolor": "#2a3f5f"
            },
            "baxis": {
             "endlinecolor": "#2a3f5f",
             "gridcolor": "white",
             "linecolor": "white",
             "minorgridcolor": "white",
             "startlinecolor": "#2a3f5f"
            },
            "type": "carpet"
           }
          ],
          "choropleth": [
           {
            "colorbar": {
             "outlinewidth": 0,
             "ticks": ""
            },
            "type": "choropleth"
           }
          ],
          "contour": [
           {
            "colorbar": {
             "outlinewidth": 0,
             "ticks": ""
            },
            "colorscale": [
             [
              0,
              "#0d0887"
             ],
             [
              0.1111111111111111,
              "#46039f"
             ],
             [
              0.2222222222222222,
              "#7201a8"
             ],
             [
              0.3333333333333333,
              "#9c179e"
             ],
             [
              0.4444444444444444,
              "#bd3786"
             ],
             [
              0.5555555555555556,
              "#d8576b"
             ],
             [
              0.6666666666666666,
              "#ed7953"
             ],
             [
              0.7777777777777778,
              "#fb9f3a"
             ],
             [
              0.8888888888888888,
              "#fdca26"
             ],
             [
              1,
              "#f0f921"
             ]
            ],
            "type": "contour"
           }
          ],
          "contourcarpet": [
           {
            "colorbar": {
             "outlinewidth": 0,
             "ticks": ""
            },
            "type": "contourcarpet"
           }
          ],
          "heatmap": [
           {
            "colorbar": {
             "outlinewidth": 0,
             "ticks": ""
            },
            "colorscale": [
             [
              0,
              "#0d0887"
             ],
             [
              0.1111111111111111,
              "#46039f"
             ],
             [
              0.2222222222222222,
              "#7201a8"
             ],
             [
              0.3333333333333333,
              "#9c179e"
             ],
             [
              0.4444444444444444,
              "#bd3786"
             ],
             [
              0.5555555555555556,
              "#d8576b"
             ],
             [
              0.6666666666666666,
              "#ed7953"
             ],
             [
              0.7777777777777778,
              "#fb9f3a"
             ],
             [
              0.8888888888888888,
              "#fdca26"
             ],
             [
              1,
              "#f0f921"
             ]
            ],
            "type": "heatmap"
           }
          ],
          "heatmapgl": [
           {
            "colorbar": {
             "outlinewidth": 0,
             "ticks": ""
            },
            "colorscale": [
             [
              0,
              "#0d0887"
             ],
             [
              0.1111111111111111,
              "#46039f"
             ],
             [
              0.2222222222222222,
              "#7201a8"
             ],
             [
              0.3333333333333333,
              "#9c179e"
             ],
             [
              0.4444444444444444,
              "#bd3786"
             ],
             [
              0.5555555555555556,
              "#d8576b"
             ],
             [
              0.6666666666666666,
              "#ed7953"
             ],
             [
              0.7777777777777778,
              "#fb9f3a"
             ],
             [
              0.8888888888888888,
              "#fdca26"
             ],
             [
              1,
              "#f0f921"
             ]
            ],
            "type": "heatmapgl"
           }
          ],
          "histogram": [
           {
            "marker": {
             "pattern": {
              "fillmode": "overlay",
              "size": 10,
              "solidity": 0.2
             }
            },
            "type": "histogram"
           }
          ],
          "histogram2d": [
           {
            "colorbar": {
             "outlinewidth": 0,
             "ticks": ""
            },
            "colorscale": [
             [
              0,
              "#0d0887"
             ],
             [
              0.1111111111111111,
              "#46039f"
             ],
             [
              0.2222222222222222,
              "#7201a8"
             ],
             [
              0.3333333333333333,
              "#9c179e"
             ],
             [
              0.4444444444444444,
              "#bd3786"
             ],
             [
              0.5555555555555556,
              "#d8576b"
             ],
             [
              0.6666666666666666,
              "#ed7953"
             ],
             [
              0.7777777777777778,
              "#fb9f3a"
             ],
             [
              0.8888888888888888,
              "#fdca26"
             ],
             [
              1,
              "#f0f921"
             ]
            ],
            "type": "histogram2d"
           }
          ],
          "histogram2dcontour": [
           {
            "colorbar": {
             "outlinewidth": 0,
             "ticks": ""
            },
            "colorscale": [
             [
              0,
              "#0d0887"
             ],
             [
              0.1111111111111111,
              "#46039f"
             ],
             [
              0.2222222222222222,
              "#7201a8"
             ],
             [
              0.3333333333333333,
              "#9c179e"
             ],
             [
              0.4444444444444444,
              "#bd3786"
             ],
             [
              0.5555555555555556,
              "#d8576b"
             ],
             [
              0.6666666666666666,
              "#ed7953"
             ],
             [
              0.7777777777777778,
              "#fb9f3a"
             ],
             [
              0.8888888888888888,
              "#fdca26"
             ],
             [
              1,
              "#f0f921"
             ]
            ],
            "type": "histogram2dcontour"
           }
          ],
          "mesh3d": [
           {
            "colorbar": {
             "outlinewidth": 0,
             "ticks": ""
            },
            "type": "mesh3d"
           }
          ],
          "parcoords": [
           {
            "line": {
             "colorbar": {
              "outlinewidth": 0,
              "ticks": ""
             }
            },
            "type": "parcoords"
           }
          ],
          "pie": [
           {
            "automargin": true,
            "type": "pie"
           }
          ],
          "scatter": [
           {
            "marker": {
             "colorbar": {
              "outlinewidth": 0,
              "ticks": ""
             }
            },
            "type": "scatter"
           }
          ],
          "scatter3d": [
           {
            "line": {
             "colorbar": {
              "outlinewidth": 0,
              "ticks": ""
             }
            },
            "marker": {
             "colorbar": {
              "outlinewidth": 0,
              "ticks": ""
             }
            },
            "type": "scatter3d"
           }
          ],
          "scattercarpet": [
           {
            "marker": {
             "colorbar": {
              "outlinewidth": 0,
              "ticks": ""
             }
            },
            "type": "scattercarpet"
           }
          ],
          "scattergeo": [
           {
            "marker": {
             "colorbar": {
              "outlinewidth": 0,
              "ticks": ""
             }
            },
            "type": "scattergeo"
           }
          ],
          "scattergl": [
           {
            "marker": {
             "colorbar": {
              "outlinewidth": 0,
              "ticks": ""
             }
            },
            "type": "scattergl"
           }
          ],
          "scattermapbox": [
           {
            "marker": {
             "colorbar": {
              "outlinewidth": 0,
              "ticks": ""
             }
            },
            "type": "scattermapbox"
           }
          ],
          "scatterpolar": [
           {
            "marker": {
             "colorbar": {
              "outlinewidth": 0,
              "ticks": ""
             }
            },
            "type": "scatterpolar"
           }
          ],
          "scatterpolargl": [
           {
            "marker": {
             "colorbar": {
              "outlinewidth": 0,
              "ticks": ""
             }
            },
            "type": "scatterpolargl"
           }
          ],
          "scatterternary": [
           {
            "marker": {
             "colorbar": {
              "outlinewidth": 0,
              "ticks": ""
             }
            },
            "type": "scatterternary"
           }
          ],
          "surface": [
           {
            "colorbar": {
             "outlinewidth": 0,
             "ticks": ""
            },
            "colorscale": [
             [
              0,
              "#0d0887"
             ],
             [
              0.1111111111111111,
              "#46039f"
             ],
             [
              0.2222222222222222,
              "#7201a8"
             ],
             [
              0.3333333333333333,
              "#9c179e"
             ],
             [
              0.4444444444444444,
              "#bd3786"
             ],
             [
              0.5555555555555556,
              "#d8576b"
             ],
             [
              0.6666666666666666,
              "#ed7953"
             ],
             [
              0.7777777777777778,
              "#fb9f3a"
             ],
             [
              0.8888888888888888,
              "#fdca26"
             ],
             [
              1,
              "#f0f921"
             ]
            ],
            "type": "surface"
           }
          ],
          "table": [
           {
            "cells": {
             "fill": {
              "color": "#EBF0F8"
             },
             "line": {
              "color": "white"
             }
            },
            "header": {
             "fill": {
              "color": "#C8D4E3"
             },
             "line": {
              "color": "white"
             }
            },
            "type": "table"
           }
          ]
         },
         "layout": {
          "annotationdefaults": {
           "arrowcolor": "#2a3f5f",
           "arrowhead": 0,
           "arrowwidth": 1
          },
          "autotypenumbers": "strict",
          "coloraxis": {
           "colorbar": {
            "outlinewidth": 0,
            "ticks": ""
           }
          },
          "colorscale": {
           "diverging": [
            [
             0,
             "#8e0152"
            ],
            [
             0.1,
             "#c51b7d"
            ],
            [
             0.2,
             "#de77ae"
            ],
            [
             0.3,
             "#f1b6da"
            ],
            [
             0.4,
             "#fde0ef"
            ],
            [
             0.5,
             "#f7f7f7"
            ],
            [
             0.6,
             "#e6f5d0"
            ],
            [
             0.7,
             "#b8e186"
            ],
            [
             0.8,
             "#7fbc41"
            ],
            [
             0.9,
             "#4d9221"
            ],
            [
             1,
             "#276419"
            ]
           ],
           "sequential": [
            [
             0,
             "#0d0887"
            ],
            [
             0.1111111111111111,
             "#46039f"
            ],
            [
             0.2222222222222222,
             "#7201a8"
            ],
            [
             0.3333333333333333,
             "#9c179e"
            ],
            [
             0.4444444444444444,
             "#bd3786"
            ],
            [
             0.5555555555555556,
             "#d8576b"
            ],
            [
             0.6666666666666666,
             "#ed7953"
            ],
            [
             0.7777777777777778,
             "#fb9f3a"
            ],
            [
             0.8888888888888888,
             "#fdca26"
            ],
            [
             1,
             "#f0f921"
            ]
           ],
           "sequentialminus": [
            [
             0,
             "#0d0887"
            ],
            [
             0.1111111111111111,
             "#46039f"
            ],
            [
             0.2222222222222222,
             "#7201a8"
            ],
            [
             0.3333333333333333,
             "#9c179e"
            ],
            [
             0.4444444444444444,
             "#bd3786"
            ],
            [
             0.5555555555555556,
             "#d8576b"
            ],
            [
             0.6666666666666666,
             "#ed7953"
            ],
            [
             0.7777777777777778,
             "#fb9f3a"
            ],
            [
             0.8888888888888888,
             "#fdca26"
            ],
            [
             1,
             "#f0f921"
            ]
           ]
          },
          "colorway": [
           "#636efa",
           "#EF553B",
           "#00cc96",
           "#ab63fa",
           "#FFA15A",
           "#19d3f3",
           "#FF6692",
           "#B6E880",
           "#FF97FF",
           "#FECB52"
          ],
          "font": {
           "color": "#2a3f5f"
          },
          "geo": {
           "bgcolor": "white",
           "lakecolor": "white",
           "landcolor": "#E5ECF6",
           "showlakes": true,
           "showland": true,
           "subunitcolor": "white"
          },
          "hoverlabel": {
           "align": "left"
          },
          "hovermode": "closest",
          "mapbox": {
           "style": "light"
          },
          "paper_bgcolor": "white",
          "plot_bgcolor": "#E5ECF6",
          "polar": {
           "angularaxis": {
            "gridcolor": "white",
            "linecolor": "white",
            "ticks": ""
           },
           "bgcolor": "#E5ECF6",
           "radialaxis": {
            "gridcolor": "white",
            "linecolor": "white",
            "ticks": ""
           }
          },
          "scene": {
           "xaxis": {
            "backgroundcolor": "#E5ECF6",
            "gridcolor": "white",
            "gridwidth": 2,
            "linecolor": "white",
            "showbackground": true,
            "ticks": "",
            "zerolinecolor": "white"
           },
           "yaxis": {
            "backgroundcolor": "#E5ECF6",
            "gridcolor": "white",
            "gridwidth": 2,
            "linecolor": "white",
            "showbackground": true,
            "ticks": "",
            "zerolinecolor": "white"
           },
           "zaxis": {
            "backgroundcolor": "#E5ECF6",
            "gridcolor": "white",
            "gridwidth": 2,
            "linecolor": "white",
            "showbackground": true,
            "ticks": "",
            "zerolinecolor": "white"
           }
          },
          "shapedefaults": {
           "line": {
            "color": "#2a3f5f"
           }
          },
          "ternary": {
           "aaxis": {
            "gridcolor": "white",
            "linecolor": "white",
            "ticks": ""
           },
           "baxis": {
            "gridcolor": "white",
            "linecolor": "white",
            "ticks": ""
           },
           "bgcolor": "#E5ECF6",
           "caxis": {
            "gridcolor": "white",
            "linecolor": "white",
            "ticks": ""
           }
          },
          "title": {
           "x": 0.05
          },
          "xaxis": {
           "automargin": true,
           "gridcolor": "white",
           "linecolor": "white",
           "ticks": "",
           "title": {
            "standoff": 15
           },
           "zerolinecolor": "white",
           "zerolinewidth": 2
          },
          "yaxis": {
           "automargin": true,
           "gridcolor": "white",
           "linecolor": "white",
           "ticks": "",
           "title": {
            "standoff": 15
           },
           "zerolinecolor": "white",
           "zerolinewidth": 2
          }
         }
        },
        "title": {
         "text": "Stringency Index during Covid"
        },
        "xaxis": {
         "anchor": "y",
         "domain": [
          0,
          1
         ],
         "title": {
          "text": "Country"
         }
        },
        "yaxis": {
         "anchor": "x",
         "domain": [
          0,
          1
         ],
         "title": {
          "text": "Total Cases"
         }
        }
       }
      },
      "text/html": [
       "<div>                            <div id=\"50a72269-d471-497c-a193-cbcb539f5550\" class=\"plotly-graph-div\" style=\"height:450px; width:100%;\"></div>            <script type=\"text/javascript\">                require([\"plotly\"], function(Plotly) {                    window.PLOTLYENV=window.PLOTLYENV || {};                                    if (document.getElementById(\"50a72269-d471-497c-a193-cbcb539f5550\")) {                    Plotly.newPlot(                        \"50a72269-d471-497c-a193-cbcb539f5550\",                        [{\"alignmentgroup\":\"True\",\"customdata\":[[331002647.0,26477574.0],[212559409.0,14340567.0],[1380004385.0,7247327.0],[145934460.0,2131571.0],[26355046.972789116,3020038.0],[128932753.0,7295850.0],[46595753.12585034,5510624.0],[51642940.952380955,1357682.0],[39633266.789115645,1936134.0],[67886004.0,7249573.0],[83992953.0,2914070.0],[14889836.261904761,1283880.0],[60461828.0,6664225.0],[65273512.0,5633444.0],[38739237.428571425,1077426.0],[83783945.0,1640691.0],[63110866.46258503,1049757.0],[27472167.156462584,442507.0],[220892331.0,789557.0],[129398800.92857143,484534.0],[40222503.0,744253.0],[109581085.0,448665.0],[1439323774.0,1066939.0],[273523621.0,916111.0],[37742157.0,1455549.0],[2881060.0,23820.0],[8655541.0,126278.0],[33469713.520408165,343334.0],[11510775.074829932,1798461.0],[17643060.0,1083749.0],[14114463.425170068,161480.0],[17134873.0,1142410.0],[102334403.0,644416.0],[9996216.224489795,941063.0],[8814328.020408163,578559.0],[19237682.0,464952.0],[10847904.0,209024.0],[4270563.0,69104.0],[9449321.0,88409.0],[3302118.3673469387,222435.0],[9890400.0,58035.0],[5106622.0,73391.0],[8081063.710884354,302612.0],[29350428.36734694,304001.0],[5850343.0,4691.0],[32139805.605442178,142270.0],[126476458.0,194918.0],[14990576.469387755,281588.0],[8654618.0,320693.0],[1701583.0,22413.0],[7411611.428571428,200844.0],[206139587.0,125473.0],[2963234.0,102039.0],[29136808.0,27737.0],[4937796.0,310201.0],[10708982.0,79880.0],[38928341.0,165875.0],[9006400.0,134945.0],[23251863.605442178,29143.0],[43851043.0,206429.0],[86418203.54761904,77686.0],[21181875.908163264,40840.0],[3073495.619047619,129946.0],[3915883.551020408,50352.0],[24817297.217687074,31903.0],[4771092.057823129,114922.0],[10139175.0,59495.0],[5485337.591836735,87503.0],[2004534.149659864,54940.0],[51269183.0,63333.0],[41700191.8367347,59485.0],[3938848.4081632653,21522.0],[5792203.0,113280.0],[25499881.0,65029.0],[4743310.255102041,71957.0],[20135128.136054423,56606.0],[5507089.489795919,42850.0],[6825442.0,22983.0],[2488509.336734694,70578.0],[19738845.23809524,14220.0],[5421242.0,47158.0],[5294053.333333333,72850.0],[5375496.632653061,29730.0],[32365998.0,24012.0],[2083380.0,74066.0],[7557416.666666667,110142.0],[32812378.163265307,102825.0],[13383753.57142857,30320.0],[5540718.0,58377.0],[20061860.704081632,17744.0],[10423056.0,44805.0],[1446293.469387755,47571.0],[4105268.0,28757.0],[67323368.31292517,32040.0],[9782589.959183674,7283.0],[625976.0,21907.0],[13444049.455782313,26475.0],[5579844.979591837,9730.0],[2202397.9591836734,31056.0],[1665510.7482993198,6877.0],[8299802.93197279,23891.0],[9085060.095238095,19025.0],[411841.5238095238,3054.0],[3463522.2448979593,19810.0],[4234008.857142857,6055.0],[722518.4693877551,8006.0],[7877934.62585034,5653.0],[1892723.142857143,6634.0],[461433.306122449,11356.0],[69799978.0,11162.0],[39234273.22448979,13973.0],[10768038.948979592,15984.0],[3581253.5782312923,7108.0],[8437173.142857144,16774.0],[1045080.6632653062,8947.0],[1612232.9795918367,22165.0],[13338914.200680273,15480.0],[4844486.768707483,16410.0],[22431621.717687074,3396.0],[11730709.261904761,15001.0],[2722291.0,14345.0],[4091646.448979592,9298.0],[402807.63265306124,4749.0],[32983306.12244898,3748.0],[21413250.0,2108.0],[1326539.0,11802.0],[864203.7959183673,8179.0],[3989175.0,4013.0],[341250.0,1968.0],[14327120.653061224,18813.0],[9648074.051020408,1744.0],[2225906.738095238,5653.0],[427005.70068027213,6961.0],[7500559.908163265,6063.0],[1385631.2448979593,4199.0],[23699485.768707484,11820.0],[5480785.6122448975,10036.0],[12559995.329931973,12098.0],[1501262.8163265307,5376.0],[4822233.0,4145.0],[385971.1666666667,2409.0],[8948074.714285715,4374.0],[2587572.1530612246,6083.0],[288916.89795918367,5998.0],[661393.1224489796,3735.0],[15713008.292517006,10248.0],[1775508.2448979593,7201.0],[19579632.054421768,64304.0],[1051998.336734694,4519.0],[59394.183673469386,9850.0],[78440.32653061225,1624.0],[1615742.3469387756,895.0],[17537460.775510203,11676.0],[6476562.959183673,4197.0],[585906.193877551,5783.0],[123429.74489795919,2715.0],[3733047.3095238097,10087.0],[11956237.503401361,12212.0],[33938.0,8596.0],[97338583.0,2318.0],[144616.44217687074,2198.0],[1151278.2857142857,2680.0],[284015.0,1613.0],[74587.85714285714,1833.0],[23816775.0,1423.0],[205422.9931972789,260.0],[44089538.166666664,3733.0],[925707.9523809524,1988.0],[73570.14285714286,5527.0],[61604.816326530614,4310.0],[37895.30612244898,0.0],[505784.8469387755,920.0],[48806.55782312925,2450.0],[8169856.333333333,188.0],[32963.71428571428,3146.0],[24523.380952380954,0.0],[27524.020408163266,476.0],[2453143.673469388,0.0],[2557287.4965986395,0.0],[16718971.0,0.0],[6482029.765306123,417.0],[47837.00680272109,213.0],[331832.34353741497,475.0],[45327.965986394556,1631.0],[211129.7142857143,1321.0],[585270.3265306122,0.0],[39244.0,192.0],[29056.761904761905,198.0],[120563.26530612246,207.0],[73253.26530612246,0.0],[71280.92517006803,568.0],[81512.08163265306,0.0],[39741.73809523809,396.0],[17926.602040816328,48.0],[804970.1224489796,132.0],[950713.2789115646,0.0],[21289.316326530614,183.0],[206835.31632653062,0.0],[80753.43197278911,0.0],[136784.8673469388,0.0],[5172078.925170068,0.0],[51667.010204081635,0.0],[37632.43537414966,0.0],[41323.836734693876,0.0],[2357.5408163265306,0.0],[610.8775510204082,0.0],[3621.7244897959185,177.0],[10562.632653061224,0.0],[9345.278911564626,0.0],[1300497.918367347,0.0]],\"hovertemplate\":\"Country=%{x}<br>Total Cases=%{y}<br>Population=%{customdata[0]}<br>Total Deaths=%{customdata[1]}<br>Stringency Index=%{marker.color}<extra></extra>\",\"legendgroup\":\"\",\"marker\":{\"color\":[3.3509486690850343,3.136027957462585,3.6105521148129256,3.380088191482993,3.4301264381156464,3.0192894045204084,3.393922273142857,3.3643329908979593,3.3579230454251703,3.3538831399625852,3.207064113278912,2.989193634731293,3.629838088122449,3.3857936759115645,3.4754380163809526,3.28451614412585,3.0414184019965984,3.2633605816360545,3.38580207355102,3.186409532867346,3.6382597844795925,3.67810238272449,3.8925538979353735,3.6401493643061213,3.286389158969388,3.561580438853742,3.5793130338673467,3.0981180947312925,3.4200551236938774,3.4756814307823136,3.279181903081632,2.922922530493197,3.079215255792518,2.75164141155102,3.2593630045034017,3.3440225178673466,3.329886860812925,3.6756516780068034,1.7777885856122446,3.347952237411565,3.2094847001292517,3.730139465272109,3.266071855346939,2.854065180411564,3.7307369099183667,3.2886413599217685,3.178413736503401,3.4795448106666664,3.12802378279932,3.672654081911565,3.310703392435374,3.504160797792516,0.0,3.677210356482993,3.3750440923061227,3.2069219557006803,3.0496734543605446,2.999125721982993,2.845124538520408,3.195168482772109,3.106953683829932,3.235751674234694,2.9956552940374146,3.052990643608844,3.130970957227891,3.1833747295,3.5610048554761904,3.0738407065272106,3.0402436258537415,3.422536914673469,3.332929539568027,3.2563697529931965,3.069241891969387,3.6220902177993195,3.228307817353741,2.9765738832653064,3.171279047295919,3.4019439833571425,3.0345279388299318,2.8512348956428575,3.1960380252551017,2.8532486089081637,3.411850270965986,3.6216474627346935,0.0,3.01363418397619,3.196909016653061,2.66599380340136,3.101641431479592,2.957421466741496,3.1346855279761905,3.1763816652925168,3.1440618902551023,3.0745801085034015,3.0001857734659865,2.905672398506803,2.645104184595238,2.240074461547619,3.0056236545748294,3.1221241128979584,2.7754449377074826,2.8630195453367344,0.0,2.6605094333877557,2.8965280817040817,2.910019280119047,3.179010039955782,2.996030525765306,0.0,3.060495103527211,3.1433438754523806,3.1611319515748297,2.9648505104047618,3.1526094456394556,0.0,3.0012790250646257,2.7483170985986396,1.7787903315544213,2.8819963542414953,2.5585456688027213,2.79028876255102,3.029772100969388,2.988857297673469,3.177188289904762,3.2125340412482988,2.5380262833979588,3.061297157204082,3.6389395285034007,3.174260733585034,2.7711030407380943,3.0920467206394555,3.239694818312925,3.167167094068027,2.71822275794898,0.0,2.965559714153062,2.5651667428537417,2.829461847836735,3.0254631613775507,3.233197103585034,0.0,2.7188522499115644,2.777736691469387,0.0,3.110623018248299,2.8844738915544217,3.1054073187108853,2.3695679034965984,3.0174295116428564,2.6776539695340142,2.7689076071326535,2.8325677352210885,2.2517598853673464,2.9374114366496604,3.139448600384354,2.8180347343673473,3.148329587809524,2.983968134125851,3.080051874061225,3.710868429755102,0.0,2.2233248549795923,2.8959699335272107,0.0,2.963287182741497,0.0,2.402485587190476,2.5070728676870746,0.0,0.0,0.0,0.0,0.0,1.689712130088435,0.0,2.2786489774285714,2.2971052494115645,3.0700195609013603,3.2501682509489793,2.875571929306122,2.67551761532653,1.5389167769829932,2.8664489886020412,2.846286835465986,2.9471776484217687,3.187371286312924,0.0,0.0,0.0,2.5486704868707477,0.0,0.0,0.0,0.0,3.427270103061224,2.5767618823639458,2.2406592542244894,0.0,0.0,0.0,2.516711985833333,2.6819666489727885,0.0,2.5884353651666667,2.1229575531768705,0.0,2.477076521632654,2.3261806732925168,0.0,0.6439803426292516],\"coloraxis\":\"coloraxis\",\"pattern\":{\"shape\":\"\"}},\"name\":\"\",\"offsetgroup\":\"\",\"orientation\":\"v\",\"showlegend\":false,\"textposition\":\"auto\",\"x\":[\"United States\",\"Brazil\",\"India\",\"Russia\",\"Peru\",\"Mexico\",\"Spain\",\"South Africa\",\"Colombia\",\"United Kingdom\",\"Iran\",\"Chile\",\"Italy\",\"France\",\"Argentina\",\"Germany\",\"Turkey\",\"Saudi Arabia\",\"Pakistan\",\"Bangladesh\",\"Iraq\",\"Philippines\",\"China\",\"Indonesia\",\"Canada\",\"Qatar\",\"Israel\",\"Ukraine\",\"Belgium\",\"Ecuador\",\"Kazakhstan\",\"Netherlands\",\"Egypt\",\"Sweden\",\"Bolivia\",\"Romania\",\"Dominican Republic\",\"Kuwait\",\"Belarus\",\"Panama\",\"United Arab Emirates\",\"Oman\",\"Portugal\",\"Poland\",\"Singapore\",\"Morocco\",\"Japan\",\"Guatemala\",\"Switzerland\",\"Bahrain\",\"Honduras\",\"Nigeria\",\"Armenia\",\"Nepal\",\"Ireland\",\"Czech Republic\",\"Afghanistan\",\"Austria\",\"Ghana\",\"Algeria\",\"Ethiopia\",\"Venezuela\",\"Moldova\",\"Costa Rica\",\"Uzbekistan\",\"Kyrgyzstan\",\"Azerbaijan\",\"Serbia\",\"Puerto Rico\",\"South Korea\",\"Kenya\",\"Palestine\",\"Denmark\",\"Australia\",\"El Salvador\",\"Cameroon\",\"Paraguay\",\"Lebanon\",\"Bosnia and Herzegovina\",\"Cote d'Ivoire\",\"Norway\",\"Bulgaria\",\"Libya\",\"Malaysia\",\"Macedonia\",\"Hungary\",\"Sudan\",\"Senegal\",\"Finland\",\"Madagascar\",\"Greece\",\"Kosovo\",\"Croatia\",\"Democratic Republic of Congo\",\"Guinea\",\"Luxembourg\",\"Zambia\",\"Tajikistan\",\"Albania\",\"Gabon\",\"Haiti\",\"Tunisia\",\"Maldives\",\"Mauritania\",\"Slovakia\",\"Djibouti\",\"Jordan\",\"Namibia\",\"Montenegro\",\"Thailand\",\"Myanmar\",\"Zimbabwe\",\"Central African Republic\",\"Cuba\",\"Equatorial Guinea\",\"Slovenia\",\"Malawi\",\"Nicaragua\",\"Mozambique\",\"Somalia\",\"Lithuania\",\"Congo\",\"Cape Verde\",\"Uganda\",\"Sri Lanka\",\"Estonia\",\"Swaziland\",\"Georgia\",\"Iceland\",\"Mali\",\"Rwanda\",\"Jamaica\",\"Suriname\",\"South Sudan\",\"Guinea-Bissau\",\"Angola\",\"Sierra Leone\",\"Syria\",\"Latvia\",\"New Zealand\",\"Malta\",\"Benin\",\"Uruguay\",\"Bahamas\",\"Cyprus\",\"Burkina Faso\",\"Gambia\",\"Yemen\",\"Trinidad and Tobago\",\"Andorra\",\"Aruba\",\"Botswana\",\"Niger\",\"Togo\",\"Guyana\",\"Guam\",\"Liberia\",\"Chad\",\"San Marino\",\"Vietnam\",\"Sao Tome and Principe\",\"Lesotho\",\"Belize\",\"United States Virgin Islands\",\"Taiwan\",\"French Polynesia\",\"Tanzania\",\"Mauritius\",\"Jersey\",\"Isle of Man\",\"Faeroe Islands\",\"Comoros\",\"Guernsey\",\"Burundi\",\"Sint Maarten (Dutch part)\",\"Gibraltar\",\"Turks and Caicos Islands\",\"Mongolia\",\"Eritrea\",\"Cambodia\",\"Papua New Guinea\",\"Cayman Islands\",\"Brunei\",\"Bermuda\",\"Barbados\",\"Bhutan\",\"Monaco\",\"Liechtenstein\",\"Curacao\",\"Seychelles\",\"Antigua and Barbuda\",\"Saint Vincent and the Grenadines\",\"Northern Mariana Islands\",\"Bonaire Sint Eustatius and Saba\",\"Fiji\",\"Timor\",\"British Virgin Islands\",\"New Caledonia\",\"Grenada\",\"Saint Lucia\",\"Laos\",\"Dominica\",\"Saint Kitts and Nevis\",\"Greenland\",\"Falkland Islands\",\"Vatican\",\"Montserrat\",\"Anguilla\",\"Solomon Islands\",\"Hong Kong\"],\"xaxis\":\"x\",\"y\":[746014098.0,425704517.0,407771615.0,132888951.0,74882695.0,74347548.0,73717676.0,63027659.0,60543682.0,59475032.0,52421884.0,51268034.0,50752853.0,50084335.0,47155234.0,42447678.0,41431948.0,38585191.0,37738077.0,35266178.0,25280332.0,22409936.0,21632319.0,21570149.0,20902374.0,16351440.0,16202474.0,15805665.0,15192468.0,14408757.0,13194863.0,13026629.0,12422845.0,11910109.0,11858838.0,10672859.0,10649646.0,10622205.0,10595186.0,10371724.0,10247326.0,10060093.0,9266263.0,9239657.0,8191161.0,7839270.0,7659484.0,7644426.0,7552067.0,6549995.0,6545499.0,6107371.0,5474629.0,5243653.0,5239798.0,5213980.0,5126433.0,4909197.0,4900649.0,4893999.0,4876417.0,4839834.0,4632482.0,4631835.0,4421215.0,4287847.0,4236782.0,3984174.0,3586463.0,3333075.0,3277734.0,3249458.0,3030088.0,3012377.0,2573206.0,2476502.0,2265640.0,2220699.0,2200057.0,2132883.0,1985889.0,1890380.0,1817274.0,1774181.0,1724220.0,1708798.0,1663545.0,1586747.0,1458484.0,1443321.0,1421470.0,1345940.0,1314031.0,1271391.0,1195836.0,1146724.0,1129913.0,1117391.0,1071951.0,1031803.0,1023155.0,1000626.0,844040.0,799222.0,798665.0,781771.0,716514.0,681299.0,675912.0,655703.0,644209.0,593699.0,593048.0,581546.0,557355.0,547075.0,536447.0,524410.0,510578.0,491145.0,488057.0,473368.0,463888.0,448728.0,446643.0,445402.0,444238.0,431689.0,421210.0,390637.0,388775.0,370890.0,358632.0,333500.0,306564.0,304005.0,268396.0,267902.0,255964.0,253203.0,251261.0,245893.0,239884.0,237908.0,236673.0,231452.0,229521.0,228925.0,225550.0,223576.0,215110.0,205758.0,199978.0,169903.0,166917.0,160975.0,159880.0,154173.0,134994.0,122618.0,121909.0,107948.0,106383.0,98536.0,97074.0,95388.0,91526.0,69524.0,66777.0,64935.0,56893.0,52437.0,49814.0,49745.0,48026.0,45340.0,44432.0,42465.0,40026.0,39539.0,35966.0,33173.0,30140.0,28876.0,24998.0,22847.0,21511.0,19885.0,19777.0,14701.0,12619.0,7824.0,7784.0,5080.0,4742.0,4697.0,4605.0,4495.0,4470.0,4450.0,4039.0,3977.0,3246.0,2678.0,2467.0,2415.0,2383.0,614.0,11.0,0.0],\"yaxis\":\"y\",\"type\":\"bar\"}],                        {\"template\":{\"data\":{\"bar\":[{\"error_x\":{\"color\":\"#2a3f5f\"},\"error_y\":{\"color\":\"#2a3f5f\"},\"marker\":{\"line\":{\"color\":\"#E5ECF6\",\"width\":0.5},\"pattern\":{\"fillmode\":\"overlay\",\"size\":10,\"solidity\":0.2}},\"type\":\"bar\"}],\"barpolar\":[{\"marker\":{\"line\":{\"color\":\"#E5ECF6\",\"width\":0.5},\"pattern\":{\"fillmode\":\"overlay\",\"size\":10,\"solidity\":0.2}},\"type\":\"barpolar\"}],\"carpet\":[{\"aaxis\":{\"endlinecolor\":\"#2a3f5f\",\"gridcolor\":\"white\",\"linecolor\":\"white\",\"minorgridcolor\":\"white\",\"startlinecolor\":\"#2a3f5f\"},\"baxis\":{\"endlinecolor\":\"#2a3f5f\",\"gridcolor\":\"white\",\"linecolor\":\"white\",\"minorgridcolor\":\"white\",\"startlinecolor\":\"#2a3f5f\"},\"type\":\"carpet\"}],\"choropleth\":[{\"colorbar\":{\"outlinewidth\":0,\"ticks\":\"\"},\"type\":\"choropleth\"}],\"contour\":[{\"colorbar\":{\"outlinewidth\":0,\"ticks\":\"\"},\"colorscale\":[[0.0,\"#0d0887\"],[0.1111111111111111,\"#46039f\"],[0.2222222222222222,\"#7201a8\"],[0.3333333333333333,\"#9c179e\"],[0.4444444444444444,\"#bd3786\"],[0.5555555555555556,\"#d8576b\"],[0.6666666666666666,\"#ed7953\"],[0.7777777777777778,\"#fb9f3a\"],[0.8888888888888888,\"#fdca26\"],[1.0,\"#f0f921\"]],\"type\":\"contour\"}],\"contourcarpet\":[{\"colorbar\":{\"outlinewidth\":0,\"ticks\":\"\"},\"type\":\"contourcarpet\"}],\"heatmap\":[{\"colorbar\":{\"outlinewidth\":0,\"ticks\":\"\"},\"colorscale\":[[0.0,\"#0d0887\"],[0.1111111111111111,\"#46039f\"],[0.2222222222222222,\"#7201a8\"],[0.3333333333333333,\"#9c179e\"],[0.4444444444444444,\"#bd3786\"],[0.5555555555555556,\"#d8576b\"],[0.6666666666666666,\"#ed7953\"],[0.7777777777777778,\"#fb9f3a\"],[0.8888888888888888,\"#fdca26\"],[1.0,\"#f0f921\"]],\"type\":\"heatmap\"}],\"heatmapgl\":[{\"colorbar\":{\"outlinewidth\":0,\"ticks\":\"\"},\"colorscale\":[[0.0,\"#0d0887\"],[0.1111111111111111,\"#46039f\"],[0.2222222222222222,\"#7201a8\"],[0.3333333333333333,\"#9c179e\"],[0.4444444444444444,\"#bd3786\"],[0.5555555555555556,\"#d8576b\"],[0.6666666666666666,\"#ed7953\"],[0.7777777777777778,\"#fb9f3a\"],[0.8888888888888888,\"#fdca26\"],[1.0,\"#f0f921\"]],\"type\":\"heatmapgl\"}],\"histogram\":[{\"marker\":{\"pattern\":{\"fillmode\":\"overlay\",\"size\":10,\"solidity\":0.2}},\"type\":\"histogram\"}],\"histogram2d\":[{\"colorbar\":{\"outlinewidth\":0,\"ticks\":\"\"},\"colorscale\":[[0.0,\"#0d0887\"],[0.1111111111111111,\"#46039f\"],[0.2222222222222222,\"#7201a8\"],[0.3333333333333333,\"#9c179e\"],[0.4444444444444444,\"#bd3786\"],[0.5555555555555556,\"#d8576b\"],[0.6666666666666666,\"#ed7953\"],[0.7777777777777778,\"#fb9f3a\"],[0.8888888888888888,\"#fdca26\"],[1.0,\"#f0f921\"]],\"type\":\"histogram2d\"}],\"histogram2dcontour\":[{\"colorbar\":{\"outlinewidth\":0,\"ticks\":\"\"},\"colorscale\":[[0.0,\"#0d0887\"],[0.1111111111111111,\"#46039f\"],[0.2222222222222222,\"#7201a8\"],[0.3333333333333333,\"#9c179e\"],[0.4444444444444444,\"#bd3786\"],[0.5555555555555556,\"#d8576b\"],[0.6666666666666666,\"#ed7953\"],[0.7777777777777778,\"#fb9f3a\"],[0.8888888888888888,\"#fdca26\"],[1.0,\"#f0f921\"]],\"type\":\"histogram2dcontour\"}],\"mesh3d\":[{\"colorbar\":{\"outlinewidth\":0,\"ticks\":\"\"},\"type\":\"mesh3d\"}],\"parcoords\":[{\"line\":{\"colorbar\":{\"outlinewidth\":0,\"ticks\":\"\"}},\"type\":\"parcoords\"}],\"pie\":[{\"automargin\":true,\"type\":\"pie\"}],\"scatter\":[{\"marker\":{\"colorbar\":{\"outlinewidth\":0,\"ticks\":\"\"}},\"type\":\"scatter\"}],\"scatter3d\":[{\"line\":{\"colorbar\":{\"outlinewidth\":0,\"ticks\":\"\"}},\"marker\":{\"colorbar\":{\"outlinewidth\":0,\"ticks\":\"\"}},\"type\":\"scatter3d\"}],\"scattercarpet\":[{\"marker\":{\"colorbar\":{\"outlinewidth\":0,\"ticks\":\"\"}},\"type\":\"scattercarpet\"}],\"scattergeo\":[{\"marker\":{\"colorbar\":{\"outlinewidth\":0,\"ticks\":\"\"}},\"type\":\"scattergeo\"}],\"scattergl\":[{\"marker\":{\"colorbar\":{\"outlinewidth\":0,\"ticks\":\"\"}},\"type\":\"scattergl\"}],\"scattermapbox\":[{\"marker\":{\"colorbar\":{\"outlinewidth\":0,\"ticks\":\"\"}},\"type\":\"scattermapbox\"}],\"scatterpolar\":[{\"marker\":{\"colorbar\":{\"outlinewidth\":0,\"ticks\":\"\"}},\"type\":\"scatterpolar\"}],\"scatterpolargl\":[{\"marker\":{\"colorbar\":{\"outlinewidth\":0,\"ticks\":\"\"}},\"type\":\"scatterpolargl\"}],\"scatterternary\":[{\"marker\":{\"colorbar\":{\"outlinewidth\":0,\"ticks\":\"\"}},\"type\":\"scatterternary\"}],\"surface\":[{\"colorbar\":{\"outlinewidth\":0,\"ticks\":\"\"},\"colorscale\":[[0.0,\"#0d0887\"],[0.1111111111111111,\"#46039f\"],[0.2222222222222222,\"#7201a8\"],[0.3333333333333333,\"#9c179e\"],[0.4444444444444444,\"#bd3786\"],[0.5555555555555556,\"#d8576b\"],[0.6666666666666666,\"#ed7953\"],[0.7777777777777778,\"#fb9f3a\"],[0.8888888888888888,\"#fdca26\"],[1.0,\"#f0f921\"]],\"type\":\"surface\"}],\"table\":[{\"cells\":{\"fill\":{\"color\":\"#EBF0F8\"},\"line\":{\"color\":\"white\"}},\"header\":{\"fill\":{\"color\":\"#C8D4E3\"},\"line\":{\"color\":\"white\"}},\"type\":\"table\"}]},\"layout\":{\"annotationdefaults\":{\"arrowcolor\":\"#2a3f5f\",\"arrowhead\":0,\"arrowwidth\":1},\"autotypenumbers\":\"strict\",\"coloraxis\":{\"colorbar\":{\"outlinewidth\":0,\"ticks\":\"\"}},\"colorscale\":{\"diverging\":[[0,\"#8e0152\"],[0.1,\"#c51b7d\"],[0.2,\"#de77ae\"],[0.3,\"#f1b6da\"],[0.4,\"#fde0ef\"],[0.5,\"#f7f7f7\"],[0.6,\"#e6f5d0\"],[0.7,\"#b8e186\"],[0.8,\"#7fbc41\"],[0.9,\"#4d9221\"],[1,\"#276419\"]],\"sequential\":[[0.0,\"#0d0887\"],[0.1111111111111111,\"#46039f\"],[0.2222222222222222,\"#7201a8\"],[0.3333333333333333,\"#9c179e\"],[0.4444444444444444,\"#bd3786\"],[0.5555555555555556,\"#d8576b\"],[0.6666666666666666,\"#ed7953\"],[0.7777777777777778,\"#fb9f3a\"],[0.8888888888888888,\"#fdca26\"],[1.0,\"#f0f921\"]],\"sequentialminus\":[[0.0,\"#0d0887\"],[0.1111111111111111,\"#46039f\"],[0.2222222222222222,\"#7201a8\"],[0.3333333333333333,\"#9c179e\"],[0.4444444444444444,\"#bd3786\"],[0.5555555555555556,\"#d8576b\"],[0.6666666666666666,\"#ed7953\"],[0.7777777777777778,\"#fb9f3a\"],[0.8888888888888888,\"#fdca26\"],[1.0,\"#f0f921\"]]},\"colorway\":[\"#636efa\",\"#EF553B\",\"#00cc96\",\"#ab63fa\",\"#FFA15A\",\"#19d3f3\",\"#FF6692\",\"#B6E880\",\"#FF97FF\",\"#FECB52\"],\"font\":{\"color\":\"#2a3f5f\"},\"geo\":{\"bgcolor\":\"white\",\"lakecolor\":\"white\",\"landcolor\":\"#E5ECF6\",\"showlakes\":true,\"showland\":true,\"subunitcolor\":\"white\"},\"hoverlabel\":{\"align\":\"left\"},\"hovermode\":\"closest\",\"mapbox\":{\"style\":\"light\"},\"paper_bgcolor\":\"white\",\"plot_bgcolor\":\"#E5ECF6\",\"polar\":{\"angularaxis\":{\"gridcolor\":\"white\",\"linecolor\":\"white\",\"ticks\":\"\"},\"bgcolor\":\"#E5ECF6\",\"radialaxis\":{\"gridcolor\":\"white\",\"linecolor\":\"white\",\"ticks\":\"\"}},\"scene\":{\"xaxis\":{\"backgroundcolor\":\"#E5ECF6\",\"gridcolor\":\"white\",\"gridwidth\":2,\"linecolor\":\"white\",\"showbackground\":true,\"ticks\":\"\",\"zerolinecolor\":\"white\"},\"yaxis\":{\"backgroundcolor\":\"#E5ECF6\",\"gridcolor\":\"white\",\"gridwidth\":2,\"linecolor\":\"white\",\"showbackground\":true,\"ticks\":\"\",\"zerolinecolor\":\"white\"},\"zaxis\":{\"backgroundcolor\":\"#E5ECF6\",\"gridcolor\":\"white\",\"gridwidth\":2,\"linecolor\":\"white\",\"showbackground\":true,\"ticks\":\"\",\"zerolinecolor\":\"white\"}},\"shapedefaults\":{\"line\":{\"color\":\"#2a3f5f\"}},\"ternary\":{\"aaxis\":{\"gridcolor\":\"white\",\"linecolor\":\"white\",\"ticks\":\"\"},\"baxis\":{\"gridcolor\":\"white\",\"linecolor\":\"white\",\"ticks\":\"\"},\"bgcolor\":\"#E5ECF6\",\"caxis\":{\"gridcolor\":\"white\",\"linecolor\":\"white\",\"ticks\":\"\"}},\"title\":{\"x\":0.05},\"xaxis\":{\"automargin\":true,\"gridcolor\":\"white\",\"linecolor\":\"white\",\"ticks\":\"\",\"title\":{\"standoff\":15},\"zerolinecolor\":\"white\",\"zerolinewidth\":2},\"yaxis\":{\"automargin\":true,\"gridcolor\":\"white\",\"linecolor\":\"white\",\"ticks\":\"\",\"title\":{\"standoff\":15},\"zerolinecolor\":\"white\",\"zerolinewidth\":2}}},\"xaxis\":{\"anchor\":\"y\",\"domain\":[0.0,1.0],\"title\":{\"text\":\"Country\"}},\"yaxis\":{\"anchor\":\"x\",\"domain\":[0.0,1.0],\"title\":{\"text\":\"Total Cases\"}},\"coloraxis\":{\"colorbar\":{\"title\":{\"text\":\"Stringency Index\"}},\"colorscale\":[[0.0,\"#0d0887\"],[0.1111111111111111,\"#46039f\"],[0.2222222222222222,\"#7201a8\"],[0.3333333333333333,\"#9c179e\"],[0.4444444444444444,\"#bd3786\"],[0.5555555555555556,\"#d8576b\"],[0.6666666666666666,\"#ed7953\"],[0.7777777777777778,\"#fb9f3a\"],[0.8888888888888888,\"#fdca26\"],[1.0,\"#f0f921\"]]},\"legend\":{\"tracegroupgap\":0},\"title\":{\"text\":\"Stringency Index during Covid\"},\"barmode\":\"relative\",\"height\":450},                        {\"responsive\": true}                    ).then(function(){\n",
       "                            \n",
       "var gd = document.getElementById('50a72269-d471-497c-a193-cbcb539f5550');\n",
       "var x = new MutationObserver(function (mutations, observer) {{\n",
       "        var display = window.getComputedStyle(gd).display;\n",
       "        if (!display || display === 'none') {{\n",
       "            console.log([gd, 'removed!']);\n",
       "            Plotly.purge(gd);\n",
       "            observer.disconnect();\n",
       "        }}\n",
       "}});\n",
       "\n",
       "// Listen for the removal of the full notebook cells\n",
       "var notebookContainer = gd.closest('#notebook-container');\n",
       "if (notebookContainer) {{\n",
       "    x.observe(notebookContainer, {childList: true});\n",
       "}}\n",
       "\n",
       "// Listen for the clearing of the current output cell\n",
       "var outputEl = gd.closest('.output');\n",
       "if (outputEl) {{\n",
       "    x.observe(outputEl, {childList: true});\n",
       "}}\n",
       "\n",
       "                        })                };                });            </script>        </div>"
      ]
     },
     "metadata": {},
     "output_type": "display_data"
    }
   ],
   "source": [
    "sixth"
   ]
  },
  {
   "cell_type": "code",
   "execution_count": 95,
   "id": "e6a6d6f0",
   "metadata": {},
   "outputs": [],
   "source": [
    "seventh= px.bar(deta, x= deta['Country'], y= deta['Total Cases'], color= deta['GDP Before Covid'], hover_data= ['Population', 'Total Deaths'],height= 550, title= 'GDP Per Capita before Covid')"
   ]
  },
  {
   "cell_type": "code",
   "execution_count": 96,
   "id": "faa57d11",
   "metadata": {
    "scrolled": true
   },
   "outputs": [
    {
     "data": {
      "application/vnd.plotly.v1+json": {
       "config": {
        "plotlyServerURL": "https://plot.ly"
       },
       "data": [
        {
         "alignmentgroup": "True",
         "customdata": [
          [
           331002647,
           26477574
          ],
          [
           212559409,
           14340567
          ],
          [
           1380004385,
           7247327
          ],
          [
           145934460,
           2131571
          ],
          [
           26355046.972789116,
           3020038
          ],
          [
           128932753,
           7295850
          ],
          [
           46595753.12585034,
           5510624
          ],
          [
           51642940.952380955,
           1357682
          ],
          [
           39633266.789115645,
           1936134
          ],
          [
           67886004,
           7249573
          ],
          [
           83992953,
           2914070
          ],
          [
           14889836.261904761,
           1283880
          ],
          [
           60461828,
           6664225
          ],
          [
           65273512,
           5633444
          ],
          [
           38739237.428571425,
           1077426
          ],
          [
           83783945,
           1640691
          ],
          [
           63110866.46258503,
           1049757
          ],
          [
           27472167.156462584,
           442507
          ],
          [
           220892331,
           789557
          ],
          [
           129398800.92857143,
           484534
          ],
          [
           40222503,
           744253
          ],
          [
           109581085,
           448665
          ],
          [
           1439323774,
           1066939
          ],
          [
           273523621,
           916111
          ],
          [
           37742157,
           1455549
          ],
          [
           2881060,
           23820
          ],
          [
           8655541,
           126278
          ],
          [
           33469713.520408165,
           343334
          ],
          [
           11510775.074829932,
           1798461
          ],
          [
           17643060,
           1083749
          ],
          [
           14114463.425170068,
           161480
          ],
          [
           17134873,
           1142410
          ],
          [
           102334403,
           644416
          ],
          [
           9996216.224489795,
           941063
          ],
          [
           8814328.020408163,
           578559
          ],
          [
           19237682,
           464952
          ],
          [
           10847904,
           209024
          ],
          [
           4270563,
           69104
          ],
          [
           9449321,
           88409
          ],
          [
           3302118.3673469387,
           222435
          ],
          [
           9890400,
           58035
          ],
          [
           5106622,
           73391
          ],
          [
           8081063.710884354,
           302612
          ],
          [
           29350428.36734694,
           304001
          ],
          [
           5850343,
           4691
          ],
          [
           32139805.605442178,
           142270
          ],
          [
           126476458,
           194918
          ],
          [
           14990576.469387755,
           281588
          ],
          [
           8654618,
           320693
          ],
          [
           1701583,
           22413
          ],
          [
           7411611.428571428,
           200844
          ],
          [
           206139587,
           125473
          ],
          [
           2963234,
           102039
          ],
          [
           29136808,
           27737
          ],
          [
           4937796,
           310201
          ],
          [
           10708982,
           79880
          ],
          [
           38928341,
           165875
          ],
          [
           9006400,
           134945
          ],
          [
           23251863.605442178,
           29143
          ],
          [
           43851043,
           206429
          ],
          [
           86418203.54761904,
           77686
          ],
          [
           21181875.908163264,
           40840
          ],
          [
           3073495.619047619,
           129946
          ],
          [
           3915883.551020408,
           50352
          ],
          [
           24817297.217687074,
           31903
          ],
          [
           4771092.057823129,
           114922
          ],
          [
           10139175,
           59495
          ],
          [
           5485337.591836735,
           87503
          ],
          [
           2004534.149659864,
           54940
          ],
          [
           51269183,
           63333
          ],
          [
           41700191.8367347,
           59485
          ],
          [
           3938848.4081632653,
           21522
          ],
          [
           5792203,
           113280
          ],
          [
           25499881,
           65029
          ],
          [
           4743310.255102041,
           71957
          ],
          [
           20135128.136054423,
           56606
          ],
          [
           5507089.489795919,
           42850
          ],
          [
           6825442,
           22983
          ],
          [
           2488509.336734694,
           70578
          ],
          [
           19738845.23809524,
           14220
          ],
          [
           5421242,
           47158
          ],
          [
           5294053.333333333,
           72850
          ],
          [
           5375496.632653061,
           29730
          ],
          [
           32365998,
           24012
          ],
          [
           2083380,
           74066
          ],
          [
           7557416.666666667,
           110142
          ],
          [
           32812378.163265307,
           102825
          ],
          [
           13383753.57142857,
           30320
          ],
          [
           5540718,
           58377
          ],
          [
           20061860.704081632,
           17744
          ],
          [
           10423056,
           44805
          ],
          [
           1446293.469387755,
           47571
          ],
          [
           4105268,
           28757
          ],
          [
           67323368.31292517,
           32040
          ],
          [
           9782589.959183674,
           7283
          ],
          [
           625976,
           21907
          ],
          [
           13444049.455782313,
           26475
          ],
          [
           5579844.979591837,
           9730
          ],
          [
           2202397.9591836734,
           31056
          ],
          [
           1665510.7482993198,
           6877
          ],
          [
           8299802.93197279,
           23891
          ],
          [
           9085060.095238095,
           19025
          ],
          [
           411841.5238095238,
           3054
          ],
          [
           3463522.2448979593,
           19810
          ],
          [
           4234008.857142857,
           6055
          ],
          [
           722518.4693877551,
           8006
          ],
          [
           7877934.62585034,
           5653
          ],
          [
           1892723.142857143,
           6634
          ],
          [
           461433.306122449,
           11356
          ],
          [
           69799978,
           11162
          ],
          [
           39234273.22448979,
           13973
          ],
          [
           10768038.948979592,
           15984
          ],
          [
           3581253.5782312923,
           7108
          ],
          [
           8437173.142857144,
           16774
          ],
          [
           1045080.6632653062,
           8947
          ],
          [
           1612232.9795918367,
           22165
          ],
          [
           13338914.200680273,
           15480
          ],
          [
           4844486.768707483,
           16410
          ],
          [
           22431621.717687074,
           3396
          ],
          [
           11730709.261904761,
           15001
          ],
          [
           2722291,
           14345
          ],
          [
           4091646.448979592,
           9298
          ],
          [
           402807.63265306124,
           4749
          ],
          [
           32983306.12244898,
           3748
          ],
          [
           21413250,
           2108
          ],
          [
           1326539,
           11802
          ],
          [
           864203.7959183673,
           8179
          ],
          [
           3989175,
           4013
          ],
          [
           341250,
           1968
          ],
          [
           14327120.653061224,
           18813
          ],
          [
           9648074.051020408,
           1744
          ],
          [
           2225906.738095238,
           5653
          ],
          [
           427005.70068027213,
           6961
          ],
          [
           7500559.908163265,
           6063
          ],
          [
           1385631.2448979593,
           4199
          ],
          [
           23699485.768707484,
           11820
          ],
          [
           5480785.6122448975,
           10036
          ],
          [
           12559995.329931973,
           12098
          ],
          [
           1501262.8163265307,
           5376
          ],
          [
           4822233,
           4145
          ],
          [
           385971.1666666667,
           2409
          ],
          [
           8948074.714285715,
           4374
          ],
          [
           2587572.1530612246,
           6083
          ],
          [
           288916.89795918367,
           5998
          ],
          [
           661393.1224489796,
           3735
          ],
          [
           15713008.292517006,
           10248
          ],
          [
           1775508.2448979593,
           7201
          ],
          [
           19579632.054421768,
           64304
          ],
          [
           1051998.336734694,
           4519
          ],
          [
           59394.183673469386,
           9850
          ],
          [
           78440.32653061225,
           1624
          ],
          [
           1615742.3469387756,
           895
          ],
          [
           17537460.775510203,
           11676
          ],
          [
           6476562.959183673,
           4197
          ],
          [
           585906.193877551,
           5783
          ],
          [
           123429.74489795919,
           2715
          ],
          [
           3733047.3095238097,
           10087
          ],
          [
           11956237.503401361,
           12212
          ],
          [
           33938,
           8596
          ],
          [
           97338583,
           2318
          ],
          [
           144616.44217687074,
           2198
          ],
          [
           1151278.2857142857,
           2680
          ],
          [
           284015,
           1613
          ],
          [
           74587.85714285714,
           1833
          ],
          [
           23816775,
           1423
          ],
          [
           205422.9931972789,
           260
          ],
          [
           44089538.166666664,
           3733
          ],
          [
           925707.9523809524,
           1988
          ],
          [
           73570.14285714286,
           5527
          ],
          [
           61604.816326530614,
           4310
          ],
          [
           37895.30612244898,
           0
          ],
          [
           505784.8469387755,
           920
          ],
          [
           48806.55782312925,
           2450
          ],
          [
           8169856.333333333,
           188
          ],
          [
           32963.71428571428,
           3146
          ],
          [
           24523.380952380954,
           0
          ],
          [
           27524.020408163266,
           476
          ],
          [
           2453143.673469388,
           0
          ],
          [
           2557287.4965986395,
           0
          ],
          [
           16718971,
           0
          ],
          [
           6482029.765306123,
           417
          ],
          [
           47837.00680272109,
           213
          ],
          [
           331832.34353741497,
           475
          ],
          [
           45327.965986394556,
           1631
          ],
          [
           211129.7142857143,
           1321
          ],
          [
           585270.3265306122,
           0
          ],
          [
           39244,
           192
          ],
          [
           29056.761904761905,
           198
          ],
          [
           120563.26530612246,
           207
          ],
          [
           73253.26530612246,
           0
          ],
          [
           71280.92517006803,
           568
          ],
          [
           81512.08163265306,
           0
          ],
          [
           39741.73809523809,
           396
          ],
          [
           17926.602040816328,
           48
          ],
          [
           804970.1224489796,
           132
          ],
          [
           950713.2789115646,
           0
          ],
          [
           21289.316326530614,
           183
          ],
          [
           206835.31632653062,
           0
          ],
          [
           80753.43197278911,
           0
          ],
          [
           136784.8673469388,
           0
          ],
          [
           5172078.925170068,
           0
          ],
          [
           51667.010204081635,
           0
          ],
          [
           37632.43537414966,
           0
          ],
          [
           41323.836734693876,
           0
          ],
          [
           2357.5408163265306,
           0
          ],
          [
           610.8775510204082,
           0
          ],
          [
           3621.7244897959185,
           177
          ],
          [
           10562.632653061224,
           0
          ],
          [
           9345.278911564626,
           0
          ],
          [
           1300497.918367347,
           0
          ]
         ],
         "hovertemplate": "Country=%{x}<br>Total Cases=%{y}<br>Population=%{customdata[0]}<br>Total Deaths=%{customdata[1]}<br>GDP Before Covid=%{marker.color}<extra></extra>",
         "legendgroup": "",
         "marker": {
          "color": [
           29564.74,
           6001.4,
           6424.98,
           2100.75,
           65279.53,
           6424.98,
           8897.49,
           42354.41,
           8897.49,
           2100.75,
           65279.53,
           8897.49,
           2100.75,
           8897.49,
           2100.75,
           42354.41,
           29564.74,
           6001.4,
           29564.74,
           6001.4,
           6424.98,
           42354.41,
           65279.53,
           8897.49,
           2100.75,
           29564.74,
           6001.4,
           6424.98,
           42354.41,
           65279.53,
           8897.49,
           2100.75,
           29564.74,
           6001.4,
           6424.98,
           42354.41,
           65279.53,
           8897.49,
           2100.75,
           29564.74,
           6001.4,
           6424.98,
           42354.41,
           65279.53,
           8897.49,
           2100.75,
           29564.74,
           6001.4,
           6424.98,
           42354.41,
           42354.41,
           65279.53,
           8897.49,
           2100.75,
           29564.74,
           6001.4,
           6424.98,
           42354.41,
           65279.53,
           8897.49,
           2100.75,
           42354.41,
           65279.53,
           8897.49,
           2100.75,
           42354.41,
           65279.53,
           8897.49,
           2100.75,
           42354.41,
           65279.53,
           8897.49,
           2100.75,
           42354.41,
           65279.53,
           8897.49,
           42354.41,
           42354.41,
           65279.53,
           42354.41,
           65279.53,
           8897.49,
           2100.75,
           42354.41,
           65279.53,
           42354.41,
           65279.53,
           8897.49,
           2100.75,
           29564.74,
           42354.41,
           65279.53,
           6001.4,
           6424.98,
           42354.41,
           6001.4,
           6424.98,
           42354.41,
           8897.49,
           2100.75,
           29564.74,
           6001.4,
           6424.98,
           42354.41,
           29564.74,
           6001.4,
           6424.98,
           42354.41,
           42354.41,
           65279.53,
           8897.49,
           2100.75,
           29564.74,
           6001.4,
           6424.98,
           42354.41,
           8897.49,
           2100.75,
           29564.74,
           6001.4,
           6001.4,
           6424.98,
           42354.41,
           8897.49,
           2100.75,
           29564.74,
           6001.4,
           6424.98,
           42354.41,
           65279.53,
           8897.49,
           2100.75,
           29564.74,
           6001.4,
           6424.98,
           42354.41,
           2100.75,
           29564.74,
           6001.4,
           6424.98,
           42354.41,
           29564.74,
           6001.4,
           6424.98,
           42354.41,
           29564.74,
           6001.4,
           6424.98,
           42354.41,
           29564.74,
           6001.4,
           6424.98,
           42354.41,
           65279.53,
           8897.49,
           2100.75,
           29564.74,
           6001.4,
           6424.98,
           42354.41,
           2100.75,
           29564.74,
           6001.4,
           6424.98,
           42354.41,
           29564.74,
           6001.4,
           6424.98,
           42354.41,
           29564.74,
           6001.4,
           6424.98,
           42354.41,
           29564.74,
           6001.4,
           6424.98,
           42354.41,
           29564.74,
           6001.4,
           6424.98,
           42354.41,
           65279.53,
           8897.49,
           2100.75,
           29564.74,
           6001.4,
           6424.98,
           42354.41,
           2100.75,
           29564.74,
           6001.4,
           6424.98,
           42354.41,
           29564.74,
           6001.4,
           6424.98,
           42354.41,
           29564.74,
           6001.4,
           6424.98,
           42354.41,
           29564.74,
           6001.4,
           6424.98,
           42354.41,
           29564.74,
           6001.4,
           6424.98,
           42354.41,
           42354.41
          ],
          "coloraxis": "coloraxis",
          "pattern": {
           "shape": ""
          }
         },
         "name": "",
         "offsetgroup": "",
         "orientation": "v",
         "showlegend": false,
         "textposition": "auto",
         "type": "bar",
         "x": [
          "United States",
          "Brazil",
          "India",
          "Russia",
          "Peru",
          "Mexico",
          "Spain",
          "South Africa",
          "Colombia",
          "United Kingdom",
          "Iran",
          "Chile",
          "Italy",
          "France",
          "Argentina",
          "Germany",
          "Turkey",
          "Saudi Arabia",
          "Pakistan",
          "Bangladesh",
          "Iraq",
          "Philippines",
          "China",
          "Indonesia",
          "Canada",
          "Qatar",
          "Israel",
          "Ukraine",
          "Belgium",
          "Ecuador",
          "Kazakhstan",
          "Netherlands",
          "Egypt",
          "Sweden",
          "Bolivia",
          "Romania",
          "Dominican Republic",
          "Kuwait",
          "Belarus",
          "Panama",
          "United Arab Emirates",
          "Oman",
          "Portugal",
          "Poland",
          "Singapore",
          "Morocco",
          "Japan",
          "Guatemala",
          "Switzerland",
          "Bahrain",
          "Honduras",
          "Nigeria",
          "Armenia",
          "Nepal",
          "Ireland",
          "Czech Republic",
          "Afghanistan",
          "Austria",
          "Ghana",
          "Algeria",
          "Ethiopia",
          "Venezuela",
          "Moldova",
          "Costa Rica",
          "Uzbekistan",
          "Kyrgyzstan",
          "Azerbaijan",
          "Serbia",
          "Puerto Rico",
          "South Korea",
          "Kenya",
          "Palestine",
          "Denmark",
          "Australia",
          "El Salvador",
          "Cameroon",
          "Paraguay",
          "Lebanon",
          "Bosnia and Herzegovina",
          "Cote d'Ivoire",
          "Norway",
          "Bulgaria",
          "Libya",
          "Malaysia",
          "Macedonia",
          "Hungary",
          "Sudan",
          "Senegal",
          "Finland",
          "Madagascar",
          "Greece",
          "Kosovo",
          "Croatia",
          "Democratic Republic of Congo",
          "Guinea",
          "Luxembourg",
          "Zambia",
          "Tajikistan",
          "Albania",
          "Gabon",
          "Haiti",
          "Tunisia",
          "Maldives",
          "Mauritania",
          "Slovakia",
          "Djibouti",
          "Jordan",
          "Namibia",
          "Montenegro",
          "Thailand",
          "Myanmar",
          "Zimbabwe",
          "Central African Republic",
          "Cuba",
          "Equatorial Guinea",
          "Slovenia",
          "Malawi",
          "Nicaragua",
          "Mozambique",
          "Somalia",
          "Lithuania",
          "Congo",
          "Cape Verde",
          "Uganda",
          "Sri Lanka",
          "Estonia",
          "Swaziland",
          "Georgia",
          "Iceland",
          "Mali",
          "Rwanda",
          "Jamaica",
          "Suriname",
          "South Sudan",
          "Guinea-Bissau",
          "Angola",
          "Sierra Leone",
          "Syria",
          "Latvia",
          "New Zealand",
          "Malta",
          "Benin",
          "Uruguay",
          "Bahamas",
          "Cyprus",
          "Burkina Faso",
          "Gambia",
          "Yemen",
          "Trinidad and Tobago",
          "Andorra",
          "Aruba",
          "Botswana",
          "Niger",
          "Togo",
          "Guyana",
          "Guam",
          "Liberia",
          "Chad",
          "San Marino",
          "Vietnam",
          "Sao Tome and Principe",
          "Lesotho",
          "Belize",
          "United States Virgin Islands",
          "Taiwan",
          "French Polynesia",
          "Tanzania",
          "Mauritius",
          "Jersey",
          "Isle of Man",
          "Faeroe Islands",
          "Comoros",
          "Guernsey",
          "Burundi",
          "Sint Maarten (Dutch part)",
          "Gibraltar",
          "Turks and Caicos Islands",
          "Mongolia",
          "Eritrea",
          "Cambodia",
          "Papua New Guinea",
          "Cayman Islands",
          "Brunei",
          "Bermuda",
          "Barbados",
          "Bhutan",
          "Monaco",
          "Liechtenstein",
          "Curacao",
          "Seychelles",
          "Antigua and Barbuda",
          "Saint Vincent and the Grenadines",
          "Northern Mariana Islands",
          "Bonaire Sint Eustatius and Saba",
          "Fiji",
          "Timor",
          "British Virgin Islands",
          "New Caledonia",
          "Grenada",
          "Saint Lucia",
          "Laos",
          "Dominica",
          "Saint Kitts and Nevis",
          "Greenland",
          "Falkland Islands",
          "Vatican",
          "Montserrat",
          "Anguilla",
          "Solomon Islands",
          "Hong Kong"
         ],
         "xaxis": "x",
         "y": [
          746014098,
          425704517,
          407771615,
          132888951,
          74882695,
          74347548,
          73717676,
          63027659,
          60543682,
          59475032,
          52421884,
          51268034,
          50752853,
          50084335,
          47155234,
          42447678,
          41431948,
          38585191,
          37738077,
          35266178,
          25280332,
          22409936,
          21632319,
          21570149,
          20902374,
          16351440,
          16202474,
          15805665,
          15192468,
          14408757,
          13194863,
          13026629,
          12422845,
          11910109,
          11858838,
          10672859,
          10649646,
          10622205,
          10595186,
          10371724,
          10247326,
          10060093,
          9266263,
          9239657,
          8191161,
          7839270,
          7659484,
          7644426,
          7552067,
          6549995,
          6545499,
          6107371,
          5474629,
          5243653,
          5239798,
          5213980,
          5126433,
          4909197,
          4900649,
          4893999,
          4876417,
          4839834,
          4632482,
          4631835,
          4421215,
          4287847,
          4236782,
          3984174,
          3586463,
          3333075,
          3277734,
          3249458,
          3030088,
          3012377,
          2573206,
          2476502,
          2265640,
          2220699,
          2200057,
          2132883,
          1985889,
          1890380,
          1817274,
          1774181,
          1724220,
          1708798,
          1663545,
          1586747,
          1458484,
          1443321,
          1421470,
          1345940,
          1314031,
          1271391,
          1195836,
          1146724,
          1129913,
          1117391,
          1071951,
          1031803,
          1023155,
          1000626,
          844040,
          799222,
          798665,
          781771,
          716514,
          681299,
          675912,
          655703,
          644209,
          593699,
          593048,
          581546,
          557355,
          547075,
          536447,
          524410,
          510578,
          491145,
          488057,
          473368,
          463888,
          448728,
          446643,
          445402,
          444238,
          431689,
          421210,
          390637,
          388775,
          370890,
          358632,
          333500,
          306564,
          304005,
          268396,
          267902,
          255964,
          253203,
          251261,
          245893,
          239884,
          237908,
          236673,
          231452,
          229521,
          228925,
          225550,
          223576,
          215110,
          205758,
          199978,
          169903,
          166917,
          160975,
          159880,
          154173,
          134994,
          122618,
          121909,
          107948,
          106383,
          98536,
          97074,
          95388,
          91526,
          69524,
          66777,
          64935,
          56893,
          52437,
          49814,
          49745,
          48026,
          45340,
          44432,
          42465,
          40026,
          39539,
          35966,
          33173,
          30140,
          28876,
          24998,
          22847,
          21511,
          19885,
          19777,
          14701,
          12619,
          7824,
          7784,
          5080,
          4742,
          4697,
          4605,
          4495,
          4470,
          4450,
          4039,
          3977,
          3246,
          2678,
          2467,
          2415,
          2383,
          614,
          11,
          0
         ],
         "yaxis": "y"
        }
       ],
       "layout": {
        "barmode": "relative",
        "coloraxis": {
         "colorbar": {
          "title": {
           "text": "GDP Before Covid"
          }
         },
         "colorscale": [
          [
           0,
           "#0d0887"
          ],
          [
           0.1111111111111111,
           "#46039f"
          ],
          [
           0.2222222222222222,
           "#7201a8"
          ],
          [
           0.3333333333333333,
           "#9c179e"
          ],
          [
           0.4444444444444444,
           "#bd3786"
          ],
          [
           0.5555555555555556,
           "#d8576b"
          ],
          [
           0.6666666666666666,
           "#ed7953"
          ],
          [
           0.7777777777777778,
           "#fb9f3a"
          ],
          [
           0.8888888888888888,
           "#fdca26"
          ],
          [
           1,
           "#f0f921"
          ]
         ]
        },
        "height": 550,
        "legend": {
         "tracegroupgap": 0
        },
        "template": {
         "data": {
          "bar": [
           {
            "error_x": {
             "color": "#2a3f5f"
            },
            "error_y": {
             "color": "#2a3f5f"
            },
            "marker": {
             "line": {
              "color": "#E5ECF6",
              "width": 0.5
             },
             "pattern": {
              "fillmode": "overlay",
              "size": 10,
              "solidity": 0.2
             }
            },
            "type": "bar"
           }
          ],
          "barpolar": [
           {
            "marker": {
             "line": {
              "color": "#E5ECF6",
              "width": 0.5
             },
             "pattern": {
              "fillmode": "overlay",
              "size": 10,
              "solidity": 0.2
             }
            },
            "type": "barpolar"
           }
          ],
          "carpet": [
           {
            "aaxis": {
             "endlinecolor": "#2a3f5f",
             "gridcolor": "white",
             "linecolor": "white",
             "minorgridcolor": "white",
             "startlinecolor": "#2a3f5f"
            },
            "baxis": {
             "endlinecolor": "#2a3f5f",
             "gridcolor": "white",
             "linecolor": "white",
             "minorgridcolor": "white",
             "startlinecolor": "#2a3f5f"
            },
            "type": "carpet"
           }
          ],
          "choropleth": [
           {
            "colorbar": {
             "outlinewidth": 0,
             "ticks": ""
            },
            "type": "choropleth"
           }
          ],
          "contour": [
           {
            "colorbar": {
             "outlinewidth": 0,
             "ticks": ""
            },
            "colorscale": [
             [
              0,
              "#0d0887"
             ],
             [
              0.1111111111111111,
              "#46039f"
             ],
             [
              0.2222222222222222,
              "#7201a8"
             ],
             [
              0.3333333333333333,
              "#9c179e"
             ],
             [
              0.4444444444444444,
              "#bd3786"
             ],
             [
              0.5555555555555556,
              "#d8576b"
             ],
             [
              0.6666666666666666,
              "#ed7953"
             ],
             [
              0.7777777777777778,
              "#fb9f3a"
             ],
             [
              0.8888888888888888,
              "#fdca26"
             ],
             [
              1,
              "#f0f921"
             ]
            ],
            "type": "contour"
           }
          ],
          "contourcarpet": [
           {
            "colorbar": {
             "outlinewidth": 0,
             "ticks": ""
            },
            "type": "contourcarpet"
           }
          ],
          "heatmap": [
           {
            "colorbar": {
             "outlinewidth": 0,
             "ticks": ""
            },
            "colorscale": [
             [
              0,
              "#0d0887"
             ],
             [
              0.1111111111111111,
              "#46039f"
             ],
             [
              0.2222222222222222,
              "#7201a8"
             ],
             [
              0.3333333333333333,
              "#9c179e"
             ],
             [
              0.4444444444444444,
              "#bd3786"
             ],
             [
              0.5555555555555556,
              "#d8576b"
             ],
             [
              0.6666666666666666,
              "#ed7953"
             ],
             [
              0.7777777777777778,
              "#fb9f3a"
             ],
             [
              0.8888888888888888,
              "#fdca26"
             ],
             [
              1,
              "#f0f921"
             ]
            ],
            "type": "heatmap"
           }
          ],
          "heatmapgl": [
           {
            "colorbar": {
             "outlinewidth": 0,
             "ticks": ""
            },
            "colorscale": [
             [
              0,
              "#0d0887"
             ],
             [
              0.1111111111111111,
              "#46039f"
             ],
             [
              0.2222222222222222,
              "#7201a8"
             ],
             [
              0.3333333333333333,
              "#9c179e"
             ],
             [
              0.4444444444444444,
              "#bd3786"
             ],
             [
              0.5555555555555556,
              "#d8576b"
             ],
             [
              0.6666666666666666,
              "#ed7953"
             ],
             [
              0.7777777777777778,
              "#fb9f3a"
             ],
             [
              0.8888888888888888,
              "#fdca26"
             ],
             [
              1,
              "#f0f921"
             ]
            ],
            "type": "heatmapgl"
           }
          ],
          "histogram": [
           {
            "marker": {
             "pattern": {
              "fillmode": "overlay",
              "size": 10,
              "solidity": 0.2
             }
            },
            "type": "histogram"
           }
          ],
          "histogram2d": [
           {
            "colorbar": {
             "outlinewidth": 0,
             "ticks": ""
            },
            "colorscale": [
             [
              0,
              "#0d0887"
             ],
             [
              0.1111111111111111,
              "#46039f"
             ],
             [
              0.2222222222222222,
              "#7201a8"
             ],
             [
              0.3333333333333333,
              "#9c179e"
             ],
             [
              0.4444444444444444,
              "#bd3786"
             ],
             [
              0.5555555555555556,
              "#d8576b"
             ],
             [
              0.6666666666666666,
              "#ed7953"
             ],
             [
              0.7777777777777778,
              "#fb9f3a"
             ],
             [
              0.8888888888888888,
              "#fdca26"
             ],
             [
              1,
              "#f0f921"
             ]
            ],
            "type": "histogram2d"
           }
          ],
          "histogram2dcontour": [
           {
            "colorbar": {
             "outlinewidth": 0,
             "ticks": ""
            },
            "colorscale": [
             [
              0,
              "#0d0887"
             ],
             [
              0.1111111111111111,
              "#46039f"
             ],
             [
              0.2222222222222222,
              "#7201a8"
             ],
             [
              0.3333333333333333,
              "#9c179e"
             ],
             [
              0.4444444444444444,
              "#bd3786"
             ],
             [
              0.5555555555555556,
              "#d8576b"
             ],
             [
              0.6666666666666666,
              "#ed7953"
             ],
             [
              0.7777777777777778,
              "#fb9f3a"
             ],
             [
              0.8888888888888888,
              "#fdca26"
             ],
             [
              1,
              "#f0f921"
             ]
            ],
            "type": "histogram2dcontour"
           }
          ],
          "mesh3d": [
           {
            "colorbar": {
             "outlinewidth": 0,
             "ticks": ""
            },
            "type": "mesh3d"
           }
          ],
          "parcoords": [
           {
            "line": {
             "colorbar": {
              "outlinewidth": 0,
              "ticks": ""
             }
            },
            "type": "parcoords"
           }
          ],
          "pie": [
           {
            "automargin": true,
            "type": "pie"
           }
          ],
          "scatter": [
           {
            "marker": {
             "colorbar": {
              "outlinewidth": 0,
              "ticks": ""
             }
            },
            "type": "scatter"
           }
          ],
          "scatter3d": [
           {
            "line": {
             "colorbar": {
              "outlinewidth": 0,
              "ticks": ""
             }
            },
            "marker": {
             "colorbar": {
              "outlinewidth": 0,
              "ticks": ""
             }
            },
            "type": "scatter3d"
           }
          ],
          "scattercarpet": [
           {
            "marker": {
             "colorbar": {
              "outlinewidth": 0,
              "ticks": ""
             }
            },
            "type": "scattercarpet"
           }
          ],
          "scattergeo": [
           {
            "marker": {
             "colorbar": {
              "outlinewidth": 0,
              "ticks": ""
             }
            },
            "type": "scattergeo"
           }
          ],
          "scattergl": [
           {
            "marker": {
             "colorbar": {
              "outlinewidth": 0,
              "ticks": ""
             }
            },
            "type": "scattergl"
           }
          ],
          "scattermapbox": [
           {
            "marker": {
             "colorbar": {
              "outlinewidth": 0,
              "ticks": ""
             }
            },
            "type": "scattermapbox"
           }
          ],
          "scatterpolar": [
           {
            "marker": {
             "colorbar": {
              "outlinewidth": 0,
              "ticks": ""
             }
            },
            "type": "scatterpolar"
           }
          ],
          "scatterpolargl": [
           {
            "marker": {
             "colorbar": {
              "outlinewidth": 0,
              "ticks": ""
             }
            },
            "type": "scatterpolargl"
           }
          ],
          "scatterternary": [
           {
            "marker": {
             "colorbar": {
              "outlinewidth": 0,
              "ticks": ""
             }
            },
            "type": "scatterternary"
           }
          ],
          "surface": [
           {
            "colorbar": {
             "outlinewidth": 0,
             "ticks": ""
            },
            "colorscale": [
             [
              0,
              "#0d0887"
             ],
             [
              0.1111111111111111,
              "#46039f"
             ],
             [
              0.2222222222222222,
              "#7201a8"
             ],
             [
              0.3333333333333333,
              "#9c179e"
             ],
             [
              0.4444444444444444,
              "#bd3786"
             ],
             [
              0.5555555555555556,
              "#d8576b"
             ],
             [
              0.6666666666666666,
              "#ed7953"
             ],
             [
              0.7777777777777778,
              "#fb9f3a"
             ],
             [
              0.8888888888888888,
              "#fdca26"
             ],
             [
              1,
              "#f0f921"
             ]
            ],
            "type": "surface"
           }
          ],
          "table": [
           {
            "cells": {
             "fill": {
              "color": "#EBF0F8"
             },
             "line": {
              "color": "white"
             }
            },
            "header": {
             "fill": {
              "color": "#C8D4E3"
             },
             "line": {
              "color": "white"
             }
            },
            "type": "table"
           }
          ]
         },
         "layout": {
          "annotationdefaults": {
           "arrowcolor": "#2a3f5f",
           "arrowhead": 0,
           "arrowwidth": 1
          },
          "autotypenumbers": "strict",
          "coloraxis": {
           "colorbar": {
            "outlinewidth": 0,
            "ticks": ""
           }
          },
          "colorscale": {
           "diverging": [
            [
             0,
             "#8e0152"
            ],
            [
             0.1,
             "#c51b7d"
            ],
            [
             0.2,
             "#de77ae"
            ],
            [
             0.3,
             "#f1b6da"
            ],
            [
             0.4,
             "#fde0ef"
            ],
            [
             0.5,
             "#f7f7f7"
            ],
            [
             0.6,
             "#e6f5d0"
            ],
            [
             0.7,
             "#b8e186"
            ],
            [
             0.8,
             "#7fbc41"
            ],
            [
             0.9,
             "#4d9221"
            ],
            [
             1,
             "#276419"
            ]
           ],
           "sequential": [
            [
             0,
             "#0d0887"
            ],
            [
             0.1111111111111111,
             "#46039f"
            ],
            [
             0.2222222222222222,
             "#7201a8"
            ],
            [
             0.3333333333333333,
             "#9c179e"
            ],
            [
             0.4444444444444444,
             "#bd3786"
            ],
            [
             0.5555555555555556,
             "#d8576b"
            ],
            [
             0.6666666666666666,
             "#ed7953"
            ],
            [
             0.7777777777777778,
             "#fb9f3a"
            ],
            [
             0.8888888888888888,
             "#fdca26"
            ],
            [
             1,
             "#f0f921"
            ]
           ],
           "sequentialminus": [
            [
             0,
             "#0d0887"
            ],
            [
             0.1111111111111111,
             "#46039f"
            ],
            [
             0.2222222222222222,
             "#7201a8"
            ],
            [
             0.3333333333333333,
             "#9c179e"
            ],
            [
             0.4444444444444444,
             "#bd3786"
            ],
            [
             0.5555555555555556,
             "#d8576b"
            ],
            [
             0.6666666666666666,
             "#ed7953"
            ],
            [
             0.7777777777777778,
             "#fb9f3a"
            ],
            [
             0.8888888888888888,
             "#fdca26"
            ],
            [
             1,
             "#f0f921"
            ]
           ]
          },
          "colorway": [
           "#636efa",
           "#EF553B",
           "#00cc96",
           "#ab63fa",
           "#FFA15A",
           "#19d3f3",
           "#FF6692",
           "#B6E880",
           "#FF97FF",
           "#FECB52"
          ],
          "font": {
           "color": "#2a3f5f"
          },
          "geo": {
           "bgcolor": "white",
           "lakecolor": "white",
           "landcolor": "#E5ECF6",
           "showlakes": true,
           "showland": true,
           "subunitcolor": "white"
          },
          "hoverlabel": {
           "align": "left"
          },
          "hovermode": "closest",
          "mapbox": {
           "style": "light"
          },
          "paper_bgcolor": "white",
          "plot_bgcolor": "#E5ECF6",
          "polar": {
           "angularaxis": {
            "gridcolor": "white",
            "linecolor": "white",
            "ticks": ""
           },
           "bgcolor": "#E5ECF6",
           "radialaxis": {
            "gridcolor": "white",
            "linecolor": "white",
            "ticks": ""
           }
          },
          "scene": {
           "xaxis": {
            "backgroundcolor": "#E5ECF6",
            "gridcolor": "white",
            "gridwidth": 2,
            "linecolor": "white",
            "showbackground": true,
            "ticks": "",
            "zerolinecolor": "white"
           },
           "yaxis": {
            "backgroundcolor": "#E5ECF6",
            "gridcolor": "white",
            "gridwidth": 2,
            "linecolor": "white",
            "showbackground": true,
            "ticks": "",
            "zerolinecolor": "white"
           },
           "zaxis": {
            "backgroundcolor": "#E5ECF6",
            "gridcolor": "white",
            "gridwidth": 2,
            "linecolor": "white",
            "showbackground": true,
            "ticks": "",
            "zerolinecolor": "white"
           }
          },
          "shapedefaults": {
           "line": {
            "color": "#2a3f5f"
           }
          },
          "ternary": {
           "aaxis": {
            "gridcolor": "white",
            "linecolor": "white",
            "ticks": ""
           },
           "baxis": {
            "gridcolor": "white",
            "linecolor": "white",
            "ticks": ""
           },
           "bgcolor": "#E5ECF6",
           "caxis": {
            "gridcolor": "white",
            "linecolor": "white",
            "ticks": ""
           }
          },
          "title": {
           "x": 0.05
          },
          "xaxis": {
           "automargin": true,
           "gridcolor": "white",
           "linecolor": "white",
           "ticks": "",
           "title": {
            "standoff": 15
           },
           "zerolinecolor": "white",
           "zerolinewidth": 2
          },
          "yaxis": {
           "automargin": true,
           "gridcolor": "white",
           "linecolor": "white",
           "ticks": "",
           "title": {
            "standoff": 15
           },
           "zerolinecolor": "white",
           "zerolinewidth": 2
          }
         }
        },
        "title": {
         "text": "GDP Per Capita before Covid"
        },
        "xaxis": {
         "anchor": "y",
         "domain": [
          0,
          1
         ],
         "title": {
          "text": "Country"
         }
        },
        "yaxis": {
         "anchor": "x",
         "domain": [
          0,
          1
         ],
         "title": {
          "text": "Total Cases"
         }
        }
       }
      },
      "text/html": [
       "<div>                            <div id=\"7e6f25fe-9ef6-4b03-97dd-a3f78fce3bbc\" class=\"plotly-graph-div\" style=\"height:550px; width:100%;\"></div>            <script type=\"text/javascript\">                require([\"plotly\"], function(Plotly) {                    window.PLOTLYENV=window.PLOTLYENV || {};                                    if (document.getElementById(\"7e6f25fe-9ef6-4b03-97dd-a3f78fce3bbc\")) {                    Plotly.newPlot(                        \"7e6f25fe-9ef6-4b03-97dd-a3f78fce3bbc\",                        [{\"alignmentgroup\":\"True\",\"customdata\":[[331002647.0,26477574.0],[212559409.0,14340567.0],[1380004385.0,7247327.0],[145934460.0,2131571.0],[26355046.972789116,3020038.0],[128932753.0,7295850.0],[46595753.12585034,5510624.0],[51642940.952380955,1357682.0],[39633266.789115645,1936134.0],[67886004.0,7249573.0],[83992953.0,2914070.0],[14889836.261904761,1283880.0],[60461828.0,6664225.0],[65273512.0,5633444.0],[38739237.428571425,1077426.0],[83783945.0,1640691.0],[63110866.46258503,1049757.0],[27472167.156462584,442507.0],[220892331.0,789557.0],[129398800.92857143,484534.0],[40222503.0,744253.0],[109581085.0,448665.0],[1439323774.0,1066939.0],[273523621.0,916111.0],[37742157.0,1455549.0],[2881060.0,23820.0],[8655541.0,126278.0],[33469713.520408165,343334.0],[11510775.074829932,1798461.0],[17643060.0,1083749.0],[14114463.425170068,161480.0],[17134873.0,1142410.0],[102334403.0,644416.0],[9996216.224489795,941063.0],[8814328.020408163,578559.0],[19237682.0,464952.0],[10847904.0,209024.0],[4270563.0,69104.0],[9449321.0,88409.0],[3302118.3673469387,222435.0],[9890400.0,58035.0],[5106622.0,73391.0],[8081063.710884354,302612.0],[29350428.36734694,304001.0],[5850343.0,4691.0],[32139805.605442178,142270.0],[126476458.0,194918.0],[14990576.469387755,281588.0],[8654618.0,320693.0],[1701583.0,22413.0],[7411611.428571428,200844.0],[206139587.0,125473.0],[2963234.0,102039.0],[29136808.0,27737.0],[4937796.0,310201.0],[10708982.0,79880.0],[38928341.0,165875.0],[9006400.0,134945.0],[23251863.605442178,29143.0],[43851043.0,206429.0],[86418203.54761904,77686.0],[21181875.908163264,40840.0],[3073495.619047619,129946.0],[3915883.551020408,50352.0],[24817297.217687074,31903.0],[4771092.057823129,114922.0],[10139175.0,59495.0],[5485337.591836735,87503.0],[2004534.149659864,54940.0],[51269183.0,63333.0],[41700191.8367347,59485.0],[3938848.4081632653,21522.0],[5792203.0,113280.0],[25499881.0,65029.0],[4743310.255102041,71957.0],[20135128.136054423,56606.0],[5507089.489795919,42850.0],[6825442.0,22983.0],[2488509.336734694,70578.0],[19738845.23809524,14220.0],[5421242.0,47158.0],[5294053.333333333,72850.0],[5375496.632653061,29730.0],[32365998.0,24012.0],[2083380.0,74066.0],[7557416.666666667,110142.0],[32812378.163265307,102825.0],[13383753.57142857,30320.0],[5540718.0,58377.0],[20061860.704081632,17744.0],[10423056.0,44805.0],[1446293.469387755,47571.0],[4105268.0,28757.0],[67323368.31292517,32040.0],[9782589.959183674,7283.0],[625976.0,21907.0],[13444049.455782313,26475.0],[5579844.979591837,9730.0],[2202397.9591836734,31056.0],[1665510.7482993198,6877.0],[8299802.93197279,23891.0],[9085060.095238095,19025.0],[411841.5238095238,3054.0],[3463522.2448979593,19810.0],[4234008.857142857,6055.0],[722518.4693877551,8006.0],[7877934.62585034,5653.0],[1892723.142857143,6634.0],[461433.306122449,11356.0],[69799978.0,11162.0],[39234273.22448979,13973.0],[10768038.948979592,15984.0],[3581253.5782312923,7108.0],[8437173.142857144,16774.0],[1045080.6632653062,8947.0],[1612232.9795918367,22165.0],[13338914.200680273,15480.0],[4844486.768707483,16410.0],[22431621.717687074,3396.0],[11730709.261904761,15001.0],[2722291.0,14345.0],[4091646.448979592,9298.0],[402807.63265306124,4749.0],[32983306.12244898,3748.0],[21413250.0,2108.0],[1326539.0,11802.0],[864203.7959183673,8179.0],[3989175.0,4013.0],[341250.0,1968.0],[14327120.653061224,18813.0],[9648074.051020408,1744.0],[2225906.738095238,5653.0],[427005.70068027213,6961.0],[7500559.908163265,6063.0],[1385631.2448979593,4199.0],[23699485.768707484,11820.0],[5480785.6122448975,10036.0],[12559995.329931973,12098.0],[1501262.8163265307,5376.0],[4822233.0,4145.0],[385971.1666666667,2409.0],[8948074.714285715,4374.0],[2587572.1530612246,6083.0],[288916.89795918367,5998.0],[661393.1224489796,3735.0],[15713008.292517006,10248.0],[1775508.2448979593,7201.0],[19579632.054421768,64304.0],[1051998.336734694,4519.0],[59394.183673469386,9850.0],[78440.32653061225,1624.0],[1615742.3469387756,895.0],[17537460.775510203,11676.0],[6476562.959183673,4197.0],[585906.193877551,5783.0],[123429.74489795919,2715.0],[3733047.3095238097,10087.0],[11956237.503401361,12212.0],[33938.0,8596.0],[97338583.0,2318.0],[144616.44217687074,2198.0],[1151278.2857142857,2680.0],[284015.0,1613.0],[74587.85714285714,1833.0],[23816775.0,1423.0],[205422.9931972789,260.0],[44089538.166666664,3733.0],[925707.9523809524,1988.0],[73570.14285714286,5527.0],[61604.816326530614,4310.0],[37895.30612244898,0.0],[505784.8469387755,920.0],[48806.55782312925,2450.0],[8169856.333333333,188.0],[32963.71428571428,3146.0],[24523.380952380954,0.0],[27524.020408163266,476.0],[2453143.673469388,0.0],[2557287.4965986395,0.0],[16718971.0,0.0],[6482029.765306123,417.0],[47837.00680272109,213.0],[331832.34353741497,475.0],[45327.965986394556,1631.0],[211129.7142857143,1321.0],[585270.3265306122,0.0],[39244.0,192.0],[29056.761904761905,198.0],[120563.26530612246,207.0],[73253.26530612246,0.0],[71280.92517006803,568.0],[81512.08163265306,0.0],[39741.73809523809,396.0],[17926.602040816328,48.0],[804970.1224489796,132.0],[950713.2789115646,0.0],[21289.316326530614,183.0],[206835.31632653062,0.0],[80753.43197278911,0.0],[136784.8673469388,0.0],[5172078.925170068,0.0],[51667.010204081635,0.0],[37632.43537414966,0.0],[41323.836734693876,0.0],[2357.5408163265306,0.0],[610.8775510204082,0.0],[3621.7244897959185,177.0],[10562.632653061224,0.0],[9345.278911564626,0.0],[1300497.918367347,0.0]],\"hovertemplate\":\"Country=%{x}<br>Total Cases=%{y}<br>Population=%{customdata[0]}<br>Total Deaths=%{customdata[1]}<br>GDP Before Covid=%{marker.color}<extra></extra>\",\"legendgroup\":\"\",\"marker\":{\"color\":[29564.74,6001.4,6424.98,2100.75,65279.53,6424.98,8897.49,42354.41,8897.49,2100.75,65279.53,8897.49,2100.75,8897.49,2100.75,42354.41,29564.74,6001.4,29564.74,6001.4,6424.98,42354.41,65279.53,8897.49,2100.75,29564.74,6001.4,6424.98,42354.41,65279.53,8897.49,2100.75,29564.74,6001.4,6424.98,42354.41,65279.53,8897.49,2100.75,29564.74,6001.4,6424.98,42354.41,65279.53,8897.49,2100.75,29564.74,6001.4,6424.98,42354.41,42354.41,65279.53,8897.49,2100.75,29564.74,6001.4,6424.98,42354.41,65279.53,8897.49,2100.75,42354.41,65279.53,8897.49,2100.75,42354.41,65279.53,8897.49,2100.75,42354.41,65279.53,8897.49,2100.75,42354.41,65279.53,8897.49,42354.41,42354.41,65279.53,42354.41,65279.53,8897.49,2100.75,42354.41,65279.53,42354.41,65279.53,8897.49,2100.75,29564.74,42354.41,65279.53,6001.4,6424.98,42354.41,6001.4,6424.98,42354.41,8897.49,2100.75,29564.74,6001.4,6424.98,42354.41,29564.74,6001.4,6424.98,42354.41,42354.41,65279.53,8897.49,2100.75,29564.74,6001.4,6424.98,42354.41,8897.49,2100.75,29564.74,6001.4,6001.4,6424.98,42354.41,8897.49,2100.75,29564.74,6001.4,6424.98,42354.41,65279.53,8897.49,2100.75,29564.74,6001.4,6424.98,42354.41,2100.75,29564.74,6001.4,6424.98,42354.41,29564.74,6001.4,6424.98,42354.41,29564.74,6001.4,6424.98,42354.41,29564.74,6001.4,6424.98,42354.41,65279.53,8897.49,2100.75,29564.74,6001.4,6424.98,42354.41,2100.75,29564.74,6001.4,6424.98,42354.41,29564.74,6001.4,6424.98,42354.41,29564.74,6001.4,6424.98,42354.41,29564.74,6001.4,6424.98,42354.41,29564.74,6001.4,6424.98,42354.41,65279.53,8897.49,2100.75,29564.74,6001.4,6424.98,42354.41,2100.75,29564.74,6001.4,6424.98,42354.41,29564.74,6001.4,6424.98,42354.41,29564.74,6001.4,6424.98,42354.41,29564.74,6001.4,6424.98,42354.41,29564.74,6001.4,6424.98,42354.41,42354.41],\"coloraxis\":\"coloraxis\",\"pattern\":{\"shape\":\"\"}},\"name\":\"\",\"offsetgroup\":\"\",\"orientation\":\"v\",\"showlegend\":false,\"textposition\":\"auto\",\"x\":[\"United States\",\"Brazil\",\"India\",\"Russia\",\"Peru\",\"Mexico\",\"Spain\",\"South Africa\",\"Colombia\",\"United Kingdom\",\"Iran\",\"Chile\",\"Italy\",\"France\",\"Argentina\",\"Germany\",\"Turkey\",\"Saudi Arabia\",\"Pakistan\",\"Bangladesh\",\"Iraq\",\"Philippines\",\"China\",\"Indonesia\",\"Canada\",\"Qatar\",\"Israel\",\"Ukraine\",\"Belgium\",\"Ecuador\",\"Kazakhstan\",\"Netherlands\",\"Egypt\",\"Sweden\",\"Bolivia\",\"Romania\",\"Dominican Republic\",\"Kuwait\",\"Belarus\",\"Panama\",\"United Arab Emirates\",\"Oman\",\"Portugal\",\"Poland\",\"Singapore\",\"Morocco\",\"Japan\",\"Guatemala\",\"Switzerland\",\"Bahrain\",\"Honduras\",\"Nigeria\",\"Armenia\",\"Nepal\",\"Ireland\",\"Czech Republic\",\"Afghanistan\",\"Austria\",\"Ghana\",\"Algeria\",\"Ethiopia\",\"Venezuela\",\"Moldova\",\"Costa Rica\",\"Uzbekistan\",\"Kyrgyzstan\",\"Azerbaijan\",\"Serbia\",\"Puerto Rico\",\"South Korea\",\"Kenya\",\"Palestine\",\"Denmark\",\"Australia\",\"El Salvador\",\"Cameroon\",\"Paraguay\",\"Lebanon\",\"Bosnia and Herzegovina\",\"Cote d'Ivoire\",\"Norway\",\"Bulgaria\",\"Libya\",\"Malaysia\",\"Macedonia\",\"Hungary\",\"Sudan\",\"Senegal\",\"Finland\",\"Madagascar\",\"Greece\",\"Kosovo\",\"Croatia\",\"Democratic Republic of Congo\",\"Guinea\",\"Luxembourg\",\"Zambia\",\"Tajikistan\",\"Albania\",\"Gabon\",\"Haiti\",\"Tunisia\",\"Maldives\",\"Mauritania\",\"Slovakia\",\"Djibouti\",\"Jordan\",\"Namibia\",\"Montenegro\",\"Thailand\",\"Myanmar\",\"Zimbabwe\",\"Central African Republic\",\"Cuba\",\"Equatorial Guinea\",\"Slovenia\",\"Malawi\",\"Nicaragua\",\"Mozambique\",\"Somalia\",\"Lithuania\",\"Congo\",\"Cape Verde\",\"Uganda\",\"Sri Lanka\",\"Estonia\",\"Swaziland\",\"Georgia\",\"Iceland\",\"Mali\",\"Rwanda\",\"Jamaica\",\"Suriname\",\"South Sudan\",\"Guinea-Bissau\",\"Angola\",\"Sierra Leone\",\"Syria\",\"Latvia\",\"New Zealand\",\"Malta\",\"Benin\",\"Uruguay\",\"Bahamas\",\"Cyprus\",\"Burkina Faso\",\"Gambia\",\"Yemen\",\"Trinidad and Tobago\",\"Andorra\",\"Aruba\",\"Botswana\",\"Niger\",\"Togo\",\"Guyana\",\"Guam\",\"Liberia\",\"Chad\",\"San Marino\",\"Vietnam\",\"Sao Tome and Principe\",\"Lesotho\",\"Belize\",\"United States Virgin Islands\",\"Taiwan\",\"French Polynesia\",\"Tanzania\",\"Mauritius\",\"Jersey\",\"Isle of Man\",\"Faeroe Islands\",\"Comoros\",\"Guernsey\",\"Burundi\",\"Sint Maarten (Dutch part)\",\"Gibraltar\",\"Turks and Caicos Islands\",\"Mongolia\",\"Eritrea\",\"Cambodia\",\"Papua New Guinea\",\"Cayman Islands\",\"Brunei\",\"Bermuda\",\"Barbados\",\"Bhutan\",\"Monaco\",\"Liechtenstein\",\"Curacao\",\"Seychelles\",\"Antigua and Barbuda\",\"Saint Vincent and the Grenadines\",\"Northern Mariana Islands\",\"Bonaire Sint Eustatius and Saba\",\"Fiji\",\"Timor\",\"British Virgin Islands\",\"New Caledonia\",\"Grenada\",\"Saint Lucia\",\"Laos\",\"Dominica\",\"Saint Kitts and Nevis\",\"Greenland\",\"Falkland Islands\",\"Vatican\",\"Montserrat\",\"Anguilla\",\"Solomon Islands\",\"Hong Kong\"],\"xaxis\":\"x\",\"y\":[746014098.0,425704517.0,407771615.0,132888951.0,74882695.0,74347548.0,73717676.0,63027659.0,60543682.0,59475032.0,52421884.0,51268034.0,50752853.0,50084335.0,47155234.0,42447678.0,41431948.0,38585191.0,37738077.0,35266178.0,25280332.0,22409936.0,21632319.0,21570149.0,20902374.0,16351440.0,16202474.0,15805665.0,15192468.0,14408757.0,13194863.0,13026629.0,12422845.0,11910109.0,11858838.0,10672859.0,10649646.0,10622205.0,10595186.0,10371724.0,10247326.0,10060093.0,9266263.0,9239657.0,8191161.0,7839270.0,7659484.0,7644426.0,7552067.0,6549995.0,6545499.0,6107371.0,5474629.0,5243653.0,5239798.0,5213980.0,5126433.0,4909197.0,4900649.0,4893999.0,4876417.0,4839834.0,4632482.0,4631835.0,4421215.0,4287847.0,4236782.0,3984174.0,3586463.0,3333075.0,3277734.0,3249458.0,3030088.0,3012377.0,2573206.0,2476502.0,2265640.0,2220699.0,2200057.0,2132883.0,1985889.0,1890380.0,1817274.0,1774181.0,1724220.0,1708798.0,1663545.0,1586747.0,1458484.0,1443321.0,1421470.0,1345940.0,1314031.0,1271391.0,1195836.0,1146724.0,1129913.0,1117391.0,1071951.0,1031803.0,1023155.0,1000626.0,844040.0,799222.0,798665.0,781771.0,716514.0,681299.0,675912.0,655703.0,644209.0,593699.0,593048.0,581546.0,557355.0,547075.0,536447.0,524410.0,510578.0,491145.0,488057.0,473368.0,463888.0,448728.0,446643.0,445402.0,444238.0,431689.0,421210.0,390637.0,388775.0,370890.0,358632.0,333500.0,306564.0,304005.0,268396.0,267902.0,255964.0,253203.0,251261.0,245893.0,239884.0,237908.0,236673.0,231452.0,229521.0,228925.0,225550.0,223576.0,215110.0,205758.0,199978.0,169903.0,166917.0,160975.0,159880.0,154173.0,134994.0,122618.0,121909.0,107948.0,106383.0,98536.0,97074.0,95388.0,91526.0,69524.0,66777.0,64935.0,56893.0,52437.0,49814.0,49745.0,48026.0,45340.0,44432.0,42465.0,40026.0,39539.0,35966.0,33173.0,30140.0,28876.0,24998.0,22847.0,21511.0,19885.0,19777.0,14701.0,12619.0,7824.0,7784.0,5080.0,4742.0,4697.0,4605.0,4495.0,4470.0,4450.0,4039.0,3977.0,3246.0,2678.0,2467.0,2415.0,2383.0,614.0,11.0,0.0],\"yaxis\":\"y\",\"type\":\"bar\"}],                        {\"template\":{\"data\":{\"bar\":[{\"error_x\":{\"color\":\"#2a3f5f\"},\"error_y\":{\"color\":\"#2a3f5f\"},\"marker\":{\"line\":{\"color\":\"#E5ECF6\",\"width\":0.5},\"pattern\":{\"fillmode\":\"overlay\",\"size\":10,\"solidity\":0.2}},\"type\":\"bar\"}],\"barpolar\":[{\"marker\":{\"line\":{\"color\":\"#E5ECF6\",\"width\":0.5},\"pattern\":{\"fillmode\":\"overlay\",\"size\":10,\"solidity\":0.2}},\"type\":\"barpolar\"}],\"carpet\":[{\"aaxis\":{\"endlinecolor\":\"#2a3f5f\",\"gridcolor\":\"white\",\"linecolor\":\"white\",\"minorgridcolor\":\"white\",\"startlinecolor\":\"#2a3f5f\"},\"baxis\":{\"endlinecolor\":\"#2a3f5f\",\"gridcolor\":\"white\",\"linecolor\":\"white\",\"minorgridcolor\":\"white\",\"startlinecolor\":\"#2a3f5f\"},\"type\":\"carpet\"}],\"choropleth\":[{\"colorbar\":{\"outlinewidth\":0,\"ticks\":\"\"},\"type\":\"choropleth\"}],\"contour\":[{\"colorbar\":{\"outlinewidth\":0,\"ticks\":\"\"},\"colorscale\":[[0.0,\"#0d0887\"],[0.1111111111111111,\"#46039f\"],[0.2222222222222222,\"#7201a8\"],[0.3333333333333333,\"#9c179e\"],[0.4444444444444444,\"#bd3786\"],[0.5555555555555556,\"#d8576b\"],[0.6666666666666666,\"#ed7953\"],[0.7777777777777778,\"#fb9f3a\"],[0.8888888888888888,\"#fdca26\"],[1.0,\"#f0f921\"]],\"type\":\"contour\"}],\"contourcarpet\":[{\"colorbar\":{\"outlinewidth\":0,\"ticks\":\"\"},\"type\":\"contourcarpet\"}],\"heatmap\":[{\"colorbar\":{\"outlinewidth\":0,\"ticks\":\"\"},\"colorscale\":[[0.0,\"#0d0887\"],[0.1111111111111111,\"#46039f\"],[0.2222222222222222,\"#7201a8\"],[0.3333333333333333,\"#9c179e\"],[0.4444444444444444,\"#bd3786\"],[0.5555555555555556,\"#d8576b\"],[0.6666666666666666,\"#ed7953\"],[0.7777777777777778,\"#fb9f3a\"],[0.8888888888888888,\"#fdca26\"],[1.0,\"#f0f921\"]],\"type\":\"heatmap\"}],\"heatmapgl\":[{\"colorbar\":{\"outlinewidth\":0,\"ticks\":\"\"},\"colorscale\":[[0.0,\"#0d0887\"],[0.1111111111111111,\"#46039f\"],[0.2222222222222222,\"#7201a8\"],[0.3333333333333333,\"#9c179e\"],[0.4444444444444444,\"#bd3786\"],[0.5555555555555556,\"#d8576b\"],[0.6666666666666666,\"#ed7953\"],[0.7777777777777778,\"#fb9f3a\"],[0.8888888888888888,\"#fdca26\"],[1.0,\"#f0f921\"]],\"type\":\"heatmapgl\"}],\"histogram\":[{\"marker\":{\"pattern\":{\"fillmode\":\"overlay\",\"size\":10,\"solidity\":0.2}},\"type\":\"histogram\"}],\"histogram2d\":[{\"colorbar\":{\"outlinewidth\":0,\"ticks\":\"\"},\"colorscale\":[[0.0,\"#0d0887\"],[0.1111111111111111,\"#46039f\"],[0.2222222222222222,\"#7201a8\"],[0.3333333333333333,\"#9c179e\"],[0.4444444444444444,\"#bd3786\"],[0.5555555555555556,\"#d8576b\"],[0.6666666666666666,\"#ed7953\"],[0.7777777777777778,\"#fb9f3a\"],[0.8888888888888888,\"#fdca26\"],[1.0,\"#f0f921\"]],\"type\":\"histogram2d\"}],\"histogram2dcontour\":[{\"colorbar\":{\"outlinewidth\":0,\"ticks\":\"\"},\"colorscale\":[[0.0,\"#0d0887\"],[0.1111111111111111,\"#46039f\"],[0.2222222222222222,\"#7201a8\"],[0.3333333333333333,\"#9c179e\"],[0.4444444444444444,\"#bd3786\"],[0.5555555555555556,\"#d8576b\"],[0.6666666666666666,\"#ed7953\"],[0.7777777777777778,\"#fb9f3a\"],[0.8888888888888888,\"#fdca26\"],[1.0,\"#f0f921\"]],\"type\":\"histogram2dcontour\"}],\"mesh3d\":[{\"colorbar\":{\"outlinewidth\":0,\"ticks\":\"\"},\"type\":\"mesh3d\"}],\"parcoords\":[{\"line\":{\"colorbar\":{\"outlinewidth\":0,\"ticks\":\"\"}},\"type\":\"parcoords\"}],\"pie\":[{\"automargin\":true,\"type\":\"pie\"}],\"scatter\":[{\"marker\":{\"colorbar\":{\"outlinewidth\":0,\"ticks\":\"\"}},\"type\":\"scatter\"}],\"scatter3d\":[{\"line\":{\"colorbar\":{\"outlinewidth\":0,\"ticks\":\"\"}},\"marker\":{\"colorbar\":{\"outlinewidth\":0,\"ticks\":\"\"}},\"type\":\"scatter3d\"}],\"scattercarpet\":[{\"marker\":{\"colorbar\":{\"outlinewidth\":0,\"ticks\":\"\"}},\"type\":\"scattercarpet\"}],\"scattergeo\":[{\"marker\":{\"colorbar\":{\"outlinewidth\":0,\"ticks\":\"\"}},\"type\":\"scattergeo\"}],\"scattergl\":[{\"marker\":{\"colorbar\":{\"outlinewidth\":0,\"ticks\":\"\"}},\"type\":\"scattergl\"}],\"scattermapbox\":[{\"marker\":{\"colorbar\":{\"outlinewidth\":0,\"ticks\":\"\"}},\"type\":\"scattermapbox\"}],\"scatterpolar\":[{\"marker\":{\"colorbar\":{\"outlinewidth\":0,\"ticks\":\"\"}},\"type\":\"scatterpolar\"}],\"scatterpolargl\":[{\"marker\":{\"colorbar\":{\"outlinewidth\":0,\"ticks\":\"\"}},\"type\":\"scatterpolargl\"}],\"scatterternary\":[{\"marker\":{\"colorbar\":{\"outlinewidth\":0,\"ticks\":\"\"}},\"type\":\"scatterternary\"}],\"surface\":[{\"colorbar\":{\"outlinewidth\":0,\"ticks\":\"\"},\"colorscale\":[[0.0,\"#0d0887\"],[0.1111111111111111,\"#46039f\"],[0.2222222222222222,\"#7201a8\"],[0.3333333333333333,\"#9c179e\"],[0.4444444444444444,\"#bd3786\"],[0.5555555555555556,\"#d8576b\"],[0.6666666666666666,\"#ed7953\"],[0.7777777777777778,\"#fb9f3a\"],[0.8888888888888888,\"#fdca26\"],[1.0,\"#f0f921\"]],\"type\":\"surface\"}],\"table\":[{\"cells\":{\"fill\":{\"color\":\"#EBF0F8\"},\"line\":{\"color\":\"white\"}},\"header\":{\"fill\":{\"color\":\"#C8D4E3\"},\"line\":{\"color\":\"white\"}},\"type\":\"table\"}]},\"layout\":{\"annotationdefaults\":{\"arrowcolor\":\"#2a3f5f\",\"arrowhead\":0,\"arrowwidth\":1},\"autotypenumbers\":\"strict\",\"coloraxis\":{\"colorbar\":{\"outlinewidth\":0,\"ticks\":\"\"}},\"colorscale\":{\"diverging\":[[0,\"#8e0152\"],[0.1,\"#c51b7d\"],[0.2,\"#de77ae\"],[0.3,\"#f1b6da\"],[0.4,\"#fde0ef\"],[0.5,\"#f7f7f7\"],[0.6,\"#e6f5d0\"],[0.7,\"#b8e186\"],[0.8,\"#7fbc41\"],[0.9,\"#4d9221\"],[1,\"#276419\"]],\"sequential\":[[0.0,\"#0d0887\"],[0.1111111111111111,\"#46039f\"],[0.2222222222222222,\"#7201a8\"],[0.3333333333333333,\"#9c179e\"],[0.4444444444444444,\"#bd3786\"],[0.5555555555555556,\"#d8576b\"],[0.6666666666666666,\"#ed7953\"],[0.7777777777777778,\"#fb9f3a\"],[0.8888888888888888,\"#fdca26\"],[1.0,\"#f0f921\"]],\"sequentialminus\":[[0.0,\"#0d0887\"],[0.1111111111111111,\"#46039f\"],[0.2222222222222222,\"#7201a8\"],[0.3333333333333333,\"#9c179e\"],[0.4444444444444444,\"#bd3786\"],[0.5555555555555556,\"#d8576b\"],[0.6666666666666666,\"#ed7953\"],[0.7777777777777778,\"#fb9f3a\"],[0.8888888888888888,\"#fdca26\"],[1.0,\"#f0f921\"]]},\"colorway\":[\"#636efa\",\"#EF553B\",\"#00cc96\",\"#ab63fa\",\"#FFA15A\",\"#19d3f3\",\"#FF6692\",\"#B6E880\",\"#FF97FF\",\"#FECB52\"],\"font\":{\"color\":\"#2a3f5f\"},\"geo\":{\"bgcolor\":\"white\",\"lakecolor\":\"white\",\"landcolor\":\"#E5ECF6\",\"showlakes\":true,\"showland\":true,\"subunitcolor\":\"white\"},\"hoverlabel\":{\"align\":\"left\"},\"hovermode\":\"closest\",\"mapbox\":{\"style\":\"light\"},\"paper_bgcolor\":\"white\",\"plot_bgcolor\":\"#E5ECF6\",\"polar\":{\"angularaxis\":{\"gridcolor\":\"white\",\"linecolor\":\"white\",\"ticks\":\"\"},\"bgcolor\":\"#E5ECF6\",\"radialaxis\":{\"gridcolor\":\"white\",\"linecolor\":\"white\",\"ticks\":\"\"}},\"scene\":{\"xaxis\":{\"backgroundcolor\":\"#E5ECF6\",\"gridcolor\":\"white\",\"gridwidth\":2,\"linecolor\":\"white\",\"showbackground\":true,\"ticks\":\"\",\"zerolinecolor\":\"white\"},\"yaxis\":{\"backgroundcolor\":\"#E5ECF6\",\"gridcolor\":\"white\",\"gridwidth\":2,\"linecolor\":\"white\",\"showbackground\":true,\"ticks\":\"\",\"zerolinecolor\":\"white\"},\"zaxis\":{\"backgroundcolor\":\"#E5ECF6\",\"gridcolor\":\"white\",\"gridwidth\":2,\"linecolor\":\"white\",\"showbackground\":true,\"ticks\":\"\",\"zerolinecolor\":\"white\"}},\"shapedefaults\":{\"line\":{\"color\":\"#2a3f5f\"}},\"ternary\":{\"aaxis\":{\"gridcolor\":\"white\",\"linecolor\":\"white\",\"ticks\":\"\"},\"baxis\":{\"gridcolor\":\"white\",\"linecolor\":\"white\",\"ticks\":\"\"},\"bgcolor\":\"#E5ECF6\",\"caxis\":{\"gridcolor\":\"white\",\"linecolor\":\"white\",\"ticks\":\"\"}},\"title\":{\"x\":0.05},\"xaxis\":{\"automargin\":true,\"gridcolor\":\"white\",\"linecolor\":\"white\",\"ticks\":\"\",\"title\":{\"standoff\":15},\"zerolinecolor\":\"white\",\"zerolinewidth\":2},\"yaxis\":{\"automargin\":true,\"gridcolor\":\"white\",\"linecolor\":\"white\",\"ticks\":\"\",\"title\":{\"standoff\":15},\"zerolinecolor\":\"white\",\"zerolinewidth\":2}}},\"xaxis\":{\"anchor\":\"y\",\"domain\":[0.0,1.0],\"title\":{\"text\":\"Country\"}},\"yaxis\":{\"anchor\":\"x\",\"domain\":[0.0,1.0],\"title\":{\"text\":\"Total Cases\"}},\"coloraxis\":{\"colorbar\":{\"title\":{\"text\":\"GDP Before Covid\"}},\"colorscale\":[[0.0,\"#0d0887\"],[0.1111111111111111,\"#46039f\"],[0.2222222222222222,\"#7201a8\"],[0.3333333333333333,\"#9c179e\"],[0.4444444444444444,\"#bd3786\"],[0.5555555555555556,\"#d8576b\"],[0.6666666666666666,\"#ed7953\"],[0.7777777777777778,\"#fb9f3a\"],[0.8888888888888888,\"#fdca26\"],[1.0,\"#f0f921\"]]},\"legend\":{\"tracegroupgap\":0},\"title\":{\"text\":\"GDP Per Capita before Covid\"},\"barmode\":\"relative\",\"height\":550},                        {\"responsive\": true}                    ).then(function(){\n",
       "                            \n",
       "var gd = document.getElementById('7e6f25fe-9ef6-4b03-97dd-a3f78fce3bbc');\n",
       "var x = new MutationObserver(function (mutations, observer) {{\n",
       "        var display = window.getComputedStyle(gd).display;\n",
       "        if (!display || display === 'none') {{\n",
       "            console.log([gd, 'removed!']);\n",
       "            Plotly.purge(gd);\n",
       "            observer.disconnect();\n",
       "        }}\n",
       "}});\n",
       "\n",
       "// Listen for the removal of the full notebook cells\n",
       "var notebookContainer = gd.closest('#notebook-container');\n",
       "if (notebookContainer) {{\n",
       "    x.observe(notebookContainer, {childList: true});\n",
       "}}\n",
       "\n",
       "// Listen for the clearing of the current output cell\n",
       "var outputEl = gd.closest('.output');\n",
       "if (outputEl) {{\n",
       "    x.observe(outputEl, {childList: true});\n",
       "}}\n",
       "\n",
       "                        })                };                });            </script>        </div>"
      ]
     },
     "metadata": {},
     "output_type": "display_data"
    }
   ],
   "source": [
    "seventh"
   ]
  },
  {
   "cell_type": "code",
   "execution_count": 97,
   "id": "1ec2802a",
   "metadata": {},
   "outputs": [],
   "source": [
    "eight= px.bar(deta, x= deta['Country'], y= deta['Total Cases'], color= deta['GDP After Covid'], hover_data= ['Population', 'Total Deaths'],height= 550, title= 'GDP Per Capita after Covid')"
   ]
  },
  {
   "cell_type": "code",
   "execution_count": 98,
   "id": "b868f1a7",
   "metadata": {
    "scrolled": true
   },
   "outputs": [
    {
     "data": {
      "application/vnd.plotly.v1+json": {
       "config": {
        "plotlyServerURL": "https://plot.ly"
       },
       "data": [
        {
         "alignmentgroup": "True",
         "customdata": [
          [
           331002647,
           26477574
          ],
          [
           212559409,
           14340567
          ],
          [
           1380004385,
           7247327
          ],
          [
           145934460,
           2131571
          ],
          [
           26355046.972789116,
           3020038
          ],
          [
           128932753,
           7295850
          ],
          [
           46595753.12585034,
           5510624
          ],
          [
           51642940.952380955,
           1357682
          ],
          [
           39633266.789115645,
           1936134
          ],
          [
           67886004,
           7249573
          ],
          [
           83992953,
           2914070
          ],
          [
           14889836.261904761,
           1283880
          ],
          [
           60461828,
           6664225
          ],
          [
           65273512,
           5633444
          ],
          [
           38739237.428571425,
           1077426
          ],
          [
           83783945,
           1640691
          ],
          [
           63110866.46258503,
           1049757
          ],
          [
           27472167.156462584,
           442507
          ],
          [
           220892331,
           789557
          ],
          [
           129398800.92857143,
           484534
          ],
          [
           40222503,
           744253
          ],
          [
           109581085,
           448665
          ],
          [
           1439323774,
           1066939
          ],
          [
           273523621,
           916111
          ],
          [
           37742157,
           1455549
          ],
          [
           2881060,
           23820
          ],
          [
           8655541,
           126278
          ],
          [
           33469713.520408165,
           343334
          ],
          [
           11510775.074829932,
           1798461
          ],
          [
           17643060,
           1083749
          ],
          [
           14114463.425170068,
           161480
          ],
          [
           17134873,
           1142410
          ],
          [
           102334403,
           644416
          ],
          [
           9996216.224489795,
           941063
          ],
          [
           8814328.020408163,
           578559
          ],
          [
           19237682,
           464952
          ],
          [
           10847904,
           209024
          ],
          [
           4270563,
           69104
          ],
          [
           9449321,
           88409
          ],
          [
           3302118.3673469387,
           222435
          ],
          [
           9890400,
           58035
          ],
          [
           5106622,
           73391
          ],
          [
           8081063.710884354,
           302612
          ],
          [
           29350428.36734694,
           304001
          ],
          [
           5850343,
           4691
          ],
          [
           32139805.605442178,
           142270
          ],
          [
           126476458,
           194918
          ],
          [
           14990576.469387755,
           281588
          ],
          [
           8654618,
           320693
          ],
          [
           1701583,
           22413
          ],
          [
           7411611.428571428,
           200844
          ],
          [
           206139587,
           125473
          ],
          [
           2963234,
           102039
          ],
          [
           29136808,
           27737
          ],
          [
           4937796,
           310201
          ],
          [
           10708982,
           79880
          ],
          [
           38928341,
           165875
          ],
          [
           9006400,
           134945
          ],
          [
           23251863.605442178,
           29143
          ],
          [
           43851043,
           206429
          ],
          [
           86418203.54761904,
           77686
          ],
          [
           21181875.908163264,
           40840
          ],
          [
           3073495.619047619,
           129946
          ],
          [
           3915883.551020408,
           50352
          ],
          [
           24817297.217687074,
           31903
          ],
          [
           4771092.057823129,
           114922
          ],
          [
           10139175,
           59495
          ],
          [
           5485337.591836735,
           87503
          ],
          [
           2004534.149659864,
           54940
          ],
          [
           51269183,
           63333
          ],
          [
           41700191.8367347,
           59485
          ],
          [
           3938848.4081632653,
           21522
          ],
          [
           5792203,
           113280
          ],
          [
           25499881,
           65029
          ],
          [
           4743310.255102041,
           71957
          ],
          [
           20135128.136054423,
           56606
          ],
          [
           5507089.489795919,
           42850
          ],
          [
           6825442,
           22983
          ],
          [
           2488509.336734694,
           70578
          ],
          [
           19738845.23809524,
           14220
          ],
          [
           5421242,
           47158
          ],
          [
           5294053.333333333,
           72850
          ],
          [
           5375496.632653061,
           29730
          ],
          [
           32365998,
           24012
          ],
          [
           2083380,
           74066
          ],
          [
           7557416.666666667,
           110142
          ],
          [
           32812378.163265307,
           102825
          ],
          [
           13383753.57142857,
           30320
          ],
          [
           5540718,
           58377
          ],
          [
           20061860.704081632,
           17744
          ],
          [
           10423056,
           44805
          ],
          [
           1446293.469387755,
           47571
          ],
          [
           4105268,
           28757
          ],
          [
           67323368.31292517,
           32040
          ],
          [
           9782589.959183674,
           7283
          ],
          [
           625976,
           21907
          ],
          [
           13444049.455782313,
           26475
          ],
          [
           5579844.979591837,
           9730
          ],
          [
           2202397.9591836734,
           31056
          ],
          [
           1665510.7482993198,
           6877
          ],
          [
           8299802.93197279,
           23891
          ],
          [
           9085060.095238095,
           19025
          ],
          [
           411841.5238095238,
           3054
          ],
          [
           3463522.2448979593,
           19810
          ],
          [
           4234008.857142857,
           6055
          ],
          [
           722518.4693877551,
           8006
          ],
          [
           7877934.62585034,
           5653
          ],
          [
           1892723.142857143,
           6634
          ],
          [
           461433.306122449,
           11356
          ],
          [
           69799978,
           11162
          ],
          [
           39234273.22448979,
           13973
          ],
          [
           10768038.948979592,
           15984
          ],
          [
           3581253.5782312923,
           7108
          ],
          [
           8437173.142857144,
           16774
          ],
          [
           1045080.6632653062,
           8947
          ],
          [
           1612232.9795918367,
           22165
          ],
          [
           13338914.200680273,
           15480
          ],
          [
           4844486.768707483,
           16410
          ],
          [
           22431621.717687074,
           3396
          ],
          [
           11730709.261904761,
           15001
          ],
          [
           2722291,
           14345
          ],
          [
           4091646.448979592,
           9298
          ],
          [
           402807.63265306124,
           4749
          ],
          [
           32983306.12244898,
           3748
          ],
          [
           21413250,
           2108
          ],
          [
           1326539,
           11802
          ],
          [
           864203.7959183673,
           8179
          ],
          [
           3989175,
           4013
          ],
          [
           341250,
           1968
          ],
          [
           14327120.653061224,
           18813
          ],
          [
           9648074.051020408,
           1744
          ],
          [
           2225906.738095238,
           5653
          ],
          [
           427005.70068027213,
           6961
          ],
          [
           7500559.908163265,
           6063
          ],
          [
           1385631.2448979593,
           4199
          ],
          [
           23699485.768707484,
           11820
          ],
          [
           5480785.6122448975,
           10036
          ],
          [
           12559995.329931973,
           12098
          ],
          [
           1501262.8163265307,
           5376
          ],
          [
           4822233,
           4145
          ],
          [
           385971.1666666667,
           2409
          ],
          [
           8948074.714285715,
           4374
          ],
          [
           2587572.1530612246,
           6083
          ],
          [
           288916.89795918367,
           5998
          ],
          [
           661393.1224489796,
           3735
          ],
          [
           15713008.292517006,
           10248
          ],
          [
           1775508.2448979593,
           7201
          ],
          [
           19579632.054421768,
           64304
          ],
          [
           1051998.336734694,
           4519
          ],
          [
           59394.183673469386,
           9850
          ],
          [
           78440.32653061225,
           1624
          ],
          [
           1615742.3469387756,
           895
          ],
          [
           17537460.775510203,
           11676
          ],
          [
           6476562.959183673,
           4197
          ],
          [
           585906.193877551,
           5783
          ],
          [
           123429.74489795919,
           2715
          ],
          [
           3733047.3095238097,
           10087
          ],
          [
           11956237.503401361,
           12212
          ],
          [
           33938,
           8596
          ],
          [
           97338583,
           2318
          ],
          [
           144616.44217687074,
           2198
          ],
          [
           1151278.2857142857,
           2680
          ],
          [
           284015,
           1613
          ],
          [
           74587.85714285714,
           1833
          ],
          [
           23816775,
           1423
          ],
          [
           205422.9931972789,
           260
          ],
          [
           44089538.166666664,
           3733
          ],
          [
           925707.9523809524,
           1988
          ],
          [
           73570.14285714286,
           5527
          ],
          [
           61604.816326530614,
           4310
          ],
          [
           37895.30612244898,
           0
          ],
          [
           505784.8469387755,
           920
          ],
          [
           48806.55782312925,
           2450
          ],
          [
           8169856.333333333,
           188
          ],
          [
           32963.71428571428,
           3146
          ],
          [
           24523.380952380954,
           0
          ],
          [
           27524.020408163266,
           476
          ],
          [
           2453143.673469388,
           0
          ],
          [
           2557287.4965986395,
           0
          ],
          [
           16718971,
           0
          ],
          [
           6482029.765306123,
           417
          ],
          [
           47837.00680272109,
           213
          ],
          [
           331832.34353741497,
           475
          ],
          [
           45327.965986394556,
           1631
          ],
          [
           211129.7142857143,
           1321
          ],
          [
           585270.3265306122,
           0
          ],
          [
           39244,
           192
          ],
          [
           29056.761904761905,
           198
          ],
          [
           120563.26530612246,
           207
          ],
          [
           73253.26530612246,
           0
          ],
          [
           71280.92517006803,
           568
          ],
          [
           81512.08163265306,
           0
          ],
          [
           39741.73809523809,
           396
          ],
          [
           17926.602040816328,
           48
          ],
          [
           804970.1224489796,
           132
          ],
          [
           950713.2789115646,
           0
          ],
          [
           21289.316326530614,
           183
          ],
          [
           206835.31632653062,
           0
          ],
          [
           80753.43197278911,
           0
          ],
          [
           136784.8673469388,
           0
          ],
          [
           5172078.925170068,
           0
          ],
          [
           51667.010204081635,
           0
          ],
          [
           37632.43537414966,
           0
          ],
          [
           41323.836734693876,
           0
          ],
          [
           2357.5408163265306,
           0
          ],
          [
           610.8775510204082,
           0
          ],
          [
           3621.7244897959185,
           177
          ],
          [
           10562.632653061224,
           0
          ],
          [
           9345.278911564626,
           0
          ],
          [
           1300497.918367347,
           0
          ]
         ],
         "hovertemplate": "Country=%{x}<br>Total Cases=%{y}<br>Population=%{customdata[0]}<br>Total Deaths=%{customdata[1]}<br>GDP Before Covid=%{marker.color}<extra></extra>",
         "legendgroup": "",
         "marker": {
          "color": [
           29564.74,
           6001.4,
           6424.98,
           2100.75,
           65279.53,
           6424.98,
           8897.49,
           42354.41,
           8897.49,
           2100.75,
           65279.53,
           8897.49,
           2100.75,
           8897.49,
           2100.75,
           42354.41,
           29564.74,
           6001.4,
           29564.74,
           6001.4,
           6424.98,
           42354.41,
           65279.53,
           8897.49,
           2100.75,
           29564.74,
           6001.4,
           6424.98,
           42354.41,
           65279.53,
           8897.49,
           2100.75,
           29564.74,
           6001.4,
           6424.98,
           42354.41,
           65279.53,
           8897.49,
           2100.75,
           29564.74,
           6001.4,
           6424.98,
           42354.41,
           65279.53,
           8897.49,
           2100.75,
           29564.74,
           6001.4,
           6424.98,
           42354.41,
           42354.41,
           65279.53,
           8897.49,
           2100.75,
           29564.74,
           6001.4,
           6424.98,
           42354.41,
           65279.53,
           8897.49,
           2100.75,
           42354.41,
           65279.53,
           8897.49,
           2100.75,
           42354.41,
           65279.53,
           8897.49,
           2100.75,
           42354.41,
           65279.53,
           8897.49,
           2100.75,
           42354.41,
           65279.53,
           8897.49,
           42354.41,
           42354.41,
           65279.53,
           42354.41,
           65279.53,
           8897.49,
           2100.75,
           42354.41,
           65279.53,
           42354.41,
           65279.53,
           8897.49,
           2100.75,
           29564.74,
           42354.41,
           65279.53,
           6001.4,
           6424.98,
           42354.41,
           6001.4,
           6424.98,
           42354.41,
           8897.49,
           2100.75,
           29564.74,
           6001.4,
           6424.98,
           42354.41,
           29564.74,
           6001.4,
           6424.98,
           42354.41,
           42354.41,
           65279.53,
           8897.49,
           2100.75,
           29564.74,
           6001.4,
           6424.98,
           42354.41,
           8897.49,
           2100.75,
           29564.74,
           6001.4,
           6001.4,
           6424.98,
           42354.41,
           8897.49,
           2100.75,
           29564.74,
           6001.4,
           6424.98,
           42354.41,
           65279.53,
           8897.49,
           2100.75,
           29564.74,
           6001.4,
           6424.98,
           42354.41,
           2100.75,
           29564.74,
           6001.4,
           6424.98,
           42354.41,
           29564.74,
           6001.4,
           6424.98,
           42354.41,
           29564.74,
           6001.4,
           6424.98,
           42354.41,
           29564.74,
           6001.4,
           6424.98,
           42354.41,
           65279.53,
           8897.49,
           2100.75,
           29564.74,
           6001.4,
           6424.98,
           42354.41,
           2100.75,
           29564.74,
           6001.4,
           6424.98,
           42354.41,
           29564.74,
           6001.4,
           6424.98,
           42354.41,
           29564.74,
           6001.4,
           6424.98,
           42354.41,
           29564.74,
           6001.4,
           6424.98,
           42354.41,
           29564.74,
           6001.4,
           6424.98,
           42354.41,
           65279.53,
           8897.49,
           2100.75,
           29564.74,
           6001.4,
           6424.98,
           42354.41,
           2100.75,
           29564.74,
           6001.4,
           6424.98,
           42354.41,
           29564.74,
           6001.4,
           6424.98,
           42354.41,
           29564.74,
           6001.4,
           6424.98,
           42354.41,
           29564.74,
           6001.4,
           6424.98,
           42354.41,
           29564.74,
           6001.4,
           6424.98,
           42354.41,
           42354.41
          ],
          "coloraxis": "coloraxis",
          "pattern": {
           "shape": ""
          }
         },
         "name": "",
         "offsetgroup": "",
         "orientation": "v",
         "showlegend": false,
         "textposition": "auto",
         "type": "bar",
         "x": [
          "United States",
          "Brazil",
          "India",
          "Russia",
          "Peru",
          "Mexico",
          "Spain",
          "South Africa",
          "Colombia",
          "United Kingdom",
          "Iran",
          "Chile",
          "Italy",
          "France",
          "Argentina",
          "Germany",
          "Turkey",
          "Saudi Arabia",
          "Pakistan",
          "Bangladesh",
          "Iraq",
          "Philippines",
          "China",
          "Indonesia",
          "Canada",
          "Qatar",
          "Israel",
          "Ukraine",
          "Belgium",
          "Ecuador",
          "Kazakhstan",
          "Netherlands",
          "Egypt",
          "Sweden",
          "Bolivia",
          "Romania",
          "Dominican Republic",
          "Kuwait",
          "Belarus",
          "Panama",
          "United Arab Emirates",
          "Oman",
          "Portugal",
          "Poland",
          "Singapore",
          "Morocco",
          "Japan",
          "Guatemala",
          "Switzerland",
          "Bahrain",
          "Honduras",
          "Nigeria",
          "Armenia",
          "Nepal",
          "Ireland",
          "Czech Republic",
          "Afghanistan",
          "Austria",
          "Ghana",
          "Algeria",
          "Ethiopia",
          "Venezuela",
          "Moldova",
          "Costa Rica",
          "Uzbekistan",
          "Kyrgyzstan",
          "Azerbaijan",
          "Serbia",
          "Puerto Rico",
          "South Korea",
          "Kenya",
          "Palestine",
          "Denmark",
          "Australia",
          "El Salvador",
          "Cameroon",
          "Paraguay",
          "Lebanon",
          "Bosnia and Herzegovina",
          "Cote d'Ivoire",
          "Norway",
          "Bulgaria",
          "Libya",
          "Malaysia",
          "Macedonia",
          "Hungary",
          "Sudan",
          "Senegal",
          "Finland",
          "Madagascar",
          "Greece",
          "Kosovo",
          "Croatia",
          "Democratic Republic of Congo",
          "Guinea",
          "Luxembourg",
          "Zambia",
          "Tajikistan",
          "Albania",
          "Gabon",
          "Haiti",
          "Tunisia",
          "Maldives",
          "Mauritania",
          "Slovakia",
          "Djibouti",
          "Jordan",
          "Namibia",
          "Montenegro",
          "Thailand",
          "Myanmar",
          "Zimbabwe",
          "Central African Republic",
          "Cuba",
          "Equatorial Guinea",
          "Slovenia",
          "Malawi",
          "Nicaragua",
          "Mozambique",
          "Somalia",
          "Lithuania",
          "Congo",
          "Cape Verde",
          "Uganda",
          "Sri Lanka",
          "Estonia",
          "Swaziland",
          "Georgia",
          "Iceland",
          "Mali",
          "Rwanda",
          "Jamaica",
          "Suriname",
          "South Sudan",
          "Guinea-Bissau",
          "Angola",
          "Sierra Leone",
          "Syria",
          "Latvia",
          "New Zealand",
          "Malta",
          "Benin",
          "Uruguay",
          "Bahamas",
          "Cyprus",
          "Burkina Faso",
          "Gambia",
          "Yemen",
          "Trinidad and Tobago",
          "Andorra",
          "Aruba",
          "Botswana",
          "Niger",
          "Togo",
          "Guyana",
          "Guam",
          "Liberia",
          "Chad",
          "San Marino",
          "Vietnam",
          "Sao Tome and Principe",
          "Lesotho",
          "Belize",
          "United States Virgin Islands",
          "Taiwan",
          "French Polynesia",
          "Tanzania",
          "Mauritius",
          "Jersey",
          "Isle of Man",
          "Faeroe Islands",
          "Comoros",
          "Guernsey",
          "Burundi",
          "Sint Maarten (Dutch part)",
          "Gibraltar",
          "Turks and Caicos Islands",
          "Mongolia",
          "Eritrea",
          "Cambodia",
          "Papua New Guinea",
          "Cayman Islands",
          "Brunei",
          "Bermuda",
          "Barbados",
          "Bhutan",
          "Monaco",
          "Liechtenstein",
          "Curacao",
          "Seychelles",
          "Antigua and Barbuda",
          "Saint Vincent and the Grenadines",
          "Northern Mariana Islands",
          "Bonaire Sint Eustatius and Saba",
          "Fiji",
          "Timor",
          "British Virgin Islands",
          "New Caledonia",
          "Grenada",
          "Saint Lucia",
          "Laos",
          "Dominica",
          "Saint Kitts and Nevis",
          "Greenland",
          "Falkland Islands",
          "Vatican",
          "Montserrat",
          "Anguilla",
          "Solomon Islands",
          "Hong Kong"
         ],
         "xaxis": "x",
         "y": [
          746014098,
          425704517,
          407771615,
          132888951,
          74882695,
          74347548,
          73717676,
          63027659,
          60543682,
          59475032,
          52421884,
          51268034,
          50752853,
          50084335,
          47155234,
          42447678,
          41431948,
          38585191,
          37738077,
          35266178,
          25280332,
          22409936,
          21632319,
          21570149,
          20902374,
          16351440,
          16202474,
          15805665,
          15192468,
          14408757,
          13194863,
          13026629,
          12422845,
          11910109,
          11858838,
          10672859,
          10649646,
          10622205,
          10595186,
          10371724,
          10247326,
          10060093,
          9266263,
          9239657,
          8191161,
          7839270,
          7659484,
          7644426,
          7552067,
          6549995,
          6545499,
          6107371,
          5474629,
          5243653,
          5239798,
          5213980,
          5126433,
          4909197,
          4900649,
          4893999,
          4876417,
          4839834,
          4632482,
          4631835,
          4421215,
          4287847,
          4236782,
          3984174,
          3586463,
          3333075,
          3277734,
          3249458,
          3030088,
          3012377,
          2573206,
          2476502,
          2265640,
          2220699,
          2200057,
          2132883,
          1985889,
          1890380,
          1817274,
          1774181,
          1724220,
          1708798,
          1663545,
          1586747,
          1458484,
          1443321,
          1421470,
          1345940,
          1314031,
          1271391,
          1195836,
          1146724,
          1129913,
          1117391,
          1071951,
          1031803,
          1023155,
          1000626,
          844040,
          799222,
          798665,
          781771,
          716514,
          681299,
          675912,
          655703,
          644209,
          593699,
          593048,
          581546,
          557355,
          547075,
          536447,
          524410,
          510578,
          491145,
          488057,
          473368,
          463888,
          448728,
          446643,
          445402,
          444238,
          431689,
          421210,
          390637,
          388775,
          370890,
          358632,
          333500,
          306564,
          304005,
          268396,
          267902,
          255964,
          253203,
          251261,
          245893,
          239884,
          237908,
          236673,
          231452,
          229521,
          228925,
          225550,
          223576,
          215110,
          205758,
          199978,
          169903,
          166917,
          160975,
          159880,
          154173,
          134994,
          122618,
          121909,
          107948,
          106383,
          98536,
          97074,
          95388,
          91526,
          69524,
          66777,
          64935,
          56893,
          52437,
          49814,
          49745,
          48026,
          45340,
          44432,
          42465,
          40026,
          39539,
          35966,
          33173,
          30140,
          28876,
          24998,
          22847,
          21511,
          19885,
          19777,
          14701,
          12619,
          7824,
          7784,
          5080,
          4742,
          4697,
          4605,
          4495,
          4470,
          4450,
          4039,
          3977,
          3246,
          2678,
          2467,
          2415,
          2383,
          614,
          11,
          0
         ],
         "yaxis": "y"
        }
       ],
       "layout": {
        "barmode": "relative",
        "coloraxis": {
         "colorbar": {
          "title": {
           "text": "GDP Before Covid"
          }
         },
         "colorscale": [
          [
           0,
           "#0d0887"
          ],
          [
           0.1111111111111111,
           "#46039f"
          ],
          [
           0.2222222222222222,
           "#7201a8"
          ],
          [
           0.3333333333333333,
           "#9c179e"
          ],
          [
           0.4444444444444444,
           "#bd3786"
          ],
          [
           0.5555555555555556,
           "#d8576b"
          ],
          [
           0.6666666666666666,
           "#ed7953"
          ],
          [
           0.7777777777777778,
           "#fb9f3a"
          ],
          [
           0.8888888888888888,
           "#fdca26"
          ],
          [
           1,
           "#f0f921"
          ]
         ]
        },
        "height": 550,
        "legend": {
         "tracegroupgap": 0
        },
        "template": {
         "data": {
          "bar": [
           {
            "error_x": {
             "color": "#2a3f5f"
            },
            "error_y": {
             "color": "#2a3f5f"
            },
            "marker": {
             "line": {
              "color": "#E5ECF6",
              "width": 0.5
             },
             "pattern": {
              "fillmode": "overlay",
              "size": 10,
              "solidity": 0.2
             }
            },
            "type": "bar"
           }
          ],
          "barpolar": [
           {
            "marker": {
             "line": {
              "color": "#E5ECF6",
              "width": 0.5
             },
             "pattern": {
              "fillmode": "overlay",
              "size": 10,
              "solidity": 0.2
             }
            },
            "type": "barpolar"
           }
          ],
          "carpet": [
           {
            "aaxis": {
             "endlinecolor": "#2a3f5f",
             "gridcolor": "white",
             "linecolor": "white",
             "minorgridcolor": "white",
             "startlinecolor": "#2a3f5f"
            },
            "baxis": {
             "endlinecolor": "#2a3f5f",
             "gridcolor": "white",
             "linecolor": "white",
             "minorgridcolor": "white",
             "startlinecolor": "#2a3f5f"
            },
            "type": "carpet"
           }
          ],
          "choropleth": [
           {
            "colorbar": {
             "outlinewidth": 0,
             "ticks": ""
            },
            "type": "choropleth"
           }
          ],
          "contour": [
           {
            "colorbar": {
             "outlinewidth": 0,
             "ticks": ""
            },
            "colorscale": [
             [
              0,
              "#0d0887"
             ],
             [
              0.1111111111111111,
              "#46039f"
             ],
             [
              0.2222222222222222,
              "#7201a8"
             ],
             [
              0.3333333333333333,
              "#9c179e"
             ],
             [
              0.4444444444444444,
              "#bd3786"
             ],
             [
              0.5555555555555556,
              "#d8576b"
             ],
             [
              0.6666666666666666,
              "#ed7953"
             ],
             [
              0.7777777777777778,
              "#fb9f3a"
             ],
             [
              0.8888888888888888,
              "#fdca26"
             ],
             [
              1,
              "#f0f921"
             ]
            ],
            "type": "contour"
           }
          ],
          "contourcarpet": [
           {
            "colorbar": {
             "outlinewidth": 0,
             "ticks": ""
            },
            "type": "contourcarpet"
           }
          ],
          "heatmap": [
           {
            "colorbar": {
             "outlinewidth": 0,
             "ticks": ""
            },
            "colorscale": [
             [
              0,
              "#0d0887"
             ],
             [
              0.1111111111111111,
              "#46039f"
             ],
             [
              0.2222222222222222,
              "#7201a8"
             ],
             [
              0.3333333333333333,
              "#9c179e"
             ],
             [
              0.4444444444444444,
              "#bd3786"
             ],
             [
              0.5555555555555556,
              "#d8576b"
             ],
             [
              0.6666666666666666,
              "#ed7953"
             ],
             [
              0.7777777777777778,
              "#fb9f3a"
             ],
             [
              0.8888888888888888,
              "#fdca26"
             ],
             [
              1,
              "#f0f921"
             ]
            ],
            "type": "heatmap"
           }
          ],
          "heatmapgl": [
           {
            "colorbar": {
             "outlinewidth": 0,
             "ticks": ""
            },
            "colorscale": [
             [
              0,
              "#0d0887"
             ],
             [
              0.1111111111111111,
              "#46039f"
             ],
             [
              0.2222222222222222,
              "#7201a8"
             ],
             [
              0.3333333333333333,
              "#9c179e"
             ],
             [
              0.4444444444444444,
              "#bd3786"
             ],
             [
              0.5555555555555556,
              "#d8576b"
             ],
             [
              0.6666666666666666,
              "#ed7953"
             ],
             [
              0.7777777777777778,
              "#fb9f3a"
             ],
             [
              0.8888888888888888,
              "#fdca26"
             ],
             [
              1,
              "#f0f921"
             ]
            ],
            "type": "heatmapgl"
           }
          ],
          "histogram": [
           {
            "marker": {
             "pattern": {
              "fillmode": "overlay",
              "size": 10,
              "solidity": 0.2
             }
            },
            "type": "histogram"
           }
          ],
          "histogram2d": [
           {
            "colorbar": {
             "outlinewidth": 0,
             "ticks": ""
            },
            "colorscale": [
             [
              0,
              "#0d0887"
             ],
             [
              0.1111111111111111,
              "#46039f"
             ],
             [
              0.2222222222222222,
              "#7201a8"
             ],
             [
              0.3333333333333333,
              "#9c179e"
             ],
             [
              0.4444444444444444,
              "#bd3786"
             ],
             [
              0.5555555555555556,
              "#d8576b"
             ],
             [
              0.6666666666666666,
              "#ed7953"
             ],
             [
              0.7777777777777778,
              "#fb9f3a"
             ],
             [
              0.8888888888888888,
              "#fdca26"
             ],
             [
              1,
              "#f0f921"
             ]
            ],
            "type": "histogram2d"
           }
          ],
          "histogram2dcontour": [
           {
            "colorbar": {
             "outlinewidth": 0,
             "ticks": ""
            },
            "colorscale": [
             [
              0,
              "#0d0887"
             ],
             [
              0.1111111111111111,
              "#46039f"
             ],
             [
              0.2222222222222222,
              "#7201a8"
             ],
             [
              0.3333333333333333,
              "#9c179e"
             ],
             [
              0.4444444444444444,
              "#bd3786"
             ],
             [
              0.5555555555555556,
              "#d8576b"
             ],
             [
              0.6666666666666666,
              "#ed7953"
             ],
             [
              0.7777777777777778,
              "#fb9f3a"
             ],
             [
              0.8888888888888888,
              "#fdca26"
             ],
             [
              1,
              "#f0f921"
             ]
            ],
            "type": "histogram2dcontour"
           }
          ],
          "mesh3d": [
           {
            "colorbar": {
             "outlinewidth": 0,
             "ticks": ""
            },
            "type": "mesh3d"
           }
          ],
          "parcoords": [
           {
            "line": {
             "colorbar": {
              "outlinewidth": 0,
              "ticks": ""
             }
            },
            "type": "parcoords"
           }
          ],
          "pie": [
           {
            "automargin": true,
            "type": "pie"
           }
          ],
          "scatter": [
           {
            "marker": {
             "colorbar": {
              "outlinewidth": 0,
              "ticks": ""
             }
            },
            "type": "scatter"
           }
          ],
          "scatter3d": [
           {
            "line": {
             "colorbar": {
              "outlinewidth": 0,
              "ticks": ""
             }
            },
            "marker": {
             "colorbar": {
              "outlinewidth": 0,
              "ticks": ""
             }
            },
            "type": "scatter3d"
           }
          ],
          "scattercarpet": [
           {
            "marker": {
             "colorbar": {
              "outlinewidth": 0,
              "ticks": ""
             }
            },
            "type": "scattercarpet"
           }
          ],
          "scattergeo": [
           {
            "marker": {
             "colorbar": {
              "outlinewidth": 0,
              "ticks": ""
             }
            },
            "type": "scattergeo"
           }
          ],
          "scattergl": [
           {
            "marker": {
             "colorbar": {
              "outlinewidth": 0,
              "ticks": ""
             }
            },
            "type": "scattergl"
           }
          ],
          "scattermapbox": [
           {
            "marker": {
             "colorbar": {
              "outlinewidth": 0,
              "ticks": ""
             }
            },
            "type": "scattermapbox"
           }
          ],
          "scatterpolar": [
           {
            "marker": {
             "colorbar": {
              "outlinewidth": 0,
              "ticks": ""
             }
            },
            "type": "scatterpolar"
           }
          ],
          "scatterpolargl": [
           {
            "marker": {
             "colorbar": {
              "outlinewidth": 0,
              "ticks": ""
             }
            },
            "type": "scatterpolargl"
           }
          ],
          "scatterternary": [
           {
            "marker": {
             "colorbar": {
              "outlinewidth": 0,
              "ticks": ""
             }
            },
            "type": "scatterternary"
           }
          ],
          "surface": [
           {
            "colorbar": {
             "outlinewidth": 0,
             "ticks": ""
            },
            "colorscale": [
             [
              0,
              "#0d0887"
             ],
             [
              0.1111111111111111,
              "#46039f"
             ],
             [
              0.2222222222222222,
              "#7201a8"
             ],
             [
              0.3333333333333333,
              "#9c179e"
             ],
             [
              0.4444444444444444,
              "#bd3786"
             ],
             [
              0.5555555555555556,
              "#d8576b"
             ],
             [
              0.6666666666666666,
              "#ed7953"
             ],
             [
              0.7777777777777778,
              "#fb9f3a"
             ],
             [
              0.8888888888888888,
              "#fdca26"
             ],
             [
              1,
              "#f0f921"
             ]
            ],
            "type": "surface"
           }
          ],
          "table": [
           {
            "cells": {
             "fill": {
              "color": "#EBF0F8"
             },
             "line": {
              "color": "white"
             }
            },
            "header": {
             "fill": {
              "color": "#C8D4E3"
             },
             "line": {
              "color": "white"
             }
            },
            "type": "table"
           }
          ]
         },
         "layout": {
          "annotationdefaults": {
           "arrowcolor": "#2a3f5f",
           "arrowhead": 0,
           "arrowwidth": 1
          },
          "autotypenumbers": "strict",
          "coloraxis": {
           "colorbar": {
            "outlinewidth": 0,
            "ticks": ""
           }
          },
          "colorscale": {
           "diverging": [
            [
             0,
             "#8e0152"
            ],
            [
             0.1,
             "#c51b7d"
            ],
            [
             0.2,
             "#de77ae"
            ],
            [
             0.3,
             "#f1b6da"
            ],
            [
             0.4,
             "#fde0ef"
            ],
            [
             0.5,
             "#f7f7f7"
            ],
            [
             0.6,
             "#e6f5d0"
            ],
            [
             0.7,
             "#b8e186"
            ],
            [
             0.8,
             "#7fbc41"
            ],
            [
             0.9,
             "#4d9221"
            ],
            [
             1,
             "#276419"
            ]
           ],
           "sequential": [
            [
             0,
             "#0d0887"
            ],
            [
             0.1111111111111111,
             "#46039f"
            ],
            [
             0.2222222222222222,
             "#7201a8"
            ],
            [
             0.3333333333333333,
             "#9c179e"
            ],
            [
             0.4444444444444444,
             "#bd3786"
            ],
            [
             0.5555555555555556,
             "#d8576b"
            ],
            [
             0.6666666666666666,
             "#ed7953"
            ],
            [
             0.7777777777777778,
             "#fb9f3a"
            ],
            [
             0.8888888888888888,
             "#fdca26"
            ],
            [
             1,
             "#f0f921"
            ]
           ],
           "sequentialminus": [
            [
             0,
             "#0d0887"
            ],
            [
             0.1111111111111111,
             "#46039f"
            ],
            [
             0.2222222222222222,
             "#7201a8"
            ],
            [
             0.3333333333333333,
             "#9c179e"
            ],
            [
             0.4444444444444444,
             "#bd3786"
            ],
            [
             0.5555555555555556,
             "#d8576b"
            ],
            [
             0.6666666666666666,
             "#ed7953"
            ],
            [
             0.7777777777777778,
             "#fb9f3a"
            ],
            [
             0.8888888888888888,
             "#fdca26"
            ],
            [
             1,
             "#f0f921"
            ]
           ]
          },
          "colorway": [
           "#636efa",
           "#EF553B",
           "#00cc96",
           "#ab63fa",
           "#FFA15A",
           "#19d3f3",
           "#FF6692",
           "#B6E880",
           "#FF97FF",
           "#FECB52"
          ],
          "font": {
           "color": "#2a3f5f"
          },
          "geo": {
           "bgcolor": "white",
           "lakecolor": "white",
           "landcolor": "#E5ECF6",
           "showlakes": true,
           "showland": true,
           "subunitcolor": "white"
          },
          "hoverlabel": {
           "align": "left"
          },
          "hovermode": "closest",
          "mapbox": {
           "style": "light"
          },
          "paper_bgcolor": "white",
          "plot_bgcolor": "#E5ECF6",
          "polar": {
           "angularaxis": {
            "gridcolor": "white",
            "linecolor": "white",
            "ticks": ""
           },
           "bgcolor": "#E5ECF6",
           "radialaxis": {
            "gridcolor": "white",
            "linecolor": "white",
            "ticks": ""
           }
          },
          "scene": {
           "xaxis": {
            "backgroundcolor": "#E5ECF6",
            "gridcolor": "white",
            "gridwidth": 2,
            "linecolor": "white",
            "showbackground": true,
            "ticks": "",
            "zerolinecolor": "white"
           },
           "yaxis": {
            "backgroundcolor": "#E5ECF6",
            "gridcolor": "white",
            "gridwidth": 2,
            "linecolor": "white",
            "showbackground": true,
            "ticks": "",
            "zerolinecolor": "white"
           },
           "zaxis": {
            "backgroundcolor": "#E5ECF6",
            "gridcolor": "white",
            "gridwidth": 2,
            "linecolor": "white",
            "showbackground": true,
            "ticks": "",
            "zerolinecolor": "white"
           }
          },
          "shapedefaults": {
           "line": {
            "color": "#2a3f5f"
           }
          },
          "ternary": {
           "aaxis": {
            "gridcolor": "white",
            "linecolor": "white",
            "ticks": ""
           },
           "baxis": {
            "gridcolor": "white",
            "linecolor": "white",
            "ticks": ""
           },
           "bgcolor": "#E5ECF6",
           "caxis": {
            "gridcolor": "white",
            "linecolor": "white",
            "ticks": ""
           }
          },
          "title": {
           "x": 0.05
          },
          "xaxis": {
           "automargin": true,
           "gridcolor": "white",
           "linecolor": "white",
           "ticks": "",
           "title": {
            "standoff": 15
           },
           "zerolinecolor": "white",
           "zerolinewidth": 2
          },
          "yaxis": {
           "automargin": true,
           "gridcolor": "white",
           "linecolor": "white",
           "ticks": "",
           "title": {
            "standoff": 15
           },
           "zerolinecolor": "white",
           "zerolinewidth": 2
          }
         }
        },
        "title": {
         "text": "GDP Per Capita before Covid"
        },
        "xaxis": {
         "anchor": "y",
         "domain": [
          0,
          1
         ],
         "title": {
          "text": "Country"
         }
        },
        "yaxis": {
         "anchor": "x",
         "domain": [
          0,
          1
         ],
         "title": {
          "text": "Total Cases"
         }
        }
       }
      },
      "text/html": [
       "<div>                            <div id=\"b84773a1-af9a-4ee8-b77e-570fae3adc28\" class=\"plotly-graph-div\" style=\"height:550px; width:100%;\"></div>            <script type=\"text/javascript\">                require([\"plotly\"], function(Plotly) {                    window.PLOTLYENV=window.PLOTLYENV || {};                                    if (document.getElementById(\"b84773a1-af9a-4ee8-b77e-570fae3adc28\")) {                    Plotly.newPlot(                        \"b84773a1-af9a-4ee8-b77e-570fae3adc28\",                        [{\"alignmentgroup\":\"True\",\"customdata\":[[331002647.0,26477574.0],[212559409.0,14340567.0],[1380004385.0,7247327.0],[145934460.0,2131571.0],[26355046.972789116,3020038.0],[128932753.0,7295850.0],[46595753.12585034,5510624.0],[51642940.952380955,1357682.0],[39633266.789115645,1936134.0],[67886004.0,7249573.0],[83992953.0,2914070.0],[14889836.261904761,1283880.0],[60461828.0,6664225.0],[65273512.0,5633444.0],[38739237.428571425,1077426.0],[83783945.0,1640691.0],[63110866.46258503,1049757.0],[27472167.156462584,442507.0],[220892331.0,789557.0],[129398800.92857143,484534.0],[40222503.0,744253.0],[109581085.0,448665.0],[1439323774.0,1066939.0],[273523621.0,916111.0],[37742157.0,1455549.0],[2881060.0,23820.0],[8655541.0,126278.0],[33469713.520408165,343334.0],[11510775.074829932,1798461.0],[17643060.0,1083749.0],[14114463.425170068,161480.0],[17134873.0,1142410.0],[102334403.0,644416.0],[9996216.224489795,941063.0],[8814328.020408163,578559.0],[19237682.0,464952.0],[10847904.0,209024.0],[4270563.0,69104.0],[9449321.0,88409.0],[3302118.3673469387,222435.0],[9890400.0,58035.0],[5106622.0,73391.0],[8081063.710884354,302612.0],[29350428.36734694,304001.0],[5850343.0,4691.0],[32139805.605442178,142270.0],[126476458.0,194918.0],[14990576.469387755,281588.0],[8654618.0,320693.0],[1701583.0,22413.0],[7411611.428571428,200844.0],[206139587.0,125473.0],[2963234.0,102039.0],[29136808.0,27737.0],[4937796.0,310201.0],[10708982.0,79880.0],[38928341.0,165875.0],[9006400.0,134945.0],[23251863.605442178,29143.0],[43851043.0,206429.0],[86418203.54761904,77686.0],[21181875.908163264,40840.0],[3073495.619047619,129946.0],[3915883.551020408,50352.0],[24817297.217687074,31903.0],[4771092.057823129,114922.0],[10139175.0,59495.0],[5485337.591836735,87503.0],[2004534.149659864,54940.0],[51269183.0,63333.0],[41700191.8367347,59485.0],[3938848.4081632653,21522.0],[5792203.0,113280.0],[25499881.0,65029.0],[4743310.255102041,71957.0],[20135128.136054423,56606.0],[5507089.489795919,42850.0],[6825442.0,22983.0],[2488509.336734694,70578.0],[19738845.23809524,14220.0],[5421242.0,47158.0],[5294053.333333333,72850.0],[5375496.632653061,29730.0],[32365998.0,24012.0],[2083380.0,74066.0],[7557416.666666667,110142.0],[32812378.163265307,102825.0],[13383753.57142857,30320.0],[5540718.0,58377.0],[20061860.704081632,17744.0],[10423056.0,44805.0],[1446293.469387755,47571.0],[4105268.0,28757.0],[67323368.31292517,32040.0],[9782589.959183674,7283.0],[625976.0,21907.0],[13444049.455782313,26475.0],[5579844.979591837,9730.0],[2202397.9591836734,31056.0],[1665510.7482993198,6877.0],[8299802.93197279,23891.0],[9085060.095238095,19025.0],[411841.5238095238,3054.0],[3463522.2448979593,19810.0],[4234008.857142857,6055.0],[722518.4693877551,8006.0],[7877934.62585034,5653.0],[1892723.142857143,6634.0],[461433.306122449,11356.0],[69799978.0,11162.0],[39234273.22448979,13973.0],[10768038.948979592,15984.0],[3581253.5782312923,7108.0],[8437173.142857144,16774.0],[1045080.6632653062,8947.0],[1612232.9795918367,22165.0],[13338914.200680273,15480.0],[4844486.768707483,16410.0],[22431621.717687074,3396.0],[11730709.261904761,15001.0],[2722291.0,14345.0],[4091646.448979592,9298.0],[402807.63265306124,4749.0],[32983306.12244898,3748.0],[21413250.0,2108.0],[1326539.0,11802.0],[864203.7959183673,8179.0],[3989175.0,4013.0],[341250.0,1968.0],[14327120.653061224,18813.0],[9648074.051020408,1744.0],[2225906.738095238,5653.0],[427005.70068027213,6961.0],[7500559.908163265,6063.0],[1385631.2448979593,4199.0],[23699485.768707484,11820.0],[5480785.6122448975,10036.0],[12559995.329931973,12098.0],[1501262.8163265307,5376.0],[4822233.0,4145.0],[385971.1666666667,2409.0],[8948074.714285715,4374.0],[2587572.1530612246,6083.0],[288916.89795918367,5998.0],[661393.1224489796,3735.0],[15713008.292517006,10248.0],[1775508.2448979593,7201.0],[19579632.054421768,64304.0],[1051998.336734694,4519.0],[59394.183673469386,9850.0],[78440.32653061225,1624.0],[1615742.3469387756,895.0],[17537460.775510203,11676.0],[6476562.959183673,4197.0],[585906.193877551,5783.0],[123429.74489795919,2715.0],[3733047.3095238097,10087.0],[11956237.503401361,12212.0],[33938.0,8596.0],[97338583.0,2318.0],[144616.44217687074,2198.0],[1151278.2857142857,2680.0],[284015.0,1613.0],[74587.85714285714,1833.0],[23816775.0,1423.0],[205422.9931972789,260.0],[44089538.166666664,3733.0],[925707.9523809524,1988.0],[73570.14285714286,5527.0],[61604.816326530614,4310.0],[37895.30612244898,0.0],[505784.8469387755,920.0],[48806.55782312925,2450.0],[8169856.333333333,188.0],[32963.71428571428,3146.0],[24523.380952380954,0.0],[27524.020408163266,476.0],[2453143.673469388,0.0],[2557287.4965986395,0.0],[16718971.0,0.0],[6482029.765306123,417.0],[47837.00680272109,213.0],[331832.34353741497,475.0],[45327.965986394556,1631.0],[211129.7142857143,1321.0],[585270.3265306122,0.0],[39244.0,192.0],[29056.761904761905,198.0],[120563.26530612246,207.0],[73253.26530612246,0.0],[71280.92517006803,568.0],[81512.08163265306,0.0],[39741.73809523809,396.0],[17926.602040816328,48.0],[804970.1224489796,132.0],[950713.2789115646,0.0],[21289.316326530614,183.0],[206835.31632653062,0.0],[80753.43197278911,0.0],[136784.8673469388,0.0],[5172078.925170068,0.0],[51667.010204081635,0.0],[37632.43537414966,0.0],[41323.836734693876,0.0],[2357.5408163265306,0.0],[610.8775510204082,0.0],[3621.7244897959185,177.0],[10562.632653061224,0.0],[9345.278911564626,0.0],[1300497.918367347,0.0]],\"hovertemplate\":\"Country=%{x}<br>Total Cases=%{y}<br>Population=%{customdata[0]}<br>Total Deaths=%{customdata[1]}<br>GDP Before Covid=%{marker.color}<extra></extra>\",\"legendgroup\":\"\",\"marker\":{\"color\":[29564.74,6001.4,6424.98,2100.75,65279.53,6424.98,8897.49,42354.41,8897.49,2100.75,65279.53,8897.49,2100.75,8897.49,2100.75,42354.41,29564.74,6001.4,29564.74,6001.4,6424.98,42354.41,65279.53,8897.49,2100.75,29564.74,6001.4,6424.98,42354.41,65279.53,8897.49,2100.75,29564.74,6001.4,6424.98,42354.41,65279.53,8897.49,2100.75,29564.74,6001.4,6424.98,42354.41,65279.53,8897.49,2100.75,29564.74,6001.4,6424.98,42354.41,42354.41,65279.53,8897.49,2100.75,29564.74,6001.4,6424.98,42354.41,65279.53,8897.49,2100.75,42354.41,65279.53,8897.49,2100.75,42354.41,65279.53,8897.49,2100.75,42354.41,65279.53,8897.49,2100.75,42354.41,65279.53,8897.49,42354.41,42354.41,65279.53,42354.41,65279.53,8897.49,2100.75,42354.41,65279.53,42354.41,65279.53,8897.49,2100.75,29564.74,42354.41,65279.53,6001.4,6424.98,42354.41,6001.4,6424.98,42354.41,8897.49,2100.75,29564.74,6001.4,6424.98,42354.41,29564.74,6001.4,6424.98,42354.41,42354.41,65279.53,8897.49,2100.75,29564.74,6001.4,6424.98,42354.41,8897.49,2100.75,29564.74,6001.4,6001.4,6424.98,42354.41,8897.49,2100.75,29564.74,6001.4,6424.98,42354.41,65279.53,8897.49,2100.75,29564.74,6001.4,6424.98,42354.41,2100.75,29564.74,6001.4,6424.98,42354.41,29564.74,6001.4,6424.98,42354.41,29564.74,6001.4,6424.98,42354.41,29564.74,6001.4,6424.98,42354.41,65279.53,8897.49,2100.75,29564.74,6001.4,6424.98,42354.41,2100.75,29564.74,6001.4,6424.98,42354.41,29564.74,6001.4,6424.98,42354.41,29564.74,6001.4,6424.98,42354.41,29564.74,6001.4,6424.98,42354.41,29564.74,6001.4,6424.98,42354.41,65279.53,8897.49,2100.75,29564.74,6001.4,6424.98,42354.41,2100.75,29564.74,6001.4,6424.98,42354.41,29564.74,6001.4,6424.98,42354.41,29564.74,6001.4,6424.98,42354.41,29564.74,6001.4,6424.98,42354.41,29564.74,6001.4,6424.98,42354.41,42354.41],\"coloraxis\":\"coloraxis\",\"pattern\":{\"shape\":\"\"}},\"name\":\"\",\"offsetgroup\":\"\",\"orientation\":\"v\",\"showlegend\":false,\"textposition\":\"auto\",\"x\":[\"United States\",\"Brazil\",\"India\",\"Russia\",\"Peru\",\"Mexico\",\"Spain\",\"South Africa\",\"Colombia\",\"United Kingdom\",\"Iran\",\"Chile\",\"Italy\",\"France\",\"Argentina\",\"Germany\",\"Turkey\",\"Saudi Arabia\",\"Pakistan\",\"Bangladesh\",\"Iraq\",\"Philippines\",\"China\",\"Indonesia\",\"Canada\",\"Qatar\",\"Israel\",\"Ukraine\",\"Belgium\",\"Ecuador\",\"Kazakhstan\",\"Netherlands\",\"Egypt\",\"Sweden\",\"Bolivia\",\"Romania\",\"Dominican Republic\",\"Kuwait\",\"Belarus\",\"Panama\",\"United Arab Emirates\",\"Oman\",\"Portugal\",\"Poland\",\"Singapore\",\"Morocco\",\"Japan\",\"Guatemala\",\"Switzerland\",\"Bahrain\",\"Honduras\",\"Nigeria\",\"Armenia\",\"Nepal\",\"Ireland\",\"Czech Republic\",\"Afghanistan\",\"Austria\",\"Ghana\",\"Algeria\",\"Ethiopia\",\"Venezuela\",\"Moldova\",\"Costa Rica\",\"Uzbekistan\",\"Kyrgyzstan\",\"Azerbaijan\",\"Serbia\",\"Puerto Rico\",\"South Korea\",\"Kenya\",\"Palestine\",\"Denmark\",\"Australia\",\"El Salvador\",\"Cameroon\",\"Paraguay\",\"Lebanon\",\"Bosnia and Herzegovina\",\"Cote d'Ivoire\",\"Norway\",\"Bulgaria\",\"Libya\",\"Malaysia\",\"Macedonia\",\"Hungary\",\"Sudan\",\"Senegal\",\"Finland\",\"Madagascar\",\"Greece\",\"Kosovo\",\"Croatia\",\"Democratic Republic of Congo\",\"Guinea\",\"Luxembourg\",\"Zambia\",\"Tajikistan\",\"Albania\",\"Gabon\",\"Haiti\",\"Tunisia\",\"Maldives\",\"Mauritania\",\"Slovakia\",\"Djibouti\",\"Jordan\",\"Namibia\",\"Montenegro\",\"Thailand\",\"Myanmar\",\"Zimbabwe\",\"Central African Republic\",\"Cuba\",\"Equatorial Guinea\",\"Slovenia\",\"Malawi\",\"Nicaragua\",\"Mozambique\",\"Somalia\",\"Lithuania\",\"Congo\",\"Cape Verde\",\"Uganda\",\"Sri Lanka\",\"Estonia\",\"Swaziland\",\"Georgia\",\"Iceland\",\"Mali\",\"Rwanda\",\"Jamaica\",\"Suriname\",\"South Sudan\",\"Guinea-Bissau\",\"Angola\",\"Sierra Leone\",\"Syria\",\"Latvia\",\"New Zealand\",\"Malta\",\"Benin\",\"Uruguay\",\"Bahamas\",\"Cyprus\",\"Burkina Faso\",\"Gambia\",\"Yemen\",\"Trinidad and Tobago\",\"Andorra\",\"Aruba\",\"Botswana\",\"Niger\",\"Togo\",\"Guyana\",\"Guam\",\"Liberia\",\"Chad\",\"San Marino\",\"Vietnam\",\"Sao Tome and Principe\",\"Lesotho\",\"Belize\",\"United States Virgin Islands\",\"Taiwan\",\"French Polynesia\",\"Tanzania\",\"Mauritius\",\"Jersey\",\"Isle of Man\",\"Faeroe Islands\",\"Comoros\",\"Guernsey\",\"Burundi\",\"Sint Maarten (Dutch part)\",\"Gibraltar\",\"Turks and Caicos Islands\",\"Mongolia\",\"Eritrea\",\"Cambodia\",\"Papua New Guinea\",\"Cayman Islands\",\"Brunei\",\"Bermuda\",\"Barbados\",\"Bhutan\",\"Monaco\",\"Liechtenstein\",\"Curacao\",\"Seychelles\",\"Antigua and Barbuda\",\"Saint Vincent and the Grenadines\",\"Northern Mariana Islands\",\"Bonaire Sint Eustatius and Saba\",\"Fiji\",\"Timor\",\"British Virgin Islands\",\"New Caledonia\",\"Grenada\",\"Saint Lucia\",\"Laos\",\"Dominica\",\"Saint Kitts and Nevis\",\"Greenland\",\"Falkland Islands\",\"Vatican\",\"Montserrat\",\"Anguilla\",\"Solomon Islands\",\"Hong Kong\"],\"xaxis\":\"x\",\"y\":[746014098.0,425704517.0,407771615.0,132888951.0,74882695.0,74347548.0,73717676.0,63027659.0,60543682.0,59475032.0,52421884.0,51268034.0,50752853.0,50084335.0,47155234.0,42447678.0,41431948.0,38585191.0,37738077.0,35266178.0,25280332.0,22409936.0,21632319.0,21570149.0,20902374.0,16351440.0,16202474.0,15805665.0,15192468.0,14408757.0,13194863.0,13026629.0,12422845.0,11910109.0,11858838.0,10672859.0,10649646.0,10622205.0,10595186.0,10371724.0,10247326.0,10060093.0,9266263.0,9239657.0,8191161.0,7839270.0,7659484.0,7644426.0,7552067.0,6549995.0,6545499.0,6107371.0,5474629.0,5243653.0,5239798.0,5213980.0,5126433.0,4909197.0,4900649.0,4893999.0,4876417.0,4839834.0,4632482.0,4631835.0,4421215.0,4287847.0,4236782.0,3984174.0,3586463.0,3333075.0,3277734.0,3249458.0,3030088.0,3012377.0,2573206.0,2476502.0,2265640.0,2220699.0,2200057.0,2132883.0,1985889.0,1890380.0,1817274.0,1774181.0,1724220.0,1708798.0,1663545.0,1586747.0,1458484.0,1443321.0,1421470.0,1345940.0,1314031.0,1271391.0,1195836.0,1146724.0,1129913.0,1117391.0,1071951.0,1031803.0,1023155.0,1000626.0,844040.0,799222.0,798665.0,781771.0,716514.0,681299.0,675912.0,655703.0,644209.0,593699.0,593048.0,581546.0,557355.0,547075.0,536447.0,524410.0,510578.0,491145.0,488057.0,473368.0,463888.0,448728.0,446643.0,445402.0,444238.0,431689.0,421210.0,390637.0,388775.0,370890.0,358632.0,333500.0,306564.0,304005.0,268396.0,267902.0,255964.0,253203.0,251261.0,245893.0,239884.0,237908.0,236673.0,231452.0,229521.0,228925.0,225550.0,223576.0,215110.0,205758.0,199978.0,169903.0,166917.0,160975.0,159880.0,154173.0,134994.0,122618.0,121909.0,107948.0,106383.0,98536.0,97074.0,95388.0,91526.0,69524.0,66777.0,64935.0,56893.0,52437.0,49814.0,49745.0,48026.0,45340.0,44432.0,42465.0,40026.0,39539.0,35966.0,33173.0,30140.0,28876.0,24998.0,22847.0,21511.0,19885.0,19777.0,14701.0,12619.0,7824.0,7784.0,5080.0,4742.0,4697.0,4605.0,4495.0,4470.0,4450.0,4039.0,3977.0,3246.0,2678.0,2467.0,2415.0,2383.0,614.0,11.0,0.0],\"yaxis\":\"y\",\"type\":\"bar\"}],                        {\"template\":{\"data\":{\"bar\":[{\"error_x\":{\"color\":\"#2a3f5f\"},\"error_y\":{\"color\":\"#2a3f5f\"},\"marker\":{\"line\":{\"color\":\"#E5ECF6\",\"width\":0.5},\"pattern\":{\"fillmode\":\"overlay\",\"size\":10,\"solidity\":0.2}},\"type\":\"bar\"}],\"barpolar\":[{\"marker\":{\"line\":{\"color\":\"#E5ECF6\",\"width\":0.5},\"pattern\":{\"fillmode\":\"overlay\",\"size\":10,\"solidity\":0.2}},\"type\":\"barpolar\"}],\"carpet\":[{\"aaxis\":{\"endlinecolor\":\"#2a3f5f\",\"gridcolor\":\"white\",\"linecolor\":\"white\",\"minorgridcolor\":\"white\",\"startlinecolor\":\"#2a3f5f\"},\"baxis\":{\"endlinecolor\":\"#2a3f5f\",\"gridcolor\":\"white\",\"linecolor\":\"white\",\"minorgridcolor\":\"white\",\"startlinecolor\":\"#2a3f5f\"},\"type\":\"carpet\"}],\"choropleth\":[{\"colorbar\":{\"outlinewidth\":0,\"ticks\":\"\"},\"type\":\"choropleth\"}],\"contour\":[{\"colorbar\":{\"outlinewidth\":0,\"ticks\":\"\"},\"colorscale\":[[0.0,\"#0d0887\"],[0.1111111111111111,\"#46039f\"],[0.2222222222222222,\"#7201a8\"],[0.3333333333333333,\"#9c179e\"],[0.4444444444444444,\"#bd3786\"],[0.5555555555555556,\"#d8576b\"],[0.6666666666666666,\"#ed7953\"],[0.7777777777777778,\"#fb9f3a\"],[0.8888888888888888,\"#fdca26\"],[1.0,\"#f0f921\"]],\"type\":\"contour\"}],\"contourcarpet\":[{\"colorbar\":{\"outlinewidth\":0,\"ticks\":\"\"},\"type\":\"contourcarpet\"}],\"heatmap\":[{\"colorbar\":{\"outlinewidth\":0,\"ticks\":\"\"},\"colorscale\":[[0.0,\"#0d0887\"],[0.1111111111111111,\"#46039f\"],[0.2222222222222222,\"#7201a8\"],[0.3333333333333333,\"#9c179e\"],[0.4444444444444444,\"#bd3786\"],[0.5555555555555556,\"#d8576b\"],[0.6666666666666666,\"#ed7953\"],[0.7777777777777778,\"#fb9f3a\"],[0.8888888888888888,\"#fdca26\"],[1.0,\"#f0f921\"]],\"type\":\"heatmap\"}],\"heatmapgl\":[{\"colorbar\":{\"outlinewidth\":0,\"ticks\":\"\"},\"colorscale\":[[0.0,\"#0d0887\"],[0.1111111111111111,\"#46039f\"],[0.2222222222222222,\"#7201a8\"],[0.3333333333333333,\"#9c179e\"],[0.4444444444444444,\"#bd3786\"],[0.5555555555555556,\"#d8576b\"],[0.6666666666666666,\"#ed7953\"],[0.7777777777777778,\"#fb9f3a\"],[0.8888888888888888,\"#fdca26\"],[1.0,\"#f0f921\"]],\"type\":\"heatmapgl\"}],\"histogram\":[{\"marker\":{\"pattern\":{\"fillmode\":\"overlay\",\"size\":10,\"solidity\":0.2}},\"type\":\"histogram\"}],\"histogram2d\":[{\"colorbar\":{\"outlinewidth\":0,\"ticks\":\"\"},\"colorscale\":[[0.0,\"#0d0887\"],[0.1111111111111111,\"#46039f\"],[0.2222222222222222,\"#7201a8\"],[0.3333333333333333,\"#9c179e\"],[0.4444444444444444,\"#bd3786\"],[0.5555555555555556,\"#d8576b\"],[0.6666666666666666,\"#ed7953\"],[0.7777777777777778,\"#fb9f3a\"],[0.8888888888888888,\"#fdca26\"],[1.0,\"#f0f921\"]],\"type\":\"histogram2d\"}],\"histogram2dcontour\":[{\"colorbar\":{\"outlinewidth\":0,\"ticks\":\"\"},\"colorscale\":[[0.0,\"#0d0887\"],[0.1111111111111111,\"#46039f\"],[0.2222222222222222,\"#7201a8\"],[0.3333333333333333,\"#9c179e\"],[0.4444444444444444,\"#bd3786\"],[0.5555555555555556,\"#d8576b\"],[0.6666666666666666,\"#ed7953\"],[0.7777777777777778,\"#fb9f3a\"],[0.8888888888888888,\"#fdca26\"],[1.0,\"#f0f921\"]],\"type\":\"histogram2dcontour\"}],\"mesh3d\":[{\"colorbar\":{\"outlinewidth\":0,\"ticks\":\"\"},\"type\":\"mesh3d\"}],\"parcoords\":[{\"line\":{\"colorbar\":{\"outlinewidth\":0,\"ticks\":\"\"}},\"type\":\"parcoords\"}],\"pie\":[{\"automargin\":true,\"type\":\"pie\"}],\"scatter\":[{\"marker\":{\"colorbar\":{\"outlinewidth\":0,\"ticks\":\"\"}},\"type\":\"scatter\"}],\"scatter3d\":[{\"line\":{\"colorbar\":{\"outlinewidth\":0,\"ticks\":\"\"}},\"marker\":{\"colorbar\":{\"outlinewidth\":0,\"ticks\":\"\"}},\"type\":\"scatter3d\"}],\"scattercarpet\":[{\"marker\":{\"colorbar\":{\"outlinewidth\":0,\"ticks\":\"\"}},\"type\":\"scattercarpet\"}],\"scattergeo\":[{\"marker\":{\"colorbar\":{\"outlinewidth\":0,\"ticks\":\"\"}},\"type\":\"scattergeo\"}],\"scattergl\":[{\"marker\":{\"colorbar\":{\"outlinewidth\":0,\"ticks\":\"\"}},\"type\":\"scattergl\"}],\"scattermapbox\":[{\"marker\":{\"colorbar\":{\"outlinewidth\":0,\"ticks\":\"\"}},\"type\":\"scattermapbox\"}],\"scatterpolar\":[{\"marker\":{\"colorbar\":{\"outlinewidth\":0,\"ticks\":\"\"}},\"type\":\"scatterpolar\"}],\"scatterpolargl\":[{\"marker\":{\"colorbar\":{\"outlinewidth\":0,\"ticks\":\"\"}},\"type\":\"scatterpolargl\"}],\"scatterternary\":[{\"marker\":{\"colorbar\":{\"outlinewidth\":0,\"ticks\":\"\"}},\"type\":\"scatterternary\"}],\"surface\":[{\"colorbar\":{\"outlinewidth\":0,\"ticks\":\"\"},\"colorscale\":[[0.0,\"#0d0887\"],[0.1111111111111111,\"#46039f\"],[0.2222222222222222,\"#7201a8\"],[0.3333333333333333,\"#9c179e\"],[0.4444444444444444,\"#bd3786\"],[0.5555555555555556,\"#d8576b\"],[0.6666666666666666,\"#ed7953\"],[0.7777777777777778,\"#fb9f3a\"],[0.8888888888888888,\"#fdca26\"],[1.0,\"#f0f921\"]],\"type\":\"surface\"}],\"table\":[{\"cells\":{\"fill\":{\"color\":\"#EBF0F8\"},\"line\":{\"color\":\"white\"}},\"header\":{\"fill\":{\"color\":\"#C8D4E3\"},\"line\":{\"color\":\"white\"}},\"type\":\"table\"}]},\"layout\":{\"annotationdefaults\":{\"arrowcolor\":\"#2a3f5f\",\"arrowhead\":0,\"arrowwidth\":1},\"autotypenumbers\":\"strict\",\"coloraxis\":{\"colorbar\":{\"outlinewidth\":0,\"ticks\":\"\"}},\"colorscale\":{\"diverging\":[[0,\"#8e0152\"],[0.1,\"#c51b7d\"],[0.2,\"#de77ae\"],[0.3,\"#f1b6da\"],[0.4,\"#fde0ef\"],[0.5,\"#f7f7f7\"],[0.6,\"#e6f5d0\"],[0.7,\"#b8e186\"],[0.8,\"#7fbc41\"],[0.9,\"#4d9221\"],[1,\"#276419\"]],\"sequential\":[[0.0,\"#0d0887\"],[0.1111111111111111,\"#46039f\"],[0.2222222222222222,\"#7201a8\"],[0.3333333333333333,\"#9c179e\"],[0.4444444444444444,\"#bd3786\"],[0.5555555555555556,\"#d8576b\"],[0.6666666666666666,\"#ed7953\"],[0.7777777777777778,\"#fb9f3a\"],[0.8888888888888888,\"#fdca26\"],[1.0,\"#f0f921\"]],\"sequentialminus\":[[0.0,\"#0d0887\"],[0.1111111111111111,\"#46039f\"],[0.2222222222222222,\"#7201a8\"],[0.3333333333333333,\"#9c179e\"],[0.4444444444444444,\"#bd3786\"],[0.5555555555555556,\"#d8576b\"],[0.6666666666666666,\"#ed7953\"],[0.7777777777777778,\"#fb9f3a\"],[0.8888888888888888,\"#fdca26\"],[1.0,\"#f0f921\"]]},\"colorway\":[\"#636efa\",\"#EF553B\",\"#00cc96\",\"#ab63fa\",\"#FFA15A\",\"#19d3f3\",\"#FF6692\",\"#B6E880\",\"#FF97FF\",\"#FECB52\"],\"font\":{\"color\":\"#2a3f5f\"},\"geo\":{\"bgcolor\":\"white\",\"lakecolor\":\"white\",\"landcolor\":\"#E5ECF6\",\"showlakes\":true,\"showland\":true,\"subunitcolor\":\"white\"},\"hoverlabel\":{\"align\":\"left\"},\"hovermode\":\"closest\",\"mapbox\":{\"style\":\"light\"},\"paper_bgcolor\":\"white\",\"plot_bgcolor\":\"#E5ECF6\",\"polar\":{\"angularaxis\":{\"gridcolor\":\"white\",\"linecolor\":\"white\",\"ticks\":\"\"},\"bgcolor\":\"#E5ECF6\",\"radialaxis\":{\"gridcolor\":\"white\",\"linecolor\":\"white\",\"ticks\":\"\"}},\"scene\":{\"xaxis\":{\"backgroundcolor\":\"#E5ECF6\",\"gridcolor\":\"white\",\"gridwidth\":2,\"linecolor\":\"white\",\"showbackground\":true,\"ticks\":\"\",\"zerolinecolor\":\"white\"},\"yaxis\":{\"backgroundcolor\":\"#E5ECF6\",\"gridcolor\":\"white\",\"gridwidth\":2,\"linecolor\":\"white\",\"showbackground\":true,\"ticks\":\"\",\"zerolinecolor\":\"white\"},\"zaxis\":{\"backgroundcolor\":\"#E5ECF6\",\"gridcolor\":\"white\",\"gridwidth\":2,\"linecolor\":\"white\",\"showbackground\":true,\"ticks\":\"\",\"zerolinecolor\":\"white\"}},\"shapedefaults\":{\"line\":{\"color\":\"#2a3f5f\"}},\"ternary\":{\"aaxis\":{\"gridcolor\":\"white\",\"linecolor\":\"white\",\"ticks\":\"\"},\"baxis\":{\"gridcolor\":\"white\",\"linecolor\":\"white\",\"ticks\":\"\"},\"bgcolor\":\"#E5ECF6\",\"caxis\":{\"gridcolor\":\"white\",\"linecolor\":\"white\",\"ticks\":\"\"}},\"title\":{\"x\":0.05},\"xaxis\":{\"automargin\":true,\"gridcolor\":\"white\",\"linecolor\":\"white\",\"ticks\":\"\",\"title\":{\"standoff\":15},\"zerolinecolor\":\"white\",\"zerolinewidth\":2},\"yaxis\":{\"automargin\":true,\"gridcolor\":\"white\",\"linecolor\":\"white\",\"ticks\":\"\",\"title\":{\"standoff\":15},\"zerolinecolor\":\"white\",\"zerolinewidth\":2}}},\"xaxis\":{\"anchor\":\"y\",\"domain\":[0.0,1.0],\"title\":{\"text\":\"Country\"}},\"yaxis\":{\"anchor\":\"x\",\"domain\":[0.0,1.0],\"title\":{\"text\":\"Total Cases\"}},\"coloraxis\":{\"colorbar\":{\"title\":{\"text\":\"GDP Before Covid\"}},\"colorscale\":[[0.0,\"#0d0887\"],[0.1111111111111111,\"#46039f\"],[0.2222222222222222,\"#7201a8\"],[0.3333333333333333,\"#9c179e\"],[0.4444444444444444,\"#bd3786\"],[0.5555555555555556,\"#d8576b\"],[0.6666666666666666,\"#ed7953\"],[0.7777777777777778,\"#fb9f3a\"],[0.8888888888888888,\"#fdca26\"],[1.0,\"#f0f921\"]]},\"legend\":{\"tracegroupgap\":0},\"title\":{\"text\":\"GDP Per Capita before Covid\"},\"barmode\":\"relative\",\"height\":550},                        {\"responsive\": true}                    ).then(function(){\n",
       "                            \n",
       "var gd = document.getElementById('b84773a1-af9a-4ee8-b77e-570fae3adc28');\n",
       "var x = new MutationObserver(function (mutations, observer) {{\n",
       "        var display = window.getComputedStyle(gd).display;\n",
       "        if (!display || display === 'none') {{\n",
       "            console.log([gd, 'removed!']);\n",
       "            Plotly.purge(gd);\n",
       "            observer.disconnect();\n",
       "        }}\n",
       "}});\n",
       "\n",
       "// Listen for the removal of the full notebook cells\n",
       "var notebookContainer = gd.closest('#notebook-container');\n",
       "if (notebookContainer) {{\n",
       "    x.observe(notebookContainer, {childList: true});\n",
       "}}\n",
       "\n",
       "// Listen for the clearing of the current output cell\n",
       "var outputEl = gd.closest('.output');\n",
       "if (outputEl) {{\n",
       "    x.observe(outputEl, {childList: true});\n",
       "}}\n",
       "\n",
       "                        })                };                });            </script>        </div>"
      ]
     },
     "metadata": {},
     "output_type": "display_data"
    }
   ],
   "source": [
    "seventh"
   ]
  },
  {
   "cell_type": "code",
   "execution_count": null,
   "id": "fcd87d84",
   "metadata": {},
   "outputs": [],
   "source": [
    "#plotting total cases & deaths together\n",
    "#multiple info on a single plot\n",
    "\n",
    "fig = go.Figure()\n",
    "\n",
    "fig.add_trace(go.Bar(\n",
    "\n",
    "    x=deta[\"Country\"],\n",
    "\n",
    "    y=deta[\"Total Cases\"],\n",
    "\n",
    "    title= 'GDP Per Capita before Covid',\n",
    "\n",
    "    marker_color='violet'\n",
    "#no color; that would have indicated GDP\n",
    "))\n",
    "\n",
    "fig.add_trace(go.Bar(\n",
    "\n",
    "    x=deta[\"Country\"],\n",
    "\n",
    "    y=deta[\"Total Cases\"],\n",
    "\n",
    "    title= 'GDP Per Capita after Covid',\n",
    "\n",
    "    marker_color='cyan'\n",
    "\n",
    "))\n",
    "\n",
    "fig.update_layout(barmode='group', xaxis_tickangle=-45)\n",
    "\n",
    "fig.show()"
   ]
  },
  {
   "cell_type": "code",
   "execution_count": 106,
   "id": "0ffc29bc",
   "metadata": {},
   "outputs": [
    {
     "data": {
      "application/vnd.plotly.v1+json": {
       "config": {
        "plotlyServerURL": "https://plot.ly"
       },
       "data": [
        {
         "marker": {
          "color": "violet"
         },
         "name": "GDP Per Capita before Covid",
         "type": "bar",
         "x": [
          "United States",
          "Brazil",
          "India",
          "Russia",
          "Peru",
          "Mexico",
          "Spain",
          "South Africa",
          "Colombia",
          "United Kingdom",
          "Iran",
          "Chile",
          "Italy",
          "France",
          "Argentina",
          "Germany",
          "Turkey",
          "Saudi Arabia",
          "Pakistan",
          "Bangladesh",
          "Iraq",
          "Philippines",
          "China",
          "Indonesia",
          "Canada",
          "Qatar",
          "Israel",
          "Ukraine",
          "Belgium",
          "Ecuador",
          "Kazakhstan",
          "Netherlands",
          "Egypt",
          "Sweden",
          "Bolivia",
          "Romania",
          "Dominican Republic",
          "Kuwait",
          "Belarus",
          "Panama",
          "United Arab Emirates",
          "Oman",
          "Portugal",
          "Poland",
          "Singapore",
          "Morocco",
          "Japan",
          "Guatemala",
          "Switzerland",
          "Bahrain",
          "Honduras",
          "Nigeria",
          "Armenia",
          "Nepal",
          "Ireland",
          "Czech Republic",
          "Afghanistan",
          "Austria",
          "Ghana",
          "Algeria",
          "Ethiopia",
          "Venezuela",
          "Moldova",
          "Costa Rica",
          "Uzbekistan",
          "Kyrgyzstan",
          "Azerbaijan",
          "Serbia",
          "Puerto Rico",
          "South Korea",
          "Kenya",
          "Palestine",
          "Denmark",
          "Australia",
          "El Salvador",
          "Cameroon",
          "Paraguay",
          "Lebanon",
          "Bosnia and Herzegovina",
          "Cote d'Ivoire",
          "Norway",
          "Bulgaria",
          "Libya",
          "Malaysia",
          "Macedonia",
          "Hungary",
          "Sudan",
          "Senegal",
          "Finland",
          "Madagascar",
          "Greece",
          "Kosovo",
          "Croatia",
          "Democratic Republic of Congo",
          "Guinea",
          "Luxembourg",
          "Zambia",
          "Tajikistan",
          "Albania",
          "Gabon",
          "Haiti",
          "Tunisia",
          "Maldives",
          "Mauritania",
          "Slovakia",
          "Djibouti",
          "Jordan",
          "Namibia",
          "Montenegro",
          "Thailand",
          "Myanmar",
          "Zimbabwe",
          "Central African Republic",
          "Cuba",
          "Equatorial Guinea",
          "Slovenia",
          "Malawi",
          "Nicaragua",
          "Mozambique",
          "Somalia",
          "Lithuania",
          "Congo",
          "Cape Verde",
          "Uganda",
          "Sri Lanka",
          "Estonia",
          "Swaziland",
          "Georgia",
          "Iceland",
          "Mali",
          "Rwanda",
          "Jamaica",
          "Suriname",
          "South Sudan",
          "Guinea-Bissau",
          "Angola",
          "Sierra Leone",
          "Syria",
          "Latvia",
          "New Zealand",
          "Malta",
          "Benin",
          "Uruguay",
          "Bahamas",
          "Cyprus",
          "Burkina Faso",
          "Gambia",
          "Yemen",
          "Trinidad and Tobago",
          "Andorra",
          "Aruba",
          "Botswana",
          "Niger",
          "Togo",
          "Guyana",
          "Guam",
          "Liberia",
          "Chad",
          "San Marino",
          "Vietnam",
          "Sao Tome and Principe",
          "Lesotho",
          "Belize",
          "United States Virgin Islands",
          "Taiwan",
          "French Polynesia",
          "Tanzania",
          "Mauritius",
          "Jersey",
          "Isle of Man",
          "Faeroe Islands",
          "Comoros",
          "Guernsey",
          "Burundi",
          "Sint Maarten (Dutch part)",
          "Gibraltar",
          "Turks and Caicos Islands",
          "Mongolia",
          "Eritrea",
          "Cambodia",
          "Papua New Guinea",
          "Cayman Islands",
          "Brunei",
          "Bermuda",
          "Barbados",
          "Bhutan",
          "Monaco",
          "Liechtenstein",
          "Curacao",
          "Seychelles",
          "Antigua and Barbuda",
          "Saint Vincent and the Grenadines",
          "Northern Mariana Islands",
          "Bonaire Sint Eustatius and Saba",
          "Fiji",
          "Timor",
          "British Virgin Islands",
          "New Caledonia",
          "Grenada",
          "Saint Lucia",
          "Laos",
          "Dominica",
          "Saint Kitts and Nevis",
          "Greenland",
          "Falkland Islands",
          "Vatican",
          "Montserrat",
          "Anguilla",
          "Solomon Islands",
          "Hong Kong"
         ],
         "y": [
          29564.74,
          6001.4,
          6424.98,
          2100.75,
          65279.53,
          6424.98,
          8897.49,
          42354.41,
          8897.49,
          2100.75,
          65279.53,
          8897.49,
          2100.75,
          8897.49,
          2100.75,
          42354.41,
          29564.74,
          6001.4,
          29564.74,
          6001.4,
          6424.98,
          42354.41,
          65279.53,
          8897.49,
          2100.75,
          29564.74,
          6001.4,
          6424.98,
          42354.41,
          65279.53,
          8897.49,
          2100.75,
          29564.74,
          6001.4,
          6424.98,
          42354.41,
          65279.53,
          8897.49,
          2100.75,
          29564.74,
          6001.4,
          6424.98,
          42354.41,
          65279.53,
          8897.49,
          2100.75,
          29564.74,
          6001.4,
          6424.98,
          42354.41,
          42354.41,
          65279.53,
          8897.49,
          2100.75,
          29564.74,
          6001.4,
          6424.98,
          42354.41,
          65279.53,
          8897.49,
          2100.75,
          42354.41,
          65279.53,
          8897.49,
          2100.75,
          42354.41,
          65279.53,
          8897.49,
          2100.75,
          42354.41,
          65279.53,
          8897.49,
          2100.75,
          42354.41,
          65279.53,
          8897.49,
          42354.41,
          42354.41,
          65279.53,
          42354.41,
          65279.53,
          8897.49,
          2100.75,
          42354.41,
          65279.53,
          42354.41,
          65279.53,
          8897.49,
          2100.75,
          29564.74,
          42354.41,
          65279.53,
          6001.4,
          6424.98,
          42354.41,
          6001.4,
          6424.98,
          42354.41,
          8897.49,
          2100.75,
          29564.74,
          6001.4,
          6424.98,
          42354.41,
          29564.74,
          6001.4,
          6424.98,
          42354.41,
          42354.41,
          65279.53,
          8897.49,
          2100.75,
          29564.74,
          6001.4,
          6424.98,
          42354.41,
          8897.49,
          2100.75,
          29564.74,
          6001.4,
          6001.4,
          6424.98,
          42354.41,
          8897.49,
          2100.75,
          29564.74,
          6001.4,
          6424.98,
          42354.41,
          65279.53,
          8897.49,
          2100.75,
          29564.74,
          6001.4,
          6424.98,
          42354.41,
          2100.75,
          29564.74,
          6001.4,
          6424.98,
          42354.41,
          29564.74,
          6001.4,
          6424.98,
          42354.41,
          29564.74,
          6001.4,
          6424.98,
          42354.41,
          29564.74,
          6001.4,
          6424.98,
          42354.41,
          65279.53,
          8897.49,
          2100.75,
          29564.74,
          6001.4,
          6424.98,
          42354.41,
          2100.75,
          29564.74,
          6001.4,
          6424.98,
          42354.41,
          29564.74,
          6001.4,
          6424.98,
          42354.41,
          29564.74,
          6001.4,
          6424.98,
          42354.41,
          29564.74,
          6001.4,
          6424.98,
          42354.41,
          29564.74,
          6001.4,
          6424.98,
          42354.41,
          65279.53,
          8897.49,
          2100.75,
          29564.74,
          6001.4,
          6424.98,
          42354.41,
          2100.75,
          29564.74,
          6001.4,
          6424.98,
          42354.41,
          29564.74,
          6001.4,
          6424.98,
          42354.41,
          29564.74,
          6001.4,
          6424.98,
          42354.41,
          29564.74,
          6001.4,
          6424.98,
          42354.41,
          29564.74,
          6001.4,
          6424.98,
          42354.41,
          42354.41
         ]
        },
        {
         "marker": {
          "color": "cyan"
         },
         "name": "GDP Per Capita after Covid",
         "type": "bar",
         "x": [
          "United States",
          "Brazil",
          "India",
          "Russia",
          "Peru",
          "Mexico",
          "Spain",
          "South Africa",
          "Colombia",
          "United Kingdom",
          "Iran",
          "Chile",
          "Italy",
          "France",
          "Argentina",
          "Germany",
          "Turkey",
          "Saudi Arabia",
          "Pakistan",
          "Bangladesh",
          "Iraq",
          "Philippines",
          "China",
          "Indonesia",
          "Canada",
          "Qatar",
          "Israel",
          "Ukraine",
          "Belgium",
          "Ecuador",
          "Kazakhstan",
          "Netherlands",
          "Egypt",
          "Sweden",
          "Bolivia",
          "Romania",
          "Dominican Republic",
          "Kuwait",
          "Belarus",
          "Panama",
          "United Arab Emirates",
          "Oman",
          "Portugal",
          "Poland",
          "Singapore",
          "Morocco",
          "Japan",
          "Guatemala",
          "Switzerland",
          "Bahrain",
          "Honduras",
          "Nigeria",
          "Armenia",
          "Nepal",
          "Ireland",
          "Czech Republic",
          "Afghanistan",
          "Austria",
          "Ghana",
          "Algeria",
          "Ethiopia",
          "Venezuela",
          "Moldova",
          "Costa Rica",
          "Uzbekistan",
          "Kyrgyzstan",
          "Azerbaijan",
          "Serbia",
          "Puerto Rico",
          "South Korea",
          "Kenya",
          "Palestine",
          "Denmark",
          "Australia",
          "El Salvador",
          "Cameroon",
          "Paraguay",
          "Lebanon",
          "Bosnia and Herzegovina",
          "Cote d'Ivoire",
          "Norway",
          "Bulgaria",
          "Libya",
          "Malaysia",
          "Macedonia",
          "Hungary",
          "Sudan",
          "Senegal",
          "Finland",
          "Madagascar",
          "Greece",
          "Kosovo",
          "Croatia",
          "Democratic Republic of Congo",
          "Guinea",
          "Luxembourg",
          "Zambia",
          "Tajikistan",
          "Albania",
          "Gabon",
          "Haiti",
          "Tunisia",
          "Maldives",
          "Mauritania",
          "Slovakia",
          "Djibouti",
          "Jordan",
          "Namibia",
          "Montenegro",
          "Thailand",
          "Myanmar",
          "Zimbabwe",
          "Central African Republic",
          "Cuba",
          "Equatorial Guinea",
          "Slovenia",
          "Malawi",
          "Nicaragua",
          "Mozambique",
          "Somalia",
          "Lithuania",
          "Congo",
          "Cape Verde",
          "Uganda",
          "Sri Lanka",
          "Estonia",
          "Swaziland",
          "Georgia",
          "Iceland",
          "Mali",
          "Rwanda",
          "Jamaica",
          "Suriname",
          "South Sudan",
          "Guinea-Bissau",
          "Angola",
          "Sierra Leone",
          "Syria",
          "Latvia",
          "New Zealand",
          "Malta",
          "Benin",
          "Uruguay",
          "Bahamas",
          "Cyprus",
          "Burkina Faso",
          "Gambia",
          "Yemen",
          "Trinidad and Tobago",
          "Andorra",
          "Aruba",
          "Botswana",
          "Niger",
          "Togo",
          "Guyana",
          "Guam",
          "Liberia",
          "Chad",
          "San Marino",
          "Vietnam",
          "Sao Tome and Principe",
          "Lesotho",
          "Belize",
          "United States Virgin Islands",
          "Taiwan",
          "French Polynesia",
          "Tanzania",
          "Mauritius",
          "Jersey",
          "Isle of Man",
          "Faeroe Islands",
          "Comoros",
          "Guernsey",
          "Burundi",
          "Sint Maarten (Dutch part)",
          "Gibraltar",
          "Turks and Caicos Islands",
          "Mongolia",
          "Eritrea",
          "Cambodia",
          "Papua New Guinea",
          "Cayman Islands",
          "Brunei",
          "Bermuda",
          "Barbados",
          "Bhutan",
          "Monaco",
          "Liechtenstein",
          "Curacao",
          "Seychelles",
          "Antigua and Barbuda",
          "Saint Vincent and the Grenadines",
          "Northern Mariana Islands",
          "Bonaire Sint Eustatius and Saba",
          "Fiji",
          "Timor",
          "British Virgin Islands",
          "New Caledonia",
          "Grenada",
          "Saint Lucia",
          "Laos",
          "Dominica",
          "Saint Kitts and Nevis",
          "Greenland",
          "Falkland Islands",
          "Vatican",
          "Montserrat",
          "Anguilla",
          "Solomon Islands",
          "Hong Kong"
         ],
         "y": [
          6001.4,
          6424.98,
          42354.41,
          8897.49,
          2100.75,
          29564.74,
          6001.4,
          6424.98,
          42354.41,
          65279.53,
          8897.49,
          2100.75,
          29564.74,
          6001.4,
          6424.98,
          42354.41,
          2100.75,
          29564.74,
          6001.4,
          6424.98,
          42354.41,
          29564.74,
          6001.4,
          6424.98,
          42354.41,
          29564.74,
          6001.4,
          6424.98,
          42354.41,
          29564.74,
          6001.4,
          6424.98,
          42354.41,
          29564.74,
          6001.4,
          6001.4,
          6424.98,
          42354.41,
          8897.49,
          2100.75,
          29564.74,
          6001.4,
          6424.98,
          42354.41,
          65279.53,
          8897.49,
          2100.75,
          29564.74,
          6001.4,
          6424.98,
          42354.41,
          2100.75,
          29564.74,
          6001.4,
          6424.98,
          42354.41,
          29564.74,
          6001.4,
          6424.98,
          42354.41,
          29564.74,
          6001.4,
          6424.98,
          42354.41,
          29564.74,
          6001.4,
          6424.98,
          42354.41,
          8897.49,
          2100.75,
          29564.74,
          6001.4,
          6424.98,
          42354.41,
          65279.53,
          8897.49,
          2100.75,
          29564.74,
          6001.4,
          6424.98,
          42354.41,
          2100.75,
          29564.74,
          6001.4,
          6424.98,
          42354.41,
          29564.74,
          6001.4,
          6424.98,
          42354.41,
          29564.74,
          6001.4,
          6424.98,
          42354.41,
          29564.74,
          6001.4,
          6424.98,
          42354.41,
          8897.49,
          2100.75,
          29564.74,
          6001.4,
          6424.98,
          42354.41,
          65279.53,
          8897.49,
          2100.75,
          29564.74,
          6001.4,
          6424.98,
          42354.41,
          2100.75,
          29564.74,
          6001.4,
          6424.98,
          42354.41,
          29564.74,
          6001.4,
          6424.98,
          42354.41,
          29564.74,
          6001.4,
          6424.98,
          42354.41,
          29564.74,
          6001.4,
          6424.98,
          42354.41,
          29564.74,
          6001.4,
          6424.98,
          42354.41,
          8897.49,
          2100.75,
          29564.74,
          6001.4,
          6424.98,
          42354.41,
          65279.53,
          8897.49,
          2100.75,
          29564.74,
          6001.4,
          6424.98,
          42354.41,
          2100.75,
          29564.74,
          6001.4,
          6424.98,
          42354.41,
          29564.74,
          6001.4,
          6424.98,
          42354.41,
          29564.74,
          6001.4,
          6424.98,
          42354.41,
          29564.74,
          6001.4,
          6424.98,
          42354.41,
          29564.74,
          6001.4,
          6001.4,
          6001.4,
          6424.98,
          42354.41,
          29564.74,
          6001.4,
          6001.4,
          6001.4,
          6424.98,
          42354.41,
          8897.49,
          2100.75,
          29564.74,
          6001.4,
          6424.98,
          42354.41,
          65279.53,
          8897.49,
          2100.75,
          29564.74,
          6001.4,
          6424.98,
          42354.41,
          2100.75,
          29564.74,
          6001.4,
          6424.98,
          42354.41,
          29564.74,
          6001.4,
          6424.98,
          42354.41,
          29564.74,
          6001.4,
          6424.98,
          42354.41,
          29564.74,
          6001.4,
          6424.98,
          42354.41,
          29564.74,
          6001.4,
          6424.98,
          42354.41,
          29564.74,
          6001.4
         ]
        }
       ],
       "layout": {
        "barmode": "group",
        "template": {
         "data": {
          "bar": [
           {
            "error_x": {
             "color": "#2a3f5f"
            },
            "error_y": {
             "color": "#2a3f5f"
            },
            "marker": {
             "line": {
              "color": "#E5ECF6",
              "width": 0.5
             },
             "pattern": {
              "fillmode": "overlay",
              "size": 10,
              "solidity": 0.2
             }
            },
            "type": "bar"
           }
          ],
          "barpolar": [
           {
            "marker": {
             "line": {
              "color": "#E5ECF6",
              "width": 0.5
             },
             "pattern": {
              "fillmode": "overlay",
              "size": 10,
              "solidity": 0.2
             }
            },
            "type": "barpolar"
           }
          ],
          "carpet": [
           {
            "aaxis": {
             "endlinecolor": "#2a3f5f",
             "gridcolor": "white",
             "linecolor": "white",
             "minorgridcolor": "white",
             "startlinecolor": "#2a3f5f"
            },
            "baxis": {
             "endlinecolor": "#2a3f5f",
             "gridcolor": "white",
             "linecolor": "white",
             "minorgridcolor": "white",
             "startlinecolor": "#2a3f5f"
            },
            "type": "carpet"
           }
          ],
          "choropleth": [
           {
            "colorbar": {
             "outlinewidth": 0,
             "ticks": ""
            },
            "type": "choropleth"
           }
          ],
          "contour": [
           {
            "colorbar": {
             "outlinewidth": 0,
             "ticks": ""
            },
            "colorscale": [
             [
              0,
              "#0d0887"
             ],
             [
              0.1111111111111111,
              "#46039f"
             ],
             [
              0.2222222222222222,
              "#7201a8"
             ],
             [
              0.3333333333333333,
              "#9c179e"
             ],
             [
              0.4444444444444444,
              "#bd3786"
             ],
             [
              0.5555555555555556,
              "#d8576b"
             ],
             [
              0.6666666666666666,
              "#ed7953"
             ],
             [
              0.7777777777777778,
              "#fb9f3a"
             ],
             [
              0.8888888888888888,
              "#fdca26"
             ],
             [
              1,
              "#f0f921"
             ]
            ],
            "type": "contour"
           }
          ],
          "contourcarpet": [
           {
            "colorbar": {
             "outlinewidth": 0,
             "ticks": ""
            },
            "type": "contourcarpet"
           }
          ],
          "heatmap": [
           {
            "colorbar": {
             "outlinewidth": 0,
             "ticks": ""
            },
            "colorscale": [
             [
              0,
              "#0d0887"
             ],
             [
              0.1111111111111111,
              "#46039f"
             ],
             [
              0.2222222222222222,
              "#7201a8"
             ],
             [
              0.3333333333333333,
              "#9c179e"
             ],
             [
              0.4444444444444444,
              "#bd3786"
             ],
             [
              0.5555555555555556,
              "#d8576b"
             ],
             [
              0.6666666666666666,
              "#ed7953"
             ],
             [
              0.7777777777777778,
              "#fb9f3a"
             ],
             [
              0.8888888888888888,
              "#fdca26"
             ],
             [
              1,
              "#f0f921"
             ]
            ],
            "type": "heatmap"
           }
          ],
          "heatmapgl": [
           {
            "colorbar": {
             "outlinewidth": 0,
             "ticks": ""
            },
            "colorscale": [
             [
              0,
              "#0d0887"
             ],
             [
              0.1111111111111111,
              "#46039f"
             ],
             [
              0.2222222222222222,
              "#7201a8"
             ],
             [
              0.3333333333333333,
              "#9c179e"
             ],
             [
              0.4444444444444444,
              "#bd3786"
             ],
             [
              0.5555555555555556,
              "#d8576b"
             ],
             [
              0.6666666666666666,
              "#ed7953"
             ],
             [
              0.7777777777777778,
              "#fb9f3a"
             ],
             [
              0.8888888888888888,
              "#fdca26"
             ],
             [
              1,
              "#f0f921"
             ]
            ],
            "type": "heatmapgl"
           }
          ],
          "histogram": [
           {
            "marker": {
             "pattern": {
              "fillmode": "overlay",
              "size": 10,
              "solidity": 0.2
             }
            },
            "type": "histogram"
           }
          ],
          "histogram2d": [
           {
            "colorbar": {
             "outlinewidth": 0,
             "ticks": ""
            },
            "colorscale": [
             [
              0,
              "#0d0887"
             ],
             [
              0.1111111111111111,
              "#46039f"
             ],
             [
              0.2222222222222222,
              "#7201a8"
             ],
             [
              0.3333333333333333,
              "#9c179e"
             ],
             [
              0.4444444444444444,
              "#bd3786"
             ],
             [
              0.5555555555555556,
              "#d8576b"
             ],
             [
              0.6666666666666666,
              "#ed7953"
             ],
             [
              0.7777777777777778,
              "#fb9f3a"
             ],
             [
              0.8888888888888888,
              "#fdca26"
             ],
             [
              1,
              "#f0f921"
             ]
            ],
            "type": "histogram2d"
           }
          ],
          "histogram2dcontour": [
           {
            "colorbar": {
             "outlinewidth": 0,
             "ticks": ""
            },
            "colorscale": [
             [
              0,
              "#0d0887"
             ],
             [
              0.1111111111111111,
              "#46039f"
             ],
             [
              0.2222222222222222,
              "#7201a8"
             ],
             [
              0.3333333333333333,
              "#9c179e"
             ],
             [
              0.4444444444444444,
              "#bd3786"
             ],
             [
              0.5555555555555556,
              "#d8576b"
             ],
             [
              0.6666666666666666,
              "#ed7953"
             ],
             [
              0.7777777777777778,
              "#fb9f3a"
             ],
             [
              0.8888888888888888,
              "#fdca26"
             ],
             [
              1,
              "#f0f921"
             ]
            ],
            "type": "histogram2dcontour"
           }
          ],
          "mesh3d": [
           {
            "colorbar": {
             "outlinewidth": 0,
             "ticks": ""
            },
            "type": "mesh3d"
           }
          ],
          "parcoords": [
           {
            "line": {
             "colorbar": {
              "outlinewidth": 0,
              "ticks": ""
             }
            },
            "type": "parcoords"
           }
          ],
          "pie": [
           {
            "automargin": true,
            "type": "pie"
           }
          ],
          "scatter": [
           {
            "marker": {
             "colorbar": {
              "outlinewidth": 0,
              "ticks": ""
             }
            },
            "type": "scatter"
           }
          ],
          "scatter3d": [
           {
            "line": {
             "colorbar": {
              "outlinewidth": 0,
              "ticks": ""
             }
            },
            "marker": {
             "colorbar": {
              "outlinewidth": 0,
              "ticks": ""
             }
            },
            "type": "scatter3d"
           }
          ],
          "scattercarpet": [
           {
            "marker": {
             "colorbar": {
              "outlinewidth": 0,
              "ticks": ""
             }
            },
            "type": "scattercarpet"
           }
          ],
          "scattergeo": [
           {
            "marker": {
             "colorbar": {
              "outlinewidth": 0,
              "ticks": ""
             }
            },
            "type": "scattergeo"
           }
          ],
          "scattergl": [
           {
            "marker": {
             "colorbar": {
              "outlinewidth": 0,
              "ticks": ""
             }
            },
            "type": "scattergl"
           }
          ],
          "scattermapbox": [
           {
            "marker": {
             "colorbar": {
              "outlinewidth": 0,
              "ticks": ""
             }
            },
            "type": "scattermapbox"
           }
          ],
          "scatterpolar": [
           {
            "marker": {
             "colorbar": {
              "outlinewidth": 0,
              "ticks": ""
             }
            },
            "type": "scatterpolar"
           }
          ],
          "scatterpolargl": [
           {
            "marker": {
             "colorbar": {
              "outlinewidth": 0,
              "ticks": ""
             }
            },
            "type": "scatterpolargl"
           }
          ],
          "scatterternary": [
           {
            "marker": {
             "colorbar": {
              "outlinewidth": 0,
              "ticks": ""
             }
            },
            "type": "scatterternary"
           }
          ],
          "surface": [
           {
            "colorbar": {
             "outlinewidth": 0,
             "ticks": ""
            },
            "colorscale": [
             [
              0,
              "#0d0887"
             ],
             [
              0.1111111111111111,
              "#46039f"
             ],
             [
              0.2222222222222222,
              "#7201a8"
             ],
             [
              0.3333333333333333,
              "#9c179e"
             ],
             [
              0.4444444444444444,
              "#bd3786"
             ],
             [
              0.5555555555555556,
              "#d8576b"
             ],
             [
              0.6666666666666666,
              "#ed7953"
             ],
             [
              0.7777777777777778,
              "#fb9f3a"
             ],
             [
              0.8888888888888888,
              "#fdca26"
             ],
             [
              1,
              "#f0f921"
             ]
            ],
            "type": "surface"
           }
          ],
          "table": [
           {
            "cells": {
             "fill": {
              "color": "#EBF0F8"
             },
             "line": {
              "color": "white"
             }
            },
            "header": {
             "fill": {
              "color": "#C8D4E3"
             },
             "line": {
              "color": "white"
             }
            },
            "type": "table"
           }
          ]
         },
         "layout": {
          "annotationdefaults": {
           "arrowcolor": "#2a3f5f",
           "arrowhead": 0,
           "arrowwidth": 1
          },
          "autotypenumbers": "strict",
          "coloraxis": {
           "colorbar": {
            "outlinewidth": 0,
            "ticks": ""
           }
          },
          "colorscale": {
           "diverging": [
            [
             0,
             "#8e0152"
            ],
            [
             0.1,
             "#c51b7d"
            ],
            [
             0.2,
             "#de77ae"
            ],
            [
             0.3,
             "#f1b6da"
            ],
            [
             0.4,
             "#fde0ef"
            ],
            [
             0.5,
             "#f7f7f7"
            ],
            [
             0.6,
             "#e6f5d0"
            ],
            [
             0.7,
             "#b8e186"
            ],
            [
             0.8,
             "#7fbc41"
            ],
            [
             0.9,
             "#4d9221"
            ],
            [
             1,
             "#276419"
            ]
           ],
           "sequential": [
            [
             0,
             "#0d0887"
            ],
            [
             0.1111111111111111,
             "#46039f"
            ],
            [
             0.2222222222222222,
             "#7201a8"
            ],
            [
             0.3333333333333333,
             "#9c179e"
            ],
            [
             0.4444444444444444,
             "#bd3786"
            ],
            [
             0.5555555555555556,
             "#d8576b"
            ],
            [
             0.6666666666666666,
             "#ed7953"
            ],
            [
             0.7777777777777778,
             "#fb9f3a"
            ],
            [
             0.8888888888888888,
             "#fdca26"
            ],
            [
             1,
             "#f0f921"
            ]
           ],
           "sequentialminus": [
            [
             0,
             "#0d0887"
            ],
            [
             0.1111111111111111,
             "#46039f"
            ],
            [
             0.2222222222222222,
             "#7201a8"
            ],
            [
             0.3333333333333333,
             "#9c179e"
            ],
            [
             0.4444444444444444,
             "#bd3786"
            ],
            [
             0.5555555555555556,
             "#d8576b"
            ],
            [
             0.6666666666666666,
             "#ed7953"
            ],
            [
             0.7777777777777778,
             "#fb9f3a"
            ],
            [
             0.8888888888888888,
             "#fdca26"
            ],
            [
             1,
             "#f0f921"
            ]
           ]
          },
          "colorway": [
           "#636efa",
           "#EF553B",
           "#00cc96",
           "#ab63fa",
           "#FFA15A",
           "#19d3f3",
           "#FF6692",
           "#B6E880",
           "#FF97FF",
           "#FECB52"
          ],
          "font": {
           "color": "#2a3f5f"
          },
          "geo": {
           "bgcolor": "white",
           "lakecolor": "white",
           "landcolor": "#E5ECF6",
           "showlakes": true,
           "showland": true,
           "subunitcolor": "white"
          },
          "hoverlabel": {
           "align": "left"
          },
          "hovermode": "closest",
          "mapbox": {
           "style": "light"
          },
          "paper_bgcolor": "white",
          "plot_bgcolor": "#E5ECF6",
          "polar": {
           "angularaxis": {
            "gridcolor": "white",
            "linecolor": "white",
            "ticks": ""
           },
           "bgcolor": "#E5ECF6",
           "radialaxis": {
            "gridcolor": "white",
            "linecolor": "white",
            "ticks": ""
           }
          },
          "scene": {
           "xaxis": {
            "backgroundcolor": "#E5ECF6",
            "gridcolor": "white",
            "gridwidth": 2,
            "linecolor": "white",
            "showbackground": true,
            "ticks": "",
            "zerolinecolor": "white"
           },
           "yaxis": {
            "backgroundcolor": "#E5ECF6",
            "gridcolor": "white",
            "gridwidth": 2,
            "linecolor": "white",
            "showbackground": true,
            "ticks": "",
            "zerolinecolor": "white"
           },
           "zaxis": {
            "backgroundcolor": "#E5ECF6",
            "gridcolor": "white",
            "gridwidth": 2,
            "linecolor": "white",
            "showbackground": true,
            "ticks": "",
            "zerolinecolor": "white"
           }
          },
          "shapedefaults": {
           "line": {
            "color": "#2a3f5f"
           }
          },
          "ternary": {
           "aaxis": {
            "gridcolor": "white",
            "linecolor": "white",
            "ticks": ""
           },
           "baxis": {
            "gridcolor": "white",
            "linecolor": "white",
            "ticks": ""
           },
           "bgcolor": "#E5ECF6",
           "caxis": {
            "gridcolor": "white",
            "linecolor": "white",
            "ticks": ""
           }
          },
          "title": {
           "x": 0.05
          },
          "xaxis": {
           "automargin": true,
           "gridcolor": "white",
           "linecolor": "white",
           "ticks": "",
           "title": {
            "standoff": 15
           },
           "zerolinecolor": "white",
           "zerolinewidth": 2
          },
          "yaxis": {
           "automargin": true,
           "gridcolor": "white",
           "linecolor": "white",
           "ticks": "",
           "title": {
            "standoff": 15
           },
           "zerolinecolor": "white",
           "zerolinewidth": 2
          }
         }
        },
        "xaxis": {
         "tickangle": 45
        }
       }
      },
      "text/html": [
       "<div>                            <div id=\"ab67b88a-bf4b-4ba2-a15c-5dc8d73462ab\" class=\"plotly-graph-div\" style=\"height:525px; width:100%;\"></div>            <script type=\"text/javascript\">                require([\"plotly\"], function(Plotly) {                    window.PLOTLYENV=window.PLOTLYENV || {};                                    if (document.getElementById(\"ab67b88a-bf4b-4ba2-a15c-5dc8d73462ab\")) {                    Plotly.newPlot(                        \"ab67b88a-bf4b-4ba2-a15c-5dc8d73462ab\",                        [{\"marker\":{\"color\":\"violet\"},\"name\":\"GDP Per Capita before Covid\",\"x\":[\"United States\",\"Brazil\",\"India\",\"Russia\",\"Peru\",\"Mexico\",\"Spain\",\"South Africa\",\"Colombia\",\"United Kingdom\",\"Iran\",\"Chile\",\"Italy\",\"France\",\"Argentina\",\"Germany\",\"Turkey\",\"Saudi Arabia\",\"Pakistan\",\"Bangladesh\",\"Iraq\",\"Philippines\",\"China\",\"Indonesia\",\"Canada\",\"Qatar\",\"Israel\",\"Ukraine\",\"Belgium\",\"Ecuador\",\"Kazakhstan\",\"Netherlands\",\"Egypt\",\"Sweden\",\"Bolivia\",\"Romania\",\"Dominican Republic\",\"Kuwait\",\"Belarus\",\"Panama\",\"United Arab Emirates\",\"Oman\",\"Portugal\",\"Poland\",\"Singapore\",\"Morocco\",\"Japan\",\"Guatemala\",\"Switzerland\",\"Bahrain\",\"Honduras\",\"Nigeria\",\"Armenia\",\"Nepal\",\"Ireland\",\"Czech Republic\",\"Afghanistan\",\"Austria\",\"Ghana\",\"Algeria\",\"Ethiopia\",\"Venezuela\",\"Moldova\",\"Costa Rica\",\"Uzbekistan\",\"Kyrgyzstan\",\"Azerbaijan\",\"Serbia\",\"Puerto Rico\",\"South Korea\",\"Kenya\",\"Palestine\",\"Denmark\",\"Australia\",\"El Salvador\",\"Cameroon\",\"Paraguay\",\"Lebanon\",\"Bosnia and Herzegovina\",\"Cote d'Ivoire\",\"Norway\",\"Bulgaria\",\"Libya\",\"Malaysia\",\"Macedonia\",\"Hungary\",\"Sudan\",\"Senegal\",\"Finland\",\"Madagascar\",\"Greece\",\"Kosovo\",\"Croatia\",\"Democratic Republic of Congo\",\"Guinea\",\"Luxembourg\",\"Zambia\",\"Tajikistan\",\"Albania\",\"Gabon\",\"Haiti\",\"Tunisia\",\"Maldives\",\"Mauritania\",\"Slovakia\",\"Djibouti\",\"Jordan\",\"Namibia\",\"Montenegro\",\"Thailand\",\"Myanmar\",\"Zimbabwe\",\"Central African Republic\",\"Cuba\",\"Equatorial Guinea\",\"Slovenia\",\"Malawi\",\"Nicaragua\",\"Mozambique\",\"Somalia\",\"Lithuania\",\"Congo\",\"Cape Verde\",\"Uganda\",\"Sri Lanka\",\"Estonia\",\"Swaziland\",\"Georgia\",\"Iceland\",\"Mali\",\"Rwanda\",\"Jamaica\",\"Suriname\",\"South Sudan\",\"Guinea-Bissau\",\"Angola\",\"Sierra Leone\",\"Syria\",\"Latvia\",\"New Zealand\",\"Malta\",\"Benin\",\"Uruguay\",\"Bahamas\",\"Cyprus\",\"Burkina Faso\",\"Gambia\",\"Yemen\",\"Trinidad and Tobago\",\"Andorra\",\"Aruba\",\"Botswana\",\"Niger\",\"Togo\",\"Guyana\",\"Guam\",\"Liberia\",\"Chad\",\"San Marino\",\"Vietnam\",\"Sao Tome and Principe\",\"Lesotho\",\"Belize\",\"United States Virgin Islands\",\"Taiwan\",\"French Polynesia\",\"Tanzania\",\"Mauritius\",\"Jersey\",\"Isle of Man\",\"Faeroe Islands\",\"Comoros\",\"Guernsey\",\"Burundi\",\"Sint Maarten (Dutch part)\",\"Gibraltar\",\"Turks and Caicos Islands\",\"Mongolia\",\"Eritrea\",\"Cambodia\",\"Papua New Guinea\",\"Cayman Islands\",\"Brunei\",\"Bermuda\",\"Barbados\",\"Bhutan\",\"Monaco\",\"Liechtenstein\",\"Curacao\",\"Seychelles\",\"Antigua and Barbuda\",\"Saint Vincent and the Grenadines\",\"Northern Mariana Islands\",\"Bonaire Sint Eustatius and Saba\",\"Fiji\",\"Timor\",\"British Virgin Islands\",\"New Caledonia\",\"Grenada\",\"Saint Lucia\",\"Laos\",\"Dominica\",\"Saint Kitts and Nevis\",\"Greenland\",\"Falkland Islands\",\"Vatican\",\"Montserrat\",\"Anguilla\",\"Solomon Islands\",\"Hong Kong\"],\"y\":[29564.74,6001.4,6424.98,2100.75,65279.53,6424.98,8897.49,42354.41,8897.49,2100.75,65279.53,8897.49,2100.75,8897.49,2100.75,42354.41,29564.74,6001.4,29564.74,6001.4,6424.98,42354.41,65279.53,8897.49,2100.75,29564.74,6001.4,6424.98,42354.41,65279.53,8897.49,2100.75,29564.74,6001.4,6424.98,42354.41,65279.53,8897.49,2100.75,29564.74,6001.4,6424.98,42354.41,65279.53,8897.49,2100.75,29564.74,6001.4,6424.98,42354.41,42354.41,65279.53,8897.49,2100.75,29564.74,6001.4,6424.98,42354.41,65279.53,8897.49,2100.75,42354.41,65279.53,8897.49,2100.75,42354.41,65279.53,8897.49,2100.75,42354.41,65279.53,8897.49,2100.75,42354.41,65279.53,8897.49,42354.41,42354.41,65279.53,42354.41,65279.53,8897.49,2100.75,42354.41,65279.53,42354.41,65279.53,8897.49,2100.75,29564.74,42354.41,65279.53,6001.4,6424.98,42354.41,6001.4,6424.98,42354.41,8897.49,2100.75,29564.74,6001.4,6424.98,42354.41,29564.74,6001.4,6424.98,42354.41,42354.41,65279.53,8897.49,2100.75,29564.74,6001.4,6424.98,42354.41,8897.49,2100.75,29564.74,6001.4,6001.4,6424.98,42354.41,8897.49,2100.75,29564.74,6001.4,6424.98,42354.41,65279.53,8897.49,2100.75,29564.74,6001.4,6424.98,42354.41,2100.75,29564.74,6001.4,6424.98,42354.41,29564.74,6001.4,6424.98,42354.41,29564.74,6001.4,6424.98,42354.41,29564.74,6001.4,6424.98,42354.41,65279.53,8897.49,2100.75,29564.74,6001.4,6424.98,42354.41,2100.75,29564.74,6001.4,6424.98,42354.41,29564.74,6001.4,6424.98,42354.41,29564.74,6001.4,6424.98,42354.41,29564.74,6001.4,6424.98,42354.41,29564.74,6001.4,6424.98,42354.41,65279.53,8897.49,2100.75,29564.74,6001.4,6424.98,42354.41,2100.75,29564.74,6001.4,6424.98,42354.41,29564.74,6001.4,6424.98,42354.41,29564.74,6001.4,6424.98,42354.41,29564.74,6001.4,6424.98,42354.41,29564.74,6001.4,6424.98,42354.41,42354.41],\"type\":\"bar\"},{\"marker\":{\"color\":\"cyan\"},\"name\":\"GDP Per Capita after Covid\",\"x\":[\"United States\",\"Brazil\",\"India\",\"Russia\",\"Peru\",\"Mexico\",\"Spain\",\"South Africa\",\"Colombia\",\"United Kingdom\",\"Iran\",\"Chile\",\"Italy\",\"France\",\"Argentina\",\"Germany\",\"Turkey\",\"Saudi Arabia\",\"Pakistan\",\"Bangladesh\",\"Iraq\",\"Philippines\",\"China\",\"Indonesia\",\"Canada\",\"Qatar\",\"Israel\",\"Ukraine\",\"Belgium\",\"Ecuador\",\"Kazakhstan\",\"Netherlands\",\"Egypt\",\"Sweden\",\"Bolivia\",\"Romania\",\"Dominican Republic\",\"Kuwait\",\"Belarus\",\"Panama\",\"United Arab Emirates\",\"Oman\",\"Portugal\",\"Poland\",\"Singapore\",\"Morocco\",\"Japan\",\"Guatemala\",\"Switzerland\",\"Bahrain\",\"Honduras\",\"Nigeria\",\"Armenia\",\"Nepal\",\"Ireland\",\"Czech Republic\",\"Afghanistan\",\"Austria\",\"Ghana\",\"Algeria\",\"Ethiopia\",\"Venezuela\",\"Moldova\",\"Costa Rica\",\"Uzbekistan\",\"Kyrgyzstan\",\"Azerbaijan\",\"Serbia\",\"Puerto Rico\",\"South Korea\",\"Kenya\",\"Palestine\",\"Denmark\",\"Australia\",\"El Salvador\",\"Cameroon\",\"Paraguay\",\"Lebanon\",\"Bosnia and Herzegovina\",\"Cote d'Ivoire\",\"Norway\",\"Bulgaria\",\"Libya\",\"Malaysia\",\"Macedonia\",\"Hungary\",\"Sudan\",\"Senegal\",\"Finland\",\"Madagascar\",\"Greece\",\"Kosovo\",\"Croatia\",\"Democratic Republic of Congo\",\"Guinea\",\"Luxembourg\",\"Zambia\",\"Tajikistan\",\"Albania\",\"Gabon\",\"Haiti\",\"Tunisia\",\"Maldives\",\"Mauritania\",\"Slovakia\",\"Djibouti\",\"Jordan\",\"Namibia\",\"Montenegro\",\"Thailand\",\"Myanmar\",\"Zimbabwe\",\"Central African Republic\",\"Cuba\",\"Equatorial Guinea\",\"Slovenia\",\"Malawi\",\"Nicaragua\",\"Mozambique\",\"Somalia\",\"Lithuania\",\"Congo\",\"Cape Verde\",\"Uganda\",\"Sri Lanka\",\"Estonia\",\"Swaziland\",\"Georgia\",\"Iceland\",\"Mali\",\"Rwanda\",\"Jamaica\",\"Suriname\",\"South Sudan\",\"Guinea-Bissau\",\"Angola\",\"Sierra Leone\",\"Syria\",\"Latvia\",\"New Zealand\",\"Malta\",\"Benin\",\"Uruguay\",\"Bahamas\",\"Cyprus\",\"Burkina Faso\",\"Gambia\",\"Yemen\",\"Trinidad and Tobago\",\"Andorra\",\"Aruba\",\"Botswana\",\"Niger\",\"Togo\",\"Guyana\",\"Guam\",\"Liberia\",\"Chad\",\"San Marino\",\"Vietnam\",\"Sao Tome and Principe\",\"Lesotho\",\"Belize\",\"United States Virgin Islands\",\"Taiwan\",\"French Polynesia\",\"Tanzania\",\"Mauritius\",\"Jersey\",\"Isle of Man\",\"Faeroe Islands\",\"Comoros\",\"Guernsey\",\"Burundi\",\"Sint Maarten (Dutch part)\",\"Gibraltar\",\"Turks and Caicos Islands\",\"Mongolia\",\"Eritrea\",\"Cambodia\",\"Papua New Guinea\",\"Cayman Islands\",\"Brunei\",\"Bermuda\",\"Barbados\",\"Bhutan\",\"Monaco\",\"Liechtenstein\",\"Curacao\",\"Seychelles\",\"Antigua and Barbuda\",\"Saint Vincent and the Grenadines\",\"Northern Mariana Islands\",\"Bonaire Sint Eustatius and Saba\",\"Fiji\",\"Timor\",\"British Virgin Islands\",\"New Caledonia\",\"Grenada\",\"Saint Lucia\",\"Laos\",\"Dominica\",\"Saint Kitts and Nevis\",\"Greenland\",\"Falkland Islands\",\"Vatican\",\"Montserrat\",\"Anguilla\",\"Solomon Islands\",\"Hong Kong\"],\"y\":[6001.4,6424.98,42354.41,8897.49,2100.75,29564.74,6001.4,6424.98,42354.41,65279.53,8897.49,2100.75,29564.74,6001.4,6424.98,42354.41,2100.75,29564.74,6001.4,6424.98,42354.41,29564.74,6001.4,6424.98,42354.41,29564.74,6001.4,6424.98,42354.41,29564.74,6001.4,6424.98,42354.41,29564.74,6001.4,6001.4,6424.98,42354.41,8897.49,2100.75,29564.74,6001.4,6424.98,42354.41,65279.53,8897.49,2100.75,29564.74,6001.4,6424.98,42354.41,2100.75,29564.74,6001.4,6424.98,42354.41,29564.74,6001.4,6424.98,42354.41,29564.74,6001.4,6424.98,42354.41,29564.74,6001.4,6424.98,42354.41,8897.49,2100.75,29564.74,6001.4,6424.98,42354.41,65279.53,8897.49,2100.75,29564.74,6001.4,6424.98,42354.41,2100.75,29564.74,6001.4,6424.98,42354.41,29564.74,6001.4,6424.98,42354.41,29564.74,6001.4,6424.98,42354.41,29564.74,6001.4,6424.98,42354.41,8897.49,2100.75,29564.74,6001.4,6424.98,42354.41,65279.53,8897.49,2100.75,29564.74,6001.4,6424.98,42354.41,2100.75,29564.74,6001.4,6424.98,42354.41,29564.74,6001.4,6424.98,42354.41,29564.74,6001.4,6424.98,42354.41,29564.74,6001.4,6424.98,42354.41,29564.74,6001.4,6424.98,42354.41,8897.49,2100.75,29564.74,6001.4,6424.98,42354.41,65279.53,8897.49,2100.75,29564.74,6001.4,6424.98,42354.41,2100.75,29564.74,6001.4,6424.98,42354.41,29564.74,6001.4,6424.98,42354.41,29564.74,6001.4,6424.98,42354.41,29564.74,6001.4,6424.98,42354.41,29564.74,6001.4,6001.4,6001.4,6424.98,42354.41,29564.74,6001.4,6001.4,6001.4,6424.98,42354.41,8897.49,2100.75,29564.74,6001.4,6424.98,42354.41,65279.53,8897.49,2100.75,29564.74,6001.4,6424.98,42354.41,2100.75,29564.74,6001.4,6424.98,42354.41,29564.74,6001.4,6424.98,42354.41,29564.74,6001.4,6424.98,42354.41,29564.74,6001.4,6424.98,42354.41,29564.74,6001.4,6424.98,42354.41,29564.74,6001.4],\"type\":\"bar\"}],                        {\"template\":{\"data\":{\"bar\":[{\"error_x\":{\"color\":\"#2a3f5f\"},\"error_y\":{\"color\":\"#2a3f5f\"},\"marker\":{\"line\":{\"color\":\"#E5ECF6\",\"width\":0.5},\"pattern\":{\"fillmode\":\"overlay\",\"size\":10,\"solidity\":0.2}},\"type\":\"bar\"}],\"barpolar\":[{\"marker\":{\"line\":{\"color\":\"#E5ECF6\",\"width\":0.5},\"pattern\":{\"fillmode\":\"overlay\",\"size\":10,\"solidity\":0.2}},\"type\":\"barpolar\"}],\"carpet\":[{\"aaxis\":{\"endlinecolor\":\"#2a3f5f\",\"gridcolor\":\"white\",\"linecolor\":\"white\",\"minorgridcolor\":\"white\",\"startlinecolor\":\"#2a3f5f\"},\"baxis\":{\"endlinecolor\":\"#2a3f5f\",\"gridcolor\":\"white\",\"linecolor\":\"white\",\"minorgridcolor\":\"white\",\"startlinecolor\":\"#2a3f5f\"},\"type\":\"carpet\"}],\"choropleth\":[{\"colorbar\":{\"outlinewidth\":0,\"ticks\":\"\"},\"type\":\"choropleth\"}],\"contour\":[{\"colorbar\":{\"outlinewidth\":0,\"ticks\":\"\"},\"colorscale\":[[0.0,\"#0d0887\"],[0.1111111111111111,\"#46039f\"],[0.2222222222222222,\"#7201a8\"],[0.3333333333333333,\"#9c179e\"],[0.4444444444444444,\"#bd3786\"],[0.5555555555555556,\"#d8576b\"],[0.6666666666666666,\"#ed7953\"],[0.7777777777777778,\"#fb9f3a\"],[0.8888888888888888,\"#fdca26\"],[1.0,\"#f0f921\"]],\"type\":\"contour\"}],\"contourcarpet\":[{\"colorbar\":{\"outlinewidth\":0,\"ticks\":\"\"},\"type\":\"contourcarpet\"}],\"heatmap\":[{\"colorbar\":{\"outlinewidth\":0,\"ticks\":\"\"},\"colorscale\":[[0.0,\"#0d0887\"],[0.1111111111111111,\"#46039f\"],[0.2222222222222222,\"#7201a8\"],[0.3333333333333333,\"#9c179e\"],[0.4444444444444444,\"#bd3786\"],[0.5555555555555556,\"#d8576b\"],[0.6666666666666666,\"#ed7953\"],[0.7777777777777778,\"#fb9f3a\"],[0.8888888888888888,\"#fdca26\"],[1.0,\"#f0f921\"]],\"type\":\"heatmap\"}],\"heatmapgl\":[{\"colorbar\":{\"outlinewidth\":0,\"ticks\":\"\"},\"colorscale\":[[0.0,\"#0d0887\"],[0.1111111111111111,\"#46039f\"],[0.2222222222222222,\"#7201a8\"],[0.3333333333333333,\"#9c179e\"],[0.4444444444444444,\"#bd3786\"],[0.5555555555555556,\"#d8576b\"],[0.6666666666666666,\"#ed7953\"],[0.7777777777777778,\"#fb9f3a\"],[0.8888888888888888,\"#fdca26\"],[1.0,\"#f0f921\"]],\"type\":\"heatmapgl\"}],\"histogram\":[{\"marker\":{\"pattern\":{\"fillmode\":\"overlay\",\"size\":10,\"solidity\":0.2}},\"type\":\"histogram\"}],\"histogram2d\":[{\"colorbar\":{\"outlinewidth\":0,\"ticks\":\"\"},\"colorscale\":[[0.0,\"#0d0887\"],[0.1111111111111111,\"#46039f\"],[0.2222222222222222,\"#7201a8\"],[0.3333333333333333,\"#9c179e\"],[0.4444444444444444,\"#bd3786\"],[0.5555555555555556,\"#d8576b\"],[0.6666666666666666,\"#ed7953\"],[0.7777777777777778,\"#fb9f3a\"],[0.8888888888888888,\"#fdca26\"],[1.0,\"#f0f921\"]],\"type\":\"histogram2d\"}],\"histogram2dcontour\":[{\"colorbar\":{\"outlinewidth\":0,\"ticks\":\"\"},\"colorscale\":[[0.0,\"#0d0887\"],[0.1111111111111111,\"#46039f\"],[0.2222222222222222,\"#7201a8\"],[0.3333333333333333,\"#9c179e\"],[0.4444444444444444,\"#bd3786\"],[0.5555555555555556,\"#d8576b\"],[0.6666666666666666,\"#ed7953\"],[0.7777777777777778,\"#fb9f3a\"],[0.8888888888888888,\"#fdca26\"],[1.0,\"#f0f921\"]],\"type\":\"histogram2dcontour\"}],\"mesh3d\":[{\"colorbar\":{\"outlinewidth\":0,\"ticks\":\"\"},\"type\":\"mesh3d\"}],\"parcoords\":[{\"line\":{\"colorbar\":{\"outlinewidth\":0,\"ticks\":\"\"}},\"type\":\"parcoords\"}],\"pie\":[{\"automargin\":true,\"type\":\"pie\"}],\"scatter\":[{\"marker\":{\"colorbar\":{\"outlinewidth\":0,\"ticks\":\"\"}},\"type\":\"scatter\"}],\"scatter3d\":[{\"line\":{\"colorbar\":{\"outlinewidth\":0,\"ticks\":\"\"}},\"marker\":{\"colorbar\":{\"outlinewidth\":0,\"ticks\":\"\"}},\"type\":\"scatter3d\"}],\"scattercarpet\":[{\"marker\":{\"colorbar\":{\"outlinewidth\":0,\"ticks\":\"\"}},\"type\":\"scattercarpet\"}],\"scattergeo\":[{\"marker\":{\"colorbar\":{\"outlinewidth\":0,\"ticks\":\"\"}},\"type\":\"scattergeo\"}],\"scattergl\":[{\"marker\":{\"colorbar\":{\"outlinewidth\":0,\"ticks\":\"\"}},\"type\":\"scattergl\"}],\"scattermapbox\":[{\"marker\":{\"colorbar\":{\"outlinewidth\":0,\"ticks\":\"\"}},\"type\":\"scattermapbox\"}],\"scatterpolar\":[{\"marker\":{\"colorbar\":{\"outlinewidth\":0,\"ticks\":\"\"}},\"type\":\"scatterpolar\"}],\"scatterpolargl\":[{\"marker\":{\"colorbar\":{\"outlinewidth\":0,\"ticks\":\"\"}},\"type\":\"scatterpolargl\"}],\"scatterternary\":[{\"marker\":{\"colorbar\":{\"outlinewidth\":0,\"ticks\":\"\"}},\"type\":\"scatterternary\"}],\"surface\":[{\"colorbar\":{\"outlinewidth\":0,\"ticks\":\"\"},\"colorscale\":[[0.0,\"#0d0887\"],[0.1111111111111111,\"#46039f\"],[0.2222222222222222,\"#7201a8\"],[0.3333333333333333,\"#9c179e\"],[0.4444444444444444,\"#bd3786\"],[0.5555555555555556,\"#d8576b\"],[0.6666666666666666,\"#ed7953\"],[0.7777777777777778,\"#fb9f3a\"],[0.8888888888888888,\"#fdca26\"],[1.0,\"#f0f921\"]],\"type\":\"surface\"}],\"table\":[{\"cells\":{\"fill\":{\"color\":\"#EBF0F8\"},\"line\":{\"color\":\"white\"}},\"header\":{\"fill\":{\"color\":\"#C8D4E3\"},\"line\":{\"color\":\"white\"}},\"type\":\"table\"}]},\"layout\":{\"annotationdefaults\":{\"arrowcolor\":\"#2a3f5f\",\"arrowhead\":0,\"arrowwidth\":1},\"autotypenumbers\":\"strict\",\"coloraxis\":{\"colorbar\":{\"outlinewidth\":0,\"ticks\":\"\"}},\"colorscale\":{\"diverging\":[[0,\"#8e0152\"],[0.1,\"#c51b7d\"],[0.2,\"#de77ae\"],[0.3,\"#f1b6da\"],[0.4,\"#fde0ef\"],[0.5,\"#f7f7f7\"],[0.6,\"#e6f5d0\"],[0.7,\"#b8e186\"],[0.8,\"#7fbc41\"],[0.9,\"#4d9221\"],[1,\"#276419\"]],\"sequential\":[[0.0,\"#0d0887\"],[0.1111111111111111,\"#46039f\"],[0.2222222222222222,\"#7201a8\"],[0.3333333333333333,\"#9c179e\"],[0.4444444444444444,\"#bd3786\"],[0.5555555555555556,\"#d8576b\"],[0.6666666666666666,\"#ed7953\"],[0.7777777777777778,\"#fb9f3a\"],[0.8888888888888888,\"#fdca26\"],[1.0,\"#f0f921\"]],\"sequentialminus\":[[0.0,\"#0d0887\"],[0.1111111111111111,\"#46039f\"],[0.2222222222222222,\"#7201a8\"],[0.3333333333333333,\"#9c179e\"],[0.4444444444444444,\"#bd3786\"],[0.5555555555555556,\"#d8576b\"],[0.6666666666666666,\"#ed7953\"],[0.7777777777777778,\"#fb9f3a\"],[0.8888888888888888,\"#fdca26\"],[1.0,\"#f0f921\"]]},\"colorway\":[\"#636efa\",\"#EF553B\",\"#00cc96\",\"#ab63fa\",\"#FFA15A\",\"#19d3f3\",\"#FF6692\",\"#B6E880\",\"#FF97FF\",\"#FECB52\"],\"font\":{\"color\":\"#2a3f5f\"},\"geo\":{\"bgcolor\":\"white\",\"lakecolor\":\"white\",\"landcolor\":\"#E5ECF6\",\"showlakes\":true,\"showland\":true,\"subunitcolor\":\"white\"},\"hoverlabel\":{\"align\":\"left\"},\"hovermode\":\"closest\",\"mapbox\":{\"style\":\"light\"},\"paper_bgcolor\":\"white\",\"plot_bgcolor\":\"#E5ECF6\",\"polar\":{\"angularaxis\":{\"gridcolor\":\"white\",\"linecolor\":\"white\",\"ticks\":\"\"},\"bgcolor\":\"#E5ECF6\",\"radialaxis\":{\"gridcolor\":\"white\",\"linecolor\":\"white\",\"ticks\":\"\"}},\"scene\":{\"xaxis\":{\"backgroundcolor\":\"#E5ECF6\",\"gridcolor\":\"white\",\"gridwidth\":2,\"linecolor\":\"white\",\"showbackground\":true,\"ticks\":\"\",\"zerolinecolor\":\"white\"},\"yaxis\":{\"backgroundcolor\":\"#E5ECF6\",\"gridcolor\":\"white\",\"gridwidth\":2,\"linecolor\":\"white\",\"showbackground\":true,\"ticks\":\"\",\"zerolinecolor\":\"white\"},\"zaxis\":{\"backgroundcolor\":\"#E5ECF6\",\"gridcolor\":\"white\",\"gridwidth\":2,\"linecolor\":\"white\",\"showbackground\":true,\"ticks\":\"\",\"zerolinecolor\":\"white\"}},\"shapedefaults\":{\"line\":{\"color\":\"#2a3f5f\"}},\"ternary\":{\"aaxis\":{\"gridcolor\":\"white\",\"linecolor\":\"white\",\"ticks\":\"\"},\"baxis\":{\"gridcolor\":\"white\",\"linecolor\":\"white\",\"ticks\":\"\"},\"bgcolor\":\"#E5ECF6\",\"caxis\":{\"gridcolor\":\"white\",\"linecolor\":\"white\",\"ticks\":\"\"}},\"title\":{\"x\":0.05},\"xaxis\":{\"automargin\":true,\"gridcolor\":\"white\",\"linecolor\":\"white\",\"ticks\":\"\",\"title\":{\"standoff\":15},\"zerolinecolor\":\"white\",\"zerolinewidth\":2},\"yaxis\":{\"automargin\":true,\"gridcolor\":\"white\",\"linecolor\":\"white\",\"ticks\":\"\",\"title\":{\"standoff\":15},\"zerolinecolor\":\"white\",\"zerolinewidth\":2}}},\"xaxis\":{\"tickangle\":45},\"barmode\":\"group\"},                        {\"responsive\": true}                    ).then(function(){\n",
       "                            \n",
       "var gd = document.getElementById('ab67b88a-bf4b-4ba2-a15c-5dc8d73462ab');\n",
       "var x = new MutationObserver(function (mutations, observer) {{\n",
       "        var display = window.getComputedStyle(gd).display;\n",
       "        if (!display || display === 'none') {{\n",
       "            console.log([gd, 'removed!']);\n",
       "            Plotly.purge(gd);\n",
       "            observer.disconnect();\n",
       "        }}\n",
       "}});\n",
       "\n",
       "// Listen for the removal of the full notebook cells\n",
       "var notebookContainer = gd.closest('#notebook-container');\n",
       "if (notebookContainer) {{\n",
       "    x.observe(notebookContainer, {childList: true});\n",
       "}}\n",
       "\n",
       "// Listen for the clearing of the current output cell\n",
       "var outputEl = gd.closest('.output');\n",
       "if (outputEl) {{\n",
       "    x.observe(outputEl, {childList: true});\n",
       "}}\n",
       "\n",
       "                        })                };                });            </script>        </div>"
      ]
     },
     "metadata": {},
     "output_type": "display_data"
    }
   ],
   "source": [
    "#plotting total cases & deaths together\n",
    "#multiple info on a single plot\n",
    "\n",
    "fig = go.Figure()\n",
    "\n",
    "fig.add_trace(go.Bar(\n",
    "\n",
    "    x=deta[\"Country\"],\n",
    "\n",
    "    y=deta[\"GDP Before Covid\"],\n",
    "\n",
    "    name= 'GDP Per Capita before Covid',\n",
    "\n",
    "    marker_color='violet'\n",
    "#no color; that would have indicated GDP\n",
    "))\n",
    "\n",
    "fig.add_trace(go.Bar(\n",
    "\n",
    "    x=deta[\"Country\"],\n",
    "\n",
    "    y=deta['GDP After Covid'],\n",
    "\n",
    "    name= 'GDP Per Capita after Covid',\n",
    "\n",
    "    marker_color='cyan'\n",
    "\n",
    "))\n",
    "\n",
    "fig.update_layout(barmode='group', xaxis_tickangle=45)\n",
    "\n",
    "fig.show()"
   ]
  },
  {
   "cell_type": "code",
   "execution_count": null,
   "id": "b270219c",
   "metadata": {},
   "outputs": [],
   "source": []
  }
 ],
 "metadata": {
  "kernelspec": {
   "display_name": "Python 3 (ipykernel)",
   "language": "python",
   "name": "python3"
  },
  "language_info": {
   "codemirror_mode": {
    "name": "ipython",
    "version": 3
   },
   "file_extension": ".py",
   "mimetype": "text/x-python",
   "name": "python",
   "nbconvert_exporter": "python",
   "pygments_lexer": "ipython3",
   "version": "3.9.12"
  }
 },
 "nbformat": 4,
 "nbformat_minor": 5
}
